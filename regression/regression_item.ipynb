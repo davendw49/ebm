{
 "cells": [
  {
   "cell_type": "code",
   "execution_count": 4,
   "metadata": {},
   "outputs": [],
   "source": [
    "# -*- coding: utf-8 -*-\n",
    "import pandas as pd\n",
    "import numpy as np\n",
    "import time\n",
    "import progressbar\n",
    "from scipy import stats"
   ]
  },
  {
   "cell_type": "code",
   "execution_count": 5,
   "metadata": {},
   "outputs": [],
   "source": [
    "filenames = ['../../data/bookcorssing_r05.csv',\n",
    "             '../../data/bookcorssing_r10.csv',\n",
    "             '../../data/audioscrobbler.csv',  \n",
    "             '../../data/amazonbook.csv',\n",
    "             '../../data/amazoncd.csv',  \n",
    "             '../../data/amazonelectronic.csv',\n",
    "             '../../data/amazonmovie.csv',\n",
    "             '../../data/facebooklike_msg.csv',\n",
    "             '../../data/algorithm_r05.csv',\n",
    "             '../../data/artificialintelligence_r05.csv',\n",
    "             '../../data/programminglanguage_r05.csv'\n",
    "            ]\n",
    "threshs = [625, 625, 85, 3578, 990, 278, 785, 100, 550, 725, 675]\n",
    "blocks = [0,0,0,0,0,0,0,0,0,0,0]"
   ]
  },
  {
   "cell_type": "code",
   "execution_count": 7,
   "metadata": {
    "code_folding": []
   },
   "outputs": [],
   "source": [
    "def get_valid_data(filename,block):\n",
    "    '''    first ,kick out invalid data -- rating time less than thresh   '''\n",
    "    #allData=pd.read_csv('BX-Book-Ratings.csv')\n",
    "    #print(allData.columns )\n",
    "    allData=dict()\n",
    "    pos = 0\n",
    "    with open(filename,'r') as f:\n",
    "            # filter the first line\n",
    "        f.readline()  \n",
    "        lines=f.readlines()\n",
    "            # traverse and filter \n",
    "        for idx,line in enumerate(lines):\n",
    "            if block == 1:\n",
    "                dataInString=line.strip().split(';')  # list type\n",
    "            else:\n",
    "                dataInString=line.strip().split(',')  # list type\n",
    "            for index,data in enumerate(dataInString):  # userName ISBN score\n",
    "                dataInString[index]=data.replace('\\\"','')\n",
    "            if not allData.get(dataInString[1]) :   # create the user's list if he does not exist\n",
    "                allData[dataInString[1]]=[]\n",
    "            allData[dataInString[1]].append(float(dataInString[2]))\n",
    "    #        miu.append( float(dataInString[2]) )\n",
    "    return allData\n",
    "    '''calculate miu1 and miu2 using allData but predict only with valid users'''"
   ]
  },
  {
   "cell_type": "code",
   "execution_count": 8,
   "metadata": {
    "code_folding": []
   },
   "outputs": [],
   "source": [
    "def get_valid_user(allData, thresh):\n",
    "    # %% cell1\n",
    "    ''' pick out valid user '''\n",
    "    #num=0\n",
    "    miu=[]    # to store all data\n",
    "    rateFreq=dict() # key is rate and value is its frequency  rateFreq[userName][score]=frequency\n",
    "    for key in allData.keys():      # userName\n",
    "        if len(allData[key])> thresh:\n",
    "    #        num+=1\n",
    "                # create the dict for each valid user\n",
    "            if not rateFreq.get( key ):\n",
    "                rateFreq[ key ]= dict()     \n",
    "                # create the dict entry for each score\n",
    "            for score in allData[key]:\n",
    "                if not rateFreq[key].get(score):\n",
    "                    rateFreq[ key ][ score ]=0\n",
    "                rateFreq[ key ][ score ]+=1\n",
    "                miu.append(score)\n",
    "    return rateFreq, miu"
   ]
  },
  {
   "cell_type": "code",
   "execution_count": 9,
   "metadata": {
    "code_folding": []
   },
   "outputs": [],
   "source": [
    "def cal_para_multiple(rateFreq, miu, write_multiple):\n",
    "    # %% cell2\n",
    "    '''calculate common para'''\n",
    "    miu1=np.mean(miu);  theta1=np.std(miu)\n",
    "    # four direction for miu2 and theta2 \n",
    "    # deltamiu=[0.5,-0.5]; theta=[2,1,-1,-2]\n",
    "    cp = [(0,1), (0,-1), (1,-1), (-1,1)]\n",
    "\n",
    "    write=open(write_multiple,'w');\n",
    "\n",
    "    N=8*len(rateFreq)\n",
    "    p = progressbar.ProgressBar(maxval=N)\n",
    "    p.start() \n",
    "    progress=0\n",
    "\n",
    "    userWeight=[None]*8   # list of 4 ele\n",
    "    for i in range(2):\n",
    "        for j in range(4):\n",
    "            deltamiu = cp[j][0]\n",
    "            theta = cp[j][1]\n",
    "\n",
    "            miu2=miu1+deltamiu\n",
    "            theta2=theta1+theta\n",
    "\n",
    "            userWeight[i*4+j]=dict()\n",
    "                # rateFreq[userName][score]=frequency\n",
    "                # userScore[score]=frequency\n",
    "            '''test'''\n",
    "            print(\"************************************\",file=write)\n",
    "            print('i={0},j={1}'.format(i,j),file=write )\n",
    "            sumMse_all = 0.0\n",
    "            for user,userScore in rateFreq.items(): \n",
    "                    # cal MSE and choose the best weight\n",
    "                bestWeight=0\n",
    "                minMse=float('inf');\n",
    "                '''对每个user 遍历一遍weight 把每个数据点都相加'''\n",
    "                for weight in np.arange(0, 1.1 ,0.1): # arange exclude endPoint while linspace includes defaultly  \n",
    "                    sumMse=0\n",
    "                        # userScore[score]=frequency\n",
    "                    '''对于每个user，他对每个score的mse要累计起来'''\n",
    "                    '''这里需要check下data'''\n",
    "                    for score,freq in userScore.items():    \n",
    "                        sumMse+=(( weight*stats.norm(miu1, theta1).cdf(score)+ (1-weight)*stats.norm(miu2,theta2).cdf(score)- freq ) )**2\n",
    "                    \n",
    "                    '''test'''\n",
    "                    print('user:{0},weight:{1},mse:{2}'.format(user,weight,sumMse),file=write )\n",
    "                   \n",
    "                    if sumMse < minMse:\n",
    "                        minMse=sumMse\n",
    "                        bestWeight=weight\n",
    "                sumMse_all += minMse\n",
    "                '''test'''\n",
    "                print('user:{0},minMse:{1}'.format(user,minMse),file=write )\n",
    "                userWeight[i*4+j][user]=bestWeight;   # change here   \n",
    "                \n",
    "                progress+=1\n",
    "                p.update(progress)\n",
    "            print(sumMse_all/len(rateFreq.keys()))\n",
    "            print(sumMse_all/len(rateFreq.keys()),file=write )\n",
    "\n",
    "    \n",
    "    print(userWeight,file=write)\n",
    "    write.close()\n",
    "    p.finish()"
   ]
  },
  {
   "cell_type": "code",
   "execution_count": 10,
   "metadata": {
    "code_folding": []
   },
   "outputs": [],
   "source": [
    "def cal_para_single(rateFreq, miu, write_single):\n",
    "    # %% cell2\n",
    "    '''calculate common para'''\n",
    "    miu1=np.mean(miu);  theta1=np.std(miu)\n",
    "    # four direction for miu2 and theta2 \n",
    "    # deltamiu=[0.5,-0.5]; theta=[2,1,-1,-2]\n",
    "    cp = [(0,1), (0,-1), (1,-1), (-1,1)]\n",
    "\n",
    "    write=open(write_single,'w');\n",
    "\n",
    "\n",
    "    N=8*len(rateFreq)\n",
    "    p = progressbar.ProgressBar(maxval=N)\n",
    "    p.start() \n",
    "    progress=0\n",
    "\n",
    "    userWeight=[None]*8   # list of 4 ele\n",
    "    for i in range(2):\n",
    "        for j in range(1):\n",
    "            \n",
    "            userWeight[i*4+j]=dict()\n",
    "                # rateFreq[userName][score]=frequency\n",
    "                # userScore[score]=frequency\n",
    "            '''test'''\n",
    "            print(\"************************************\",file=write)\n",
    "            print('i={0},j={1}'.format(i,j),file=write )\n",
    "            sumMse_all = 0.0\n",
    "            for user,userScore in rateFreq.items(): \n",
    "                    # cal MSE and choose the best weight\n",
    "                bestWeight=0\n",
    "                minMse=float('inf');\n",
    "                '''对每个user 遍历一遍weight 把每个数据点都相加'''\n",
    "                for weight in np.arange(0, 1.1 ,0.1): # arange exclude endPoint while linspace includes defaultly  \n",
    "                    sumMse=0\n",
    "                        # userScore[score]=frequency\n",
    "                    '''对于每个user，他对每个score的mse要累计起来'''\n",
    "                    '''这里需要check下data'''\n",
    "                    for score,freq in userScore.items():    \n",
    "                        sumMse+=((weight*stats.norm(miu1, theta1).cdf(score)- freq ))**2\n",
    "                    \n",
    "                    '''test'''\n",
    "                    print('user:{0},weight:{1},mse:{2}'.format(user,weight,sumMse),file=write )\n",
    "                   \n",
    "                    if sumMse < minMse:\n",
    "                        minMse=sumMse\n",
    "                        bestWeight=weight\n",
    "                sumMse_all += minMse\n",
    "                '''test'''\n",
    "                print('user:{0},minMse:{1}'.format(user,minMse),file=write )\n",
    "                userWeight[i*4+j][user]=bestWeight;   # change here   \n",
    "                \n",
    "                progress+=1\n",
    "                p.update(progress)\n",
    "            print(sumMse_all/len(rateFreq.keys()),)\n",
    "            print(sumMse_all/len(rateFreq.keys()),file=write)\n",
    "\n",
    "    \n",
    "    print(userWeight,file=write)\n",
    "    write.close()\n",
    "    p.finish()"
   ]
  },
  {
   "cell_type": "markdown",
   "metadata": {},
   "source": [
    "# Data Regression item"
   ]
  },
  {
   "cell_type": "markdown",
   "metadata": {},
   "source": [
    "## I=0 bookcorssing_r05"
   ]
  },
  {
   "cell_type": "code",
   "execution_count": 9,
   "metadata": {},
   "outputs": [
    {
     "name": "stdout",
     "output_type": "stream",
     "text": [
      "../../data/bookcorssing_r05_single.txt ../../data/bookcorssing_r05_multiple.txt\n"
     ]
    },
    {
     "name": "stderr",
     "output_type": "stream",
     "text": [
      "100% |########################################################################|\n",
      " 25% |##################                                                      |\r"
     ]
    },
    {
     "name": "stdout",
     "output_type": "stream",
     "text": [
      "201980.62657483545\n",
      "201980.62657483545\n",
      "201980.62657483545\n"
     ]
    },
    {
     "name": "stderr",
     "output_type": "stream",
     "text": [
      " 62% |#############################################                           |\r"
     ]
    },
    {
     "name": "stdout",
     "output_type": "stream",
     "text": [
      "inf\n",
      "inf\n",
      "201724.43946938156\n",
      "201980.62657483545\n"
     ]
    },
    {
     "name": "stderr",
     "output_type": "stream",
     "text": [
      "100% |########################################################################|\r"
     ]
    },
    {
     "name": "stdout",
     "output_type": "stream",
     "text": [
      "inf\n",
      "inf\n",
      "201724.43946938156\n"
     ]
    },
    {
     "name": "stderr",
     "output_type": "stream",
     "text": [
      "\n"
     ]
    }
   ],
   "source": [
    "i = 0\n",
    "c = filenames[i]\n",
    "c = c.replace('ratings_', '')\n",
    "s_out = c.replace('.csv','')+'_single.txt'\n",
    "m_out = c.replace('.csv','')+'_multiple.txt'\n",
    "print(s_out, m_out)\n",
    "a_dict, a_miu = get_valid_user(get_valid_data(filenames[i], blocks[i]), threshs[i])\n",
    "cal_para_single(a_dict, a_miu, s_out)\n",
    "cal_para_multiple(a_dict, a_miu, m_out)"
   ]
  },
  {
   "cell_type": "markdown",
   "metadata": {},
   "source": [
    "## I=1 bookcorssing_r10"
   ]
  },
  {
   "cell_type": "code",
   "execution_count": 10,
   "metadata": {},
   "outputs": [
    {
     "name": "stdout",
     "output_type": "stream",
     "text": [
      "../../data/bookcorssing_r10_single.txt ../../data/bookcorssing_r10_multiple.txt\n"
     ]
    },
    {
     "name": "stderr",
     "output_type": "stream",
     "text": [
      "100% |########################################################################|\n",
      "  0% |                                                                        |\r"
     ]
    },
    {
     "name": "stdout",
     "output_type": "stream",
     "text": [
      "103781.2579564965\n",
      "103781.2579564965\n"
     ]
    },
    {
     "name": "stderr",
     "output_type": "stream",
     "text": [
      " 25% |##################                                                      |\r"
     ]
    },
    {
     "name": "stdout",
     "output_type": "stream",
     "text": [
      "103781.2579564965\n",
      "103749.8142439248\n"
     ]
    },
    {
     "name": "stderr",
     "output_type": "stream",
     "text": [
      " 50% |####################################                                    |\r"
     ]
    },
    {
     "name": "stdout",
     "output_type": "stream",
     "text": [
      "103781.2579564965\n",
      "103613.26789989739\n"
     ]
    },
    {
     "name": "stderr",
     "output_type": "stream",
     "text": [
      " 75% |######################################################                  |\r"
     ]
    },
    {
     "name": "stdout",
     "output_type": "stream",
     "text": [
      "103781.2579564965\n",
      "103749.8142439248\n"
     ]
    },
    {
     "name": "stderr",
     "output_type": "stream",
     "text": [
      "100% |########################################################################|\r"
     ]
    },
    {
     "name": "stdout",
     "output_type": "stream",
     "text": [
      "103781.2579564965\n",
      "103613.26789989739\n"
     ]
    },
    {
     "name": "stderr",
     "output_type": "stream",
     "text": [
      "\n"
     ]
    }
   ],
   "source": [
    "i = 1\n",
    "c = filenames[i]\n",
    "c = c.replace('ratings_', '')\n",
    "s_out = c.replace('.csv','')+'_single.txt'\n",
    "m_out = c.replace('.csv','')+'_multiple.txt'\n",
    "print(s_out, m_out)\n",
    "a_dict, a_miu = get_valid_user(get_valid_data(filenames[i], blocks[i]), threshs[i])\n",
    "cal_para_single(a_dict, a_miu, s_out)\n",
    "cal_para_multiple(a_dict, a_miu, m_out)"
   ]
  },
  {
   "cell_type": "markdown",
   "metadata": {},
   "source": [
    "## I=2 audioscrobbler"
   ]
  },
  {
   "cell_type": "code",
   "execution_count": 11,
   "metadata": {},
   "outputs": [
    {
     "name": "stdout",
     "output_type": "stream",
     "text": [
      "../../data/amazonbook_single.txt ../../data/amazonbook_multiple.txt\n"
     ]
    },
    {
     "name": "stderr",
     "output_type": "stream",
     "text": [
      " 12% |#########                                                               |\r"
     ]
    },
    {
     "name": "stdout",
     "output_type": "stream",
     "text": [
      "24333333.247492906\n"
     ]
    },
    {
     "name": "stderr",
     "output_type": "stream",
     "text": [
      "100% |########################################################################|\n",
      "  0% |                                                                        |\r"
     ]
    },
    {
     "name": "stdout",
     "output_type": "stream",
     "text": [
      "24333333.247492906\n"
     ]
    },
    {
     "name": "stderr",
     "output_type": "stream",
     "text": [
      " 12% |#########                                                               |\r"
     ]
    },
    {
     "name": "stdout",
     "output_type": "stream",
     "text": [
      "24333300.682893325\n"
     ]
    },
    {
     "name": "stderr",
     "output_type": "stream",
     "text": [
      " 25% |##################                                                      |\r"
     ]
    },
    {
     "name": "stdout",
     "output_type": "stream",
     "text": [
      "24332149.1463465\n"
     ]
    },
    {
     "name": "stderr",
     "output_type": "stream",
     "text": [
      " 37% |###########################                                             |\r"
     ]
    },
    {
     "name": "stdout",
     "output_type": "stream",
     "text": [
      "24333333.247492906\n"
     ]
    },
    {
     "name": "stderr",
     "output_type": "stream",
     "text": [
      " 50% |####################################                                    |\r"
     ]
    },
    {
     "name": "stdout",
     "output_type": "stream",
     "text": [
      "24331780.64942965\n"
     ]
    },
    {
     "name": "stderr",
     "output_type": "stream",
     "text": [
      " 62% |#############################################                           |\r"
     ]
    },
    {
     "name": "stdout",
     "output_type": "stream",
     "text": [
      "24333300.682893325\n"
     ]
    },
    {
     "name": "stderr",
     "output_type": "stream",
     "text": [
      " 75% |######################################################                  |\r"
     ]
    },
    {
     "name": "stdout",
     "output_type": "stream",
     "text": [
      "24332149.1463465\n"
     ]
    },
    {
     "name": "stderr",
     "output_type": "stream",
     "text": [
      " 87% |###############################################################         |\r"
     ]
    },
    {
     "name": "stdout",
     "output_type": "stream",
     "text": [
      "24333333.247492906\n"
     ]
    },
    {
     "name": "stderr",
     "output_type": "stream",
     "text": [
      "100% |########################################################################|\r"
     ]
    },
    {
     "name": "stdout",
     "output_type": "stream",
     "text": [
      "24331780.64942965\n"
     ]
    },
    {
     "name": "stderr",
     "output_type": "stream",
     "text": [
      "\n"
     ]
    }
   ],
   "source": [
    "i = 3\n",
    "c = filenames[i]\n",
    "c = c.replace('ratings_', '')\n",
    "s_out = c.replace('.csv','')+'_single.txt'\n",
    "m_out = c.replace('.csv','')+'_multiple.txt'\n",
    "print(s_out, m_out)\n",
    "a_dict, a_miu = get_valid_user(get_valid_data(filenames[i], blocks[i]), threshs[i])\n",
    "cal_para_single(a_dict, a_miu, s_out)\n",
    "cal_para_multiple(a_dict, a_miu, m_out)"
   ]
  },
  {
   "cell_type": "markdown",
   "metadata": {},
   "source": [
    "## I-3 amazonbook"
   ]
  },
  {
   "cell_type": "code",
   "execution_count": 12,
   "metadata": {},
   "outputs": [
    {
     "name": "stdout",
     "output_type": "stream",
     "text": [
      "../../data/amazonbook_single.txt ../../data/amazonbook_multiple.txt\n"
     ]
    },
    {
     "name": "stderr",
     "output_type": "stream",
     "text": [
      " 12% |#########                                                               |\r"
     ]
    },
    {
     "name": "stdout",
     "output_type": "stream",
     "text": [
      "24333333.247492906\n"
     ]
    },
    {
     "name": "stderr",
     "output_type": "stream",
     "text": [
      "100% |########################################################################|\n",
      "  0% |                                                                        |\r"
     ]
    },
    {
     "name": "stdout",
     "output_type": "stream",
     "text": [
      "24333333.247492906\n"
     ]
    },
    {
     "name": "stderr",
     "output_type": "stream",
     "text": [
      " 12% |#########                                                               |\r"
     ]
    },
    {
     "name": "stdout",
     "output_type": "stream",
     "text": [
      "24333300.682893325\n"
     ]
    },
    {
     "name": "stderr",
     "output_type": "stream",
     "text": [
      " 25% |##################                                                      |\r"
     ]
    },
    {
     "name": "stdout",
     "output_type": "stream",
     "text": [
      "24332149.1463465\n"
     ]
    },
    {
     "name": "stderr",
     "output_type": "stream",
     "text": [
      " 37% |###########################                                             |\r"
     ]
    },
    {
     "name": "stdout",
     "output_type": "stream",
     "text": [
      "24333333.247492906\n"
     ]
    },
    {
     "name": "stderr",
     "output_type": "stream",
     "text": [
      " 50% |####################################                                    |\r"
     ]
    },
    {
     "name": "stdout",
     "output_type": "stream",
     "text": [
      "24331780.64942965\n"
     ]
    },
    {
     "name": "stderr",
     "output_type": "stream",
     "text": [
      " 62% |#############################################                           |\r"
     ]
    },
    {
     "name": "stdout",
     "output_type": "stream",
     "text": [
      "24333300.682893325\n"
     ]
    },
    {
     "name": "stderr",
     "output_type": "stream",
     "text": [
      " 75% |######################################################                  |\r"
     ]
    },
    {
     "name": "stdout",
     "output_type": "stream",
     "text": [
      "24332149.1463465\n"
     ]
    },
    {
     "name": "stderr",
     "output_type": "stream",
     "text": [
      " 87% |###############################################################         |\r"
     ]
    },
    {
     "name": "stdout",
     "output_type": "stream",
     "text": [
      "24333333.247492906\n"
     ]
    },
    {
     "name": "stderr",
     "output_type": "stream",
     "text": [
      "100% |########################################################################|\r"
     ]
    },
    {
     "name": "stdout",
     "output_type": "stream",
     "text": [
      "24331780.64942965\n"
     ]
    },
    {
     "name": "stderr",
     "output_type": "stream",
     "text": [
      "\n"
     ]
    }
   ],
   "source": [
    "i = 3\n",
    "c = filenames[i]\n",
    "c = c.replace('ratings_', '')\n",
    "s_out = c.replace('.csv','')+'_single.txt'\n",
    "m_out = c.replace('.csv','')+'_multiple.txt'\n",
    "print(s_out, m_out)\n",
    "a_dict, a_miu = get_valid_user(get_valid_data(filenames[i], blocks[i]), threshs[i])\n",
    "cal_para_single(a_dict, a_miu, s_out)\n",
    "cal_para_multiple(a_dict, a_miu, m_out)"
   ]
  },
  {
   "cell_type": "markdown",
   "metadata": {},
   "source": [
    "## I=4 amazoncd"
   ]
  },
  {
   "cell_type": "code",
   "execution_count": 13,
   "metadata": {},
   "outputs": [
    {
     "name": "stdout",
     "output_type": "stream",
     "text": [
      "../../data/amazoncd_single.txt ../../data/amazoncd_multiple.txt\n"
     ]
    },
    {
     "name": "stderr",
     "output_type": "stream",
     "text": [
      " 13% |#########                                                               |\r"
     ]
    },
    {
     "name": "stdout",
     "output_type": "stream",
     "text": [
      "990614.7856054052\n"
     ]
    },
    {
     "name": "stderr",
     "output_type": "stream",
     "text": [
      "100% |########################################################################|\n",
      "  0% |                                                                        |\r"
     ]
    },
    {
     "name": "stdout",
     "output_type": "stream",
     "text": [
      "990614.7856054052\n"
     ]
    },
    {
     "name": "stderr",
     "output_type": "stream",
     "text": [
      " 12% |########                                                                |\r"
     ]
    },
    {
     "name": "stdout",
     "output_type": "stream",
     "text": [
      "990608.056209525\n"
     ]
    },
    {
     "name": "stderr",
     "output_type": "stream",
     "text": [
      " 25% |##################                                                      |\r"
     ]
    },
    {
     "name": "stdout",
     "output_type": "stream",
     "text": [
      "990216.7262144752\n"
     ]
    },
    {
     "name": "stderr",
     "output_type": "stream",
     "text": [
      " 37% |##########################                                              |\r"
     ]
    },
    {
     "name": "stdout",
     "output_type": "stream",
     "text": [
      "990614.7856054052\n"
     ]
    },
    {
     "name": "stderr",
     "output_type": "stream",
     "text": [
      " 50% |####################################                                    |\r"
     ]
    },
    {
     "name": "stdout",
     "output_type": "stream",
     "text": [
      "990327.9363578076\n"
     ]
    },
    {
     "name": "stderr",
     "output_type": "stream",
     "text": [
      " 62% |#############################################                           |\r"
     ]
    },
    {
     "name": "stdout",
     "output_type": "stream",
     "text": [
      "990608.056209525\n"
     ]
    },
    {
     "name": "stderr",
     "output_type": "stream",
     "text": [
      " 74% |#####################################################                   |\r"
     ]
    },
    {
     "name": "stdout",
     "output_type": "stream",
     "text": [
      "990216.7262144752\n"
     ]
    },
    {
     "name": "stderr",
     "output_type": "stream",
     "text": [
      " 87% |###############################################################         |\r"
     ]
    },
    {
     "name": "stdout",
     "output_type": "stream",
     "text": [
      "990614.7856054052\n"
     ]
    },
    {
     "name": "stderr",
     "output_type": "stream",
     "text": [
      "100% |########################################################################|\r"
     ]
    },
    {
     "name": "stdout",
     "output_type": "stream",
     "text": [
      "990327.9363578076\n"
     ]
    },
    {
     "name": "stderr",
     "output_type": "stream",
     "text": [
      "\n"
     ]
    }
   ],
   "source": [
    "i = 4\n",
    "c = filenames[i]\n",
    "c = c.replace('ratings_', '')\n",
    "s_out = c.replace('.csv','')+'_single.txt'\n",
    "m_out = c.replace('.csv','')+'_multiple.txt'\n",
    "print(s_out, m_out)\n",
    "a_dict, a_miu = get_valid_user(get_valid_data(filenames[i], blocks[i]), threshs[i])\n",
    "cal_para_single(a_dict, a_miu, s_out)\n",
    "cal_para_multiple(a_dict, a_miu, m_out)"
   ]
  },
  {
   "cell_type": "markdown",
   "metadata": {},
   "source": [
    "## I=5 amazonelectronic"
   ]
  },
  {
   "cell_type": "code",
   "execution_count": 14,
   "metadata": {},
   "outputs": [
    {
     "name": "stdout",
     "output_type": "stream",
     "text": [
      "../../data/amazonelectronic_single.txt ../../data/amazonelectronic_multiple.txt\n"
     ]
    },
    {
     "name": "stderr",
     "output_type": "stream",
     "text": [
      " 12% |########                                                                |\r"
     ]
    },
    {
     "name": "stdout",
     "output_type": "stream",
     "text": [
      "681284.8268916276\n"
     ]
    },
    {
     "name": "stderr",
     "output_type": "stream",
     "text": [
      "100% |########################################################################|\r"
     ]
    },
    {
     "name": "stdout",
     "output_type": "stream",
     "text": [
      "681284.8268916276\n"
     ]
    },
    {
     "name": "stderr",
     "output_type": "stream",
     "text": [
      "\n",
      " 12% |########                                                                |\r"
     ]
    },
    {
     "name": "stdout",
     "output_type": "stream",
     "text": [
      "681282.0395093893\n"
     ]
    },
    {
     "name": "stderr",
     "output_type": "stream",
     "text": [
      " 24% |#################                                                       |\r"
     ]
    },
    {
     "name": "stdout",
     "output_type": "stream",
     "text": [
      "681123.3894812764\n"
     ]
    },
    {
     "name": "stderr",
     "output_type": "stream",
     "text": [
      " 37% |##########################                                              |\r"
     ]
    },
    {
     "name": "stdout",
     "output_type": "stream",
     "text": [
      "681284.8268916276\n"
     ]
    },
    {
     "name": "stderr",
     "output_type": "stream",
     "text": [
      " 49% |###################################                                     |\r"
     ]
    },
    {
     "name": "stdout",
     "output_type": "stream",
     "text": [
      "681121.8159452211\n"
     ]
    },
    {
     "name": "stderr",
     "output_type": "stream",
     "text": [
      " 62% |############################################                            |\r"
     ]
    },
    {
     "name": "stdout",
     "output_type": "stream",
     "text": [
      "681282.0395093893\n"
     ]
    },
    {
     "name": "stderr",
     "output_type": "stream",
     "text": [
      " 74% |#####################################################                   |\r"
     ]
    },
    {
     "name": "stdout",
     "output_type": "stream",
     "text": [
      "681123.3894812764\n"
     ]
    },
    {
     "name": "stderr",
     "output_type": "stream",
     "text": [
      " 87% |##############################################################          |\r"
     ]
    },
    {
     "name": "stdout",
     "output_type": "stream",
     "text": [
      "681284.8268916276\n"
     ]
    },
    {
     "name": "stderr",
     "output_type": "stream",
     "text": [
      "100% |########################################################################|\r"
     ]
    },
    {
     "name": "stdout",
     "output_type": "stream",
     "text": [
      "681121.8159452211\n"
     ]
    },
    {
     "name": "stderr",
     "output_type": "stream",
     "text": [
      "\n"
     ]
    }
   ],
   "source": [
    "i = 5\n",
    "c = filenames[i]\n",
    "c = c.replace('ratings_', '')\n",
    "s_out = c.replace('.csv','')+'_single.txt'\n",
    "m_out = c.replace('.csv','')+'_multiple.txt'\n",
    "print(s_out, m_out)\n",
    "a_dict, a_miu = get_valid_user(get_valid_data(filenames[i], blocks[i]), threshs[i])\n",
    "cal_para_single(a_dict, a_miu, s_out)\n",
    "cal_para_multiple(a_dict, a_miu, m_out)"
   ]
  },
  {
   "cell_type": "markdown",
   "metadata": {},
   "source": [
    "## I=6 amazonmovie"
   ]
  },
  {
   "cell_type": "code",
   "execution_count": 15,
   "metadata": {},
   "outputs": [
    {
     "name": "stdout",
     "output_type": "stream",
     "text": [
      "../../data/amazonmovie_single.txt ../../data/amazonmovie_multiple.txt\n"
     ]
    },
    {
     "name": "stderr",
     "output_type": "stream",
     "text": [
      " 12% |########                                                                |\r"
     ]
    },
    {
     "name": "stdout",
     "output_type": "stream",
     "text": [
      "2104762.0354091264\n"
     ]
    },
    {
     "name": "stderr",
     "output_type": "stream",
     "text": [
      "100% |########################################################################|\n",
      "  0% |                                                                        |\r"
     ]
    },
    {
     "name": "stdout",
     "output_type": "stream",
     "text": [
      "2104762.0354091264\n"
     ]
    },
    {
     "name": "stderr",
     "output_type": "stream",
     "text": [
      " 12% |########                                                                |\r"
     ]
    },
    {
     "name": "stdout",
     "output_type": "stream",
     "text": [
      "2104748.8481407687\n"
     ]
    },
    {
     "name": "stderr",
     "output_type": "stream",
     "text": [
      " 25% |##################                                                      |\r"
     ]
    },
    {
     "name": "stdout",
     "output_type": "stream",
     "text": [
      "2104428.311276775\n"
     ]
    },
    {
     "name": "stderr",
     "output_type": "stream",
     "text": [
      " 37% |##########################                                              |\r"
     ]
    },
    {
     "name": "stdout",
     "output_type": "stream",
     "text": [
      "2104762.0354091264\n"
     ]
    },
    {
     "name": "stderr",
     "output_type": "stream",
     "text": [
      " 50% |####################################                                    |\r"
     ]
    },
    {
     "name": "stdout",
     "output_type": "stream",
     "text": [
      "2104398.689085897\n"
     ]
    },
    {
     "name": "stderr",
     "output_type": "stream",
     "text": [
      " 62% |############################################                            |\r"
     ]
    },
    {
     "name": "stdout",
     "output_type": "stream",
     "text": [
      "2104748.8481407687\n"
     ]
    },
    {
     "name": "stderr",
     "output_type": "stream",
     "text": [
      " 75% |######################################################                  |\r"
     ]
    },
    {
     "name": "stdout",
     "output_type": "stream",
     "text": [
      "2104428.311276775\n"
     ]
    },
    {
     "name": "stderr",
     "output_type": "stream",
     "text": [
      " 87% |##############################################################          |\r"
     ]
    },
    {
     "name": "stdout",
     "output_type": "stream",
     "text": [
      "2104762.0354091264\n"
     ]
    },
    {
     "name": "stderr",
     "output_type": "stream",
     "text": [
      "100% |########################################################################|\r"
     ]
    },
    {
     "name": "stdout",
     "output_type": "stream",
     "text": [
      "2104398.689085897\n"
     ]
    },
    {
     "name": "stderr",
     "output_type": "stream",
     "text": [
      "\n"
     ]
    }
   ],
   "source": [
    "i = 6\n",
    "c = filenames[i]\n",
    "c = c.replace('ratings_', '')\n",
    "s_out = c.replace('.csv','')+'_single.txt'\n",
    "m_out = c.replace('.csv','')+'_multiple.txt'\n",
    "print(s_out, m_out)\n",
    "a_dict, a_miu = get_valid_user(get_valid_data(filenames[i], blocks[i]), threshs[i])\n",
    "cal_para_single(a_dict, a_miu, s_out)\n",
    "cal_para_multiple(a_dict, a_miu, m_out)"
   ]
  },
  {
   "cell_type": "markdown",
   "metadata": {},
   "source": [
    "## I=7 facebooklike_msg"
   ]
  },
  {
   "cell_type": "code",
   "execution_count": 22,
   "metadata": {},
   "outputs": [
    {
     "name": "stderr",
     "output_type": "stream",
     "text": [
      "  6% |####                                                                    |\r"
     ]
    },
    {
     "name": "stdout",
     "output_type": "stream",
     "text": [
      "../../data/facebooklike_msg_single.txt ../../data/facebooklike_msg_multiple.txt\n"
     ]
    },
    {
     "name": "stderr",
     "output_type": "stream",
     "text": [
      " 18% |#############                                                           |\r"
     ]
    },
    {
     "name": "stdout",
     "output_type": "stream",
     "text": [
      "3301.0531053732852\n"
     ]
    },
    {
     "name": "stderr",
     "output_type": "stream",
     "text": [
      "100% |########################################################################|\n",
      "  0% |                                                                        |\r"
     ]
    },
    {
     "name": "stdout",
     "output_type": "stream",
     "text": [
      "3301.0531053732852\n"
     ]
    },
    {
     "name": "stderr",
     "output_type": "stream",
     "text": [
      " 12% |#########                                                               |\r"
     ]
    },
    {
     "name": "stdout",
     "output_type": "stream",
     "text": [
      "3299.245426648802\n"
     ]
    },
    {
     "name": "stderr",
     "output_type": "stream",
     "text": [
      " 25% |##################                                                      |\r"
     ]
    },
    {
     "name": "stdout",
     "output_type": "stream",
     "text": [
      "3301.0531053732852\n"
     ]
    },
    {
     "name": "stderr",
     "output_type": "stream",
     "text": [
      " 37% |###########################                                             |\r"
     ]
    },
    {
     "name": "stdout",
     "output_type": "stream",
     "text": [
      "3301.0531053732852\n"
     ]
    },
    {
     "name": "stderr",
     "output_type": "stream",
     "text": [
      " 50% |####################################                                    |\r"
     ]
    },
    {
     "name": "stdout",
     "output_type": "stream",
     "text": [
      "3291.721909368017\n"
     ]
    },
    {
     "name": "stderr",
     "output_type": "stream",
     "text": [
      " 62% |#############################################                           |\r"
     ]
    },
    {
     "name": "stdout",
     "output_type": "stream",
     "text": [
      "3299.245426648802\n"
     ]
    },
    {
     "name": "stderr",
     "output_type": "stream",
     "text": [
      " 75% |######################################################                  |\r"
     ]
    },
    {
     "name": "stdout",
     "output_type": "stream",
     "text": [
      "3301.0531053732852\n"
     ]
    },
    {
     "name": "stderr",
     "output_type": "stream",
     "text": [
      " 87% |###############################################################         |\r"
     ]
    },
    {
     "name": "stdout",
     "output_type": "stream",
     "text": [
      "3301.0531053732852\n"
     ]
    },
    {
     "name": "stderr",
     "output_type": "stream",
     "text": [
      "100% |########################################################################|\r"
     ]
    },
    {
     "name": "stdout",
     "output_type": "stream",
     "text": [
      "3291.721909368017\n"
     ]
    },
    {
     "name": "stderr",
     "output_type": "stream",
     "text": [
      "\n"
     ]
    }
   ],
   "source": [
    "i = 7\n",
    "c = filenames[i]\n",
    "c = c.replace('ratings_', '')\n",
    "s_out = c.replace('.csv','')+'_single.txt'\n",
    "m_out = c.replace('.csv','')+'_multiple.txt'\n",
    "print(s_out, m_out)\n",
    "a_dict, a_miu = get_valid_user(get_valid_data(filenames[i], blocks[i]), threshs[i])\n",
    "cal_para_single(a_dict, a_miu, s_out)\n",
    "cal_para_multiple(a_dict, a_miu, m_out)"
   ]
  },
  {
   "cell_type": "markdown",
   "metadata": {},
   "source": [
    "## I=8 algorithm"
   ]
  },
  {
   "cell_type": "code",
   "execution_count": 35,
   "metadata": {},
   "outputs": [
    {
     "name": "stdout",
     "output_type": "stream",
     "text": [
      "../../data/algorithm_r05_single.txt ../../data/algorithm_r05_multiple.txt\n"
     ]
    },
    {
     "name": "stderr",
     "output_type": "stream",
     "text": [
      " 12% |########                                                                |\r"
     ]
    },
    {
     "name": "stdout",
     "output_type": "stream",
     "text": [
      "664406406.9755052\n"
     ]
    },
    {
     "name": "stderr",
     "output_type": "stream",
     "text": [
      "100% |########################################################################|\r"
     ]
    },
    {
     "name": "stdout",
     "output_type": "stream",
     "text": [
      "664406406.9755052\n"
     ]
    },
    {
     "name": "stderr",
     "output_type": "stream",
     "text": [
      "\n",
      " 12% |########                                                                |\r"
     ]
    },
    {
     "name": "stdout",
     "output_type": "stream",
     "text": [
      "664405093.0493214\n"
     ]
    },
    {
     "name": "stderr",
     "output_type": "stream",
     "text": [
      " 24% |#################                                                       |\r"
     ]
    },
    {
     "name": "stdout",
     "output_type": "stream",
     "text": [
      "inf\n"
     ]
    },
    {
     "name": "stderr",
     "output_type": "stream",
     "text": [
      " 37% |###########################                                             |\r"
     ]
    },
    {
     "name": "stdout",
     "output_type": "stream",
     "text": [
      "inf\n"
     ]
    },
    {
     "name": "stderr",
     "output_type": "stream",
     "text": [
      " 49% |###################################                                     |\r"
     ]
    },
    {
     "name": "stdout",
     "output_type": "stream",
     "text": [
      "664399224.1392608\n"
     ]
    },
    {
     "name": "stderr",
     "output_type": "stream",
     "text": [
      " 61% |############################################                            |\r"
     ]
    },
    {
     "name": "stdout",
     "output_type": "stream",
     "text": [
      "664405093.0493214\n"
     ]
    },
    {
     "name": "stderr",
     "output_type": "stream",
     "text": [
      " 75% |######################################################                  |\r"
     ]
    },
    {
     "name": "stdout",
     "output_type": "stream",
     "text": [
      "inf\n"
     ]
    },
    {
     "name": "stderr",
     "output_type": "stream",
     "text": [
      " 87% |##############################################################          |\r"
     ]
    },
    {
     "name": "stdout",
     "output_type": "stream",
     "text": [
      "inf\n"
     ]
    },
    {
     "name": "stderr",
     "output_type": "stream",
     "text": [
      "100% |########################################################################|\r"
     ]
    },
    {
     "name": "stdout",
     "output_type": "stream",
     "text": [
      "664399224.1392608\n"
     ]
    },
    {
     "name": "stderr",
     "output_type": "stream",
     "text": [
      "\n"
     ]
    }
   ],
   "source": [
    "i = 8\n",
    "c = filenames[i]\n",
    "c = c.replace('ratings_', '')\n",
    "s_out = c.replace('.csv','')+'_single.txt'\n",
    "m_out = c.replace('.csv','')+'_multiple.txt'\n",
    "print(s_out, m_out)\n",
    "a_dict, a_miu = get_valid_user(get_valid_data(filenames[i], blocks[i]), threshs[i])\n",
    "cal_para_single(a_dict, a_miu, s_out)\n",
    "cal_para_multiple(a_dict, a_miu, m_out)"
   ]
  },
  {
   "cell_type": "markdown",
   "metadata": {},
   "source": [
    "## I=9 ai"
   ]
  },
  {
   "cell_type": "code",
   "execution_count": 36,
   "metadata": {},
   "outputs": [
    {
     "name": "stdout",
     "output_type": "stream",
     "text": [
      "../../data/artificialintelligence_r05_single.txt ../../data/artificialintelligence_r05_multiple.txt\n"
     ]
    },
    {
     "name": "stderr",
     "output_type": "stream",
     "text": [
      " 12% |########                                                                |\r"
     ]
    },
    {
     "name": "stdout",
     "output_type": "stream",
     "text": [
      "1268289529.347677\n"
     ]
    },
    {
     "name": "stderr",
     "output_type": "stream",
     "text": [
      "100% |########################################################################|\r"
     ]
    },
    {
     "name": "stdout",
     "output_type": "stream",
     "text": [
      "1268289529.347677\n"
     ]
    },
    {
     "name": "stderr",
     "output_type": "stream",
     "text": [
      "\n",
      " 12% |########                                                                |\r"
     ]
    },
    {
     "name": "stdout",
     "output_type": "stream",
     "text": [
      "1268287534.6594706\n"
     ]
    },
    {
     "name": "stderr",
     "output_type": "stream",
     "text": [
      " 24% |#################                                                       |\r"
     ]
    },
    {
     "name": "stdout",
     "output_type": "stream",
     "text": [
      "inf\n"
     ]
    },
    {
     "name": "stderr",
     "output_type": "stream",
     "text": [
      " 36% |##########################                                              |\r"
     ]
    },
    {
     "name": "stdout",
     "output_type": "stream",
     "text": [
      "inf\n"
     ]
    },
    {
     "name": "stderr",
     "output_type": "stream",
     "text": [
      " 50% |####################################                                    |\r"
     ]
    },
    {
     "name": "stdout",
     "output_type": "stream",
     "text": [
      "1268278124.0185704\n"
     ]
    },
    {
     "name": "stderr",
     "output_type": "stream",
     "text": [
      " 62% |############################################                            |\r"
     ]
    },
    {
     "name": "stdout",
     "output_type": "stream",
     "text": [
      "1268287534.6594706\n"
     ]
    },
    {
     "name": "stderr",
     "output_type": "stream",
     "text": [
      " 74% |#####################################################                   |\r"
     ]
    },
    {
     "name": "stdout",
     "output_type": "stream",
     "text": [
      "inf\n"
     ]
    },
    {
     "name": "stderr",
     "output_type": "stream",
     "text": [
      " 86% |##############################################################          |\r"
     ]
    },
    {
     "name": "stdout",
     "output_type": "stream",
     "text": [
      "inf\n"
     ]
    },
    {
     "name": "stderr",
     "output_type": "stream",
     "text": [
      "100% |########################################################################|\r"
     ]
    },
    {
     "name": "stdout",
     "output_type": "stream",
     "text": [
      "1268278124.0185704\n"
     ]
    },
    {
     "name": "stderr",
     "output_type": "stream",
     "text": [
      "\n"
     ]
    }
   ],
   "source": [
    "i = 9\n",
    "c = filenames[i]\n",
    "c = c.replace('ratings_', '')\n",
    "s_out = c.replace('.csv','')+'_single.txt'\n",
    "m_out = c.replace('.csv','')+'_multiple.txt'\n",
    "print(s_out, m_out)\n",
    "a_dict, a_miu = get_valid_user(get_valid_data(filenames[i], blocks[i]), threshs[i])\n",
    "cal_para_single(a_dict, a_miu, s_out)\n",
    "cal_para_multiple(a_dict, a_miu, m_out)"
   ]
  },
  {
   "cell_type": "markdown",
   "metadata": {},
   "source": [
    "## I=10 pl"
   ]
  },
  {
   "cell_type": "code",
   "execution_count": 37,
   "metadata": {},
   "outputs": [
    {
     "name": "stdout",
     "output_type": "stream",
     "text": [
      "../../data/programminglanguage_r05_single.txt ../../data/programminglanguage_r05_multiple.txt\n"
     ]
    },
    {
     "name": "stderr",
     "output_type": "stream",
     "text": [
      " 12% |########                                                                |\r"
     ]
    },
    {
     "name": "stdout",
     "output_type": "stream",
     "text": [
      "1671438277.431108\n"
     ]
    },
    {
     "name": "stderr",
     "output_type": "stream",
     "text": [
      "100% |########################################################################|\r"
     ]
    },
    {
     "name": "stdout",
     "output_type": "stream",
     "text": [
      "1671438277.431108\n"
     ]
    },
    {
     "name": "stderr",
     "output_type": "stream",
     "text": [
      "\n",
      " 12% |########                                                                |\r"
     ]
    },
    {
     "name": "stdout",
     "output_type": "stream",
     "text": [
      "1671436493.6254094\n"
     ]
    },
    {
     "name": "stderr",
     "output_type": "stream",
     "text": [
      " 24% |#################                                                       |\r"
     ]
    },
    {
     "name": "stdout",
     "output_type": "stream",
     "text": [
      "inf\n"
     ]
    },
    {
     "name": "stderr",
     "output_type": "stream",
     "text": [
      " 37% |###########################                                             |\r"
     ]
    },
    {
     "name": "stdout",
     "output_type": "stream",
     "text": [
      "inf\n"
     ]
    },
    {
     "name": "stderr",
     "output_type": "stream",
     "text": [
      " 49% |###################################                                     |\r"
     ]
    },
    {
     "name": "stdout",
     "output_type": "stream",
     "text": [
      "1671427832.758893\n"
     ]
    },
    {
     "name": "stderr",
     "output_type": "stream",
     "text": [
      " 61% |############################################                            |\r"
     ]
    },
    {
     "name": "stdout",
     "output_type": "stream",
     "text": [
      "1671436493.6254094\n"
     ]
    },
    {
     "name": "stderr",
     "output_type": "stream",
     "text": [
      " 75% |######################################################                  |\r"
     ]
    },
    {
     "name": "stdout",
     "output_type": "stream",
     "text": [
      "inf\n"
     ]
    },
    {
     "name": "stderr",
     "output_type": "stream",
     "text": [
      " 87% |##############################################################          |\r"
     ]
    },
    {
     "name": "stdout",
     "output_type": "stream",
     "text": [
      "inf\n"
     ]
    },
    {
     "name": "stderr",
     "output_type": "stream",
     "text": [
      "100% |########################################################################|\r"
     ]
    },
    {
     "name": "stdout",
     "output_type": "stream",
     "text": [
      "1671427832.758893\n"
     ]
    },
    {
     "name": "stderr",
     "output_type": "stream",
     "text": [
      "\n"
     ]
    }
   ],
   "source": [
    "i = 10\n",
    "c = filenames[i]\n",
    "c = c.replace('ratings_', '')\n",
    "s_out = c.replace('.csv','')+'_single.txt'\n",
    "m_out = c.replace('.csv','')+'_multiple.txt'\n",
    "print(s_out, m_out)\n",
    "a_dict, a_miu = get_valid_user(get_valid_data(filenames[i], blocks[i]), threshs[i])\n",
    "cal_para_single(a_dict, a_miu, s_out)\n",
    "cal_para_multiple(a_dict, a_miu, m_out)"
   ]
  },
  {
   "cell_type": "code",
   "execution_count": 11,
   "metadata": {},
   "outputs": [
    {
     "name": "stdout",
     "output_type": "stream",
     "text": [
      "libimseti_f_m_single.txt libimseti_f_m_multiple.txt\n"
     ]
    },
    {
     "ename": "NameError",
     "evalue": "name 'thresh' is not defined",
     "output_type": "error",
     "traceback": [
      "\u001b[0;31m---------------------------------------------------------------------------\u001b[0m",
      "\u001b[0;31mNameError\u001b[0m                                 Traceback (most recent call last)",
      "\u001b[0;32m<ipython-input-11-856f1430ce03>\u001b[0m in \u001b[0;36m<module>\u001b[0;34m\u001b[0m\n\u001b[1;32m      6\u001b[0m \u001b[0mthreshs\u001b[0m \u001b[0;34m=\u001b[0m \u001b[0;36m100\u001b[0m\u001b[0;34m\u001b[0m\u001b[0;34m\u001b[0m\u001b[0m\n\u001b[1;32m      7\u001b[0m \u001b[0mprint\u001b[0m\u001b[0;34m(\u001b[0m\u001b[0ms_out\u001b[0m\u001b[0;34m,\u001b[0m \u001b[0mm_out\u001b[0m\u001b[0;34m)\u001b[0m\u001b[0;34m\u001b[0m\u001b[0;34m\u001b[0m\u001b[0m\n\u001b[0;32m----> 8\u001b[0;31m \u001b[0ma_dict\u001b[0m\u001b[0;34m,\u001b[0m \u001b[0ma_miu\u001b[0m \u001b[0;34m=\u001b[0m \u001b[0mget_valid_user\u001b[0m\u001b[0;34m(\u001b[0m\u001b[0mget_valid_data\u001b[0m\u001b[0;34m(\u001b[0m\u001b[0mfilename\u001b[0m\u001b[0;34m,\u001b[0m \u001b[0mblock\u001b[0m\u001b[0;34m)\u001b[0m\u001b[0;34m,\u001b[0m \u001b[0mthresh\u001b[0m\u001b[0;34m)\u001b[0m\u001b[0;34m\u001b[0m\u001b[0;34m\u001b[0m\u001b[0m\n\u001b[0m\u001b[1;32m      9\u001b[0m \u001b[0mcal_para_single\u001b[0m\u001b[0;34m(\u001b[0m\u001b[0ma_dict\u001b[0m\u001b[0;34m,\u001b[0m \u001b[0ma_miu\u001b[0m\u001b[0;34m,\u001b[0m \u001b[0ms_out\u001b[0m\u001b[0;34m)\u001b[0m\u001b[0;34m\u001b[0m\u001b[0;34m\u001b[0m\u001b[0m\n\u001b[1;32m     10\u001b[0m \u001b[0mcal_para_multiple\u001b[0m\u001b[0;34m(\u001b[0m\u001b[0ma_dict\u001b[0m\u001b[0;34m,\u001b[0m \u001b[0ma_miu\u001b[0m\u001b[0;34m,\u001b[0m \u001b[0mm_out\u001b[0m\u001b[0;34m)\u001b[0m\u001b[0;34m\u001b[0m\u001b[0;34m\u001b[0m\u001b[0m\n",
      "\u001b[0;31mNameError\u001b[0m: name 'thresh' is not defined"
     ]
    }
   ],
   "source": [
    "c = \"libimseti_f_m.csv\"\n",
    "s_out = c.replace('.csv','')+'_single.txt'\n",
    "m_out = c.replace('.csv','')+'_multiple.txt'\n",
    "filename = \"../data/libimseti_f_m.csv\"\n",
    "block = 0\n",
    "thresh = 100\n",
    "print(s_out, m_out)\n",
    "a_dict, a_miu = get_valid_user(get_valid_data(filename, block), thresh)\n",
    "cal_para_single(a_dict, a_miu, s_out)\n",
    "cal_para_multiple(a_dict, a_miu, m_out)"
   ]
  },
  {
   "cell_type": "code",
   "execution_count": 12,
   "metadata": {},
   "outputs": [
    {
     "name": "stdout",
     "output_type": "stream",
     "text": [
      "libimseti_m_f_single.txt libimseti_m_f_multiple.txt\n"
     ]
    },
    {
     "name": "stderr",
     "output_type": "stream",
     "text": [
      " 12% |########                                                                |\r"
     ]
    },
    {
     "name": "stdout",
     "output_type": "stream",
     "text": [
      "237613.93144211377\n"
     ]
    },
    {
     "name": "stderr",
     "output_type": "stream",
     "text": [
      "100% |########################################################################|\r"
     ]
    },
    {
     "name": "stdout",
     "output_type": "stream",
     "text": [
      "237613.93144211377\n"
     ]
    },
    {
     "name": "stderr",
     "output_type": "stream",
     "text": [
      "\n",
      " 12% |########                                                                |\r"
     ]
    },
    {
     "name": "stdout",
     "output_type": "stream",
     "text": [
      "237601.9022537439\n"
     ]
    },
    {
     "name": "stderr",
     "output_type": "stream",
     "text": [
      " 24% |#################                                                       |\r"
     ]
    },
    {
     "name": "stdout",
     "output_type": "stream",
     "text": [
      "237599.7076313606\n"
     ]
    },
    {
     "name": "stderr",
     "output_type": "stream",
     "text": [
      " 37% |##########################                                              |\r"
     ]
    },
    {
     "name": "stdout",
     "output_type": "stream",
     "text": [
      "237612.50777446042\n"
     ]
    },
    {
     "name": "stderr",
     "output_type": "stream",
     "text": [
      " 49% |###################################                                     |\r"
     ]
    },
    {
     "name": "stdout",
     "output_type": "stream",
     "text": [
      "237561.16837302624\n"
     ]
    },
    {
     "name": "stderr",
     "output_type": "stream",
     "text": [
      " 62% |############################################                            |\r"
     ]
    },
    {
     "name": "stdout",
     "output_type": "stream",
     "text": [
      "237601.9022537439\n"
     ]
    },
    {
     "name": "stderr",
     "output_type": "stream",
     "text": [
      " 74% |#####################################################                   |\r"
     ]
    },
    {
     "name": "stdout",
     "output_type": "stream",
     "text": [
      "237599.7076313606\n"
     ]
    },
    {
     "name": "stderr",
     "output_type": "stream",
     "text": [
      " 87% |##############################################################          |\r"
     ]
    },
    {
     "name": "stdout",
     "output_type": "stream",
     "text": [
      "237612.50777446042\n"
     ]
    },
    {
     "name": "stderr",
     "output_type": "stream",
     "text": [
      "100% |########################################################################|\r"
     ]
    },
    {
     "name": "stdout",
     "output_type": "stream",
     "text": [
      "237561.16837302624\n"
     ]
    },
    {
     "name": "stderr",
     "output_type": "stream",
     "text": [
      "\n"
     ]
    }
   ],
   "source": [
    "c = \"libimseti_m_f.csv\"\n",
    "s_out = c.replace('.csv','')+'_single.txt'\n",
    "m_out = c.replace('.csv','')+'_multiple.txt'\n",
    "filename = \"../data/libimseti_m_f.csv\"\n",
    "block = 0\n",
    "thresh = 100 \n",
    "print(s_out, m_out)\n",
    "a_dict, a_miu = get_valid_user(get_valid_data(filename, block), thresh)\n",
    "cal_para_single(a_dict, a_miu, s_out)\n",
    "cal_para_multiple(a_dict, a_miu, m_out)"
   ]
  },
  {
   "cell_type": "code",
   "execution_count": null,
   "metadata": {},
   "outputs": [],
   "source": []
  }
 ],
 "metadata": {
  "kernelspec": {
   "display_name": "Python 3",
   "language": "python",
   "name": "python3"
  },
  "language_info": {
   "codemirror_mode": {
    "name": "ipython",
    "version": 3
   },
   "file_extension": ".py",
   "mimetype": "text/x-python",
   "name": "python",
   "nbconvert_exporter": "python",
   "pygments_lexer": "ipython3",
   "version": "3.6.8"
  },
  "latex_envs": {
   "LaTeX_envs_menu_present": true,
   "autoclose": false,
   "autocomplete": true,
   "bibliofile": "biblio.bib",
   "cite_by": "apalike",
   "current_citInitial": 1,
   "eqLabelWithNumbers": true,
   "eqNumInitial": 1,
   "hotkeys": {
    "equation": "Ctrl-E",
    "itemize": "Ctrl-I"
   },
   "labels_anchors": false,
   "latex_user_defs": false,
   "report_style_numbering": false,
   "user_envs_cfg": false
  },
  "toc": {
   "base_numbering": 1,
   "nav_menu": {},
   "number_sections": true,
   "sideBar": true,
   "skip_h1_title": false,
   "title_cell": "Table of Contents",
   "title_sidebar": "Contents",
   "toc_cell": false,
   "toc_position": {},
   "toc_section_display": true,
   "toc_window_display": false
  }
 },
 "nbformat": 4,
 "nbformat_minor": 4
}
