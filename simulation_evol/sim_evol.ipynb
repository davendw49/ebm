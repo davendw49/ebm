{
 "cells": [
  {
   "cell_type": "code",
   "execution_count": 22,
   "metadata": {},
   "outputs": [],
   "source": [
    "# -*- coding:UTF-8 -*-\n",
    "# This is the simulation of our evolving RS model under the FIRST framework of our assumptions on edge weights.\n",
    "import math\n",
    "import numpy as np\n",
    "# import matplotlib as mpl\n",
    "# mpl.use('Agg')\n",
    "import matplotlib.pyplot as plt\n",
    "from sklearn import linear_model\n",
    "from scipy.stats import norm\n",
    "import config\n",
    "import powerlaw"
   ]
  },
  {
   "cell_type": "code",
   "execution_count": 23,
   "metadata": {},
   "outputs": [],
   "source": [
    "#Initial settings of parameters in our weighted bipartite graph model B(U,I).\n",
    "beta = config.beta # the probability to add a new vertex in U\n",
    "iterations = config.iterations # the number of iterations to run the simulation\n",
    "rating_scale = config.rating_scale # the preassigned rating scale\n",
    "Cu = config.Cu # the least number of edges connected to vertices in U\n",
    "Ci = config.Ci # the least number of edges connected to vertices in I\n",
    "Unum = config.Unum # the number of vertices in U in the initial graph at t=0\n",
    "Inum = config.Inum # the number of vertices in I in the initial graph at t=1\n",
    "K = config.K # the number of basic user type in our assumption\n",
    "L = config.L # the number of basic item level in our assumption\n",
    "Huser = np.zeros((K,rating_scale)) # the rating pmf for the K user types\n",
    "Hitem = np.zeros((L,rating_scale)) # the rating pmf for the L item levels\n",
    "Fmean = np.zeros((K,)) # the mean of the distribution of users' weight vector (assumed to be Gaussian)\n",
    "Gmean = np.zeros((L,)) # the mean of the distribution of items' weight vector (assumed to be Gaussian)\n",
    "edges = np.zeros((iterations+50,iterations+50), dtype=int) # the matrix storing edge information"
   ]
  },
  {
   "cell_type": "code",
   "execution_count": 24,
   "metadata": {},
   "outputs": [],
   "source": [
    "\n",
    "# Initalization of the sampling of edge weights from the mixture distribution\n",
    "def init_weightgenerator():\n",
    "    global K,L,Huser,Hitem,rating_scale,Fmean,Gmean\n",
    "    Huser = np.random.sample((K,rating_scale))\n",
    "    Husersubsum = np.sum(Huser,axis=1)\n",
    "    Husersubsum = np.array([Husersubsum]*rating_scale)\n",
    "    Husersubsum = np.transpose(Husersubsum)\n",
    "    Huser = Huser/Husersubsum\n",
    "    Hitem = np.random.sample((L,rating_scale))\n",
    "    Hitemsubsum = np.sum(Hitem,axis=1)\n",
    "    Hitemsubsum = np.array([Hitemsubsum]*rating_scale)\n",
    "    Hitemsubsum = np.transpose(Hitemsubsum)\n",
    "    Hitem = Hitem/Hitemsubsum\n",
    "    Fmean = np.random.sample(K,)\n",
    "    Fmean = Fmean/np.sum(Fmean)\n",
    "    Gmean = np.random.sample(L,)\n",
    "    Gmean = Gmean/np.sum(Gmean)\n",
    "\n",
    "# Sample edge weight(s) for new users in U from the mixture distribution\n",
    "def userweightgenerator(nb):\n",
    "    global K,L,Huser,Hitem,rating_scale,Fmean,Gmean\n",
    "    Uvec = np.random.normal(Fmean,0.1)\n",
    "    Uvec[Uvec<0]=0\n",
    "    Uvec = Uvec/np.sum(Uvec)\n",
    "    Uvec = np.array([Uvec]*rating_scale)\n",
    "    Uvec = np.transpose(Uvec)\n",
    "    Hu = Huser*Uvec\n",
    "    Hu = np.sum(Hu,axis=0)\n",
    "    R = np.random.choice(rating_scale,nb,p=Hu)+1\n",
    "    return R\n",
    "\n",
    "# Sample edge weight(s) for new items in I from the mixture distribution\n",
    "def itemweightgenerator(nb):\n",
    "    global K,L,Huser,Hitem,rating_scale,Fmean,Gmean\n",
    "    Ivec = np.random.normal(Gmean,0.1)\n",
    "    Ivec[Ivec<0]=0\n",
    "    Ivec = Ivec/np.sum(Ivec)\n",
    "    Ivec = np.array([Ivec]*rating_scale)\n",
    "    Ivec = np.transpose(Ivec)\n",
    "    Hi = Hitem*Ivec\n",
    "    Hi = np.sum(Hi,axis=0)\n",
    "    R = np.random.choice(rating_scale,nb,p=Hi)+1\n",
    "    return R\n",
    "\n",
    "# Initialization for the inital simple graph at t=0\n",
    "def init():\n",
    "    print ('Initalizing...')\n",
    "    global edges,Unum,Inum\n",
    "    init_weightgenerator()\n",
    "    edges = np.zeros((iterations+50,iterations+50), dtype=int)\n",
    "    for i in range(Unum):\n",
    "        edges[i,0:Inum] = userweightgenerator(Inum)\n",
    "    print ('Done.')\n",
    "    \n",
    "# Select \"prototype\" from the existing vertex group\n",
    "def prototype(arr, nb):\n",
    "    return np.count_nonzero(arr.cumsum() < nb)\n",
    "\n",
    "# Conduct Edge-copy and assign new edge weights\n",
    "def copyedge(template, desired,p_prime):\n",
    "    ls = []\n",
    "    new2old = template.nonzero()[0]\n",
    "    tmp = template[new2old].astype(float)\n",
    "    for i in range(desired):\n",
    "        tmp /= tmp.sum()\n",
    "        sampled = np.nonzero(np.random.multinomial(1, tmp))[0][0]\n",
    "        ls.append(sampled)\n",
    "        tmp[sampled] = 0\n",
    "    ls.sort()\n",
    "    return new2old[ls]\n",
    "\n",
    "# Add new vertices to U (respectively. I)\n",
    "def addnode(nb_axis):\n",
    "    global edges,Unum,Inum\n",
    "    weightsum = np.sum(edges[:Unum,:Inum], axis=nb_axis)\n",
    "    totalsum = np.sum(weightsum)\n",
    "    randnum = np.random.randint(1, totalsum+1)\n",
    "    p_prime = prototype(weightsum, randnum)\n",
    "    weighted = np.zeros(1)\n",
    "    if nb_axis == 1:\n",
    "        template = edges[p_prime, :Inum]\n",
    "        desired = Cu\n",
    "        weighted = userweightgenerator(template.shape[0])\n",
    "    else:\n",
    "        template = edges[:Unum, p_prime]\n",
    "        desired = Ci\n",
    "        weighted = itemweightgenerator(template.shape[0])\n",
    "    idx = copyedge(template, desired,p_prime)\n",
    "    new = np.zeros(template.shape[0],dtype=int)\n",
    "    new[idx] = weighted[idx]\n",
    "    if nb_axis == 1:\n",
    "        edges[Unum,:Inum] = new\n",
    "        Unum = Unum + 1\n",
    "        # print(list(new), file=f)\n",
    "    else:\n",
    "        edges[:Unum,Inum] = new\n",
    "        Inum = Inum + 1\n",
    "        # print(list(new), file=f)\n",
    "\n",
    "# Evolution of U (or I)\n",
    "def evolution():\n",
    "    randnum = np.random.rand()\n",
    "    if randnum < beta:\n",
    "        addnode(1)\n",
    "    else:\n",
    "        addnode(0)\n",
    "    \n",
    "# Gather statistic information\n",
    "def stat():\n",
    "    global edges\n",
    "    tmps = edges.flatten().astype(int)\n",
    "    count = np.bincount(tmps)\n",
    "    count = count[1:]\n",
    "    count = 1.0*count/count.sum()\n",
    "    # print(\"stat\", count)\n",
    "    return count\n",
    "    \n",
    "# Calculate degree distributions\n",
    "def calcdegree_U():\n",
    "    global edges\n",
    "    # print(\"calcdegree\", edges)\n",
    "    sumdegree = edges.astype(bool).sum(axis=0)\n",
    "    return np.bincount(sumdegree)\n",
    "\n",
    "# Calculate vertex weight distributions\n",
    "def calcweight_U():\n",
    "    global edges\n",
    "    sumdegree = edges.sum(axis=0)\n",
    "    return np.bincount(sumdegree)\n",
    "\n",
    "def calcdegree_I():\n",
    "    global edges\n",
    "    # print(\"calcdegree\", edges)\n",
    "    sumdegree = edges.astype(bool).sum(axis=1)\n",
    "    return np.bincount(sumdegree)\n",
    "\n",
    "# Calculate vertex weight distributions\n",
    "def calcweight_I():\n",
    "    global edges\n",
    "    sumdegree = edges.sum(axis=1)\n",
    "    return np.bincount(sumdegree)\n",
    "\n",
    "def DataFit(X, Y, year):\n",
    "    # 模型数据准备\n",
    "    X_parameter=[]\n",
    "    Y_parameter=[]\n",
    "    for single_square_feet ,single_price_value in zip(X,Y):\n",
    "        X_parameter.append([float(single_square_feet)])\n",
    "        Y_parameter.append(float(single_price_value))\n",
    "\n",
    "    # 模型拟合\n",
    "    regr = linear_model.LinearRegression()\n",
    "    regr.fit(X_parameter, Y_parameter)\n",
    "\n",
    "    #加p_value\n",
    "    try:\n",
    "        data = Y\n",
    "        # print(data)\n",
    "        results = powerlaw.Fit(data)\n",
    "        alpha = results.power_law.alpha\n",
    "        xmin = results.power_law.xmin\n",
    "        R, p_value = results.distribution_compare('power_law', 'lognormal')\n",
    "        print(\"p_value:\", p_value, \"item alpha:\", alpha, \"item xmin:\", xmin)\n",
    "    except:\n",
    "        pass\n",
    "\n",
    "    # 模型结果与得分\n",
    "    # print(\"#\", year, \":\")\n",
    "    # print(\"幂律指数𝜑: \\n\", 0-regr.coef_[0])\n",
    "    # print(\"Intercept:\\n\",regr.intercept_)\n",
    "    # The mean square error\n",
    "    # print(\"rest: %.8f\" % np.mean((regr.predict(X_parameter) - Y_parameter) ** 2))  # 残差平方和\n",
    "\n",
    "    phi = 0-regr.coef_[0]\n",
    "    return phi, year#, p_value, alpha\n",
    "\n",
    "def main():\n",
    "    I_x = np.zeros(rating_scale)\n",
    "    I_deg = np.zeros(iterations+1)\n",
    "    I_wei = np.zeros(iterations+1)\n",
    "    \n",
    "    I_w_y = []\n",
    "    I_w_phi = []\n",
    "\n",
    "    I_d_y = []\n",
    "    I_d_phi = []\n",
    "\n",
    "    U_x = np.zeros(rating_scale)\n",
    "    U_deg = np.zeros(iterations+1)\n",
    "    U_wei = np.zeros(iterations+1)\n",
    "    \n",
    "    U_w_y = []\n",
    "    U_w_phi = []\n",
    "\n",
    "    U_d_y = []\n",
    "    U_d_phi = []\n",
    "\n",
    "    for i in range(1):\n",
    "        init()\n",
    "        k = stat()\n",
    "        #Begin iteration...\n",
    "        for i in range(iterations):\n",
    "            evolution()\n",
    "            if i % 100 == 0 and i != 0:\n",
    "                U_res = stat()\n",
    "                U_deg = calcdegree_U()\n",
    "                U_weights = calcweight_U()\n",
    "                U_k = (U_res, U_deg, U_weights)\n",
    "\n",
    "                U_x[:U_k[0].size] = U_x[:U_k[0].size] + U_k[0]\n",
    "                U_deg[:min(i+1,U_k[1].size)] = U_deg[:min(i+1,U_k[1].size)] + U_k[1][:min(i+1,U_k[1].size)]\n",
    "                U_wei[:min(i+1,U_k[2].size)] = U_wei[:min(i+1,U_k[2].size)] + U_k[2][:min(i+1,U_k[2].size)]\n",
    "\n",
    "                I_res = stat()\n",
    "                I_deg = calcdegree_I()\n",
    "                I_weights = calcweight_I()\n",
    "                I_k = (I_res, I_deg, I_weights)\n",
    "\n",
    "                I_x[:I_k[0].size] = I_x[:I_k[0].size] + I_k[0]\n",
    "                I_deg[:min(i+1,I_k[1].size)] = I_deg[:min(i+1,I_k[1].size)] + I_k[1][:min(i+1,I_k[1].size)]\n",
    "                I_wei[:min(i+1,I_k[2].size)] = I_wei[:min(i+1,I_k[2].size)] + I_k[2][:min(i+1,I_k[2].size)]\n",
    "\n",
    "                U_xind = np.zeros(i+1)\n",
    "                for ii in range(1,i+1):\n",
    "                    U_xind[ii]=U_xind[ii-1]+1\n",
    "\n",
    "                I_xind = np.zeros(i+1)\n",
    "                for ii in range(1,i+1):\n",
    "                    I_xind[ii]=I_xind[ii-1]+1\n",
    "\n",
    "                U_X_wei = []\n",
    "                U_Y_wei = []\n",
    "                for ii in range(1, len(U_wei[1:])+1):#len(wei[1:])+1\n",
    "                    if U_wei[ii]>0:\n",
    "                        U_X_wei.append(math.log10(U_xind[ii]))\n",
    "                        U_Y_wei.append(math.log10(U_wei[ii]))\n",
    "                U_phi_wei, U_year_wei = DataFit(U_X_wei, U_Y_wei, i)\n",
    "                U_w_y.append(U_year_wei)\n",
    "                U_w_phi.append(U_phi_wei)\n",
    "\n",
    "                I_X_wei = []\n",
    "                I_Y_wei = []\n",
    "                for ii in range(1, len(I_wei[1:])+1):#len(wei[1:])+1\n",
    "                    if I_wei[ii]>0:\n",
    "                        I_X_wei.append(math.log10(I_xind[ii]))\n",
    "                        I_Y_wei.append(math.log10(I_wei[ii]))\n",
    "                I_phi_wei, I_year_wei = DataFit(I_X_wei, I_Y_wei, i)\n",
    "                I_w_y.append(I_year_wei)\n",
    "                I_w_phi.append(I_phi_wei)                \n",
    "\n",
    "                U_X_deg = []\n",
    "                U_Y_deg = []\n",
    "                for ii in range(1, len(U_deg[1:])+1):#len(wei[1:])+1\n",
    "                    if U_deg[ii]>0:\n",
    "                        U_X_deg.append(math.log10(U_xind[ii]))\n",
    "                        U_Y_deg.append(math.log10(U_deg[ii]))\n",
    "                U_phi_deg, U_year_deg = DataFit(U_X_deg, U_Y_deg, i)\n",
    "                U_d_y.append(U_year_deg)\n",
    "                U_d_phi.append(U_phi_deg)\n",
    "\n",
    "                I_X_deg = []\n",
    "                I_Y_deg = []\n",
    "                for ii in range(1, len(I_deg[1:])+1):#len(wei[1:])+1\n",
    "                    if I_deg[ii]>0:\n",
    "                        I_X_deg.append(math.log10(I_xind[ii]))\n",
    "                        I_Y_deg.append(math.log10(I_deg[ii]))\n",
    "                I_phi_deg, I_year_deg = DataFit(I_X_deg, I_Y_deg, i)\n",
    "                I_d_y.append(I_year_deg)\n",
    "                I_d_phi.append(I_phi_deg)\n",
    "\n",
    "        U_res = stat()\n",
    "        U_deg = calcdegree_U()\n",
    "        U_weights = calcweight_U()\n",
    "        U_k = (U_res, U_deg, U_weights)\n",
    "\n",
    "        U_x[:U_k[0].size] = U_x[:U_k[0].size] + U_k[0]\n",
    "        U_deg[:min(iterations+1,U_k[1].size)] = U_deg[:min(iterations+1,U_k[1].size)] + U_k[1][:min(iterations+1,U_k[1].size)]\n",
    "        U_wei[:min(iterations+1,U_k[2].size)] = U_wei[:min(iterations+1,U_k[2].size)] + U_k[2][:min(iterations+1,U_k[2].size)]\n",
    "\n",
    "        I_res = stat()\n",
    "        I_deg = calcdegree_I()\n",
    "        I_weights = calcweight_I()\n",
    "        I_k = (I_res, I_deg, I_weights)\n",
    "\n",
    "        I_x[:I_k[0].size] = I_x[:I_k[0].size] + I_k[0]\n",
    "        I_deg[:min(iterations+1,I_k[1].size)] = I_deg[:min(iterations+1,I_k[1].size)] + I_k[1][:min(iterations+1,I_k[1].size)]\n",
    "        I_wei[:min(iterations+1,I_k[2].size)] = I_wei[:min(iterations+1,I_k[2].size)] + I_k[2][:min(iterations+1,I_k[2].size)]\n",
    "    \n",
    "    U_xind = np.zeros(iterations+1)\n",
    "    for i in range(1,iterations+1):\n",
    "        U_xind[i]=U_xind[i-1]+1\n",
    "\n",
    "    I_xind = np.zeros(iterations+1)\n",
    "    for i in range(1,iterations+1):\n",
    "        I_xind[i]=I_xind[i-1]+1\n",
    "\n",
    "    U_X_wei = []\n",
    "    U_Y_wei = []\n",
    "    U_weight_sum = 0.0\n",
    "    U_pos=0\n",
    "    for i in range(1, len(U_wei[1:])+1):\n",
    "        if U_wei[i]>0:\n",
    "            U_pos+=1\n",
    "            U_weight_sum+=math.log10(U_wei[i])\n",
    "            U_X_wei.append(math.log10(U_xind[i]))\n",
    "            U_Y_wei.append(math.log10(U_wei[i]))\n",
    "    U_Er = U_weight_sum/U_pos \n",
    "    U_big_c = U_Er*(1+Cu*beta/(Ci*(1-beta)))\n",
    "    print(\"USER C:\", U_big_c)\n",
    "    print(\"USER theoritical alpha upper bounds:\", (U_big_c+1)/rating_scale)\n",
    "    print(\"USER theoritical alpha lower bounds:\", (U_big_c+rating_scale))\n",
    "    U_u_b = (U_big_c+1)/rating_scale\n",
    "    U_l_b = U_big_c+rating_scale\n",
    "\n",
    "    U_phi_wei, U_year_wei = DataFit(U_X_wei,U_Y_wei,iterations)\n",
    "    U_w_y.append(U_year_wei)\n",
    "    U_w_phi.append(U_phi_wei)\n",
    "\n",
    "    I_X_wei = []\n",
    "    I_Y_wei = []\n",
    "    I_weight_sum = 0.0\n",
    "    I_pos=0\n",
    "    for i in range(1, len(I_wei[1:])+1):\n",
    "        if I_wei[i]>0:\n",
    "            I_pos+=1\n",
    "            I_weight_sum+=math.log10(I_wei[i])\n",
    "            I_X_wei.append(math.log10(I_xind[i]))\n",
    "            I_Y_wei.append(math.log10(I_wei[i]))\n",
    "    I_Er = I_weight_sum/I_pos \n",
    "    I_big_c = I_Er*(1+Ci*(1-beta)/(Cu*beta))\n",
    "    print(\"ITEM C:\", I_big_c)\n",
    "    print(\"ITEM theoritical alpha upper bounds:\", (I_big_c+1)/rating_scale)\n",
    "    print(\"ITEM theoritical alpha lower bounds:\", (I_big_c+rating_scale))\n",
    "    I_u_b = (I_big_c+1)/rating_scale\n",
    "    I_l_b = I_big_c+rating_scale\n",
    "\n",
    "    U_phi_wei, U_year_wei = DataFit(U_X_wei,U_Y_wei,iterations)\n",
    "    U_w_y.append(U_year_wei)\n",
    "    U_w_phi.append(U_phi_wei)\n",
    "\n",
    "    I_phi_wei, I_year_wei = DataFit(I_X_wei,I_Y_wei,iterations)\n",
    "    I_w_y.append(I_year_wei)\n",
    "    I_w_phi.append(I_phi_wei)\n",
    "\n",
    "    U_X_deg = []\n",
    "    U_Y_deg = []\n",
    "    for i in range(1, len(U_deg[1:])+1):\n",
    "        if U_deg[i]>0:\n",
    "            U_X_deg.append(math.log10(U_xind[i]))\n",
    "            U_Y_deg.append(math.log10(U_deg[i]))\n",
    "    U_phi_deg, U_year_deg = DataFit(U_X_deg,U_Y_deg,iterations)\n",
    "    U_d_y.append(U_year_deg)\n",
    "    U_d_phi.append(U_phi_deg)\n",
    "\n",
    "    I_X_deg = []\n",
    "    I_Y_deg = []\n",
    "    for i in range(1, len(I_deg[1:])+1):\n",
    "        if I_deg[i]>0:\n",
    "            I_X_deg.append(math.log10(I_xind[i]))\n",
    "            I_Y_deg.append(math.log10(I_deg[i]))\n",
    "    I_phi_deg, I_year_deg = DataFit(I_X_deg,I_Y_deg,iterations)\n",
    "    I_d_y.append(I_year_deg)\n",
    "    I_d_phi.append(I_phi_deg)\n",
    "\n",
    "    # print(len(d_y), len(d_phi))\n",
    "    # print(len(w_y), len(w_phi))\n",
    "    # print(d_y)\n",
    "    # print(w_y)\n",
    "    # print(\"w_phi:\", w_phi)\n",
    "    print(\"USER d_phi:\", U_d_phi)\n",
    "    print(\"ITEM d_phi:\", I_d_phi)\n",
    "    # plt.figure(figsize=(1,2),dpi=80)\n",
    "    # ax1 = plt.subplot(121)\n",
    "    # plt.plot(w_y,w_phi,'bo')\n",
    "    # plt.plot(U_d_y,U_d_phi,'r+')\n",
    "    # plt.hlines(U_u_b, 0, max(U_d_y), colors =\"r\", linestyles = \"dashed\")\n",
    "    # plt.hlines(U_l_b, 0, max(U_d_y), colors =\"r\", linestyles = \"dashed\")\n",
    "    # plt.plot(I_d_y,I_d_phi,'bo')\n",
    "    # plt.hlines(I_u_b, 0, max(I_d_y), colors =\"b\", linestyles = \"dashed\")\n",
    "    # plt.hlines(I_l_b, 0, max(I_d_y), colors =\"b\", linestyles = \"dashed\")\n",
    "    # plt.title('degree\\'s phi evolving graph, beta=' + str(beta))\n",
    "    # plt.xlabel('iteration time')\n",
    "    # plt.ylabel('phi')\n",
    "    # plt.show()\n",
    "    # plt.savefig('./degree_phi_evol_graph.png')\n",
    "    # ax2 = plt.subplot(122)\n",
    "    \n",
    "    \n",
    "    plt.plot(U_w_y,U_w_phi,'o', c='black')\n",
    "    plt.hlines(U_u_b, 0, max(U_w_y), colors =\"black\", linestyles = \"dashed\")\n",
    "    plt.hlines(U_l_b, 0, max(U_w_y), colors =\"black\", linestyles = \"dashed\")\n",
    "    # plt.title('weight\\'s phi evolving graph, beta=' + str(beta))\n",
    "    plt.xlabel('Iteration Time')\n",
    "    plt.ylabel(r'$\\alpha $')\n",
    "    \n",
    "    plt.savefig(r'User Weight evolving graph.png')\n",
    "    plt.show()\n",
    "    plt.cla()\n",
    "    plt.plot(I_w_y,I_w_phi,'o', c='grey')\n",
    "    plt.hlines(I_u_b, 0, max(I_w_y), colors =\"grey\", linestyles = \"dashed\")\n",
    "    plt.hlines(I_l_b, 0, max(I_w_y), colors =\"grey\", linestyles = \"dashed\")\n",
    "    # plt.title('weight\\'s phi evolving graph, beta=' + str(beta))\n",
    "    plt.xlabel('Iteration Time')\n",
    "    plt.ylabel(r'$\\alpha $')\n",
    "    plt.savefig(r'item Weight evolving graph.png')\n",
    "    plt.showw()"
   ]
  },
  {
   "cell_type": "code",
   "execution_count": 25,
   "metadata": {},
   "outputs": [
    {
     "name": "stdout",
     "output_type": "stream",
     "text": [
      "Initalizing...\n",
      "Done.\n"
     ]
    },
    {
     "name": "stderr",
     "output_type": "stream",
     "text": [
      "Values less than or equal to 0 in data. Throwing out 0 or negative values\n",
      "Calculating best minimal value for power law fit\n",
      "Less than 2 unique data values left after xmin and xmax options! Cannot fit. Returning nans.\n",
      "/home/daven/.local/lib/python3.6/site-packages/powerlaw.py:139: RuntimeWarning: invalid value encountered in greater_equal\n",
      "  self.data = self.data[self.data>=self.xmin]\n",
      "/home/daven/.local/lib/python3.6/site-packages/powerlaw.py:1141: RuntimeWarning: invalid value encountered in double_scalars\n",
      "  self.alpha = 1 + (self.n / sum(log(data/self.xmin)))\n",
      "/home/daven/.local/lib/python3.6/site-packages/powerlaw.py:1160: RuntimeWarning: invalid value encountered in double_scalars\n",
      "  return 1 + len(data)/sum(log(data / (self.xmin)))\n",
      "Not enough data. Returning nan\n",
      "Not enough data. Returning nan\n",
      "/home/daven/.local/lib/python3.6/site-packages/numpy/core/fromnumeric.py:3118: RuntimeWarning: Mean of empty slice.\n",
      "  out=out, **kwargs)\n",
      "/home/daven/.local/lib/python3.6/site-packages/numpy/core/_methods.py:85: RuntimeWarning: invalid value encountered in double_scalars\n",
      "  ret = ret.dtype.type(ret / rcount)\n",
      "/home/daven/.local/lib/python3.6/site-packages/numpy/core/_methods.py:140: RuntimeWarning: Degrees of freedom <= 0 for slice\n",
      "  keepdims=keepdims)\n",
      "/home/daven/.local/lib/python3.6/site-packages/numpy/core/_methods.py:110: RuntimeWarning: invalid value encountered in true_divide\n",
      "  arrmean, rcount, out=arrmean, casting='unsafe', subok=False)\n",
      "/home/daven/.local/lib/python3.6/site-packages/numpy/core/_methods.py:132: RuntimeWarning: invalid value encountered in double_scalars\n",
      "  ret = ret.dtype.type(ret / rcount)\n",
      "No valid fits found.\n",
      "Not enough data. Returning nan\n",
      "Values less than or equal to 0 in data. Throwing out 0 or negative values\n",
      "Calculating best minimal value for power law fit\n",
      "/home/daven/.local/lib/python3.6/site-packages/powerlaw.py:700: RuntimeWarning: invalid value encountered in true_divide\n",
      "  (Theoretical_CDF * (1 - Theoretical_CDF))\n",
      "/home/daven/.local/lib/python3.6/site-packages/powerlaw.py:1605: RuntimeWarning: invalid value encountered in true_divide\n",
      "  CDF = CDF/norm\n",
      "'nan' in fit cumulative distribution values.\n",
      "Likely underflow or overflow error: the optimal fit for this distribution gives values that are so extreme that we lack the numerical precision to calculate them.\n",
      "Calculating best minimal value for power law fit\n",
      "/home/daven/.local/lib/python3.6/site-packages/powerlaw.py:700: RuntimeWarning: invalid value encountered in true_divide\n",
      "  (Theoretical_CDF * (1 - Theoretical_CDF))\n",
      "/home/daven/.local/lib/python3.6/site-packages/powerlaw.py:1605: RuntimeWarning: invalid value encountered in true_divide\n",
      "  CDF = CDF/norm\n",
      "'nan' in fit cumulative distribution values.\n",
      "Likely underflow or overflow error: the optimal fit for this distribution gives values that are so extreme that we lack the numerical precision to calculate them.\n",
      "Calculating best minimal value for power law fit\n",
      "/home/daven/.local/lib/python3.6/site-packages/powerlaw.py:700: RuntimeWarning: invalid value encountered in true_divide\n",
      "  (Theoretical_CDF * (1 - Theoretical_CDF))\n"
     ]
    },
    {
     "name": "stdout",
     "output_type": "stream",
     "text": [
      "p_value: 1 item alpha: nan item xmin: nan\n",
      "p_value: 7.293293525721294e-13 item alpha: 6.51681474937051 item xmin: 0.3010299956639812\n",
      "p_value: 0.19104431621748552 item alpha: 10.859088502395123 item xmin: 0.6020599913279624\n",
      "p_value: 0.7165753528136443 item alpha: 6.869838725532118 item xmin: 1.0\n"
     ]
    },
    {
     "name": "stderr",
     "output_type": "stream",
     "text": [
      "Values less than or equal to 0 in data. Throwing out 0 or negative values\n",
      "Calculating best minimal value for power law fit\n",
      "/home/daven/.local/lib/python3.6/site-packages/powerlaw.py:700: RuntimeWarning: invalid value encountered in true_divide\n",
      "  (Theoretical_CDF * (1 - Theoretical_CDF))\n",
      "/home/daven/.local/lib/python3.6/site-packages/powerlaw.py:1605: RuntimeWarning: invalid value encountered in true_divide\n",
      "  CDF = CDF/norm\n",
      "'nan' in fit cumulative distribution values.\n",
      "Likely underflow or overflow error: the optimal fit for this distribution gives values that are so extreme that we lack the numerical precision to calculate them.\n",
      "Values less than or equal to 0 in data. Throwing out 0 or negative values\n",
      "Calculating best minimal value for power law fit\n",
      "/home/daven/.local/lib/python3.6/site-packages/powerlaw.py:700: RuntimeWarning: invalid value encountered in true_divide\n",
      "  (Theoretical_CDF * (1 - Theoretical_CDF))\n",
      "Calculating best minimal value for power law fit\n",
      "/home/daven/.local/lib/python3.6/site-packages/powerlaw.py:700: RuntimeWarning: invalid value encountered in true_divide\n",
      "  (Theoretical_CDF * (1 - Theoretical_CDF))\n"
     ]
    },
    {
     "name": "stdout",
     "output_type": "stream",
     "text": [
      "p_value: 0.24922022639958374 item alpha: 11.636247946292174 item xmin: 0.3010299956639812\n",
      "p_value: 0.994755182384006 item alpha: 16.00218535213693 item xmin: 0.9542425094393249\n",
      "p_value: 0.052470757228691316 item alpha: 16.288789365198003 item xmin: 0.7781512503836436\n",
      "p_value: 0.7564331985780843 item alpha: 3.928453070824072 item xmin: 0.7781512503836436\n"
     ]
    },
    {
     "name": "stderr",
     "output_type": "stream",
     "text": [
      "/home/daven/.local/lib/python3.6/site-packages/powerlaw.py:1605: RuntimeWarning: invalid value encountered in true_divide\n",
      "  CDF = CDF/norm\n",
      "'nan' in fit cumulative distribution values.\n",
      "Likely underflow or overflow error: the optimal fit for this distribution gives values that are so extreme that we lack the numerical precision to calculate them.\n",
      "Calculating best minimal value for power law fit\n",
      "/home/daven/.local/lib/python3.6/site-packages/powerlaw.py:700: RuntimeWarning: invalid value encountered in true_divide\n",
      "  (Theoretical_CDF * (1 - Theoretical_CDF))\n",
      "Values less than or equal to 0 in data. Throwing out 0 or negative values\n",
      "Calculating best minimal value for power law fit\n",
      "/home/daven/.local/lib/python3.6/site-packages/powerlaw.py:700: RuntimeWarning: invalid value encountered in true_divide\n",
      "  (Theoretical_CDF * (1 - Theoretical_CDF))\n",
      "/home/daven/.local/lib/python3.6/site-packages/powerlaw.py:1605: RuntimeWarning: invalid value encountered in true_divide\n",
      "  CDF = CDF/norm\n",
      "'nan' in fit cumulative distribution values.\n",
      "Likely underflow or overflow error: the optimal fit for this distribution gives values that are so extreme that we lack the numerical precision to calculate them.\n",
      "Values less than or equal to 0 in data. Throwing out 0 or negative values\n",
      "Calculating best minimal value for power law fit\n",
      "/home/daven/.local/lib/python3.6/site-packages/powerlaw.py:700: RuntimeWarning: invalid value encountered in true_divide\n",
      "  (Theoretical_CDF * (1 - Theoretical_CDF))\n",
      "Calculating best minimal value for power law fit\n",
      "/home/daven/.local/lib/python3.6/site-packages/powerlaw.py:700: RuntimeWarning: invalid value encountered in true_divide\n",
      "  (Theoretical_CDF * (1 - Theoretical_CDF))\n",
      "/home/daven/.local/lib/python3.6/site-packages/powerlaw.py:1605: RuntimeWarning: invalid value encountered in true_divide\n",
      "  CDF = CDF/norm\n",
      "'nan' in fit cumulative distribution values.\n",
      "Likely underflow or overflow error: the optimal fit for this distribution gives values that are so extreme that we lack the numerical precision to calculate them.\n",
      "Calculating best minimal value for power law fit\n",
      "/home/daven/.local/lib/python3.6/site-packages/powerlaw.py:700: RuntimeWarning: invalid value encountered in true_divide\n",
      "  (Theoretical_CDF * (1 - Theoretical_CDF))\n"
     ]
    },
    {
     "name": "stdout",
     "output_type": "stream",
     "text": [
      "p_value: 0.002567209152817711 item alpha: 15.334090790512418 item xmin: 0.6020599913279624\n",
      "p_value: 0.24172951802706877 item alpha: 5.187340211282304 item xmin: 0.8450980400142568\n",
      "p_value: 0.12951544392979128 item alpha: 7.29024775958306 item xmin: 0.6020599913279624\n",
      "p_value: 0.6058740044431801 item alpha: 5.364868263700682 item xmin: 1.2041199826559248\n"
     ]
    },
    {
     "name": "stderr",
     "output_type": "stream",
     "text": [
      "Values less than or equal to 0 in data. Throwing out 0 or negative values\n",
      "Calculating best minimal value for power law fit\n",
      "/home/daven/.local/lib/python3.6/site-packages/powerlaw.py:700: RuntimeWarning: invalid value encountered in true_divide\n",
      "  (Theoretical_CDF * (1 - Theoretical_CDF))\n",
      "/home/daven/.local/lib/python3.6/site-packages/powerlaw.py:1605: RuntimeWarning: invalid value encountered in true_divide\n",
      "  CDF = CDF/norm\n",
      "'nan' in fit cumulative distribution values.\n",
      "Likely underflow or overflow error: the optimal fit for this distribution gives values that are so extreme that we lack the numerical precision to calculate them.\n",
      "Values less than or equal to 0 in data. Throwing out 0 or negative values\n",
      "Calculating best minimal value for power law fit\n",
      "/home/daven/.local/lib/python3.6/site-packages/powerlaw.py:700: RuntimeWarning: invalid value encountered in true_divide\n",
      "  (Theoretical_CDF * (1 - Theoretical_CDF))\n",
      "Calculating best minimal value for power law fit\n",
      "/home/daven/.local/lib/python3.6/site-packages/powerlaw.py:700: RuntimeWarning: invalid value encountered in true_divide\n",
      "  (Theoretical_CDF * (1 - Theoretical_CDF))\n",
      "/home/daven/.local/lib/python3.6/site-packages/powerlaw.py:1605: RuntimeWarning: invalid value encountered in true_divide\n",
      "  CDF = CDF/norm\n",
      "'nan' in fit cumulative distribution values.\n",
      "Likely underflow or overflow error: the optimal fit for this distribution gives values that are so extreme that we lack the numerical precision to calculate them.\n",
      "Calculating best minimal value for power law fit\n",
      "/home/daven/.local/lib/python3.6/site-packages/powerlaw.py:700: RuntimeWarning: invalid value encountered in true_divide\n",
      "  (Theoretical_CDF * (1 - Theoretical_CDF))\n"
     ]
    },
    {
     "name": "stdout",
     "output_type": "stream",
     "text": [
      "p_value: 2.628581546990232e-73 item alpha: 12.116784153940282 item xmin: 0.6989700043360189\n",
      "p_value: 0.040775777110621664 item alpha: 3.0596884332359613 item xmin: 0.6020599913279624\n",
      "p_value: 0.0614224961990021 item alpha: 12.261803346515318 item xmin: 0.9030899869919435\n",
      "p_value: 0.7622443478599715 item alpha: 3.114749507635134 item xmin: 0.6020599913279624\n"
     ]
    },
    {
     "name": "stderr",
     "output_type": "stream",
     "text": [
      "Values less than or equal to 0 in data. Throwing out 0 or negative values\n",
      "Calculating best minimal value for power law fit\n",
      "/home/daven/.local/lib/python3.6/site-packages/powerlaw.py:700: RuntimeWarning: invalid value encountered in true_divide\n",
      "  (Theoretical_CDF * (1 - Theoretical_CDF))\n",
      "/home/daven/.local/lib/python3.6/site-packages/powerlaw.py:1605: RuntimeWarning: invalid value encountered in true_divide\n",
      "  CDF = CDF/norm\n",
      "'nan' in fit cumulative distribution values.\n",
      "Likely underflow or overflow error: the optimal fit for this distribution gives values that are so extreme that we lack the numerical precision to calculate them.\n",
      "Values less than or equal to 0 in data. Throwing out 0 or negative values\n",
      "Calculating best minimal value for power law fit\n",
      "/home/daven/.local/lib/python3.6/site-packages/powerlaw.py:700: RuntimeWarning: invalid value encountered in true_divide\n",
      "  (Theoretical_CDF * (1 - Theoretical_CDF))\n",
      "Calculating best minimal value for power law fit\n",
      "/home/daven/.local/lib/python3.6/site-packages/powerlaw.py:700: RuntimeWarning: invalid value encountered in true_divide\n",
      "  (Theoretical_CDF * (1 - Theoretical_CDF))\n",
      "/home/daven/.local/lib/python3.6/site-packages/powerlaw.py:1605: RuntimeWarning: invalid value encountered in true_divide\n",
      "  CDF = CDF/norm\n",
      "'nan' in fit cumulative distribution values.\n",
      "Likely underflow or overflow error: the optimal fit for this distribution gives values that are so extreme that we lack the numerical precision to calculate them.\n",
      "Calculating best minimal value for power law fit\n",
      "/home/daven/.local/lib/python3.6/site-packages/powerlaw.py:700: RuntimeWarning: invalid value encountered in true_divide\n",
      "  (Theoretical_CDF * (1 - Theoretical_CDF))\n"
     ]
    },
    {
     "name": "stdout",
     "output_type": "stream",
     "text": [
      "p_value: 0.02331624169576577 item alpha: 31.013115898553217 item xmin: 0.9030899869919435\n",
      "p_value: 0.07678740567814007 item alpha: 2.968650099552626 item xmin: 0.6020599913279624\n",
      "p_value: 0.06950102435850425 item alpha: 6.835193829973716 item xmin: 0.7781512503836436\n",
      "p_value: 0.7779914685680174 item alpha: 6.335143056543361 item xmin: 1.414973347970818\n"
     ]
    },
    {
     "name": "stderr",
     "output_type": "stream",
     "text": [
      "Values less than or equal to 0 in data. Throwing out 0 or negative values\n",
      "Calculating best minimal value for power law fit\n",
      "/home/daven/.local/lib/python3.6/site-packages/powerlaw.py:700: RuntimeWarning: invalid value encountered in true_divide\n",
      "  (Theoretical_CDF * (1 - Theoretical_CDF))\n",
      "Values less than or equal to 0 in data. Throwing out 0 or negative values\n",
      "Calculating best minimal value for power law fit\n",
      "/home/daven/.local/lib/python3.6/site-packages/powerlaw.py:700: RuntimeWarning: invalid value encountered in true_divide\n",
      "  (Theoretical_CDF * (1 - Theoretical_CDF))\n",
      "Calculating best minimal value for power law fit\n",
      "/home/daven/.local/lib/python3.6/site-packages/powerlaw.py:700: RuntimeWarning: invalid value encountered in true_divide\n",
      "  (Theoretical_CDF * (1 - Theoretical_CDF))\n",
      "/home/daven/.local/lib/python3.6/site-packages/powerlaw.py:1605: RuntimeWarning: invalid value encountered in true_divide\n",
      "  CDF = CDF/norm\n",
      "'nan' in fit cumulative distribution values.\n",
      "Likely underflow or overflow error: the optimal fit for this distribution gives values that are so extreme that we lack the numerical precision to calculate them.\n",
      "Calculating best minimal value for power law fit\n",
      "/home/daven/.local/lib/python3.6/site-packages/powerlaw.py:700: RuntimeWarning: invalid value encountered in true_divide\n",
      "  (Theoretical_CDF * (1 - Theoretical_CDF))\n"
     ]
    },
    {
     "name": "stdout",
     "output_type": "stream",
     "text": [
      "p_value: 0.7455633064781513 item alpha: 5.478695931180022 item xmin: 0.6020599913279624\n",
      "p_value: 0.03628522424433523 item alpha: 3.2757513333261747 item xmin: 0.7781512503836436\n",
      "p_value: 0.12587413098110942 item alpha: 23.149958662324035 item xmin: 1.0791812460476249\n",
      "p_value: 0.7477469897220319 item alpha: 2.9835208339582278 item xmin: 0.6020599913279624\n"
     ]
    },
    {
     "name": "stderr",
     "output_type": "stream",
     "text": [
      "Values less than or equal to 0 in data. Throwing out 0 or negative values\n",
      "Calculating best minimal value for power law fit\n",
      "/home/daven/.local/lib/python3.6/site-packages/powerlaw.py:700: RuntimeWarning: invalid value encountered in true_divide\n",
      "  (Theoretical_CDF * (1 - Theoretical_CDF))\n",
      "/home/daven/.local/lib/python3.6/site-packages/powerlaw.py:1605: RuntimeWarning: invalid value encountered in true_divide\n",
      "  CDF = CDF/norm\n",
      "'nan' in fit cumulative distribution values.\n",
      "Likely underflow or overflow error: the optimal fit for this distribution gives values that are so extreme that we lack the numerical precision to calculate them.\n",
      "Values less than or equal to 0 in data. Throwing out 0 or negative values\n",
      "Calculating best minimal value for power law fit\n",
      "/home/daven/.local/lib/python3.6/site-packages/powerlaw.py:700: RuntimeWarning: invalid value encountered in true_divide\n",
      "  (Theoretical_CDF * (1 - Theoretical_CDF))\n",
      "Calculating best minimal value for power law fit\n",
      "/home/daven/.local/lib/python3.6/site-packages/powerlaw.py:700: RuntimeWarning: invalid value encountered in true_divide\n",
      "  (Theoretical_CDF * (1 - Theoretical_CDF))\n",
      "Calculating best minimal value for power law fit\n",
      "/home/daven/.local/lib/python3.6/site-packages/powerlaw.py:700: RuntimeWarning: invalid value encountered in true_divide\n",
      "  (Theoretical_CDF * (1 - Theoretical_CDF))\n"
     ]
    },
    {
     "name": "stdout",
     "output_type": "stream",
     "text": [
      "p_value: 0.0013046925925438973 item alpha: 9.552530830701809 item xmin: 0.8450980400142568\n",
      "p_value: 0.022954545935606908 item alpha: 3.4852885872598467 item xmin: 0.9030899869919435\n",
      "p_value: 0.836914396381005 item alpha: 13.616115853683013 item xmin: 1.0791812460476249\n",
      "p_value: 0.42244332938347073 item alpha: 2.7170689620269 item xmin: 0.6020599913279624\n"
     ]
    },
    {
     "name": "stderr",
     "output_type": "stream",
     "text": [
      "Values less than or equal to 0 in data. Throwing out 0 or negative values\n",
      "Calculating best minimal value for power law fit\n",
      "/home/daven/.local/lib/python3.6/site-packages/powerlaw.py:700: RuntimeWarning: invalid value encountered in true_divide\n",
      "  (Theoretical_CDF * (1 - Theoretical_CDF))\n",
      "Values less than or equal to 0 in data. Throwing out 0 or negative values\n",
      "Calculating best minimal value for power law fit\n",
      "/home/daven/.local/lib/python3.6/site-packages/powerlaw.py:700: RuntimeWarning: invalid value encountered in true_divide\n",
      "  (Theoretical_CDF * (1 - Theoretical_CDF))\n",
      "Calculating best minimal value for power law fit\n",
      "/home/daven/.local/lib/python3.6/site-packages/powerlaw.py:700: RuntimeWarning: invalid value encountered in true_divide\n",
      "  (Theoretical_CDF * (1 - Theoretical_CDF))\n",
      "Calculating best minimal value for power law fit\n",
      "/home/daven/.local/lib/python3.6/site-packages/powerlaw.py:700: RuntimeWarning: invalid value encountered in true_divide\n",
      "  (Theoretical_CDF * (1 - Theoretical_CDF))\n"
     ]
    },
    {
     "name": "stdout",
     "output_type": "stream",
     "text": [
      "p_value: 0.6346083191313141 item alpha: 9.188859660929445 item xmin: 0.9030899869919435\n",
      "p_value: 0.028113673423384028 item alpha: 3.620452325943822 item xmin: 1.0\n",
      "p_value: 0.9847272787083153 item alpha: 13.841211867691175 item xmin: 1.2041199826559248\n",
      "p_value: 0.321629369042599 item alpha: 3.0204962728556235 item xmin: 0.7781512503836436\n"
     ]
    },
    {
     "name": "stderr",
     "output_type": "stream",
     "text": [
      "Values less than or equal to 0 in data. Throwing out 0 or negative values\n",
      "Calculating best minimal value for power law fit\n",
      "/home/daven/.local/lib/python3.6/site-packages/powerlaw.py:700: RuntimeWarning: invalid value encountered in true_divide\n",
      "  (Theoretical_CDF * (1 - Theoretical_CDF))\n",
      "Values less than or equal to 0 in data. Throwing out 0 or negative values\n",
      "Calculating best minimal value for power law fit\n",
      "/home/daven/.local/lib/python3.6/site-packages/powerlaw.py:700: RuntimeWarning: invalid value encountered in true_divide\n",
      "  (Theoretical_CDF * (1 - Theoretical_CDF))\n",
      "Calculating best minimal value for power law fit\n",
      "/home/daven/.local/lib/python3.6/site-packages/powerlaw.py:700: RuntimeWarning: invalid value encountered in true_divide\n",
      "  (Theoretical_CDF * (1 - Theoretical_CDF))\n",
      "Calculating best minimal value for power law fit\n",
      "/home/daven/.local/lib/python3.6/site-packages/powerlaw.py:700: RuntimeWarning: invalid value encountered in true_divide\n",
      "  (Theoretical_CDF * (1 - Theoretical_CDF))\n"
     ]
    },
    {
     "name": "stdout",
     "output_type": "stream",
     "text": [
      "p_value: 0.8813030476627564 item alpha: 10.545105294866115 item xmin: 1.0\n",
      "p_value: 0.03143508033040773 item alpha: 3.2708695574103004 item xmin: 0.9030899869919435\n",
      "p_value: 0.814800570990743 item alpha: 8.409059562314312 item xmin: 1.146128035678238\n",
      "p_value: 0.376985812291444 item alpha: 3.041398440015536 item xmin: 0.7781512503836436\n"
     ]
    },
    {
     "name": "stderr",
     "output_type": "stream",
     "text": [
      "Values less than or equal to 0 in data. Throwing out 0 or negative values\n",
      "Calculating best minimal value for power law fit\n",
      "/home/daven/.local/lib/python3.6/site-packages/powerlaw.py:700: RuntimeWarning: invalid value encountered in true_divide\n",
      "  (Theoretical_CDF * (1 - Theoretical_CDF))\n",
      "Values less than or equal to 0 in data. Throwing out 0 or negative values\n",
      "Calculating best minimal value for power law fit\n",
      "/home/daven/.local/lib/python3.6/site-packages/powerlaw.py:700: RuntimeWarning: invalid value encountered in true_divide\n",
      "  (Theoretical_CDF * (1 - Theoretical_CDF))\n",
      "Calculating best minimal value for power law fit\n",
      "/home/daven/.local/lib/python3.6/site-packages/powerlaw.py:700: RuntimeWarning: invalid value encountered in true_divide\n",
      "  (Theoretical_CDF * (1 - Theoretical_CDF))\n",
      "Calculating best minimal value for power law fit\n",
      "/home/daven/.local/lib/python3.6/site-packages/powerlaw.py:700: RuntimeWarning: invalid value encountered in true_divide\n",
      "  (Theoretical_CDF * (1 - Theoretical_CDF))\n"
     ]
    },
    {
     "name": "stdout",
     "output_type": "stream",
     "text": [
      "p_value: 0.6419361626145729 item alpha: 10.201161712938267 item xmin: 1.0791812460476249\n",
      "p_value: 0.010973648958225344 item alpha: 3.1416712153253568 item xmin: 0.9030899869919435\n",
      "p_value: 0.7784236253334733 item alpha: 5.802533711670303 item xmin: 0.9030899869919435\n",
      "p_value: 0.2155130474868061 item alpha: 2.889828290085255 item xmin: 0.7781512503836436\n"
     ]
    },
    {
     "name": "stderr",
     "output_type": "stream",
     "text": [
      "Values less than or equal to 0 in data. Throwing out 0 or negative values\n",
      "Calculating best minimal value for power law fit\n",
      "/home/daven/.local/lib/python3.6/site-packages/powerlaw.py:700: RuntimeWarning: invalid value encountered in true_divide\n",
      "  (Theoretical_CDF * (1 - Theoretical_CDF))\n",
      "Values less than or equal to 0 in data. Throwing out 0 or negative values\n",
      "Calculating best minimal value for power law fit\n",
      "/home/daven/.local/lib/python3.6/site-packages/powerlaw.py:700: RuntimeWarning: invalid value encountered in true_divide\n",
      "  (Theoretical_CDF * (1 - Theoretical_CDF))\n",
      "Calculating best minimal value for power law fit\n",
      "/home/daven/.local/lib/python3.6/site-packages/powerlaw.py:700: RuntimeWarning: invalid value encountered in true_divide\n",
      "  (Theoretical_CDF * (1 - Theoretical_CDF))\n",
      "Calculating best minimal value for power law fit\n",
      "/home/daven/.local/lib/python3.6/site-packages/powerlaw.py:700: RuntimeWarning: invalid value encountered in true_divide\n",
      "  (Theoretical_CDF * (1 - Theoretical_CDF))\n"
     ]
    },
    {
     "name": "stdout",
     "output_type": "stream",
     "text": [
      "p_value: 0.210232952939163 item alpha: 8.847292588464748 item xmin: 1.1139433523068367\n",
      "p_value: 0.007780484806528366 item alpha: 3.3715414874076868 item xmin: 1.041392685158225\n",
      "p_value: 0.7757367518979215 item alpha: 14.807879239879808 item xmin: 1.3010299956639813\n",
      "p_value: 0.40501821266525895 item alpha: 2.6958499635648443 item xmin: 0.6020599913279624\n"
     ]
    },
    {
     "name": "stderr",
     "output_type": "stream",
     "text": [
      "Values less than or equal to 0 in data. Throwing out 0 or negative values\n",
      "Calculating best minimal value for power law fit\n",
      "/home/daven/.local/lib/python3.6/site-packages/powerlaw.py:700: RuntimeWarning: invalid value encountered in true_divide\n",
      "  (Theoretical_CDF * (1 - Theoretical_CDF))\n",
      "Values less than or equal to 0 in data. Throwing out 0 or negative values\n",
      "Calculating best minimal value for power law fit\n",
      "/home/daven/.local/lib/python3.6/site-packages/powerlaw.py:700: RuntimeWarning: invalid value encountered in true_divide\n",
      "  (Theoretical_CDF * (1 - Theoretical_CDF))\n",
      "Calculating best minimal value for power law fit\n",
      "/home/daven/.local/lib/python3.6/site-packages/powerlaw.py:700: RuntimeWarning: invalid value encountered in true_divide\n",
      "  (Theoretical_CDF * (1 - Theoretical_CDF))\n",
      "Calculating best minimal value for power law fit\n",
      "/home/daven/.local/lib/python3.6/site-packages/powerlaw.py:700: RuntimeWarning: invalid value encountered in true_divide\n",
      "  (Theoretical_CDF * (1 - Theoretical_CDF))\n"
     ]
    },
    {
     "name": "stdout",
     "output_type": "stream",
     "text": [
      "p_value: 0.15346484513048644 item alpha: 8.59201336354915 item xmin: 1.146128035678238\n",
      "p_value: 0.6341008107987833 item alpha: 36.91168386063175 item xmin: 2.278753600952829\n",
      "p_value: 0.718396259154378 item alpha: 4.689434336834763 item xmin: 0.7781512503836436\n",
      "p_value: 0.24648284876796334 item alpha: 3.3374335147510608 item xmin: 1.0\n"
     ]
    },
    {
     "name": "stderr",
     "output_type": "stream",
     "text": [
      "Values less than or equal to 0 in data. Throwing out 0 or negative values\n",
      "Calculating best minimal value for power law fit\n",
      "/home/daven/.local/lib/python3.6/site-packages/powerlaw.py:700: RuntimeWarning: invalid value encountered in true_divide\n",
      "  (Theoretical_CDF * (1 - Theoretical_CDF))\n",
      "Values less than or equal to 0 in data. Throwing out 0 or negative values\n",
      "Calculating best minimal value for power law fit\n",
      "/home/daven/.local/lib/python3.6/site-packages/powerlaw.py:700: RuntimeWarning: invalid value encountered in true_divide\n",
      "  (Theoretical_CDF * (1 - Theoretical_CDF))\n",
      "Calculating best minimal value for power law fit\n",
      "/home/daven/.local/lib/python3.6/site-packages/powerlaw.py:700: RuntimeWarning: invalid value encountered in true_divide\n",
      "  (Theoretical_CDF * (1 - Theoretical_CDF))\n",
      "Calculating best minimal value for power law fit\n",
      "/home/daven/.local/lib/python3.6/site-packages/powerlaw.py:700: RuntimeWarning: invalid value encountered in true_divide\n",
      "  (Theoretical_CDF * (1 - Theoretical_CDF))\n"
     ]
    },
    {
     "name": "stdout",
     "output_type": "stream",
     "text": [
      "p_value: 0.07936906297648377 item alpha: 8.92175786863234 item xmin: 1.2304489213782739\n",
      "p_value: 0.5083369705387264 item alpha: 35.07387353439376 item xmin: 2.346352974450639\n",
      "p_value: 0.3744939241879004 item alpha: 4.8703307483853004 item xmin: 0.9030899869919435\n",
      "p_value: 0.40561024830955006 item alpha: 2.637790541844584 item xmin: 0.6020599913279624\n"
     ]
    },
    {
     "name": "stderr",
     "output_type": "stream",
     "text": [
      "Values less than or equal to 0 in data. Throwing out 0 or negative values\n",
      "Calculating best minimal value for power law fit\n",
      "/home/daven/.local/lib/python3.6/site-packages/powerlaw.py:700: RuntimeWarning: invalid value encountered in true_divide\n",
      "  (Theoretical_CDF * (1 - Theoretical_CDF))\n",
      "/home/daven/.local/lib/python3.6/site-packages/powerlaw.py:1605: RuntimeWarning: invalid value encountered in true_divide\n",
      "  CDF = CDF/norm\n",
      "'nan' in fit cumulative distribution values.\n",
      "Likely underflow or overflow error: the optimal fit for this distribution gives values that are so extreme that we lack the numerical precision to calculate them.\n",
      "Values less than or equal to 0 in data. Throwing out 0 or negative values\n",
      "Calculating best minimal value for power law fit\n",
      "/home/daven/.local/lib/python3.6/site-packages/powerlaw.py:700: RuntimeWarning: invalid value encountered in true_divide\n",
      "  (Theoretical_CDF * (1 - Theoretical_CDF))\n",
      "Calculating best minimal value for power law fit\n",
      "/home/daven/.local/lib/python3.6/site-packages/powerlaw.py:700: RuntimeWarning: invalid value encountered in true_divide\n",
      "  (Theoretical_CDF * (1 - Theoretical_CDF))\n",
      "Calculating best minimal value for power law fit\n",
      "/home/daven/.local/lib/python3.6/site-packages/powerlaw.py:700: RuntimeWarning: invalid value encountered in true_divide\n",
      "  (Theoretical_CDF * (1 - Theoretical_CDF))\n"
     ]
    },
    {
     "name": "stdout",
     "output_type": "stream",
     "text": [
      "p_value: 1.0770414613733938e-31 item alpha: 44.85879212731999 item xmin: 1.568201724066995\n",
      "p_value: 0.0027860542644521464 item alpha: 2.7275660550720415 item xmin: 0.7781512503836436\n",
      "p_value: 0.5454298158701902 item alpha: 4.208377976000868 item xmin: 0.7781512503836436\n",
      "p_value: 0.6406635867120066 item alpha: 2.7676470134044644 item xmin: 0.6020599913279624\n"
     ]
    },
    {
     "name": "stderr",
     "output_type": "stream",
     "text": [
      "Values less than or equal to 0 in data. Throwing out 0 or negative values\n",
      "Calculating best minimal value for power law fit\n",
      "/home/daven/.local/lib/python3.6/site-packages/powerlaw.py:700: RuntimeWarning: invalid value encountered in true_divide\n",
      "  (Theoretical_CDF * (1 - Theoretical_CDF))\n",
      "/home/daven/.local/lib/python3.6/site-packages/powerlaw.py:1605: RuntimeWarning: invalid value encountered in true_divide\n",
      "  CDF = CDF/norm\n",
      "'nan' in fit cumulative distribution values.\n",
      "Likely underflow or overflow error: the optimal fit for this distribution gives values that are so extreme that we lack the numerical precision to calculate them.\n",
      "Values less than or equal to 0 in data. Throwing out 0 or negative values\n",
      "Calculating best minimal value for power law fit\n",
      "/home/daven/.local/lib/python3.6/site-packages/powerlaw.py:700: RuntimeWarning: invalid value encountered in true_divide\n",
      "  (Theoretical_CDF * (1 - Theoretical_CDF))\n",
      "Calculating best minimal value for power law fit\n",
      "/home/daven/.local/lib/python3.6/site-packages/powerlaw.py:700: RuntimeWarning: invalid value encountered in true_divide\n",
      "  (Theoretical_CDF * (1 - Theoretical_CDF))\n",
      "Calculating best minimal value for power law fit\n",
      "/home/daven/.local/lib/python3.6/site-packages/powerlaw.py:700: RuntimeWarning: invalid value encountered in true_divide\n",
      "  (Theoretical_CDF * (1 - Theoretical_CDF))\n"
     ]
    },
    {
     "name": "stdout",
     "output_type": "stream",
     "text": [
      "p_value: 2.1867359919289757e-48 item alpha: 56.03540860680025 item xmin: 1.6232492903979006\n",
      "p_value: 0.00043105127206159114 item alpha: 2.532383974900572 item xmin: 0.6989700043360189\n",
      "p_value: 0.8576602069430102 item alpha: 4.526466372269038 item xmin: 0.7781512503836436\n",
      "p_value: 0.5171891273353152 item alpha: 3.827972686615328 item xmin: 1.146128035678238\n"
     ]
    },
    {
     "name": "stderr",
     "output_type": "stream",
     "text": [
      "Values less than or equal to 0 in data. Throwing out 0 or negative values\n",
      "Calculating best minimal value for power law fit\n",
      "/home/daven/.local/lib/python3.6/site-packages/powerlaw.py:700: RuntimeWarning: invalid value encountered in true_divide\n",
      "  (Theoretical_CDF * (1 - Theoretical_CDF))\n",
      "/home/daven/.local/lib/python3.6/site-packages/powerlaw.py:1605: RuntimeWarning: invalid value encountered in true_divide\n",
      "  CDF = CDF/norm\n",
      "'nan' in fit cumulative distribution values.\n",
      "Likely underflow or overflow error: the optimal fit for this distribution gives values that are so extreme that we lack the numerical precision to calculate them.\n",
      "Values less than or equal to 0 in data. Throwing out 0 or negative values\n",
      "Calculating best minimal value for power law fit\n",
      "/home/daven/.local/lib/python3.6/site-packages/powerlaw.py:700: RuntimeWarning: invalid value encountered in true_divide\n",
      "  (Theoretical_CDF * (1 - Theoretical_CDF))\n",
      "Calculating best minimal value for power law fit\n",
      "/home/daven/.local/lib/python3.6/site-packages/powerlaw.py:700: RuntimeWarning: invalid value encountered in true_divide\n",
      "  (Theoretical_CDF * (1 - Theoretical_CDF))\n",
      "Calculating best minimal value for power law fit\n",
      "/home/daven/.local/lib/python3.6/site-packages/powerlaw.py:700: RuntimeWarning: invalid value encountered in true_divide\n",
      "  (Theoretical_CDF * (1 - Theoretical_CDF))\n"
     ]
    },
    {
     "name": "stdout",
     "output_type": "stream",
     "text": [
      "p_value: 1.1527745424183287e-59 item alpha: 49.49413743325284 item xmin: 1.662757831681574\n",
      "p_value: 0.000772209932434108 item alpha: 2.5511988533005607 item xmin: 0.6989700043360189\n",
      "p_value: 0.9607857937679443 item alpha: 13.432855789635884 item xmin: 1.3424226808222062\n",
      "p_value: 0.5830453399871869 item alpha: 2.6795651648143197 item xmin: 0.6020599913279624\n"
     ]
    },
    {
     "name": "stderr",
     "output_type": "stream",
     "text": [
      "Values less than or equal to 0 in data. Throwing out 0 or negative values\n",
      "Calculating best minimal value for power law fit\n",
      "/home/daven/.local/lib/python3.6/site-packages/powerlaw.py:700: RuntimeWarning: invalid value encountered in true_divide\n",
      "  (Theoretical_CDF * (1 - Theoretical_CDF))\n",
      "Values less than or equal to 0 in data. Throwing out 0 or negative values\n",
      "Calculating best minimal value for power law fit\n",
      "/home/daven/.local/lib/python3.6/site-packages/powerlaw.py:700: RuntimeWarning: invalid value encountered in true_divide\n",
      "  (Theoretical_CDF * (1 - Theoretical_CDF))\n",
      "Calculating best minimal value for power law fit\n",
      "/home/daven/.local/lib/python3.6/site-packages/powerlaw.py:700: RuntimeWarning: invalid value encountered in true_divide\n",
      "  (Theoretical_CDF * (1 - Theoretical_CDF))\n",
      "Calculating best minimal value for power law fit\n",
      "/home/daven/.local/lib/python3.6/site-packages/powerlaw.py:700: RuntimeWarning: invalid value encountered in true_divide\n",
      "  (Theoretical_CDF * (1 - Theoretical_CDF))\n"
     ]
    },
    {
     "name": "stdout",
     "output_type": "stream",
     "text": [
      "p_value: 0.991737996438823 item alpha: 35.523476276785274 item xmin: 1.6901960800285136\n",
      "p_value: 0.006168650491959037 item alpha: 2.808458193016084 item xmin: 0.8450980400142568\n",
      "p_value: 0.5531083533778228 item alpha: 12.512641427665772 item xmin: 1.380211241711606\n",
      "p_value: 0.422541541753671 item alpha: 3.98573543059521 item xmin: 1.3010299956639813\n"
     ]
    },
    {
     "name": "stderr",
     "output_type": "stream",
     "text": [
      "Values less than or equal to 0 in data. Throwing out 0 or negative values\n",
      "Calculating best minimal value for power law fit\n",
      "/home/daven/.local/lib/python3.6/site-packages/powerlaw.py:700: RuntimeWarning: invalid value encountered in true_divide\n",
      "  (Theoretical_CDF * (1 - Theoretical_CDF))\n",
      "Values less than or equal to 0 in data. Throwing out 0 or negative values\n",
      "Calculating best minimal value for power law fit\n",
      "/home/daven/.local/lib/python3.6/site-packages/powerlaw.py:700: RuntimeWarning: invalid value encountered in true_divide\n",
      "  (Theoretical_CDF * (1 - Theoretical_CDF))\n",
      "Calculating best minimal value for power law fit\n",
      "/home/daven/.local/lib/python3.6/site-packages/powerlaw.py:700: RuntimeWarning: invalid value encountered in true_divide\n",
      "  (Theoretical_CDF * (1 - Theoretical_CDF))\n",
      "Calculating best minimal value for power law fit\n",
      "/home/daven/.local/lib/python3.6/site-packages/powerlaw.py:700: RuntimeWarning: invalid value encountered in true_divide\n",
      "  (Theoretical_CDF * (1 - Theoretical_CDF))\n"
     ]
    },
    {
     "name": "stdout",
     "output_type": "stream",
     "text": [
      "p_value: 0.8424203074280415 item alpha: 36.04893740380333 item xmin: 1.7403626894942439\n",
      "p_value: 0.006994303366307897 item alpha: 2.8133816087898316 item xmin: 0.8450980400142568\n",
      "p_value: 0.7255515191958651 item alpha: 10.434101685180618 item xmin: 1.3010299956639813\n",
      "p_value: 0.35948676473275265 item alpha: 2.5896161721631437 item xmin: 0.6020599913279624\n"
     ]
    },
    {
     "name": "stderr",
     "output_type": "stream",
     "text": [
      "Values less than or equal to 0 in data. Throwing out 0 or negative values\n",
      "Calculating best minimal value for power law fit\n",
      "/home/daven/.local/lib/python3.6/site-packages/powerlaw.py:700: RuntimeWarning: invalid value encountered in true_divide\n",
      "  (Theoretical_CDF * (1 - Theoretical_CDF))\n",
      "Values less than or equal to 0 in data. Throwing out 0 or negative values\n",
      "Calculating best minimal value for power law fit\n",
      "/home/daven/.local/lib/python3.6/site-packages/powerlaw.py:700: RuntimeWarning: invalid value encountered in true_divide\n",
      "  (Theoretical_CDF * (1 - Theoretical_CDF))\n",
      "Calculating best minimal value for power law fit\n",
      "/home/daven/.local/lib/python3.6/site-packages/powerlaw.py:700: RuntimeWarning: invalid value encountered in true_divide\n",
      "  (Theoretical_CDF * (1 - Theoretical_CDF))\n",
      "Calculating best minimal value for power law fit\n",
      "/home/daven/.local/lib/python3.6/site-packages/powerlaw.py:700: RuntimeWarning: invalid value encountered in true_divide\n",
      "  (Theoretical_CDF * (1 - Theoretical_CDF))\n"
     ]
    },
    {
     "name": "stdout",
     "output_type": "stream",
     "text": [
      "p_value: 0.6776753412737446 item alpha: 30.56781139421305 item xmin: 1.7558748556724915\n",
      "p_value: 0.0033239583330764194 item alpha: 2.771232419664731 item xmin: 0.8450980400142568\n",
      "p_value: 0.6867489272635299 item alpha: 9.533637067232581 item xmin: 1.3010299956639813\n",
      "p_value: 0.26105162724592135 item alpha: 2.5110983840819676 item xmin: 0.6020599913279624\n"
     ]
    },
    {
     "name": "stderr",
     "output_type": "stream",
     "text": [
      "Values less than or equal to 0 in data. Throwing out 0 or negative values\n",
      "Calculating best minimal value for power law fit\n",
      "/home/daven/.local/lib/python3.6/site-packages/powerlaw.py:700: RuntimeWarning: invalid value encountered in true_divide\n",
      "  (Theoretical_CDF * (1 - Theoretical_CDF))\n",
      "Values less than or equal to 0 in data. Throwing out 0 or negative values\n",
      "Calculating best minimal value for power law fit\n",
      "/home/daven/.local/lib/python3.6/site-packages/powerlaw.py:700: RuntimeWarning: invalid value encountered in true_divide\n",
      "  (Theoretical_CDF * (1 - Theoretical_CDF))\n",
      "Calculating best minimal value for power law fit\n",
      "/home/daven/.local/lib/python3.6/site-packages/powerlaw.py:700: RuntimeWarning: invalid value encountered in true_divide\n",
      "  (Theoretical_CDF * (1 - Theoretical_CDF))\n",
      "/home/daven/.local/lib/python3.6/site-packages/powerlaw.py:1605: RuntimeWarning: invalid value encountered in true_divide\n",
      "  CDF = CDF/norm\n",
      "'nan' in fit cumulative distribution values.\n",
      "Likely underflow or overflow error: the optimal fit for this distribution gives values that are so extreme that we lack the numerical precision to calculate them.\n",
      "Calculating best minimal value for power law fit\n",
      "/home/daven/.local/lib/python3.6/site-packages/powerlaw.py:700: RuntimeWarning: invalid value encountered in true_divide\n",
      "  (Theoretical_CDF * (1 - Theoretical_CDF))\n"
     ]
    },
    {
     "name": "stdout",
     "output_type": "stream",
     "text": [
      "p_value: 0.783392788981446 item alpha: 32.32443708047398 item xmin: 1.7853298350107671\n",
      "p_value: 0.0012190919180149827 item alpha: 2.6486783169102646 item xmin: 0.7781512503836436\n",
      "p_value: 4.3801882362923415e-18 item alpha: 25.712564422428894 item xmin: 1.5797835966168101\n",
      "p_value: 0.40656774622670366 item alpha: 3.867238984102155 item xmin: 1.3010299956639813\n"
     ]
    },
    {
     "name": "stderr",
     "output_type": "stream",
     "text": [
      "Values less than or equal to 0 in data. Throwing out 0 or negative values\n",
      "Calculating best minimal value for power law fit\n",
      "/home/daven/.local/lib/python3.6/site-packages/powerlaw.py:700: RuntimeWarning: invalid value encountered in true_divide\n",
      "  (Theoretical_CDF * (1 - Theoretical_CDF))\n",
      "/home/daven/.local/lib/python3.6/site-packages/powerlaw.py:1605: RuntimeWarning: invalid value encountered in true_divide\n",
      "  CDF = CDF/norm\n",
      "'nan' in fit cumulative distribution values.\n",
      "Likely underflow or overflow error: the optimal fit for this distribution gives values that are so extreme that we lack the numerical precision to calculate them.\n",
      "Values less than or equal to 0 in data. Throwing out 0 or negative values\n",
      "Calculating best minimal value for power law fit\n",
      "/home/daven/.local/lib/python3.6/site-packages/powerlaw.py:700: RuntimeWarning: invalid value encountered in true_divide\n",
      "  (Theoretical_CDF * (1 - Theoretical_CDF))\n",
      "Calculating best minimal value for power law fit\n",
      "/home/daven/.local/lib/python3.6/site-packages/powerlaw.py:700: RuntimeWarning: invalid value encountered in true_divide\n",
      "  (Theoretical_CDF * (1 - Theoretical_CDF))\n",
      "Calculating best minimal value for power law fit\n",
      "/home/daven/.local/lib/python3.6/site-packages/powerlaw.py:700: RuntimeWarning: invalid value encountered in true_divide\n",
      "  (Theoretical_CDF * (1 - Theoretical_CDF))\n"
     ]
    },
    {
     "name": "stdout",
     "output_type": "stream",
     "text": [
      "p_value: 1.0545064198142815e-117 item alpha: 39.2695515412667 item xmin: 1.8325089127062364\n",
      "p_value: 0.0005944451812051613 item alpha: 2.625332495013657 item xmin: 0.7781512503836436\n",
      "p_value: 0.5576082798769691 item alpha: 12.29538303260029 item xmin: 1.4471580313422192\n",
      "p_value: 0.44326221789644626 item alpha: 4.4752226580080645 item xmin: 1.505149978319906\n"
     ]
    },
    {
     "name": "stderr",
     "output_type": "stream",
     "text": [
      "Values less than or equal to 0 in data. Throwing out 0 or negative values\n",
      "Calculating best minimal value for power law fit\n",
      "/home/daven/.local/lib/python3.6/site-packages/powerlaw.py:700: RuntimeWarning: invalid value encountered in true_divide\n",
      "  (Theoretical_CDF * (1 - Theoretical_CDF))\n",
      "Values less than or equal to 0 in data. Throwing out 0 or negative values\n",
      "Calculating best minimal value for power law fit\n",
      "/home/daven/.local/lib/python3.6/site-packages/powerlaw.py:700: RuntimeWarning: invalid value encountered in true_divide\n",
      "  (Theoretical_CDF * (1 - Theoretical_CDF))\n",
      "Calculating best minimal value for power law fit\n",
      "/home/daven/.local/lib/python3.6/site-packages/powerlaw.py:700: RuntimeWarning: invalid value encountered in true_divide\n",
      "  (Theoretical_CDF * (1 - Theoretical_CDF))\n",
      "/home/daven/.local/lib/python3.6/site-packages/powerlaw.py:1605: RuntimeWarning: invalid value encountered in true_divide\n",
      "  CDF = CDF/norm\n",
      "'nan' in fit cumulative distribution values.\n",
      "Likely underflow or overflow error: the optimal fit for this distribution gives values that are so extreme that we lack the numerical precision to calculate them.\n",
      "Calculating best minimal value for power law fit\n",
      "/home/daven/.local/lib/python3.6/site-packages/powerlaw.py:700: RuntimeWarning: invalid value encountered in true_divide\n",
      "  (Theoretical_CDF * (1 - Theoretical_CDF))\n"
     ]
    },
    {
     "name": "stdout",
     "output_type": "stream",
     "text": [
      "p_value: 0.9322751302439677 item alpha: 37.848013519106026 item xmin: 1.863322860120456\n",
      "p_value: 0.00017873186290600217 item alpha: 2.5925740568757583 item xmin: 0.7781512503836436\n",
      "p_value: 2.860779735725403e-09 item alpha: 2.9351268655274443 item xmin: 0.3010299956639812\n",
      "p_value: 0.4735245252814736 item alpha: 2.8841401346064757 item xmin: 0.7781512503836436\n"
     ]
    },
    {
     "name": "stderr",
     "output_type": "stream",
     "text": [
      "Values less than or equal to 0 in data. Throwing out 0 or negative values\n",
      "Calculating best minimal value for power law fit\n",
      "/home/daven/.local/lib/python3.6/site-packages/powerlaw.py:700: RuntimeWarning: invalid value encountered in true_divide\n",
      "  (Theoretical_CDF * (1 - Theoretical_CDF))\n",
      "Values less than or equal to 0 in data. Throwing out 0 or negative values\n",
      "Calculating best minimal value for power law fit\n",
      "/home/daven/.local/lib/python3.6/site-packages/powerlaw.py:700: RuntimeWarning: invalid value encountered in true_divide\n",
      "  (Theoretical_CDF * (1 - Theoretical_CDF))\n",
      "Calculating best minimal value for power law fit\n",
      "/home/daven/.local/lib/python3.6/site-packages/powerlaw.py:700: RuntimeWarning: invalid value encountered in true_divide\n",
      "  (Theoretical_CDF * (1 - Theoretical_CDF))\n",
      "Calculating best minimal value for power law fit\n",
      "/home/daven/.local/lib/python3.6/site-packages/powerlaw.py:700: RuntimeWarning: invalid value encountered in true_divide\n",
      "  (Theoretical_CDF * (1 - Theoretical_CDF))\n"
     ]
    },
    {
     "name": "stdout",
     "output_type": "stream",
     "text": [
      "p_value: 0.9775554196499794 item alpha: 39.54809834368897 item xmin: 1.9138138523837167\n",
      "p_value: 0.00012569499687787873 item alpha: 2.67065062939814 item xmin: 0.8450980400142568\n",
      "p_value: 0.3318316661245412 item alpha: 9.54972873791551 item xmin: 1.414973347970818\n",
      "p_value: 0.29339669190670503 item alpha: 3.5322382862487465 item xmin: 1.2041199826559248\n"
     ]
    },
    {
     "name": "stderr",
     "output_type": "stream",
     "text": [
      "Values less than or equal to 0 in data. Throwing out 0 or negative values\n",
      "Calculating best minimal value for power law fit\n",
      "/home/daven/.local/lib/python3.6/site-packages/powerlaw.py:700: RuntimeWarning: invalid value encountered in true_divide\n",
      "  (Theoretical_CDF * (1 - Theoretical_CDF))\n",
      "/home/daven/.local/lib/python3.6/site-packages/powerlaw.py:1605: RuntimeWarning: invalid value encountered in true_divide\n",
      "  CDF = CDF/norm\n",
      "'nan' in fit cumulative distribution values.\n",
      "Likely underflow or overflow error: the optimal fit for this distribution gives values that are so extreme that we lack the numerical precision to calculate them.\n",
      "Values less than or equal to 0 in data. Throwing out 0 or negative values\n",
      "Calculating best minimal value for power law fit\n",
      "/home/daven/.local/lib/python3.6/site-packages/powerlaw.py:700: RuntimeWarning: invalid value encountered in true_divide\n",
      "  (Theoretical_CDF * (1 - Theoretical_CDF))\n",
      "Calculating best minimal value for power law fit\n",
      "/home/daven/.local/lib/python3.6/site-packages/powerlaw.py:700: RuntimeWarning: invalid value encountered in true_divide\n",
      "  (Theoretical_CDF * (1 - Theoretical_CDF))\n",
      "Calculating best minimal value for power law fit\n",
      "/home/daven/.local/lib/python3.6/site-packages/powerlaw.py:700: RuntimeWarning: invalid value encountered in true_divide\n",
      "  (Theoretical_CDF * (1 - Theoretical_CDF))\n"
     ]
    },
    {
     "name": "stdout",
     "output_type": "stream",
     "text": [
      "p_value: 0.0 item alpha: 42.85321657182289 item xmin: 1.9731278535996986\n",
      "p_value: 0.00016569475501759763 item alpha: 2.6685791041664206 item xmin: 0.8450980400142568\n",
      "p_value: 0.21922524106490748 item alpha: 4.179587845970055 item xmin: 0.9030899869919435\n",
      "p_value: 0.17726079127253425 item alpha: 3.1993475586235336 item xmin: 1.0791812460476249\n"
     ]
    },
    {
     "name": "stderr",
     "output_type": "stream",
     "text": [
      "Values less than or equal to 0 in data. Throwing out 0 or negative values\n",
      "Calculating best minimal value for power law fit\n",
      "/home/daven/.local/lib/python3.6/site-packages/powerlaw.py:700: RuntimeWarning: invalid value encountered in true_divide\n",
      "  (Theoretical_CDF * (1 - Theoretical_CDF))\n",
      "/home/daven/.local/lib/python3.6/site-packages/powerlaw.py:1605: RuntimeWarning: invalid value encountered in true_divide\n",
      "  CDF = CDF/norm\n",
      "'nan' in fit cumulative distribution values.\n",
      "Likely underflow or overflow error: the optimal fit for this distribution gives values that are so extreme that we lack the numerical precision to calculate them.\n",
      "Values less than or equal to 0 in data. Throwing out 0 or negative values\n",
      "Calculating best minimal value for power law fit\n",
      "/home/daven/.local/lib/python3.6/site-packages/powerlaw.py:700: RuntimeWarning: invalid value encountered in true_divide\n",
      "  (Theoretical_CDF * (1 - Theoretical_CDF))\n",
      "Calculating best minimal value for power law fit\n",
      "/home/daven/.local/lib/python3.6/site-packages/powerlaw.py:700: RuntimeWarning: invalid value encountered in true_divide\n",
      "  (Theoretical_CDF * (1 - Theoretical_CDF))\n",
      "Calculating best minimal value for power law fit\n",
      "/home/daven/.local/lib/python3.6/site-packages/powerlaw.py:700: RuntimeWarning: invalid value encountered in true_divide\n",
      "  (Theoretical_CDF * (1 - Theoretical_CDF))\n"
     ]
    },
    {
     "name": "stdout",
     "output_type": "stream",
     "text": [
      "p_value: 5.596914267069821e-06 item alpha: 42.00744463069976 item xmin: 2.0\n",
      "p_value: 6.237404428483609e-05 item alpha: 2.6591025756720605 item xmin: 0.8450980400142568\n",
      "p_value: 0.1831776523547498 item alpha: 3.6313770154655693 item xmin: 0.7781512503836436\n",
      "p_value: 0.21556739397342695 item alpha: 3.3614810493161174 item xmin: 1.146128035678238\n"
     ]
    },
    {
     "name": "stderr",
     "output_type": "stream",
     "text": [
      "Values less than or equal to 0 in data. Throwing out 0 or negative values\n",
      "Calculating best minimal value for power law fit\n",
      "/home/daven/.local/lib/python3.6/site-packages/powerlaw.py:700: RuntimeWarning: invalid value encountered in true_divide\n",
      "  (Theoretical_CDF * (1 - Theoretical_CDF))\n",
      "/home/daven/.local/lib/python3.6/site-packages/powerlaw.py:1605: RuntimeWarning: invalid value encountered in true_divide\n",
      "  CDF = CDF/norm\n",
      "'nan' in fit cumulative distribution values.\n",
      "Likely underflow or overflow error: the optimal fit for this distribution gives values that are so extreme that we lack the numerical precision to calculate them.\n",
      "Values less than or equal to 0 in data. Throwing out 0 or negative values\n",
      "Calculating best minimal value for power law fit\n",
      "/home/daven/.local/lib/python3.6/site-packages/powerlaw.py:700: RuntimeWarning: invalid value encountered in true_divide\n",
      "  (Theoretical_CDF * (1 - Theoretical_CDF))\n",
      "Calculating best minimal value for power law fit\n",
      "/home/daven/.local/lib/python3.6/site-packages/powerlaw.py:700: RuntimeWarning: invalid value encountered in true_divide\n",
      "  (Theoretical_CDF * (1 - Theoretical_CDF))\n"
     ]
    },
    {
     "name": "stdout",
     "output_type": "stream",
     "text": [
      "p_value: 0.8636418051187585 item alpha: 45.757366299222305 item xmin: 2.03342375548695\n",
      "p_value: 0.000524948820980058 item alpha: 2.774126044050494 item xmin: 0.9030899869919435\n",
      "p_value: 0.0068293057504060055 item alpha: 2.756578491394601 item xmin: 0.3010299956639812\n",
      "p_value: 0.4574986507584462 item alpha: 3.764005578829737 item xmin: 1.255272505103306\n"
     ]
    },
    {
     "name": "stderr",
     "output_type": "stream",
     "text": [
      "/home/daven/.local/lib/python3.6/site-packages/powerlaw.py:1605: RuntimeWarning: invalid value encountered in true_divide\n",
      "  CDF = CDF/norm\n",
      "'nan' in fit cumulative distribution values.\n",
      "Likely underflow or overflow error: the optimal fit for this distribution gives values that are so extreme that we lack the numerical precision to calculate them.\n",
      "Calculating best minimal value for power law fit\n",
      "/home/daven/.local/lib/python3.6/site-packages/powerlaw.py:700: RuntimeWarning: invalid value encountered in true_divide\n",
      "  (Theoretical_CDF * (1 - Theoretical_CDF))\n",
      "Values less than or equal to 0 in data. Throwing out 0 or negative values\n",
      "Calculating best minimal value for power law fit\n",
      "/home/daven/.local/lib/python3.6/site-packages/powerlaw.py:700: RuntimeWarning: invalid value encountered in true_divide\n",
      "  (Theoretical_CDF * (1 - Theoretical_CDF))\n",
      "/home/daven/.local/lib/python3.6/site-packages/powerlaw.py:1605: RuntimeWarning: invalid value encountered in true_divide\n",
      "  CDF = CDF/norm\n",
      "'nan' in fit cumulative distribution values.\n",
      "Likely underflow or overflow error: the optimal fit for this distribution gives values that are so extreme that we lack the numerical precision to calculate them.\n",
      "Values less than or equal to 0 in data. Throwing out 0 or negative values\n",
      "Calculating best minimal value for power law fit\n",
      "/home/daven/.local/lib/python3.6/site-packages/powerlaw.py:700: RuntimeWarning: invalid value encountered in true_divide\n",
      "  (Theoretical_CDF * (1 - Theoretical_CDF))\n",
      "Calculating best minimal value for power law fit\n",
      "/home/daven/.local/lib/python3.6/site-packages/powerlaw.py:700: RuntimeWarning: invalid value encountered in true_divide\n",
      "  (Theoretical_CDF * (1 - Theoretical_CDF))\n",
      "Calculating best minimal value for power law fit\n",
      "/home/daven/.local/lib/python3.6/site-packages/powerlaw.py:700: RuntimeWarning: invalid value encountered in true_divide\n",
      "  (Theoretical_CDF * (1 - Theoretical_CDF))\n"
     ]
    },
    {
     "name": "stdout",
     "output_type": "stream",
     "text": [
      "p_value: 0.02161920416093537 item alpha: 47.25363680768462 item xmin: 2.0569048513364727\n",
      "p_value: 0.00024635021626060046 item alpha: 2.751958793450419 item xmin: 0.9030899869919435\n",
      "p_value: 0.46867086793390156 item alpha: 13.213661269328176 item xmin: 1.505149978319906\n",
      "p_value: 0.3392500649659852 item alpha: 3.550801906568717 item xmin: 1.2041199826559248\n"
     ]
    },
    {
     "name": "stderr",
     "output_type": "stream",
     "text": [
      "Values less than or equal to 0 in data. Throwing out 0 or negative values\n",
      "Calculating best minimal value for power law fit\n",
      "/home/daven/.local/lib/python3.6/site-packages/powerlaw.py:700: RuntimeWarning: invalid value encountered in true_divide\n",
      "  (Theoretical_CDF * (1 - Theoretical_CDF))\n",
      "/home/daven/.local/lib/python3.6/site-packages/powerlaw.py:1605: RuntimeWarning: invalid value encountered in true_divide\n",
      "  CDF = CDF/norm\n",
      "'nan' in fit cumulative distribution values.\n",
      "Likely underflow or overflow error: the optimal fit for this distribution gives values that are so extreme that we lack the numerical precision to calculate them.\n",
      "Values less than or equal to 0 in data. Throwing out 0 or negative values\n",
      "Calculating best minimal value for power law fit\n",
      "/home/daven/.local/lib/python3.6/site-packages/powerlaw.py:700: RuntimeWarning: invalid value encountered in true_divide\n",
      "  (Theoretical_CDF * (1 - Theoretical_CDF))\n",
      "Calculating best minimal value for power law fit\n",
      "/home/daven/.local/lib/python3.6/site-packages/powerlaw.py:700: RuntimeWarning: invalid value encountered in true_divide\n",
      "  (Theoretical_CDF * (1 - Theoretical_CDF))\n",
      "Calculating best minimal value for power law fit\n",
      "/home/daven/.local/lib/python3.6/site-packages/powerlaw.py:700: RuntimeWarning: invalid value encountered in true_divide\n",
      "  (Theoretical_CDF * (1 - Theoretical_CDF))\n"
     ]
    },
    {
     "name": "stdout",
     "output_type": "stream",
     "text": [
      "p_value: 1.3113630988555105e-18 item alpha: 59.07472914902746 item xmin: 2.103803720955957\n",
      "p_value: 0.00016720979346121647 item alpha: 2.734309655892323 item xmin: 0.9030899869919435\n",
      "p_value: 0.18342918383905404 item alpha: 4.599385285390843 item xmin: 1.0\n",
      "p_value: 0.25161809713968497 item alpha: 2.5097581929857045 item xmin: 0.6020599913279624\n"
     ]
    },
    {
     "name": "stderr",
     "output_type": "stream",
     "text": [
      "Values less than or equal to 0 in data. Throwing out 0 or negative values\n",
      "Calculating best minimal value for power law fit\n",
      "/home/daven/.local/lib/python3.6/site-packages/powerlaw.py:700: RuntimeWarning: invalid value encountered in true_divide\n",
      "  (Theoretical_CDF * (1 - Theoretical_CDF))\n",
      "/home/daven/.local/lib/python3.6/site-packages/powerlaw.py:1605: RuntimeWarning: invalid value encountered in true_divide\n",
      "  CDF = CDF/norm\n",
      "'nan' in fit cumulative distribution values.\n",
      "Likely underflow or overflow error: the optimal fit for this distribution gives values that are so extreme that we lack the numerical precision to calculate them.\n",
      "Values less than or equal to 0 in data. Throwing out 0 or negative values\n",
      "Calculating best minimal value for power law fit\n",
      "/home/daven/.local/lib/python3.6/site-packages/powerlaw.py:700: RuntimeWarning: invalid value encountered in true_divide\n",
      "  (Theoretical_CDF * (1 - Theoretical_CDF))\n",
      "Calculating best minimal value for power law fit\n",
      "/home/daven/.local/lib/python3.6/site-packages/powerlaw.py:700: RuntimeWarning: invalid value encountered in true_divide\n",
      "  (Theoretical_CDF * (1 - Theoretical_CDF))\n",
      "Calculating best minimal value for power law fit\n",
      "/home/daven/.local/lib/python3.6/site-packages/powerlaw.py:700: RuntimeWarning: invalid value encountered in true_divide\n",
      "  (Theoretical_CDF * (1 - Theoretical_CDF))\n"
     ]
    },
    {
     "name": "stdout",
     "output_type": "stream",
     "text": [
      "p_value: 0.00015834870588670623 item alpha: 60.62749487538514 item xmin: 2.130333768495006\n",
      "p_value: 0.0008398225300703376 item alpha: 2.8243826713460973 item xmin: 0.9542425094393249\n",
      "p_value: 0.29622292609186085 item alpha: 3.7295874425602635 item xmin: 0.7781512503836436\n",
      "p_value: 0.39022816512811775 item alpha: 2.5250793112206744 item xmin: 0.6020599913279624\n"
     ]
    },
    {
     "name": "stderr",
     "output_type": "stream",
     "text": [
      "Values less than or equal to 0 in data. Throwing out 0 or negative values\n",
      "Calculating best minimal value for power law fit\n",
      "/home/daven/.local/lib/python3.6/site-packages/powerlaw.py:700: RuntimeWarning: invalid value encountered in true_divide\n",
      "  (Theoretical_CDF * (1 - Theoretical_CDF))\n",
      "/home/daven/.local/lib/python3.6/site-packages/powerlaw.py:1605: RuntimeWarning: invalid value encountered in true_divide\n",
      "  CDF = CDF/norm\n",
      "'nan' in fit cumulative distribution values.\n",
      "Likely underflow or overflow error: the optimal fit for this distribution gives values that are so extreme that we lack the numerical precision to calculate them.\n",
      "Values less than or equal to 0 in data. Throwing out 0 or negative values\n",
      "Calculating best minimal value for power law fit\n",
      "/home/daven/.local/lib/python3.6/site-packages/powerlaw.py:700: RuntimeWarning: invalid value encountered in true_divide\n",
      "  (Theoretical_CDF * (1 - Theoretical_CDF))\n",
      "Calculating best minimal value for power law fit\n",
      "/home/daven/.local/lib/python3.6/site-packages/powerlaw.py:700: RuntimeWarning: invalid value encountered in true_divide\n",
      "  (Theoretical_CDF * (1 - Theoretical_CDF))\n",
      "Calculating best minimal value for power law fit\n",
      "/home/daven/.local/lib/python3.6/site-packages/powerlaw.py:700: RuntimeWarning: invalid value encountered in true_divide\n",
      "  (Theoretical_CDF * (1 - Theoretical_CDF))\n"
     ]
    },
    {
     "name": "stdout",
     "output_type": "stream",
     "text": [
      "p_value: 4.1210790072235105e-39 item alpha: 65.13076386639541 item xmin: 2.164352855784437\n",
      "p_value: 0.00027387929482138707 item alpha: 2.7943398458621 item xmin: 0.9542425094393249\n",
      "p_value: 0.4953991419626552 item alpha: 9.53164692546062 item xmin: 1.414973347970818\n",
      "p_value: 0.27188675731827305 item alpha: 2.492266072977184 item xmin: 0.6020599913279624\n"
     ]
    },
    {
     "name": "stderr",
     "output_type": "stream",
     "text": [
      "Values less than or equal to 0 in data. Throwing out 0 or negative values\n",
      "Calculating best minimal value for power law fit\n",
      "/home/daven/.local/lib/python3.6/site-packages/powerlaw.py:700: RuntimeWarning: invalid value encountered in true_divide\n",
      "  (Theoretical_CDF * (1 - Theoretical_CDF))\n",
      "/home/daven/.local/lib/python3.6/site-packages/powerlaw.py:1605: RuntimeWarning: invalid value encountered in true_divide\n",
      "  CDF = CDF/norm\n",
      "'nan' in fit cumulative distribution values.\n",
      "Likely underflow or overflow error: the optimal fit for this distribution gives values that are so extreme that we lack the numerical precision to calculate them.\n",
      "Values less than or equal to 0 in data. Throwing out 0 or negative values\n",
      "Calculating best minimal value for power law fit\n",
      "/home/daven/.local/lib/python3.6/site-packages/powerlaw.py:700: RuntimeWarning: invalid value encountered in true_divide\n",
      "  (Theoretical_CDF * (1 - Theoretical_CDF))\n",
      "Calculating best minimal value for power law fit\n",
      "/home/daven/.local/lib/python3.6/site-packages/powerlaw.py:700: RuntimeWarning: invalid value encountered in true_divide\n",
      "  (Theoretical_CDF * (1 - Theoretical_CDF))\n"
     ]
    },
    {
     "name": "stdout",
     "output_type": "stream",
     "text": [
      "p_value: 0.0 item alpha: 50.05836599939063 item xmin: 2.167317334748176\n",
      "p_value: 0.0006871874732441056 item alpha: 2.8649889106128867 item xmin: 1.0\n",
      "p_value: 0.6184130634860201 item alpha: 10.14260552798266 item xmin: 1.4471580313422192\n",
      "p_value: 0.1791270556179203 item alpha: 3.291881969901466 item xmin: 1.146128035678238\n"
     ]
    },
    {
     "name": "stderr",
     "output_type": "stream",
     "text": [
      "Calculating best minimal value for power law fit\n",
      "/home/daven/.local/lib/python3.6/site-packages/powerlaw.py:700: RuntimeWarning: invalid value encountered in true_divide\n",
      "  (Theoretical_CDF * (1 - Theoretical_CDF))\n",
      "Values less than or equal to 0 in data. Throwing out 0 or negative values\n",
      "Calculating best minimal value for power law fit\n",
      "/home/daven/.local/lib/python3.6/site-packages/powerlaw.py:700: RuntimeWarning: invalid value encountered in true_divide\n",
      "  (Theoretical_CDF * (1 - Theoretical_CDF))\n",
      "/home/daven/.local/lib/python3.6/site-packages/powerlaw.py:1605: RuntimeWarning: invalid value encountered in true_divide\n",
      "  CDF = CDF/norm\n",
      "'nan' in fit cumulative distribution values.\n",
      "Likely underflow or overflow error: the optimal fit for this distribution gives values that are so extreme that we lack the numerical precision to calculate them.\n",
      "Values less than or equal to 0 in data. Throwing out 0 or negative values\n",
      "Calculating best minimal value for power law fit\n",
      "/home/daven/.local/lib/python3.6/site-packages/powerlaw.py:700: RuntimeWarning: invalid value encountered in true_divide\n",
      "  (Theoretical_CDF * (1 - Theoretical_CDF))\n",
      "Calculating best minimal value for power law fit\n",
      "/home/daven/.local/lib/python3.6/site-packages/powerlaw.py:700: RuntimeWarning: invalid value encountered in true_divide\n",
      "  (Theoretical_CDF * (1 - Theoretical_CDF))\n"
     ]
    },
    {
     "name": "stdout",
     "output_type": "stream",
     "text": [
      "p_value: 4.287510469883859e-65 item alpha: 57.531857733257084 item xmin: 2.1931245983544616\n",
      "p_value: 0.00025338398491187085 item alpha: 2.830131752404235 item xmin: 1.0\n",
      "p_value: 0.847693499273594 item alpha: 9.87355253055404 item xmin: 1.4471580313422192\n",
      "p_value: 0.17743327739249426 item alpha: 2.6748773191864634 item xmin: 0.7781512503836436\n"
     ]
    },
    {
     "name": "stderr",
     "output_type": "stream",
     "text": [
      "Calculating best minimal value for power law fit\n",
      "/home/daven/.local/lib/python3.6/site-packages/powerlaw.py:700: RuntimeWarning: invalid value encountered in true_divide\n",
      "  (Theoretical_CDF * (1 - Theoretical_CDF))\n",
      "Values less than or equal to 0 in data. Throwing out 0 or negative values\n",
      "Calculating best minimal value for power law fit\n",
      "/home/daven/.local/lib/python3.6/site-packages/powerlaw.py:700: RuntimeWarning: invalid value encountered in true_divide\n",
      "  (Theoretical_CDF * (1 - Theoretical_CDF))\n",
      "Values less than or equal to 0 in data. Throwing out 0 or negative values\n",
      "Calculating best minimal value for power law fit\n",
      "/home/daven/.local/lib/python3.6/site-packages/powerlaw.py:700: RuntimeWarning: invalid value encountered in true_divide\n",
      "  (Theoretical_CDF * (1 - Theoretical_CDF))\n",
      "Calculating best minimal value for power law fit\n",
      "/home/daven/.local/lib/python3.6/site-packages/powerlaw.py:700: RuntimeWarning: invalid value encountered in true_divide\n",
      "  (Theoretical_CDF * (1 - Theoretical_CDF))\n"
     ]
    },
    {
     "name": "stdout",
     "output_type": "stream",
     "text": [
      "p_value: 0.9908868767161533 item alpha: 49.12161826846016 item xmin: 2.2095150145426308\n",
      "p_value: 0.0008028402544707294 item alpha: 2.900240572655106 item xmin: 1.041392685158225\n",
      "p_value: 0.828574478778663 item alpha: 10.002940619333025 item xmin: 1.4771212547196624\n",
      "p_value: 0.37286373839804166 item alpha: 3.3653868983087993 item xmin: 1.146128035678238\n"
     ]
    },
    {
     "name": "stderr",
     "output_type": "stream",
     "text": [
      "Calculating best minimal value for power law fit\n",
      "/home/daven/.local/lib/python3.6/site-packages/powerlaw.py:700: RuntimeWarning: invalid value encountered in true_divide\n",
      "  (Theoretical_CDF * (1 - Theoretical_CDF))\n",
      "Values less than or equal to 0 in data. Throwing out 0 or negative values\n",
      "Calculating best minimal value for power law fit\n",
      "/home/daven/.local/lib/python3.6/site-packages/powerlaw.py:700: RuntimeWarning: invalid value encountered in true_divide\n",
      "  (Theoretical_CDF * (1 - Theoretical_CDF))\n",
      "Values less than or equal to 0 in data. Throwing out 0 or negative values\n",
      "Calculating best minimal value for power law fit\n",
      "/home/daven/.local/lib/python3.6/site-packages/powerlaw.py:700: RuntimeWarning: invalid value encountered in true_divide\n",
      "  (Theoretical_CDF * (1 - Theoretical_CDF))\n",
      "Calculating best minimal value for power law fit\n",
      "/home/daven/.local/lib/python3.6/site-packages/powerlaw.py:700: RuntimeWarning: invalid value encountered in true_divide\n",
      "  (Theoretical_CDF * (1 - Theoretical_CDF))\n",
      "Calculating best minimal value for power law fit\n",
      "/home/daven/.local/lib/python3.6/site-packages/powerlaw.py:700: RuntimeWarning: invalid value encountered in true_divide\n",
      "  (Theoretical_CDF * (1 - Theoretical_CDF))\n"
     ]
    },
    {
     "name": "stdout",
     "output_type": "stream",
     "text": [
      "p_value: 0.7624745231759873 item alpha: 41.378532555978275 item xmin: 2.214843848047698\n",
      "p_value: 0.000509182003183559 item alpha: 2.772820784543927 item xmin: 0.9542425094393249\n",
      "p_value: 0.4957060191791356 item alpha: 6.298078028560059 item xmin: 1.2041199826559248\n",
      "p_value: 0.3397227263322 item alpha: 2.4907837496366785 item xmin: 0.6020599913279624\n"
     ]
    },
    {
     "name": "stderr",
     "output_type": "stream",
     "text": [
      "Values less than or equal to 0 in data. Throwing out 0 or negative values\n",
      "Calculating best minimal value for power law fit\n",
      "/home/daven/.local/lib/python3.6/site-packages/powerlaw.py:700: RuntimeWarning: invalid value encountered in true_divide\n",
      "  (Theoretical_CDF * (1 - Theoretical_CDF))\n",
      "Values less than or equal to 0 in data. Throwing out 0 or negative values\n",
      "Calculating best minimal value for power law fit\n",
      "/home/daven/.local/lib/python3.6/site-packages/powerlaw.py:700: RuntimeWarning: invalid value encountered in true_divide\n",
      "  (Theoretical_CDF * (1 - Theoretical_CDF))\n",
      "Calculating best minimal value for power law fit\n",
      "/home/daven/.local/lib/python3.6/site-packages/powerlaw.py:700: RuntimeWarning: invalid value encountered in true_divide\n",
      "  (Theoretical_CDF * (1 - Theoretical_CDF))\n",
      "Calculating best minimal value for power law fit\n",
      "/home/daven/.local/lib/python3.6/site-packages/powerlaw.py:700: RuntimeWarning: invalid value encountered in true_divide\n",
      "  (Theoretical_CDF * (1 - Theoretical_CDF))\n"
     ]
    },
    {
     "name": "stdout",
     "output_type": "stream",
     "text": [
      "p_value: 0.7898341389023337 item alpha: 39.23292149405021 item xmin: 2.2095150145426308\n",
      "p_value: 0.00048792038494135557 item alpha: 2.7645704791027486 item xmin: 0.9542425094393249\n",
      "p_value: 0.7338836176163623 item alpha: 8.577869151835534 item xmin: 1.414973347970818\n",
      "p_value: 0.3436313934133901 item alpha: 3.200865627785645 item xmin: 1.0791812460476249\n"
     ]
    },
    {
     "name": "stderr",
     "output_type": "stream",
     "text": [
      "Values less than or equal to 0 in data. Throwing out 0 or negative values\n",
      "Calculating best minimal value for power law fit\n",
      "/home/daven/.local/lib/python3.6/site-packages/powerlaw.py:700: RuntimeWarning: invalid value encountered in true_divide\n",
      "  (Theoretical_CDF * (1 - Theoretical_CDF))\n",
      "Values less than or equal to 0 in data. Throwing out 0 or negative values\n",
      "Calculating best minimal value for power law fit\n",
      "/home/daven/.local/lib/python3.6/site-packages/powerlaw.py:700: RuntimeWarning: invalid value encountered in true_divide\n",
      "  (Theoretical_CDF * (1 - Theoretical_CDF))\n",
      "Calculating best minimal value for power law fit\n",
      "/home/daven/.local/lib/python3.6/site-packages/powerlaw.py:700: RuntimeWarning: invalid value encountered in true_divide\n",
      "  (Theoretical_CDF * (1 - Theoretical_CDF))\n",
      "Calculating best minimal value for power law fit\n",
      "/home/daven/.local/lib/python3.6/site-packages/powerlaw.py:700: RuntimeWarning: invalid value encountered in true_divide\n",
      "  (Theoretical_CDF * (1 - Theoretical_CDF))\n"
     ]
    },
    {
     "name": "stdout",
     "output_type": "stream",
     "text": [
      "p_value: 0.8755166207652842 item alpha: 41.79029233251623 item xmin: 2.2430380486862944\n",
      "p_value: 0.0002532180032730983 item alpha: 2.7974987334841135 item xmin: 1.0\n",
      "p_value: 0.47062960571269485 item alpha: 6.690347981701205 item xmin: 1.3010299956639813\n",
      "p_value: 0.21910773265743966 item alpha: 2.6963958165314272 item xmin: 0.7781512503836436\n"
     ]
    },
    {
     "name": "stderr",
     "output_type": "stream",
     "text": [
      "Values less than or equal to 0 in data. Throwing out 0 or negative values\n",
      "Calculating best minimal value for power law fit\n",
      "/home/daven/.local/lib/python3.6/site-packages/powerlaw.py:700: RuntimeWarning: invalid value encountered in true_divide\n",
      "  (Theoretical_CDF * (1 - Theoretical_CDF))\n",
      "Values less than or equal to 0 in data. Throwing out 0 or negative values\n",
      "Calculating best minimal value for power law fit\n",
      "/home/daven/.local/lib/python3.6/site-packages/powerlaw.py:700: RuntimeWarning: invalid value encountered in true_divide\n",
      "  (Theoretical_CDF * (1 - Theoretical_CDF))\n",
      "Calculating best minimal value for power law fit\n",
      "/home/daven/.local/lib/python3.6/site-packages/powerlaw.py:700: RuntimeWarning: invalid value encountered in true_divide\n",
      "  (Theoretical_CDF * (1 - Theoretical_CDF))\n",
      "Calculating best minimal value for power law fit\n",
      "/home/daven/.local/lib/python3.6/site-packages/powerlaw.py:700: RuntimeWarning: invalid value encountered in true_divide\n",
      "  (Theoretical_CDF * (1 - Theoretical_CDF))\n"
     ]
    },
    {
     "name": "stdout",
     "output_type": "stream",
     "text": [
      "p_value: 0.7686138485514706 item alpha: 42.20962733801118 item xmin: 2.2671717284030137\n",
      "p_value: 0.00025329038730418344 item alpha: 2.7451876010873804 item xmin: 0.9542425094393249\n",
      "p_value: 0.5886416705437885 item alpha: 8.529578566340593 item xmin: 1.4771212547196624\n",
      "p_value: 0.1687938570456583 item alpha: 2.9588482194426176 item xmin: 1.0\n"
     ]
    },
    {
     "name": "stderr",
     "output_type": "stream",
     "text": [
      "Values less than or equal to 0 in data. Throwing out 0 or negative values\n",
      "Calculating best minimal value for power law fit\n",
      "/home/daven/.local/lib/python3.6/site-packages/powerlaw.py:700: RuntimeWarning: invalid value encountered in true_divide\n",
      "  (Theoretical_CDF * (1 - Theoretical_CDF))\n",
      "Values less than or equal to 0 in data. Throwing out 0 or negative values\n",
      "Calculating best minimal value for power law fit\n",
      "/home/daven/.local/lib/python3.6/site-packages/powerlaw.py:700: RuntimeWarning: invalid value encountered in true_divide\n",
      "  (Theoretical_CDF * (1 - Theoretical_CDF))\n",
      "Calculating best minimal value for power law fit\n",
      "/home/daven/.local/lib/python3.6/site-packages/powerlaw.py:700: RuntimeWarning: invalid value encountered in true_divide\n",
      "  (Theoretical_CDF * (1 - Theoretical_CDF))\n",
      "Calculating best minimal value for power law fit\n",
      "/home/daven/.local/lib/python3.6/site-packages/powerlaw.py:700: RuntimeWarning: invalid value encountered in true_divide\n",
      "  (Theoretical_CDF * (1 - Theoretical_CDF))\n"
     ]
    },
    {
     "name": "stdout",
     "output_type": "stream",
     "text": [
      "p_value: 0.9640301588514051 item alpha: 54.77941990767633 item xmin: 2.3242824552976926\n",
      "p_value: 0.00056384056405084 item alpha: 2.8139021605000325 item xmin: 1.0\n",
      "p_value: 0.7116469723095398 item alpha: 7.920122188885994 item xmin: 1.380211241711606\n",
      "p_value: 0.15295436034920507 item alpha: 3.0820368665085387 item xmin: 1.0791812460476249\n"
     ]
    },
    {
     "name": "stderr",
     "output_type": "stream",
     "text": [
      "Values less than or equal to 0 in data. Throwing out 0 or negative values\n",
      "Calculating best minimal value for power law fit\n",
      "/home/daven/.local/lib/python3.6/site-packages/powerlaw.py:700: RuntimeWarning: invalid value encountered in true_divide\n",
      "  (Theoretical_CDF * (1 - Theoretical_CDF))\n",
      "Values less than or equal to 0 in data. Throwing out 0 or negative values\n",
      "Calculating best minimal value for power law fit\n",
      "/home/daven/.local/lib/python3.6/site-packages/powerlaw.py:700: RuntimeWarning: invalid value encountered in true_divide\n",
      "  (Theoretical_CDF * (1 - Theoretical_CDF))\n",
      "Calculating best minimal value for power law fit\n",
      "/home/daven/.local/lib/python3.6/site-packages/powerlaw.py:700: RuntimeWarning: invalid value encountered in true_divide\n",
      "  (Theoretical_CDF * (1 - Theoretical_CDF))\n",
      "Calculating best minimal value for power law fit\n",
      "/home/daven/.local/lib/python3.6/site-packages/powerlaw.py:700: RuntimeWarning: invalid value encountered in true_divide\n",
      "  (Theoretical_CDF * (1 - Theoretical_CDF))\n"
     ]
    },
    {
     "name": "stdout",
     "output_type": "stream",
     "text": [
      "p_value: 0.8386139672955913 item alpha: 57.411617886657666 item xmin: 2.346352974450639\n",
      "p_value: 0.00022894214846483628 item alpha: 2.794282370698638 item xmin: 1.0\n",
      "p_value: 0.4056285396808883 item alpha: 7.1381932450430465 item xmin: 1.3424226808222062\n",
      "p_value: 0.3259598515738251 item alpha: 3.3332353308995852 item xmin: 1.146128035678238\n"
     ]
    },
    {
     "name": "stderr",
     "output_type": "stream",
     "text": [
      "Values less than or equal to 0 in data. Throwing out 0 or negative values\n",
      "Calculating best minimal value for power law fit\n",
      "/home/daven/.local/lib/python3.6/site-packages/powerlaw.py:700: RuntimeWarning: invalid value encountered in true_divide\n",
      "  (Theoretical_CDF * (1 - Theoretical_CDF))\n",
      "/home/daven/.local/lib/python3.6/site-packages/powerlaw.py:1605: RuntimeWarning: invalid value encountered in true_divide\n",
      "  CDF = CDF/norm\n",
      "'nan' in fit cumulative distribution values.\n",
      "Likely underflow or overflow error: the optimal fit for this distribution gives values that are so extreme that we lack the numerical precision to calculate them.\n",
      "Values less than or equal to 0 in data. Throwing out 0 or negative values\n",
      "Calculating best minimal value for power law fit\n",
      "/home/daven/.local/lib/python3.6/site-packages/powerlaw.py:700: RuntimeWarning: invalid value encountered in true_divide\n",
      "  (Theoretical_CDF * (1 - Theoretical_CDF))\n",
      "Calculating best minimal value for power law fit\n",
      "/home/daven/.local/lib/python3.6/site-packages/powerlaw.py:700: RuntimeWarning: invalid value encountered in true_divide\n",
      "  (Theoretical_CDF * (1 - Theoretical_CDF))\n",
      "Calculating best minimal value for power law fit\n",
      "/home/daven/.local/lib/python3.6/site-packages/powerlaw.py:700: RuntimeWarning: invalid value encountered in true_divide\n",
      "  (Theoretical_CDF * (1 - Theoretical_CDF))\n"
     ]
    },
    {
     "name": "stdout",
     "output_type": "stream",
     "text": [
      "p_value: 1.3840674496977532e-47 item alpha: 86.05094059036942 item xmin: 2.399673721481038\n",
      "p_value: 0.0002000314966087566 item alpha: 2.7884643621444045 item xmin: 1.0\n",
      "p_value: 0.49839622076136225 item alpha: 7.271131153163751 item xmin: 1.380211241711606\n",
      "p_value: 0.26014293054363635 item alpha: 3.3582898807039565 item xmin: 1.2041199826559248\n"
     ]
    },
    {
     "name": "stderr",
     "output_type": "stream",
     "text": [
      "Values less than or equal to 0 in data. Throwing out 0 or negative values\n",
      "Calculating best minimal value for power law fit\n",
      "/home/daven/.local/lib/python3.6/site-packages/powerlaw.py:700: RuntimeWarning: invalid value encountered in true_divide\n",
      "  (Theoretical_CDF * (1 - Theoretical_CDF))\n",
      "/home/daven/.local/lib/python3.6/site-packages/powerlaw.py:1605: RuntimeWarning: invalid value encountered in true_divide\n",
      "  CDF = CDF/norm\n",
      "'nan' in fit cumulative distribution values.\n",
      "Likely underflow or overflow error: the optimal fit for this distribution gives values that are so extreme that we lack the numerical precision to calculate them.\n",
      "Values less than or equal to 0 in data. Throwing out 0 or negative values\n",
      "Calculating best minimal value for power law fit\n",
      "/home/daven/.local/lib/python3.6/site-packages/powerlaw.py:700: RuntimeWarning: invalid value encountered in true_divide\n",
      "  (Theoretical_CDF * (1 - Theoretical_CDF))\n",
      "Calculating best minimal value for power law fit\n",
      "/home/daven/.local/lib/python3.6/site-packages/powerlaw.py:700: RuntimeWarning: invalid value encountered in true_divide\n",
      "  (Theoretical_CDF * (1 - Theoretical_CDF))\n"
     ]
    },
    {
     "name": "stdout",
     "output_type": "stream",
     "text": [
      "p_value: 5.776293009633466e-06 item alpha: 81.69353476554542 item xmin: 2.4082399653118496\n",
      "p_value: 8.768545561715097e-05 item alpha: 2.7657487429914283 item xmin: 1.0\n",
      "p_value: 0.413497051816069 item alpha: 5.866921966266993 item xmin: 1.255272505103306\n",
      "p_value: 0.21272503521111497 item alpha: 3.315101557035598 item xmin: 1.2041199826559248\n"
     ]
    },
    {
     "name": "stderr",
     "output_type": "stream",
     "text": [
      "Calculating best minimal value for power law fit\n",
      "/home/daven/.local/lib/python3.6/site-packages/powerlaw.py:700: RuntimeWarning: invalid value encountered in true_divide\n",
      "  (Theoretical_CDF * (1 - Theoretical_CDF))\n",
      "Values less than or equal to 0 in data. Throwing out 0 or negative values\n",
      "Calculating best minimal value for power law fit\n",
      "/home/daven/.local/lib/python3.6/site-packages/powerlaw.py:700: RuntimeWarning: invalid value encountered in true_divide\n",
      "  (Theoretical_CDF * (1 - Theoretical_CDF))\n",
      "/home/daven/.local/lib/python3.6/site-packages/powerlaw.py:1605: RuntimeWarning: invalid value encountered in true_divide\n",
      "  CDF = CDF/norm\n",
      "'nan' in fit cumulative distribution values.\n",
      "Likely underflow or overflow error: the optimal fit for this distribution gives values that are so extreme that we lack the numerical precision to calculate them.\n",
      "Values less than or equal to 0 in data. Throwing out 0 or negative values\n",
      "Calculating best minimal value for power law fit\n",
      "/home/daven/.local/lib/python3.6/site-packages/powerlaw.py:700: RuntimeWarning: invalid value encountered in true_divide\n",
      "  (Theoretical_CDF * (1 - Theoretical_CDF))\n",
      "Calculating best minimal value for power law fit\n",
      "/home/daven/.local/lib/python3.6/site-packages/powerlaw.py:700: RuntimeWarning: invalid value encountered in true_divide\n",
      "  (Theoretical_CDF * (1 - Theoretical_CDF))\n"
     ]
    },
    {
     "name": "stdout",
     "output_type": "stream",
     "text": [
      "p_value: 1.1923250054995503e-54 item alpha: 98.83099729654552 item xmin: 2.432969290874406\n",
      "p_value: 0.0001882538834991969 item alpha: 2.669275053637562 item xmin: 0.9030899869919435\n",
      "p_value: 0.22686958691300907 item alpha: 5.569985635117327 item xmin: 1.255272505103306\n",
      "p_value: 0.15981328929675875 item alpha: 3.153303914383435 item xmin: 1.146128035678238\n"
     ]
    },
    {
     "name": "stderr",
     "output_type": "stream",
     "text": [
      "Calculating best minimal value for power law fit\n",
      "/home/daven/.local/lib/python3.6/site-packages/powerlaw.py:700: RuntimeWarning: invalid value encountered in true_divide\n",
      "  (Theoretical_CDF * (1 - Theoretical_CDF))\n",
      "Values less than or equal to 0 in data. Throwing out 0 or negative values\n",
      "Calculating best minimal value for power law fit\n",
      "/home/daven/.local/lib/python3.6/site-packages/powerlaw.py:700: RuntimeWarning: invalid value encountered in true_divide\n",
      "  (Theoretical_CDF * (1 - Theoretical_CDF))\n",
      "Values less than or equal to 0 in data. Throwing out 0 or negative values\n",
      "Calculating best minimal value for power law fit\n",
      "/home/daven/.local/lib/python3.6/site-packages/powerlaw.py:700: RuntimeWarning: invalid value encountered in true_divide\n",
      "  (Theoretical_CDF * (1 - Theoretical_CDF))\n"
     ]
    },
    {
     "name": "stdout",
     "output_type": "stream",
     "text": [
      "p_value: 0.913759084229994 item alpha: 95.61130488821242 item xmin: 2.450249108319361\n",
      "p_value: 0.0001101795217616788 item alpha: 2.716067805611054 item xmin: 0.9542425094393249\n",
      "p_value: 0.32178355169760686 item alpha: 5.183037534340522 item xmin: 1.146128035678238\n",
      "p_value: 0.4188687040765585 item alpha: 3.525540219996724 item xmin: 1.255272505103306\n"
     ]
    },
    {
     "name": "stderr",
     "output_type": "stream",
     "text": [
      "Calculating best minimal value for power law fit\n",
      "/home/daven/.local/lib/python3.6/site-packages/powerlaw.py:700: RuntimeWarning: invalid value encountered in true_divide\n",
      "  (Theoretical_CDF * (1 - Theoretical_CDF))\n",
      "Calculating best minimal value for power law fit\n",
      "/home/daven/.local/lib/python3.6/site-packages/powerlaw.py:700: RuntimeWarning: invalid value encountered in true_divide\n",
      "  (Theoretical_CDF * (1 - Theoretical_CDF))\n",
      "Values less than or equal to 0 in data. Throwing out 0 or negative values\n",
      "Calculating best minimal value for power law fit\n",
      "/home/daven/.local/lib/python3.6/site-packages/powerlaw.py:700: RuntimeWarning: invalid value encountered in true_divide\n",
      "  (Theoretical_CDF * (1 - Theoretical_CDF))\n",
      "Values less than or equal to 0 in data. Throwing out 0 or negative values\n",
      "Calculating best minimal value for power law fit\n",
      "/home/daven/.local/lib/python3.6/site-packages/powerlaw.py:700: RuntimeWarning: invalid value encountered in true_divide\n",
      "  (Theoretical_CDF * (1 - Theoretical_CDF))\n"
     ]
    },
    {
     "name": "stdout",
     "output_type": "stream",
     "text": [
      "p_value: 0.9855275202912588 item alpha: 91.91063147094299 item xmin: 2.4638929889859074\n",
      "p_value: 5.525605703500421e-05 item alpha: 2.70219603130172 item xmin: 0.9542425094393249\n",
      "p_value: 0.4168541411142508 item alpha: 8.227047425722997 item xmin: 1.5314789170422551\n",
      "p_value: 0.19347288802519802 item alpha: 3.188637417790136 item xmin: 1.146128035678238\n"
     ]
    },
    {
     "name": "stderr",
     "output_type": "stream",
     "text": [
      "Calculating best minimal value for power law fit\n",
      "/home/daven/.local/lib/python3.6/site-packages/powerlaw.py:700: RuntimeWarning: invalid value encountered in true_divide\n",
      "  (Theoretical_CDF * (1 - Theoretical_CDF))\n",
      "Calculating best minimal value for power law fit\n",
      "/home/daven/.local/lib/python3.6/site-packages/powerlaw.py:700: RuntimeWarning: invalid value encountered in true_divide\n",
      "  (Theoretical_CDF * (1 - Theoretical_CDF))\n",
      "Values less than or equal to 0 in data. Throwing out 0 or negative values\n",
      "Calculating best minimal value for power law fit\n",
      "/home/daven/.local/lib/python3.6/site-packages/powerlaw.py:700: RuntimeWarning: invalid value encountered in true_divide\n",
      "  (Theoretical_CDF * (1 - Theoretical_CDF))\n",
      "Values less than or equal to 0 in data. Throwing out 0 or negative values\n",
      "Calculating best minimal value for power law fit\n",
      "/home/daven/.local/lib/python3.6/site-packages/powerlaw.py:700: RuntimeWarning: invalid value encountered in true_divide\n",
      "  (Theoretical_CDF * (1 - Theoretical_CDF))\n",
      "Calculating best minimal value for power law fit\n",
      "/home/daven/.local/lib/python3.6/site-packages/powerlaw.py:700: RuntimeWarning: invalid value encountered in true_divide\n",
      "  (Theoretical_CDF * (1 - Theoretical_CDF))\n",
      "Calculating best minimal value for power law fit\n",
      "/home/daven/.local/lib/python3.6/site-packages/powerlaw.py:700: RuntimeWarning: invalid value encountered in true_divide\n",
      "  (Theoretical_CDF * (1 - Theoretical_CDF))\n"
     ]
    },
    {
     "name": "stdout",
     "output_type": "stream",
     "text": [
      "p_value: 0.8573151250254998 item alpha: 87.0268235758905 item xmin: 2.4771212547196626\n",
      "p_value: 0.0003623183286164205 item alpha: 2.787527130355066 item xmin: 1.0\n",
      "p_value: 0.6609034462848453 item alpha: 8.903349936449938 item xmin: 1.5314789170422551\n",
      "p_value: 0.43001918277285633 item alpha: 2.5478596398458935 item xmin: 0.6020599913279624\n"
     ]
    },
    {
     "name": "stderr",
     "output_type": "stream",
     "text": [
      "Values less than or equal to 0 in data. Throwing out 0 or negative values\n",
      "Calculating best minimal value for power law fit\n",
      "/home/daven/.local/lib/python3.6/site-packages/powerlaw.py:700: RuntimeWarning: invalid value encountered in true_divide\n",
      "  (Theoretical_CDF * (1 - Theoretical_CDF))\n",
      "Values less than or equal to 0 in data. Throwing out 0 or negative values\n",
      "Calculating best minimal value for power law fit\n",
      "/home/daven/.local/lib/python3.6/site-packages/powerlaw.py:700: RuntimeWarning: invalid value encountered in true_divide\n",
      "  (Theoretical_CDF * (1 - Theoretical_CDF))\n",
      "Calculating best minimal value for power law fit\n",
      "/home/daven/.local/lib/python3.6/site-packages/powerlaw.py:700: RuntimeWarning: invalid value encountered in true_divide\n",
      "  (Theoretical_CDF * (1 - Theoretical_CDF))\n",
      "Calculating best minimal value for power law fit\n",
      "/home/daven/.local/lib/python3.6/site-packages/powerlaw.py:700: RuntimeWarning: invalid value encountered in true_divide\n",
      "  (Theoretical_CDF * (1 - Theoretical_CDF))\n"
     ]
    },
    {
     "name": "stdout",
     "output_type": "stream",
     "text": [
      "p_value: 0.00010681643763103833 item alpha: 2.418520140360953 item xmin: 0.47712125471966244\n",
      "p_value: 0.0008588775798648921 item alpha: 2.810064169664189 item xmin: 1.0\n",
      "p_value: 0.34263992557211054 item alpha: 7.691053681049016 item xmin: 1.5314789170422551\n",
      "p_value: 0.17894012494652356 item alpha: 3.2695810497248803 item xmin: 1.2041199826559248\n"
     ]
    },
    {
     "name": "stderr",
     "output_type": "stream",
     "text": [
      "Values less than or equal to 0 in data. Throwing out 0 or negative values\n",
      "Calculating best minimal value for power law fit\n",
      "/home/daven/.local/lib/python3.6/site-packages/powerlaw.py:700: RuntimeWarning: invalid value encountered in true_divide\n",
      "  (Theoretical_CDF * (1 - Theoretical_CDF))\n",
      "Values less than or equal to 0 in data. Throwing out 0 or negative values\n",
      "Calculating best minimal value for power law fit\n",
      "/home/daven/.local/lib/python3.6/site-packages/powerlaw.py:700: RuntimeWarning: invalid value encountered in true_divide\n",
      "  (Theoretical_CDF * (1 - Theoretical_CDF))\n",
      "Calculating best minimal value for power law fit\n",
      "/home/daven/.local/lib/python3.6/site-packages/powerlaw.py:700: RuntimeWarning: invalid value encountered in true_divide\n",
      "  (Theoretical_CDF * (1 - Theoretical_CDF))\n",
      "Calculating best minimal value for power law fit\n",
      "/home/daven/.local/lib/python3.6/site-packages/powerlaw.py:700: RuntimeWarning: invalid value encountered in true_divide\n",
      "  (Theoretical_CDF * (1 - Theoretical_CDF))\n"
     ]
    },
    {
     "name": "stdout",
     "output_type": "stream",
     "text": [
      "p_value: 7.093287572799052e-05 item alpha: 2.415392808398062 item xmin: 0.47712125471966244\n",
      "p_value: 0.0003321778152973827 item alpha: 2.786655910198834 item xmin: 1.0\n",
      "p_value: 0.45936839882694813 item alpha: 7.334358456579949 item xmin: 1.4771212547196624\n",
      "p_value: 0.21581185082443055 item alpha: 3.264140439660757 item xmin: 1.2041199826559248\n"
     ]
    },
    {
     "name": "stderr",
     "output_type": "stream",
     "text": [
      "Values less than or equal to 0 in data. Throwing out 0 or negative values\n",
      "Calculating best minimal value for power law fit\n",
      "/home/daven/.local/lib/python3.6/site-packages/powerlaw.py:700: RuntimeWarning: invalid value encountered in true_divide\n",
      "  (Theoretical_CDF * (1 - Theoretical_CDF))\n",
      "Values less than or equal to 0 in data. Throwing out 0 or negative values\n",
      "Calculating best minimal value for power law fit\n",
      "/home/daven/.local/lib/python3.6/site-packages/powerlaw.py:700: RuntimeWarning: invalid value encountered in true_divide\n",
      "  (Theoretical_CDF * (1 - Theoretical_CDF))\n",
      "Calculating best minimal value for power law fit\n",
      "/home/daven/.local/lib/python3.6/site-packages/powerlaw.py:700: RuntimeWarning: invalid value encountered in true_divide\n",
      "  (Theoretical_CDF * (1 - Theoretical_CDF))\n",
      "Calculating best minimal value for power law fit\n",
      "/home/daven/.local/lib/python3.6/site-packages/powerlaw.py:700: RuntimeWarning: invalid value encountered in true_divide\n",
      "  (Theoretical_CDF * (1 - Theoretical_CDF))\n"
     ]
    },
    {
     "name": "stdout",
     "output_type": "stream",
     "text": [
      "p_value: 2.5963041722837965e-05 item alpha: 2.3996959925586396 item xmin: 0.47712125471966244\n",
      "p_value: 0.00024660533339348264 item alpha: 2.7810734470119387 item xmin: 1.0\n",
      "p_value: 0.6416818182890993 item alpha: 8.580938503194732 item xmin: 1.5563025007672873\n",
      "p_value: 0.2165467043230852 item alpha: 3.351653986029473 item xmin: 1.255272505103306\n"
     ]
    },
    {
     "name": "stderr",
     "output_type": "stream",
     "text": [
      "Values less than or equal to 0 in data. Throwing out 0 or negative values\n",
      "Calculating best minimal value for power law fit\n",
      "/home/daven/.local/lib/python3.6/site-packages/powerlaw.py:700: RuntimeWarning: invalid value encountered in true_divide\n",
      "  (Theoretical_CDF * (1 - Theoretical_CDF))\n",
      "Values less than or equal to 0 in data. Throwing out 0 or negative values\n",
      "Calculating best minimal value for power law fit\n",
      "/home/daven/.local/lib/python3.6/site-packages/powerlaw.py:700: RuntimeWarning: invalid value encountered in true_divide\n",
      "  (Theoretical_CDF * (1 - Theoretical_CDF))\n",
      "Calculating best minimal value for power law fit\n",
      "/home/daven/.local/lib/python3.6/site-packages/powerlaw.py:700: RuntimeWarning: invalid value encountered in true_divide\n",
      "  (Theoretical_CDF * (1 - Theoretical_CDF))\n",
      "Calculating best minimal value for power law fit\n",
      "/home/daven/.local/lib/python3.6/site-packages/powerlaw.py:700: RuntimeWarning: invalid value encountered in true_divide\n",
      "  (Theoretical_CDF * (1 - Theoretical_CDF))\n"
     ]
    },
    {
     "name": "stdout",
     "output_type": "stream",
     "text": [
      "p_value: 2.2686087382467523e-05 item alpha: 2.394761077481649 item xmin: 0.47712125471966244\n",
      "p_value: 8.388724017490135e-05 item alpha: 2.758758382848419 item xmin: 1.0\n",
      "p_value: 0.4834713722858809 item alpha: 8.717940814955877 item xmin: 1.6020599913279625\n",
      "p_value: 0.4757067749075463 item alpha: 2.5517692565616166 item xmin: 0.6020599913279624\n",
      "USER C: 1.7320359187579637\n",
      "USER theoritical alpha upper bounds: 0.5464071837515927\n",
      "USER theoritical alpha lower bounds: 6.732035918757964\n",
      "p_value: 4.028463718148148e-07 item alpha: 3.3941782834264473 item xmin: 1.0791812460476249\n",
      "ITEM C: 2.1567228137386776\n",
      "ITEM theoritical alpha upper bounds: 0.6313445627477355\n",
      "ITEM theoritical alpha lower bounds: 7.156722813738678\n",
      "p_value: 4.028463718148148e-07 item alpha: 3.3941782834264473 item xmin: 1.0791812460476249\n",
      "p_value: 0.0001180164236965663 item alpha: 2.805844954885875 item xmin: 1.041392685158225\n",
      "p_value:"
     ]
    },
    {
     "name": "stderr",
     "output_type": "stream",
     "text": [
      "Values less than or equal to 0 in data. Throwing out 0 or negative values\n",
      "Calculating best minimal value for power law fit\n",
      "/home/daven/.local/lib/python3.6/site-packages/powerlaw.py:700: RuntimeWarning: invalid value encountered in true_divide\n",
      "  (Theoretical_CDF * (1 - Theoretical_CDF))\n",
      "Values less than or equal to 0 in data. Throwing out 0 or negative values\n",
      "Calculating best minimal value for power law fit\n",
      "/home/daven/.local/lib/python3.6/site-packages/powerlaw.py:700: RuntimeWarning: invalid value encountered in true_divide\n",
      "  (Theoretical_CDF * (1 - Theoretical_CDF))\n",
      "Values less than or equal to 0 in data. Throwing out 0 or negative values\n",
      "Calculating best minimal value for power law fit\n",
      "/home/daven/.local/lib/python3.6/site-packages/powerlaw.py:700: RuntimeWarning: invalid value encountered in true_divide\n",
      "  (Theoretical_CDF * (1 - Theoretical_CDF))\n",
      "Calculating best minimal value for power law fit\n",
      "/home/daven/.local/lib/python3.6/site-packages/powerlaw.py:700: RuntimeWarning: invalid value encountered in true_divide\n",
      "  (Theoretical_CDF * (1 - Theoretical_CDF))\n"
     ]
    },
    {
     "name": "stdout",
     "output_type": "stream",
     "text": [
      " 0.37315915539473155 item alpha: 6.900772688425219 item xmin: 1.4471580313422192\n",
      "p_value: 0.17120181749871155 item alpha: 3.2012949078100292 item xmin: 1.2041199826559248\n",
      "USER d_phi: [0.37153470847992204, 0.46297201470868393, 0.5110484956894344, 0.6941171536319842, 0.6955136392696523, 0.7017085696547134, 0.7981771716797809, 0.8120307693590276, 0.8693630452971696, 0.8396936501062111, 0.8489997503592894, 0.8715620884556116, 0.9025541934386938, 0.9180526967743847, 0.9232634532235992, 0.9290531043786119, 0.9533579885238074, 0.9687978582958893, 0.9524901273505914, 0.9668223173797045, 0.9767612613512859, 0.9564438707826433, 0.9713643272664401, 0.9856308069863045, 1.0055356834097968, 0.9870577987328281, 1.003734977792394, 1.0003336500252187, 0.9967226925211309, 1.0031866062506836, 1.0332769875787027, 1.037826339513659, 1.020095904381882, 1.0398583672616988, 1.02927469040324, 1.034443699519133, 1.04957017270448, 1.0513380729442772, 1.0445522030229282, 1.057905618044268, 1.0549514969966123, 1.0434131550496275, 1.0727278004876282, 1.0499074575123202, 1.0625268994066417, 1.0570852009402598, 1.0763768184945055, 1.0490812456268455, 1.0749456057864164, 1.083813279479007]\n",
      "ITEM d_phi: [1.9175365501349495, 2.231524851688263, 2.492999632588606, 2.553476847312349, 2.5048852225674465, 2.600414590173621, 2.644831844448842, 2.5556627108927716, 2.557987012683342, 2.6171505511560795, 2.7195517013240518, 2.7103661243644384, 2.7377259353600425, 2.6891373772869565, 2.7365440722701724, 2.785589972139326, 2.793623243618623, 2.7493421148531674, 2.7822537933850087, 2.781073128425907, 2.7679753501988222, 2.747959996005901, 2.858497176081595, 2.8050017803562746, 2.7862972184160215, 2.808883992771317, 2.75154438441544, 2.749042916307251, 2.769173842271487, 2.7631482118136668, 2.8058286260073793, 2.8109823104351515, 2.7877290339278114, 2.8287967934409544, 2.823272723097144, 2.7632412491744693, 2.792520142668278, 2.770573008242064, 2.7459815084340735, 2.8167727454674094, 2.8252059633772557, 2.8055158217382035, 2.816471712278146, 2.846439197217303, 2.8378688512197163, 2.8387657135239297, 2.8461772849295874, 2.8786480636000715, 2.791263264729326, 2.8645178697416935]\n"
     ]
    },
    {
     "name": "stderr",
     "output_type": "stream",
     "text": [
      "Calculating best minimal value for power law fit\n",
      "/home/daven/.local/lib/python3.6/site-packages/powerlaw.py:700: RuntimeWarning: invalid value encountered in true_divide\n",
      "  (Theoretical_CDF * (1 - Theoretical_CDF))\n"
     ]
    },
    {
     "data": {
      "image/png": "[encoded data removed]",
      "text/plain": [
       "<Figure size 432x288 with 1 Axes>"
      ]
     },
     "metadata": {
      "needs_background": "light"
     },
     "output_type": "display_data"
    },
    {
     "ename": "AttributeError",
     "evalue": "module 'matplotlib.pyplot' has no attribute 'showw'",
     "output_type": "error",
     "traceback": [
      "\u001b[0;31m---------------------------------------------------------------------------\u001b[0m",
      "\u001b[0;31mAttributeError\u001b[0m                            Traceback (most recent call last)",
      "\u001b[0;32m<ipython-input-25-68fc34c81b28>\u001b[0m in \u001b[0;36m<module>\u001b[0;34m\u001b[0m\n\u001b[1;32m      1\u001b[0m \u001b[0;32mif\u001b[0m \u001b[0m__name__\u001b[0m\u001b[0;34m==\u001b[0m\u001b[0;34m\"__main__\"\u001b[0m\u001b[0;34m:\u001b[0m\u001b[0;34m\u001b[0m\u001b[0;34m\u001b[0m\u001b[0m\n\u001b[0;32m----> 2\u001b[0;31m     \u001b[0mmain\u001b[0m\u001b[0;34m(\u001b[0m\u001b[0;34m)\u001b[0m\u001b[0;34m\u001b[0m\u001b[0;34m\u001b[0m\u001b[0m\n\u001b[0m",
      "\u001b[0;32m<ipython-input-24-24b2cfa1f934>\u001b[0m in \u001b[0;36mmain\u001b[0;34m()\u001b[0m\n\u001b[1;32m    404\u001b[0m     \u001b[0mplt\u001b[0m\u001b[0;34m.\u001b[0m\u001b[0mylabel\u001b[0m\u001b[0;34m(\u001b[0m\u001b[0;34mr'$\\alpha $'\u001b[0m\u001b[0;34m)\u001b[0m\u001b[0;34m\u001b[0m\u001b[0;34m\u001b[0m\u001b[0m\n\u001b[1;32m    405\u001b[0m     \u001b[0mplt\u001b[0m\u001b[0;34m.\u001b[0m\u001b[0msavefig\u001b[0m\u001b[0;34m(\u001b[0m\u001b[0;34mr'item Weight evolving graph.png'\u001b[0m\u001b[0;34m)\u001b[0m\u001b[0;34m\u001b[0m\u001b[0;34m\u001b[0m\u001b[0m\n\u001b[0;32m--> 406\u001b[0;31m     \u001b[0mplt\u001b[0m\u001b[0;34m.\u001b[0m\u001b[0mshoww\u001b[0m\u001b[0;34m(\u001b[0m\u001b[0;34m)\u001b[0m\u001b[0;34m\u001b[0m\u001b[0;34m\u001b[0m\u001b[0m\n\u001b[0m",
      "\u001b[0;31mAttributeError\u001b[0m: module 'matplotlib.pyplot' has no attribute 'showw'"
     ]
    },
    {
     "data": {
      "image/png": "[encoded data removed]",
      "text/plain": [
       "<Figure size 432x288 with 1 Axes>"
      ]
     },
     "metadata": {
      "needs_background": "light"
     },
     "output_type": "display_data"
    }
   ],
   "source": [
    "if __name__==\"__main__\":\n",
    "    main()"
   ]
  },
  {
   "cell_type": "code",
   "execution_count": null,
   "metadata": {},
   "outputs": [],
   "source": []
  }
 ],
 "metadata": {
  "kernelspec": {
   "display_name": "Python 3",
   "language": "python",
   "name": "python3"
  },
  "language_info": {
   "codemirror_mode": {
    "name": "ipython",
    "version": 3
   },
   "file_extension": ".py",
   "mimetype": "text/x-python",
   "name": "python",
   "nbconvert_exporter": "python",
   "pygments_lexer": "ipython3",
   "version": "3.6.8"
  },
  "latex_envs": {
   "LaTeX_envs_menu_present": true,
   "autoclose": false,
   "autocomplete": true,
   "bibliofile": "biblio.bib",
   "cite_by": "apalike",
   "current_citInitial": 1,
   "eqLabelWithNumbers": true,
   "eqNumInitial": 1,
   "hotkeys": {
    "equation": "Ctrl-E",
    "itemize": "Ctrl-I"
   },
   "labels_anchors": false,
   "latex_user_defs": false,
   "report_style_numbering": false,
   "user_envs_cfg": false
  },
  "toc": {
   "base_numbering": 1,
   "nav_menu": {},
   "number_sections": true,
   "sideBar": true,
   "skip_h1_title": false,
   "title_cell": "Table of Contents",
   "title_sidebar": "Contents",
   "toc_cell": false,
   "toc_position": {},
   "toc_section_display": true,
   "toc_window_display": false
  }
 },
 "nbformat": 4,
 "nbformat_minor": 2
}
