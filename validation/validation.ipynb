{
 "cells": [
  {
   "cell_type": "code",
   "execution_count": 1,
   "metadata": {},
   "outputs": [],
   "source": [
    "import numpy as np\n",
    "import matplotlib.pyplot as plt\n",
    "from pprint import pprint\n",
    "import math\n",
    "import sys\n",
    "import time\n",
    "import os\n",
    "import powerlaw"
   ]
  },
  {
   "cell_type": "code",
   "execution_count": 4,
   "metadata": {},
   "outputs": [],
   "source": [
    "def progressbar(cur,total):  \n",
    "    percent = '{:.2%}'.format(cur / total)  \n",
    "    sys.stdout.write('\\r')  \n",
    "    sys.stdout.write('[%-50s] %s' % ( '=' * int(math.floor(cur * 50 /total)),percent))"
   ]
  },
  {
   "cell_type": "markdown",
   "metadata": {},
   "source": [
    "# Class of RS Dataset\n",
    "> 其中包括Amazon系列的推荐系统数据集，以及Book、Audio和Corssing数据集\n",
    "\n",
    " - 使用的数据集可以是：\n",
    "     - amazonbook.csv\n",
    "     - amazoncd.csv\n",
    "     - amazonelectronic.csv\n",
    "     - amazonmovie.csv\n",
    "     - bookcorsing.csv\n",
    "     - audioscrobbler.csv\n",
    "\n",
    "> 同时学术数据集也可以使用\n",
    "\n",
    " - 可以使用的是：\n",
    "     - algorithm.csv\n",
    "     - artificialintelligence.csv\n",
    "     - programminglanguage.csv"
   ]
  },
  {
   "cell_type": "code",
   "execution_count": 40,
   "metadata": {},
   "outputs": [],
   "source": [
    "class dataset_rs:\n",
    "    '''\n",
    "    通过读取rs数据集，计算item和user的分布\n",
    "    '''\n",
    "    def __init__(self, filename): \n",
    "        # open file\n",
    "        file = open('../data/' + filename + '.csv', 'r', encoding='utf8')\n",
    "        \n",
    "        # initialize the data and prepare for the numpy array\n",
    "        degree_item = [0]*10000000\n",
    "        weight_item = [0]*10000000\n",
    "        degree_user = [0]*10000000\n",
    "        weight_user = [0]*10000000\n",
    "        cnt = 0\n",
    "        \n",
    "        # count lines\n",
    "        result = os.popen('wc -l ../data/' + filename + '.csv')\n",
    "        total_line = int(result.read().split(' ')[0])\n",
    "        print(\"total line:\", total_line)\n",
    "        \n",
    "        # start\n",
    "        print(\"Start reading from \" + filename)\n",
    "        # read the file\n",
    "        for line in file:\n",
    "            cnt = cnt + 1\n",
    "            # progressbar(cnt, total_line)\n",
    "            if cnt == 1:\n",
    "                continue\n",
    "            if cnt % 1000000 == 0:\n",
    "                print(cnt)\n",
    "            line = line.strip().split(',')\n",
    "            \n",
    "            '''\n",
    "            user: 在amazon数据集中表示的是user，在学术网络中表示的是author\n",
    "            item: 在amazon数据集中表示的是item(例如book)，在学术网络中表示的是field\n",
    "            '''\n",
    "            user = hash(line[0])%10000000\n",
    "            item = hash(line[1])%10000000\n",
    "            try:\n",
    "                rate = float(int(line[2]))\n",
    "            except:\n",
    "                try:\n",
    "                    rate = float(line[2])\n",
    "                except:\n",
    "                    print(line)\n",
    "            # item degree and vertex weight distribution\n",
    "            degree_item[item] = degree_item[item] + 1\n",
    "            weight_item[item] = weight_item[item] + rate\n",
    "            # user degree and vertex weight distribution\n",
    "            degree_user[user] = degree_user[user] + 1\n",
    "            weight_user[user] = weight_user[user] + rate\n",
    "        # 统计item相关的分布数列\n",
    "        deg_item = np.array(degree_item)\n",
    "        wei_item = np.array(weight_item)\n",
    "        # 统计item相关的分布数列\n",
    "        deg_user = np.array(degree_user)\n",
    "        wei_user = np.array(weight_user)\n",
    "        # 计算度数\n",
    "        bins_item = np.bincount(deg_item)\n",
    "        binw_item = np.bincount(wei_item.astype('int'))\n",
    "        # 计算度数\n",
    "        bins_user = np.bincount(deg_user)\n",
    "        binw_user = np.bincount(wei_user.astype('int'))\n",
    "        print(\"finish init recommendation system dataset\")\n",
    "        \n",
    "        # 初始化user完成\n",
    "        self.degseq_user = bins_user\n",
    "        self.weiseq_user = binw_user\n",
    "        self.xind_user = np.arange(bins_user.shape[0])\n",
    "        # 初始化item完成\n",
    "        self.degseq_item = bins_item\n",
    "        self.weiseq_item = binw_item\n",
    "        self.xind_item = np.arange(bins_item.shape[0])\n",
    "    \n",
    "    def get_distribution(self, target=\"user\"):\n",
    "        if target == \"item\":\n",
    "            return self.degseq_item, self.weiseq_item, self.xind_item\n",
    "        else:\n",
    "            return self.degseq_user, self.weiseq_user, self.xind_user"
   ]
  },
  {
   "cell_type": "markdown",
   "metadata": {},
   "source": [
    "# RS Dataset Class Usage Sample\n",
    "\n",
    " - amazonbook\n",
    " - amazoncd\n",
    " - amazonelectronic\n",
    " - amazonmovie\n",
    " - bookcorssing\n",
    " - audioscrobbler\n",
    " - algorithm\n",
    " - artificialintelligence\n",
    " - programminglanguage"
   ]
  },
  {
   "cell_type": "code",
   "execution_count": 59,
   "metadata": {},
   "outputs": [
    {
     "name": "stdout",
     "output_type": "stream",
     "text": [
      "total line: 3895052\n",
      "Start reading from algorithm\n",
      "1000000\n",
      "2000000\n",
      "3000000\n",
      "finish init recommendation system dataset\n"
     ]
    }
   ],
   "source": [
    "d = dataset_rs(\"algorithm\")"
   ]
  },
  {
   "cell_type": "code",
   "execution_count": 60,
   "metadata": {},
   "outputs": [],
   "source": [
    "degseq, weiseq, xind = d.get_distribution(\"item\")"
   ]
  },
  {
   "cell_type": "markdown",
   "metadata": {},
   "source": [
    "# Plot item"
   ]
  },
  {
   "cell_type": "code",
   "execution_count": 61,
   "metadata": {},
   "outputs": [
    {
     "name": "stdout",
     "output_type": "stream",
     "text": [
      "257274 460294 257274\n"
     ]
    }
   ],
   "source": [
    "print(len(degseq), len(weiseq), len(xind))"
   ]
  },
  {
   "cell_type": "code",
   "execution_count": 62,
   "metadata": {},
   "outputs": [
    {
     "name": "stderr",
     "output_type": "stream",
     "text": [
      "Values less than or equal to 0 in data. Throwing out 0 or negative values\n",
      "Calculating best minimal value for power law fit\n",
      "/home/acemap/.local/lib/python3.6/site-packages/ipykernel_launcher.py:6: RuntimeWarning: divide by zero encountered in log\n",
      "  \n",
      "Values less than or equal to 0 in data. Throwing out 0 or negative values\n",
      "Calculating best minimal value for power law fit\n",
      "/home/acemap/.local/lib/python3.6/site-packages/ipykernel_launcher.py:13: RuntimeWarning: divide by zero encountered in log\n",
      "  del sys.path[0]\n"
     ]
    },
    {
     "name": "stdout",
     "output_type": "stream",
     "text": [
      "user p_value: 0.26300875216973196 user alpha: 2.271016199678316 user xmin: 3.0\n",
      "user p_value: 0.8440491433549113 user alpha: 2.532032414681126 user xmin: 3.0\n"
     ]
    },
    {
     "data": {
      "text/plain": [
       "[<matplotlib.lines.Line2D at 0x7f014adcd518>]"
      ]
     },
     "execution_count": 62,
     "metadata": {},
     "output_type": "execute_result"
    },
    {
     "data": {
      "image/png": "[encoded data removed]",
      "text/plain": [
       "<Figure size 432x288 with 1 Axes>"
      ]
     },
     "metadata": {
      "needs_background": "light"
     },
     "output_type": "display_data"
    }
   ],
   "source": [
    "results = powerlaw.Fit(degseq)\n",
    "alpha = results.power_law.alpha\n",
    "xmin = results.power_law.xmin\n",
    "R, p_value = results.distribution_compare('power_law', 'lognormal')\n",
    "print(\"user p_value:\", p_value, \"user alpha:\", alpha, \"user xmin:\", xmin)\n",
    "plt.plot(np.log(xind),np.log(degseq),'o',color = 'gray', alpha = 0.8, markersize=4, markeredgewidth=0.0)\n",
    "\n",
    "results = powerlaw.Fit(weiseq)\n",
    "alpha = results.power_law.alpha\n",
    "xmin = results.power_law.xmin\n",
    "R, p_value = results.distribution_compare('power_law', 'lognormal')\n",
    "print(\"user p_value:\", p_value, \"user alpha:\", alpha, \"user xmin:\", xmin)\n",
    "plt.plot(np.log(xind),np.log(weiseq[:len(xind)]),'o',color = 'black', alpha = 0.8, markersize=4, markeredgewidth=0.0)"
   ]
  },
  {
   "cell_type": "code",
   "execution_count": 63,
   "metadata": {},
   "outputs": [],
   "source": [
    "degseq, weiseq, xind = d.get_distribution()"
   ]
  },
  {
   "cell_type": "markdown",
   "metadata": {},
   "source": [
    "# Plot user"
   ]
  },
  {
   "cell_type": "code",
   "execution_count": 64,
   "metadata": {},
   "outputs": [
    {
     "name": "stdout",
     "output_type": "stream",
     "text": [
      "146 20865 146\n"
     ]
    }
   ],
   "source": [
    "print(len(degseq), len(weiseq), len(xind))"
   ]
  },
  {
   "cell_type": "code",
   "execution_count": 67,
   "metadata": {},
   "outputs": [
    {
     "name": "stdout",
     "output_type": "stream",
     "text": [
      "user p_value: 0.7061591210207212 user alpha: 1.3946229850439906 user xmin: 954.0\n",
      "user p_value: 0.8600425120833416 user alpha: 1.4626015828803482 user xmin: 730.0\n"
     ]
    },
    {
     "name": "stderr",
     "output_type": "stream",
     "text": [
      "Values less than or equal to 0 in data. Throwing out 0 or negative values\n",
      "Calculating best minimal value for power law fit\n",
      "/home/acemap/.local/lib/python3.6/site-packages/ipykernel_launcher.py:6: RuntimeWarning: divide by zero encountered in log\n",
      "  \n",
      "Values less than or equal to 0 in data. Throwing out 0 or negative values\n",
      "Calculating best minimal value for power law fit\n",
      "/home/acemap/.local/lib/python3.6/site-packages/ipykernel_launcher.py:13: RuntimeWarning: divide by zero encountered in log\n",
      "  del sys.path[0]\n"
     ]
    },
    {
     "data": {
      "text/plain": [
       "[<matplotlib.lines.Line2D at 0x7f01625c9588>]"
      ]
     },
     "execution_count": 67,
     "metadata": {},
     "output_type": "execute_result"
    },
    {
     "data": {
      "image/png": "[encoded data removed]",
      "text/plain": [
       "<Figure size 432x288 with 1 Axes>"
      ]
     },
     "metadata": {
      "needs_background": "light"
     },
     "output_type": "display_data"
    }
   ],
   "source": [
    "results = powerlaw.Fit(degseq)\n",
    "alpha = results.power_law.alpha\n",
    "xmin = results.power_law.xmin\n",
    "R, p_value = results.distribution_compare('power_law', 'lognormal')\n",
    "print(\"user p_value:\", p_value, \"user alpha:\", alpha, \"user xmin:\", xmin)\n",
    "plt.plot(np.log(xind),np.log(degseq),'o',color = 'gray', alpha = 0.8, markersize=4, markeredgewidth=0.0)\n",
    "\n",
    "results = powerlaw.Fit(weiseq)\n",
    "alpha = results.power_law.alpha\n",
    "xmin = results.power_law.xmin\n",
    "R, p_value = results.distribution_compare('power_law', 'lognormal')\n",
    "print(\"user p_value:\", p_value, \"user alpha:\", alpha, \"user xmin:\", xmin)\n",
    "plt.plot(np.log(xind),np.log(weiseq[:len(xind)]),'o',color = 'black', alpha = 0.8, markersize=4, markeredgewidth=0.0)"
   ]
  },
  {
   "cell_type": "markdown",
   "metadata": {},
   "source": [
    "# Class of SN Dataset"
   ]
  },
  {
   "cell_type": "markdown",
   "metadata": {},
   "source": [
    "## Class of Weight Rate"
   ]
  },
  {
   "cell_type": "code",
   "execution_count": 14,
   "metadata": {},
   "outputs": [],
   "source": [
    "class MapWeightRate(object):\n",
    "    def __init__(self):\n",
    "        self._mappinglist = []\n",
    "        self._default = 10000\n",
    "        i = 0\n",
    "        n = 0\n",
    "        while n <= self._default:\n",
    "            i = i + 1\n",
    "            n = i ** 2\n",
    "            # print(n)\n",
    "            self._mappinglist.append(n)\n",
    "        self._ratingscale = i\n",
    "        self._maxwei = 0\n",
    "        # print(self._ratingscale)\n",
    "    def mappingFunc(self, weight):\n",
    "        if weight > self._mappinglist[-1]:\n",
    "            # print('Extending...')\n",
    "            k = len(self._mappinglist)\n",
    "            while k**2 < weight:\n",
    "                k += 1\n",
    "                self._mappinglist.append(k**2)\n",
    "        if weight > self._maxwei:\n",
    "            self._maxwei = weight\n",
    "        for i in range(len(self._mappinglist)):\n",
    "            if weight <= self._mappinglist[i]:\n",
    "                return i + 1\n",
    "    def seeRatingScale(self):\n",
    "        return self.mappingFunc(self._maxwei)\n",
    "    def getMappingList(self):\n",
    "        return self._mappinglist"
   ]
  },
  {
   "cell_type": "markdown",
   "metadata": {},
   "source": [
    "## SN's main Class"
   ]
  },
  {
   "cell_type": "code",
   "execution_count": 15,
   "metadata": {},
   "outputs": [],
   "source": [
    "class dataset_sn:\n",
    "    '''\n",
    "    通过读取sn数据集，获取source和target的分布\n",
    "    推特数据集：source: followee, target: follower\n",
    "    '''\n",
    "    def __init__(self, filename, total_lines=10000000):\n",
    "        degree_source = {} #users\n",
    "        degree_target = {} #followers\n",
    "        weight_source = {} #user_weight\n",
    "        weight_target = {} #follower_weight\n",
    "        file = open('../data/' + filename, 'r', encoding='utf8')\n",
    "        \n",
    "        '''\n",
    "        # count lines\n",
    "        result = os.popen('wc -l ../data/' + filename)\n",
    "        total_line = int(result.read().split(' ')[0])\n",
    "        print(\"total line:\", total_line)\n",
    "        '''\n",
    "        \n",
    "        # start\n",
    "        print(\"Start reading from \" + filename)\n",
    "        cnt = 0\n",
    "        for line in file:\n",
    "            cnt += 1\n",
    "            source = line.split('\\t')[0]\n",
    "            target = line.split('\\t')[1].split('\\n')[0]\n",
    "            # 统计degree在source user中和在target user中的分布\n",
    "            if source in degree_source.keys():\n",
    "                degree_source[source] += 1\n",
    "            else:\n",
    "                degree_source[source] = 1\n",
    "            if target in degree_target.keys():\n",
    "                degree_target[target] += 1\n",
    "            else:\n",
    "                degree_target[target] = 1\n",
    "            if cnt == total_lines:\n",
    "                break\n",
    "        print(\"finish degree calculate\")\n",
    "        \n",
    "        # 统计weight在source user中和在target user中的分布    \n",
    "        '''需要准备基本的构造函数'''\n",
    "        s2t = MapWeightRate()\n",
    "        t2s = MapWeightRate()\n",
    "        file = open('../../data/' + filename, 'r', encoding='utf8')\n",
    "        cnt = 0\n",
    "        for line in file:\n",
    "            cnt += 1\n",
    "            source = line.split('\\t')[0]\n",
    "            target = line.split('\\t')[1].split('\\n')[0]\n",
    "            if source in weight_source:\n",
    "                if target in degree_source:\n",
    "                    weight_source[source] += s2t.mappingFunc(degree_source[target])\n",
    "                else:\n",
    "                    weight_source[source] += 1\n",
    "            else:\n",
    "                if target in degree_source:\n",
    "                    weight_source[source] = s2t.mappingFunc(degree_source[target])\n",
    "                else:\n",
    "                    weight_source[source] = 1\n",
    "\n",
    "            if target in weight_target:\n",
    "                if source in degree_target:\n",
    "                    weight_target[target] += t2s.mappingFunc(degree_target[source])\n",
    "                else:\n",
    "                    weight_target[target] += 1\n",
    "            else:\n",
    "                if source in degree_target:\n",
    "                    weight_target[target] = t2s.mappingFunc(degree_target[source])\n",
    "                else:\n",
    "                    weight_target[target] = 1\n",
    "            if cnt == total_lines:\n",
    "                break\n",
    "        \n",
    "        print(\"finish weight calculate\")\n",
    "        print(\"finish\", cnt, \"line input\")\n",
    "        \n",
    "        # 计算degree distribution\n",
    "        # source degree(users)\n",
    "        degree = []\n",
    "        for k in degree_source.keys():\n",
    "            degree.append(degree_source[k])\n",
    "        np.set_printoptions(threshold=np.inf)\n",
    "        bins_source = np.bincount(np.array(degree))\n",
    "        # target degree(users)\n",
    "        degree = []\n",
    "        for k in degree_target.keys():\n",
    "            degree.append(degree_target[k])\n",
    "        np.set_printoptions(threshold=np.inf)\n",
    "        bins_target = np.bincount(np.array(degree))\n",
    "        \n",
    "        # 计算weight distribution\n",
    "        weight = []\n",
    "        for k in weight_source.keys():\n",
    "            weight.append(weight_source[k])\n",
    "        np.set_printoptions(threshold=np.inf)\n",
    "        binw_source = np.bincount(np.array(weight))\n",
    "        \n",
    "        weight = []\n",
    "        for k in weight_target.keys():\n",
    "            weight.append(weight_target[k])\n",
    "        np.set_printoptions(threshold=np.inf)\n",
    "        binw_target = np.bincount(np.array(weight))\n",
    "        print(\"finish init social network dataset\")\n",
    "        \n",
    "        # 初始化source完成\n",
    "        self.degseq_source = bins_source\n",
    "        self.weiseq_source = binw_source\n",
    "        self.xind_source = np.arange(bins_source.shape[0])\n",
    "        # 初始化target完成\n",
    "        self.degseq_target = bins_target\n",
    "        self.weiseq_target = binw_target\n",
    "        self.xind_target = np.arange(bins_target.shape[0])\n",
    "\n",
    "    def get_distribution(self, target=\"source\"):\n",
    "        if target == \"target\":\n",
    "            return self.degseq_target, self.weiseq_target, self.xind_target\n",
    "        else:\n",
    "            return self.degseq_source, self.weiseq_source, self.xind_source"
   ]
  },
  {
   "cell_type": "markdown",
   "metadata": {},
   "source": [
    "## 关于xind的使用"
   ]
  },
  {
   "cell_type": "markdown",
   "metadata": {},
   "source": [
    "```xind = np.arange(self.degseq_source.shape[0])```"
   ]
  },
  {
   "cell_type": "code",
   "execution_count": 76,
   "metadata": {},
   "outputs": [
    {
     "name": "stdout",
     "output_type": "stream",
     "text": [
      "Start reading from twitter_rv.net\n",
      "finish degree calculate\n",
      "finish weight calculate\n",
      "finish 20000000 line input\n"
     ]
    }
   ],
   "source": [
    "s = dataset_sn(\"twitter_rv.net\", 20000000)"
   ]
  },
  {
   "cell_type": "code",
   "execution_count": 81,
   "metadata": {},
   "outputs": [],
   "source": [
    "degseq, weiseq, xind = s.get_distribution(\"target\")"
   ]
  },
  {
   "cell_type": "code",
   "execution_count": 82,
   "metadata": {},
   "outputs": [
    {
     "name": "stderr",
     "output_type": "stream",
     "text": [
      "Values less than or equal to 0 in data. Throwing out 0 or negative values\n",
      "Calculating best minimal value for power law fit\n",
      "/home/acemap/.local/lib/python3.6/site-packages/ipykernel_launcher.py:6: RuntimeWarning: divide by zero encountered in log\n",
      "  \n",
      "Values less than or equal to 0 in data. Throwing out 0 or negative values\n",
      "Calculating best minimal value for power law fit\n"
     ]
    },
    {
     "name": "stdout",
     "output_type": "stream",
     "text": [
      "user p_value: 0.5306294576446865 user alpha: 1.375912506017725 user xmin: 4.0\n",
      "user p_value: 0.24246092927519103 user alpha: 1.4572588671483935 user xmin: 125.0\n"
     ]
    },
    {
     "name": "stderr",
     "output_type": "stream",
     "text": [
      "/home/acemap/.local/lib/python3.6/site-packages/ipykernel_launcher.py:13: RuntimeWarning: divide by zero encountered in log\n",
      "  del sys.path[0]\n"
     ]
    },
    {
     "data": {
      "text/plain": [
       "[<matplotlib.lines.Line2D object at 0x7f347fa09080>]"
      ]
     },
     "execution_count": 82,
     "metadata": {},
     "output_type": "execute_result"
    },
    {
     "data": {
      "image/png": "[encoded data removed]",
      "text/plain": [
       "<Figure size 432x288 with 1 Axes>"
      ]
     },
     "metadata": {
      "needs_background": "light"
     },
     "output_type": "display_data"
    }
   ],
   "source": [
    "results = powerlaw.Fit(degseq)\n",
    "alpha = results.power_law.alpha\n",
    "xmin = results.power_law.xmin\n",
    "R, p_value = results.distribution_compare('power_law', 'lognormal')\n",
    "print(\"user p_value:\", p_value, \"user alpha:\", alpha, \"user xmin:\", xmin)\n",
    "plt.plot(np.log(xind),np.log(degseq),'o',color = 'gray', alpha = 0.8, markersize=4, markeredgewidth=0.0)\n",
    "\n",
    "results = powerlaw.Fit(weiseq)\n",
    "alpha = results.power_law.alpha\n",
    "xmin = results.power_law.xmin\n",
    "R, p_value = results.distribution_compare('power_law', 'lognormal')\n",
    "print(\"user p_value:\", p_value, \"user alpha:\", alpha, \"user xmin:\", xmin)\n",
    "plt.plot(np.log(xind),np.log(weiseq[:len(xind)]),'o',color = 'black', alpha = 0.8, markersize=4, markeredgewidth=0.0)"
   ]
  },
  {
   "cell_type": "code",
   "execution_count": 83,
   "metadata": {},
   "outputs": [],
   "source": [
    "degseq, weiseq, xind = s.get_distribution(\"source\")"
   ]
  },
  {
   "cell_type": "code",
   "execution_count": 91,
   "metadata": {},
   "outputs": [
    {
     "name": "stderr",
     "output_type": "stream",
     "text": [
      "Values less than or equal to 0 in data. Throwing out 0 or negative values\n",
      "Calculating best minimal value for power law fit\n",
      "/home/acemap/.local/lib/python3.6/site-packages/ipykernel_launcher.py:6: RuntimeWarning: divide by zero encountered in log\n",
      "  \n"
     ]
    },
    {
     "name": "stdout",
     "output_type": "stream",
     "text": [
      "user p_value: 0.5367431504183167 user alpha: 2.1035138832921403 user xmin: 27.0\n"
     ]
    },
    {
     "name": "stderr",
     "output_type": "stream",
     "text": [
      "Values less than or equal to 0 in data. Throwing out 0 or negative values\n",
      "Calculating best minimal value for power law fit\n",
      "/home/acemap/.local/lib/python3.6/site-packages/ipykernel_launcher.py:13: RuntimeWarning: divide by zero encountered in log\n",
      "  del sys.path[0]\n"
     ]
    },
    {
     "name": "stdout",
     "output_type": "stream",
     "text": [
      "user p_value: 0.7622558425159807 user alpha: 5.80114705115003 user xmin: 10.0\n"
     ]
    },
    {
     "data": {
      "text/plain": [
       "[<matplotlib.lines.Line2D object at 0x7f35e1413278>]"
      ]
     },
     "execution_count": 91,
     "metadata": {},
     "output_type": "execute_result"
    },
    {
     "data": {
      "image/png": "[encoded data removed]",
      "text/plain": [
       "<Figure size 432x288 with 1 Axes>"
      ]
     },
     "metadata": {
      "needs_background": "light"
     },
     "output_type": "display_data"
    }
   ],
   "source": [
    "results = powerlaw.Fit(degseq)\n",
    "alpha = results.power_law.alpha\n",
    "xmin = results.power_law.xmin\n",
    "R, p_value = results.distribution_compare('power_law', 'lognormal')\n",
    "print(\"user p_value:\", p_value, \"user alpha:\", alpha, \"user xmin:\", xmin)\n",
    "plt.plot(np.log(xind),np.log(degseq),'o',color = 'gray', alpha = 0.8, markersize=4, markeredgewidth=0.0)\n",
    "\n",
    "results = powerlaw.Fit(weiseq[200:])\n",
    "alpha = results.power_law.alpha\n",
    "xmin = results.power_law.xmin\n",
    "R, p_value = results.distribution_compare('power_law', 'lognormal')\n",
    "print(\"user p_value:\", p_value, \"user alpha:\", alpha, \"user xmin:\", xmin)\n",
    "plt.plot(np.log(xind),np.log(weiseq[:len(xind)]),'o',color = 'black', alpha = 0.8, markersize=4, markeredgewidth=0.0)"
   ]
  },
  {
   "cell_type": "code",
   "execution_count": 18,
   "metadata": {},
   "outputs": [
    {
     "name": "stdout",
     "output_type": "stream",
     "text": [
      "hello\n"
     ]
    }
   ],
   "source": [
    "if __name__== '__main__':\n",
    "    print(\"hello\")"
   ]
  },
  {
   "cell_type": "code",
   "execution_count": null,
   "metadata": {},
   "outputs": [],
   "source": []
  }
 ],
 "metadata": {
  "kernelspec": {
   "display_name": "Python 3",
   "language": "python",
   "name": "python3"
  },
  "language_info": {
   "codemirror_mode": {
    "name": "ipython",
    "version": 3
   },
   "file_extension": ".py",
   "mimetype": "text/x-python",
   "name": "python",
   "nbconvert_exporter": "python",
   "pygments_lexer": "ipython3",
   "version": "3.6.8"
  }
 },
 "nbformat": 4,
 "nbformat_minor": 4
}
