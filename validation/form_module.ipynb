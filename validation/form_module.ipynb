{
 "cells": [
  {
   "cell_type": "code",
   "execution_count": 1,
   "metadata": {
    "ExecuteTime": {
     "end_time": "2019-10-28T11:31:54.404688Z",
     "start_time": "2019-10-28T11:31:54.382675Z"
    }
   },
   "outputs": [],
   "source": [
    "import pymysql\n",
    "from itertools import combinations, permutations\n",
    "import math\n",
    "import csv\n",
    "import sys\n",
    "import time\n",
    "import os"
   ]
  },
  {
   "cell_type": "code",
   "execution_count": 29,
   "metadata": {
    "ExecuteTime": {
     "end_time": "2019-10-28T11:31:55.082302Z",
     "start_time": "2019-10-28T11:31:55.079300Z"
    },
    "jupyter": {
     "source_hidden": true
    }
   },
   "outputs": [],
   "source": [
    "def progressbar(cur,total):  \n",
    "    percent = '{:.2%}'.format(cur / total)  \n",
    "    sys.stdout.write('\\r')\n",
    "    sys.stdout.write('[%-50s] %s' % ( '=' * int(math.floor(cur * 50 /total)),percent))  \n",
    "    sys.stdout.flush() "
   ]
  },
  {
   "cell_type": "code",
   "execution_count": 2,
   "metadata": {
    "ExecuteTime": {
     "end_time": "2019-10-28T11:31:55.576751Z",
     "start_time": "2019-10-28T11:31:55.573748Z"
    }
   },
   "outputs": [],
   "source": [
    "def countline(name):\n",
    "    result = os.popen('wc -l '+ name)\n",
    "    sum = int(result.read().split(' ')[0])\n",
    "    print(sum)\n",
    "    return sum"
   ]
  },
  {
   "cell_type": "code",
   "execution_count": 3,
   "metadata": {
    "ExecuteTime": {
     "end_time": "2019-10-28T11:38:01.362763Z",
     "start_time": "2019-10-28T11:38:01.355757Z"
    }
   },
   "outputs": [],
   "source": [
    "def datainfo(filename, output):\n",
    "    print(\"\\n\\ndealing with:\", filename)\n",
    "    print(\"dealing with:\", filename, file=output)\n",
    "    f = open(filename, 'r', encoding='utf8')\n",
    "    total = countline(filename)\n",
    "    flag = -1\n",
    "    user_dict = {}\n",
    "    item_dict = {}\n",
    "    weight_max = -1\n",
    "    weight_min = sys.maxsize\n",
    "    weights = 0\n",
    "    for line in f:\n",
    "        flag += 1\n",
    "        if flag == 0:\n",
    "            pass\n",
    "        else: \n",
    "            \n",
    "            line = line[:-1]\n",
    "            # print(line)\n",
    "            c = line.split(',')\n",
    "            if c[0] not in user_dict.keys():\n",
    "                user_dict[c[0]] = 0\n",
    "            user_dict[c[0]] += 1\n",
    "\n",
    "            if c[1] not in item_dict.keys():\n",
    "                item_dict[c[1]] = 0\n",
    "\n",
    "            # weighting scale\n",
    "            if int(float(c[2])) > weight_max:\n",
    "                weight_max = int(float(c[2]))\n",
    "                \n",
    "            if int(float(c[2])) < weight_min:\n",
    "                weight_min = int(float(c[2]))\n",
    "                if weight_min<1:\n",
    "                    print(line[:-1])\n",
    "\n",
    "            # weights\n",
    "            weights += int(float(c[2]))\n",
    "\n",
    "            item_dict[c[1]] += 1\n",
    "    print(\"#######FLAG:\",flag,\"#######\")\n",
    "    print(\"##########Result###########\")\n",
    "    # print(user_dict)\n",
    "    # print(item_dict)\n",
    "    weight_scale = (weight_min, weight_max)\n",
    "    user_num = len(user_dict.keys())\n",
    "    item_num = len(item_dict.keys())\n",
    "    \n",
    "    ##########\n",
    "    ###user###\n",
    "    ##########\n",
    "    avg_user = 0\n",
    "    for k in user_dict.keys():\n",
    "        avg_user += user_dict[k]\n",
    "    avg_user = avg_user/user_num\n",
    "    \n",
    "    ##########\n",
    "    ###item###\n",
    "    ##########\n",
    "    avg_item = 0\n",
    "    for k in item_dict.keys():\n",
    "        avg_item += item_dict[k]\n",
    "    avg_item = avg_item/item_num\n",
    "    \n",
    "    print(\"weight_scale:\", weight_scale)\n",
    "    print(\"#user num:\", user_num)\n",
    "    print(\"#item num:\", item_num)\n",
    "    print(\"weights:\", weights)\n",
    "    print(\"links:\", total)\n",
    "    print(\"avg user degree:\", avg_user)\n",
    "    print(\"avg item degree:\", avg_item)\n",
    "    print(\"density:\", total/(user_num+item_num))\n",
    "    \n",
    "    # TO FILE\n",
    "    print(\"weight_scale:\", weight_scale, file=output)\n",
    "    print(\"#user num:\", user_num, file=output)\n",
    "    print(\"#item num:\", item_num, file=output)\n",
    "    print(\"weights:\", weights, file=output)\n",
    "    print(\"links:\", total, file=output)\n",
    "    print(\"avg user degree:\", avg_user, file=output)\n",
    "    print(\"avg item degree:\", avg_item, file=output)\n",
    "    print(\"density:\", total/(user_num+item_num), file=output)\n",
    "    f.close()"
   ]
  },
  {
   "cell_type": "code",
   "execution_count": 9,
   "metadata": {
    "ExecuteTime": {
     "end_time": "2019-10-28T11:38:06.617033Z",
     "start_time": "2019-10-28T11:38:02.165491Z"
    }
   },
   "outputs": [
    {
     "name": "stdout",
     "output_type": "stream",
     "text": [
      "\n",
      "\n",
      "dealing with: ../../data/algorithm_r05.csv\n",
      "3895052\n",
      "#######FLAG: 3895051 #######\n",
      "##########Result###########\n",
      "weight_scale: (1, 5)\n",
      "#user num: 1686210\n",
      "#item num: 1092\n",
      "weights: 4162485\n",
      "links: 3895052\n",
      "avg user degree: 2.3099441943767385\n",
      "avg item degree: 3566.8965201465203\n",
      "density: 2.3084498210753024\n",
      "\n",
      "\n",
      "dealing with: ../../data/artificialintelligence_r05.csv\n",
      "7073161\n",
      "#######FLAG: 7073160 #######\n",
      "##########Result###########\n",
      "weight_scale: (1, 5)\n",
      "#user num: 3276869\n",
      "#item num: 1130\n",
      "weights: 7469417\n",
      "links: 7073161\n",
      "avg user degree: 2.158511676847625\n",
      "avg item degree: 6259.433628318584\n",
      "density: 2.157767894377027\n",
      "\n",
      "\n",
      "dealing with: ../../data/audioscrobbler.csv\n",
      "24296858\n",
      "#######FLAG: 24296857 #######\n",
      "##########Result###########\n",
      "weight_scale: (1, 5)\n",
      "#user num: 146946\n",
      "#item num: 1493930\n",
      "weights: 59353961\n",
      "links: 24296858\n",
      "avg user degree: 165.3454806527568\n",
      "avg item degree: 16.26371851425435\n",
      "density: 14.807248079684266\n",
      "\n",
      "\n",
      "dealing with: ../../data/bookcorssing_r05.csv\n",
      "433670\n",
      "#######FLAG: 433669 #######\n",
      "##########Result###########\n",
      "weight_scale: (1, 5)\n",
      "#user num: 77804\n",
      "#item num: 185847\n",
      "weights: 1749542\n",
      "links: 433670\n",
      "avg user degree: 5.573865096910184\n",
      "avg item degree: 2.333473233358623\n",
      "density: 1.6448638541101683\n",
      "\n",
      "\n",
      "dealing with: ../../data/bookcorssing_r10.csv\n",
      "433673\n",
      "#######FLAG: 433672 #######\n",
      "##########Result###########\n",
      "weight_scale: (1, 10)\n",
      "#user num: 77805\n",
      "#item num: 185848\n",
      "weights: 3296363\n",
      "links: 433673\n",
      "avg user degree: 5.573832015937279\n",
      "avg item degree: 2.333476819766691\n",
      "density: 1.6448627552123436\n",
      "\n",
      "\n",
      "dealing with: ../../data/programminglanguage_r05.csv\n",
      "7499261\n",
      "#######FLAG: 7499260 #######\n",
      "##########Result###########\n",
      "weight_scale: (1, 5)\n",
      "#user num: 3957282\n",
      "#item num: 1691\n",
      "weights: 7891791\n",
      "links: 7499261\n",
      "avg user degree: 1.8950532208723059\n",
      "avg item degree: 4434.807806031934\n",
      "density: 1.8942440375319558\n",
      "\n",
      "\n",
      "dealing with: ../../data/amazonbook.csv\n",
      "22507155\n",
      "#######FLAG: 22507154 #######\n",
      "##########Result###########\n",
      "weight_scale: (1, 5)\n",
      "#user num: 8026324\n",
      "#item num: 2330066\n",
      "weights: 96685308\n",
      "links: 22507155\n",
      "avg user degree: 2.8041671380323048\n",
      "avg item degree: 9.659449131483829\n",
      "density: 2.173262594398241\n",
      "\n",
      "\n",
      "dealing with: ../../data/amazonmovie.csv\n",
      "4607047\n",
      "#######FLAG: 4607046 #######\n",
      "##########Result###########\n",
      "weight_scale: (1, 5)\n",
      "#user num: 2088620\n",
      "#item num: 200940\n",
      "weights: 19289148\n",
      "links: 4607047\n",
      "avg user degree: 2.205784680794017\n",
      "avg item degree: 22.92747088683189\n",
      "density: 2.0121975401387164\n",
      "\n",
      "\n",
      "dealing with: ../../data/amazoncd.csv\n",
      "3749004\n",
      "#######FLAG: 3749003 #######\n",
      "##########Result###########\n",
      "weight_scale: (1, 5)\n",
      "#user num: 1578596\n",
      "#item num: 486360\n",
      "weights: 16505353\n",
      "links: 3749004\n",
      "avg user degree: 2.374897060425847\n",
      "avg item degree: 7.708288099350275\n",
      "density: 1.8155369896501428\n",
      "\n",
      "\n",
      "dealing with: ../../data/amazonelectronic.csv\n",
      "7824482\n",
      "#######FLAG: 7824481 #######\n",
      "##########Result###########\n",
      "weight_scale: (1, 5)\n",
      "#user num: 4201696\n",
      "#item num: 476001\n",
      "weights: 31394452\n",
      "links: 7824482\n",
      "avg user degree: 1.8622196846225905\n",
      "avg item degree: 16.437950760607645\n",
      "density: 1.6727209992438588\n",
      "\n",
      "\n",
      "dealing with: ../../data/facebooklike_msg_r05.csv\n",
      "7089\n",
      "#######FLAG: 7088 #######\n",
      "##########Result###########\n",
      "weight_scale: (2, 5)\n",
      "#user num: 899\n",
      "#item num: 522\n",
      "weights: 17056\n",
      "links: 7089\n",
      "avg user degree: 7.884315906562848\n",
      "avg item degree: 13.578544061302683\n",
      "density: 4.988740323715693\n"
     ]
    }
   ],
   "source": [
    "f_out = open(\"info_r05.txt\", \"w+\", encoding='utf8')\n",
    "datainfo('../../data/algorithm_r05.csv', f_out)\n",
    "datainfo('../../data/artificialintelligence_r05.csv', f_out)\n",
    "datainfo('../../data/audioscrobbler.csv', f_out)\n",
    "datainfo('../../data/bookcorssing_r05.csv', f_out)\n",
    "datainfo('../../data/bookcorssing_r10.csv', f_out)\n",
    "datainfo('../../data/programminglanguage_r05.csv', f_out)\n",
    "datainfo('../../data/amazonbook.csv', f_out)\n",
    "datainfo('../../data/amazonmovie.csv', f_out)\n",
    "datainfo('../../data/amazoncd.csv', f_out)\n",
    "datainfo('../../data/amazonelectronic.csv', f_out)\n",
    "datainfo('../../data/facebooklike_msg_r05.csv', f_out)\n",
    "f_out.close()"
   ]
  },
  {
   "cell_type": "markdown",
   "metadata": {},
   "source": [
    "# special case"
   ]
  },
  {
   "cell_type": "code",
   "execution_count": 26,
   "metadata": {},
   "outputs": [
    {
     "name": "stdout",
     "output_type": "stream",
     "text": [
      "dealing with: ../../data/bookcorssing_r10.csv\n",
      "433673\n",
      "#######FLAG: 433672 #######\n",
      "##########Result###########\n",
      "weight_scale: (1, 10)\n",
      "#user num: 77805\n",
      "#item num: 185848\n",
      "weights: 3296363\n",
      "links: 433673\n",
      "avg user degree: 5.573832015937279\n",
      "avg item degree: 2.333476819766691\n",
      "density: 1.6448627552123436\n",
      "\n",
      "\n",
      "\n"
     ]
    }
   ],
   "source": [
    "f_out = open(\"info_bookcorssing.txt\", \"w+\", encoding='utf8')\n",
    "# datainfo('../../data/bookcorssing_r05.csv', f_out)\n",
    "datainfo('../../data/bookcorssing_r10.csv', f_out)\n",
    "f_out.close()"
   ]
  },
  {
   "cell_type": "code",
   "execution_count": 55,
   "metadata": {},
   "outputs": [],
   "source": [
    "def dealwithcsv(filename):\n",
    "    # f_in = open(\"../data/\" + filename + \".csv\", \"r\", encoding=\"ISO-8859-1\")\n",
    "    f_in = open(\"../data/\" + filename + \".csv\", \"r\", encoding='utf8')\n",
    "    f_out = open(\"../data/\" + filename + \".txt\", \"w\", encoding='utf8')\n",
    "    flag = 0\n",
    "    for line in f_in:\n",
    "        flag+=1\n",
    "        line = line[:-1]\n",
    "        a = line.replace(\",\",\" \",3)\n",
    "        if flag==0:\n",
    "            pass\n",
    "        else:\n",
    "            print(a, file=f_out)\n",
    "        if flag%1000000==0:\n",
    "            print(flag)\n",
    "    f_in.close()\n",
    "    f_out.close()"
   ]
  },
  {
   "cell_type": "code",
   "execution_count": 48,
   "metadata": {
    "scrolled": true
   },
   "outputs": [
    {
     "name": "stdout",
     "output_type": "stream",
     "text": [
      "100000\n",
      "200000\n",
      "300000\n",
      "400000\n",
      "500000\n",
      "600000\n",
      "700000\n",
      "800000\n",
      "900000\n",
      "1000000\n",
      "1100000\n"
     ]
    }
   ],
   "source": [
    "# dealwithcsv(\"BX-Book-Ratings\")\n",
    "# dealwithcsv(\"AudioScrobbler\")\n",
    "# dealwithcsv(\"ratings_Books\")\n",
    "# dealwithcsv(\"ratings_CDs_and_Vinyl\")\n",
    "# dealwithcsv(\"ratings_Movies_and_TV\")\n",
    "# dealwithcsv(\"ratings_Electronics\")"
   ]
  },
  {
   "cell_type": "code",
   "execution_count": 4,
   "metadata": {},
   "outputs": [
    {
     "name": "stdout",
     "output_type": "stream",
     "text": [
      "\n",
      "\n",
      "dealing with: ../data/libimseti_m_f.csv\n",
      "3232064\n",
      "#######FLAG: 3232063 #######\n",
      "##########Result###########\n",
      "weight_scale: (1, 10)\n",
      "#user num: 60145\n",
      "#item num: 38433\n",
      "weights: 17724457\n",
      "links: 3232064\n",
      "avg user degree: 53.73785019536121\n",
      "avg item degree: 84.09603725964666\n",
      "density: 32.786869281178355\n"
     ]
    }
   ],
   "source": [
    "f_out = open(\"info_Libimseti.txt\", \"w+\", encoding='utf8')\n",
    "# datainfo('../../data/bookcorssing_r05.csv', f_out)\n",
    "datainfo('../data/libimseti_m_f.csv', f_out)\n",
    "f_out.close()"
   ]
  },
  {
   "cell_type": "code",
   "execution_count": 5,
   "metadata": {},
   "outputs": [
    {
     "name": "stdout",
     "output_type": "stream",
     "text": [
      "\n",
      "\n",
      "dealing with: ../data/libimseti_m_f_r05.csv\n",
      "3232064\n",
      "#######FLAG: 3232063 #######\n",
      "##########Result###########\n",
      "weight_scale: (1, 5)\n",
      "#user num: 60145\n",
      "#item num: 38433\n",
      "weights: 9670628\n",
      "links: 3232064\n",
      "avg user degree: 53.73785019536121\n",
      "avg item degree: 84.09603725964666\n",
      "density: 32.786869281178355\n"
     ]
    }
   ],
   "source": [
    "f_out = open(\"info_Libimseti_r05.txt\", \"w+\", encoding='utf8')\n",
    "# datainfo('../../data/bookcorssing_r05.csv', f_out)\n",
    "datainfo('../data/libimseti_m_f_r05.csv', f_out)\n",
    "f_out.close()"
   ]
  },
  {
   "cell_type": "code",
   "execution_count": null,
   "metadata": {},
   "outputs": [],
   "source": []
  }
 ],
 "metadata": {
  "kernelspec": {
   "display_name": "Python 3",
   "language": "python",
   "name": "python3"
  },
  "language_info": {
   "codemirror_mode": {
    "name": "ipython",
    "version": 3
   },
   "file_extension": ".py",
   "mimetype": "text/x-python",
   "name": "python",
   "nbconvert_exporter": "python",
   "pygments_lexer": "ipython3",
   "version": "3.6.8"
  },
  "latex_envs": {
   "LaTeX_envs_menu_present": true,
   "autoclose": false,
   "autocomplete": true,
   "bibliofile": "biblio.bib",
   "cite_by": "apalike",
   "current_citInitial": 1,
   "eqLabelWithNumbers": true,
   "eqNumInitial": 1,
   "hotkeys": {
    "equation": "Ctrl-E",
    "itemize": "Ctrl-I"
   },
   "labels_anchors": false,
   "latex_user_defs": false,
   "report_style_numbering": false,
   "user_envs_cfg": false
  }
 },
 "nbformat": 4,
 "nbformat_minor": 4
}
