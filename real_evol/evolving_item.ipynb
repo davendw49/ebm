{
 "cells": [
  {
   "cell_type": "code",
   "execution_count": 10,
   "metadata": {},
   "outputs": [],
   "source": [
    "import numpy as np\n",
    "import matplotlib.pyplot as plt\n",
    "import powerlaw\n",
    "import time\n",
    "import datetime\n",
    "from sklearn import linear_model\n",
    "from scipy.stats import norm"
   ]
  },
  {
   "cell_type": "code",
   "execution_count": 11,
   "metadata": {},
   "outputs": [],
   "source": [
    "def data_form(fin, fout):\n",
    "    f = open(fin, 'r', encoding='utf8')\n",
    "    f_out = open(fout, 'w', encoding='utf8')\n",
    "    pos = 0\n",
    "    for line in f:\n",
    "        pos+=1\n",
    "        if pos%1000000 == 0:\n",
    "            print(pos)\n",
    "        c = line.split(',')\n",
    "        tmp_timestamp = change_time(c[3])\n",
    "        tmp_timestamp = tmp_timestamp.replace('-','')\n",
    "        print(c[0], c[1], c[2], tmp_timestamp, file = f_out)\n",
    "    f.close()\n",
    "    f_out.close()\n",
    "\n",
    "def change_time(u):\n",
    "    u = int(u)\n",
    "    # u = 1393200000        #unix时间戳\n",
    "    t = datetime.datetime.fromtimestamp(u)\n",
    "    t_str = str(t)\n",
    "    return t_str.split(' ')[0]\n",
    "\n",
    "def data_processing():\n",
    "    for csv in ['ratings_Books', 'ratings_CDs_and_Vinyl', 'ratings_Electronics', 'ratings_Movies_and_TV']:\n",
    "        filename_in = '../RealDatasetValidation/data/' + csv + '.csv'\n",
    "        new_csv = csv.replace('ratings_', '')\n",
    "        filename_out = '../RealDatasetValidation/data/amazon/' + new_csv +'.txt'\n",
    "        print(\"********************\" + new_csv + \"*******************\")\n",
    "        print(\"input\", filename_in)\n",
    "        print(\"output\", filename_out)\n",
    "        data_form(filename_in, filename_out)\n",
    "        print(\"********************END\" + new_csv + \"*******************\")\n",
    "\n",
    "def sort_by_time(fin, fout):\n",
    "    f = open(fin, 'r', encoding='utf8')\n",
    "    f_out = open(fout, 'w', encoding='utf8')\n",
    "    pos = 0\n",
    "    dataset = []\n",
    "    for line in f:\n",
    "        pos+=1\n",
    "        if pos%1000000 == 0:\n",
    "            print(pos)\n",
    "        c = line.split(' ')\n",
    "        dataset.append((c[0], c[1], c[2], int(c[3])))\n",
    "    print(\"sorting......\")\n",
    "    dataset = sorted(dataset,key=lambda x:x[3])\n",
    "    for i in range(0, len(dataset)):\n",
    "        print(dataset[i][0], dataset[i][1], dataset[i][2], str(dataset[i][3]), file=f_out)\n",
    "    f.close()\n",
    "    f_out.close()\n",
    "\n",
    "# 22507155 book\n",
    "# 7824482 electronic\n",
    "# 4607047 movie\n",
    "# 3749004 CD\n",
    "\n",
    "def graph_main(fin, num, pace):\n",
    "    stop_time = int(pace * num)\n",
    "    print('stoptime:', stop_time, \"pace:\", pace)\n",
    "    degree = [0]*10000000\n",
    "    item = [0]*10000000\n",
    "    weight = [0]*10000000\n",
    "    # files = 'ratings_Books.csv'\n",
    "    f = open(fin, 'r', encoding='utf8')\n",
    "    data = []\n",
    "    cnt =0\n",
    "    ytime = 19700101\n",
    "    print ('Start reading from '+fin)\n",
    "    for line in f:\n",
    "        cnt = cnt + 1\n",
    "        if cnt ==1:\n",
    "            continue\n",
    "        if cnt == stop_time:\n",
    "            ytime = int(line.split(' ')[3])\n",
    "            print('ytime', ytime)\n",
    "            break\n",
    "        if cnt % 1000000 == 0:\n",
    "            print (cnt)\n",
    "        line = line.split(' ')\n",
    "        user = hash(line[0])%10000000\n",
    "        book = hash(line[1])%10000000\n",
    "        rate = float(line[2])\n",
    "        degree[book] = degree[book] + 1\n",
    "        weight[book] = weight[book] + rate\n",
    "    \n",
    "    ###########useless############\n",
    "    deg = np.array(degree)\n",
    "    bins = np.bincount(deg)\n",
    "    np.set_printoptions(threshold=np.inf)\n",
    "    degseq = bins[:20000]\n",
    "    xind = np.arange(degseq.shape[0])\n",
    "    # phi_deg = DataFit(xind[1:100], degseq[1:100])\n",
    "    \n",
    "    # plt.plot(xind[1:100],degseq[1:100],'bo')\n",
    "    # plt.title('User Degree Distributions')\n",
    "    # plt.xlabel('Degree')\n",
    "    # plt.ylabel('Number')\n",
    "    # plt.show()\n",
    "    # plt.plot(np.log(xind[1:100]),np.log(degseq[1:100]),'bo')\n",
    "    # plt.title('User Degree Distributions (Logarithm)')\n",
    "    # plt.xlabel('Degree')\n",
    "    # plt.ylabel('Number')\n",
    "    # plt.show()\n",
    "    wei = np.array(weight)\n",
    "    binw = np.bincount(wei.astype('int'))\n",
    "    weiseq = binw[:20000]\n",
    "    phi_wei = DataFit(xind, weiseq[1:len(xind)])\n",
    "    # plt.plot(xind[1:100],weiseq[1:100],'ro')\n",
    "    # plt.title('User Vertex Weight Distributions')\n",
    "    # plt.xlabel('Vertex weight')\n",
    "    # plt.ylabel('Number')\n",
    "    # plt.show()\n",
    "    # plt.plot(np.log(xind[1:100]),np.log(weiseq[1:100]),'ro')\n",
    "    # plt.title('User Vertex Weight Distributions (Logarithm)')\n",
    "    # plt.xlabel('Vertex weight')\n",
    "    # plt.ylabel('Number')\n",
    "    # plt.show()\n",
    "    return phi_wei, ytime\n",
    "\n",
    "def DataFit(X, Y):\n",
    "    # 模型数据准备\n",
    "    # X_parameter=[]\n",
    "    # Y_parameter=[]\n",
    "    # for single_square_feet ,single_price_value in zip(X,Y):\n",
    "    #     X_parameter.append([float(single_square_feet)])\n",
    "    #     Y_parameter.append(float(single_price_value))\n",
    "\n",
    "    # # 模型拟合\n",
    "    # regr = linear_model.LinearRegression()\n",
    "    # regr.fit(X_parameter, Y_parameter)\n",
    "\n",
    "    #加p_value\n",
    "    try:\n",
    "        data = Y\n",
    "        # print(data)\n",
    "        results = powerlaw.Fit(data)\n",
    "        alpha = results.power_law.alpha\n",
    "        xmin = results.power_law.xmin\n",
    "        R, p_value = results.distribution_compare('power_law', 'lognormal')\n",
    "        print(\"p_value:\", p_value, \"item alpha:\", alpha, \"item xmin:\", xmin)\n",
    "    except:\n",
    "        pass\n",
    "\n",
    "    # 模型结果与得分\n",
    "    # print(\"#\", year, \":\")\n",
    "    # print(\"幂律指数𝜑: \\n\", 0-regr.coef_[0])\n",
    "    # print(\"Intercept:\\n\",regr.intercept_)\n",
    "    # The mean square error\n",
    "    # print(\"rest: %.8f\" % np.mean((regr.predict(X_parameter) - Y_parameter) ** 2))  # 残差平方和\n",
    "\n",
    "    # phi = 0-regr.coef_[0]\n",
    "    # return phi#, p_value, alpha\n",
    "\n",
    "def data_time():\n",
    "    for csv in ['ratings_CDs_and_Vinyl', 'ratings_Books', 'ratings_Electronics', 'ratings_Movies_and_TV']:\n",
    "        csv = csv.replace('ratings_', '')\n",
    "        filename_in = '../RealDatasetValidation/data/amazon/' + csv +'.txt'\n",
    "        filename_out = '../RealDatasetValidation/data/amazon/' + csv +'_dump.txt'\n",
    "        print(\"********************\" + csv + \"*******************\")\n",
    "        print(\"input\", filename_in)\n",
    "        print(\"output\", filename_out)\n",
    "        sort_by_time(filename_in, filename_out)\n",
    "        print(\"********************END\" + csv + \"*******************\")"
   ]
  },
  {
   "cell_type": "code",
   "execution_count": 16,
   "metadata": {},
   "outputs": [],
   "source": [
    "# 22507155 book\n",
    "# 7824482 electronic\n",
    "# 4607047 movie\n",
    "# 3749004 CD\n",
    "\n",
    "def evol():\n",
    "    csv = ['ratings_CDs_and_Vinyl', 'ratings_Books', 'ratings_Electronics', 'ratings_Movies_and_TV']\n",
    "    length = [3749004, 22507155, 7824482, 4607047]\n",
    "    for index in range(len(csv)):\n",
    "        filename_in = '../RealDatasetValidation/data/amazon/' + csv[index].replace('ratings_','') +'_dump.txt'\n",
    "        for i in range(11):\n",
    "            if i!=0:\n",
    "                graph_main(filename_in, i, int(length[index]/10))\n",
    "                print(\"\")"
   ]
  },
  {
   "cell_type": "code",
   "execution_count": 17,
   "metadata": {},
   "outputs": [
    {
     "name": "stdout",
     "output_type": "stream",
     "text": [
      "stoptime: 374900 pace: 374900\n",
      "Start reading from ../RealDatasetValidation/data/amazon/CDs_and_Vinyl_dump.txt\n",
      "ytime 20010801\n"
     ]
    },
    {
     "name": "stderr",
     "output_type": "stream",
     "text": [
      "Values less than or equal to 0 in data. Throwing out 0 or negative values\n",
      "Calculating best minimal value for power law fit\n",
      "/home/daven/.local/lib/python3.6/site-packages/powerlaw.py:700: RuntimeWarning: invalid value encountered in true_divide\n",
      "  (Theoretical_CDF * (1 - Theoretical_CDF))\n",
      "/home/daven/.local/lib/python3.6/site-packages/powerlaw.py:1605: RuntimeWarning: invalid value encountered in true_divide\n",
      "  CDF = CDF/norm\n",
      "'nan' in fit cumulative distribution values.\n",
      "Likely underflow or overflow error: the optimal fit for this distribution gives values that are so extreme that we lack the numerical precision to calculate them.\n"
     ]
    },
    {
     "name": "stdout",
     "output_type": "stream",
     "text": [
      "p_value: 0.43439079627232435 item alpha: 1.534353683701113 item xmin: 2.0\n",
      "\n",
      "stoptime: 749800 pace: 374900\n",
      "Start reading from ../RealDatasetValidation/data/amazon/CDs_and_Vinyl_dump.txt\n",
      "ytime 20030811\n"
     ]
    },
    {
     "name": "stderr",
     "output_type": "stream",
     "text": [
      "Values less than or equal to 0 in data. Throwing out 0 or negative values\n",
      "Calculating best minimal value for power law fit\n"
     ]
    },
    {
     "name": "stdout",
     "output_type": "stream",
     "text": [
      "p_value: 0.8437815164230654 item alpha: 1.527527902585829 item xmin: 2.0\n",
      "\n",
      "stoptime: 1124700 pace: 374900\n",
      "Start reading from ../RealDatasetValidation/data/amazon/CDs_and_Vinyl_dump.txt\n",
      "1000000\n",
      "ytime 20050309\n"
     ]
    },
    {
     "name": "stderr",
     "output_type": "stream",
     "text": [
      "Values less than or equal to 0 in data. Throwing out 0 or negative values\n",
      "Calculating best minimal value for power law fit\n"
     ]
    },
    {
     "name": "stdout",
     "output_type": "stream",
     "text": [
      "p_value: 0.739624283052562 item alpha: 1.5272697689762642 item xmin: 3.0\n",
      "\n",
      "stoptime: 1499600 pace: 374900\n",
      "Start reading from ../RealDatasetValidation/data/amazon/CDs_and_Vinyl_dump.txt\n",
      "1000000\n",
      "ytime 20060720\n"
     ]
    },
    {
     "name": "stderr",
     "output_type": "stream",
     "text": [
      "Values less than or equal to 0 in data. Throwing out 0 or negative values\n",
      "Calculating best minimal value for power law fit\n"
     ]
    },
    {
     "name": "stdout",
     "output_type": "stream",
     "text": [
      "p_value: 0.9425115141647608 item alpha: 1.5338900154078126 item xmin: 3.0\n",
      "\n",
      "stoptime: 1874500 pace: 374900\n",
      "Start reading from ../RealDatasetValidation/data/amazon/CDs_and_Vinyl_dump.txt\n",
      "1000000\n",
      "ytime 20080311\n"
     ]
    },
    {
     "name": "stderr",
     "output_type": "stream",
     "text": [
      "Values less than or equal to 0 in data. Throwing out 0 or negative values\n",
      "Calculating best minimal value for power law fit\n"
     ]
    },
    {
     "name": "stdout",
     "output_type": "stream",
     "text": [
      "p_value: 0.15132385480186702 item alpha: 1.5403049670168616 item xmin: 22.0\n",
      "\n",
      "stoptime: 2249400 pace: 374900\n",
      "Start reading from ../RealDatasetValidation/data/amazon/CDs_and_Vinyl_dump.txt\n",
      "1000000\n",
      "2000000\n",
      "ytime 20091222\n"
     ]
    },
    {
     "name": "stderr",
     "output_type": "stream",
     "text": [
      "Values less than or equal to 0 in data. Throwing out 0 or negative values\n",
      "Calculating best minimal value for power law fit\n"
     ]
    },
    {
     "name": "stdout",
     "output_type": "stream",
     "text": [
      "p_value: 0.5525292880228453 item alpha: 1.5094547423890914 item xmin: 3.0\n",
      "\n",
      "stoptime: 2624300 pace: 374900\n",
      "Start reading from ../RealDatasetValidation/data/amazon/CDs_and_Vinyl_dump.txt\n",
      "1000000\n",
      "2000000\n",
      "ytime 20111203\n"
     ]
    },
    {
     "name": "stderr",
     "output_type": "stream",
     "text": [
      "Values less than or equal to 0 in data. Throwing out 0 or negative values\n",
      "Calculating best minimal value for power law fit\n"
     ]
    },
    {
     "name": "stdout",
     "output_type": "stream",
     "text": [
      "p_value: 0.35480539329279115 item alpha: 1.5040335601965733 item xmin: 4.0\n",
      "\n",
      "stoptime: 2999200 pace: 374900\n",
      "Start reading from ../RealDatasetValidation/data/amazon/CDs_and_Vinyl_dump.txt\n",
      "1000000\n",
      "2000000\n",
      "ytime 20130212\n"
     ]
    },
    {
     "name": "stderr",
     "output_type": "stream",
     "text": [
      "Values less than or equal to 0 in data. Throwing out 0 or negative values\n",
      "Calculating best minimal value for power law fit\n"
     ]
    },
    {
     "name": "stdout",
     "output_type": "stream",
     "text": [
      "p_value: 0.45944718979604404 item alpha: 1.5009697527617338 item xmin: 3.0\n",
      "\n",
      "stoptime: 3374100 pace: 374900\n",
      "Start reading from ../RealDatasetValidation/data/amazon/CDs_and_Vinyl_dump.txt\n",
      "1000000\n",
      "2000000\n",
      "3000000\n",
      "ytime 20131031\n"
     ]
    },
    {
     "name": "stderr",
     "output_type": "stream",
     "text": [
      "Values less than or equal to 0 in data. Throwing out 0 or negative values\n",
      "Calculating best minimal value for power law fit\n"
     ]
    },
    {
     "name": "stdout",
     "output_type": "stream",
     "text": [
      "p_value: 0.444647283011964 item alpha: 1.5045654378191125 item xmin: 3.0\n",
      "\n",
      "stoptime: 3749000 pace: 374900\n",
      "Start reading from ../RealDatasetValidation/data/amazon/CDs_and_Vinyl_dump.txt\n",
      "1000000\n",
      "2000000\n",
      "3000000\n",
      "ytime 20140723\n"
     ]
    },
    {
     "name": "stderr",
     "output_type": "stream",
     "text": [
      "Values less than or equal to 0 in data. Throwing out 0 or negative values\n",
      "Calculating best minimal value for power law fit\n"
     ]
    },
    {
     "name": "stdout",
     "output_type": "stream",
     "text": [
      "p_value: 0.5710819834097904 item alpha: 1.509502151844205 item xmin: 3.0\n",
      "\n",
      "stoptime: 2250715 pace: 2250715\n",
      "Start reading from ../RealDatasetValidation/data/amazon/Books_dump.txt\n",
      "1000000\n",
      "2000000\n",
      "ytime 20060218\n"
     ]
    },
    {
     "name": "stderr",
     "output_type": "stream",
     "text": [
      "Values less than or equal to 0 in data. Throwing out 0 or negative values\n",
      "Calculating best minimal value for power law fit\n"
     ]
    },
    {
     "name": "stdout",
     "output_type": "stream",
     "text": [
      "p_value: 0.7006510743897131 item alpha: 1.4683403765565117 item xmin: 3.0\n",
      "\n",
      "stoptime: 4501430 pace: 2250715\n",
      "Start reading from ../RealDatasetValidation/data/amazon/Books_dump.txt\n",
      "1000000\n",
      "2000000\n",
      "3000000\n",
      "4000000\n",
      "ytime 20090419\n"
     ]
    },
    {
     "name": "stderr",
     "output_type": "stream",
     "text": [
      "Values less than or equal to 0 in data. Throwing out 0 or negative values\n",
      "Calculating best minimal value for power law fit\n"
     ]
    },
    {
     "name": "stdout",
     "output_type": "stream",
     "text": [
      "p_value: 0.5638335501696141 item alpha: 1.456501585826114 item xmin: 3.0\n",
      "\n",
      "stoptime: 6752145 pace: 2250715\n",
      "Start reading from ../RealDatasetValidation/data/amazon/Books_dump.txt\n",
      "1000000\n",
      "2000000\n",
      "3000000\n",
      "4000000\n",
      "5000000\n",
      "6000000\n",
      "ytime 20110419\n"
     ]
    },
    {
     "name": "stderr",
     "output_type": "stream",
     "text": [
      "Values less than or equal to 0 in data. Throwing out 0 or negative values\n",
      "Calculating best minimal value for power law fit\n"
     ]
    },
    {
     "name": "stdout",
     "output_type": "stream",
     "text": [
      "p_value: 0.39379025506680754 item alpha: 1.4483526883833824 item xmin: 3.0\n",
      "\n",
      "stoptime: 9002860 pace: 2250715\n",
      "Start reading from ../RealDatasetValidation/data/amazon/Books_dump.txt\n",
      "1000000\n",
      "2000000\n",
      "3000000\n",
      "4000000\n",
      "5000000\n",
      "6000000\n",
      "7000000\n",
      "8000000\n",
      "9000000\n",
      "ytime 20120715\n"
     ]
    },
    {
     "name": "stderr",
     "output_type": "stream",
     "text": [
      "Values less than or equal to 0 in data. Throwing out 0 or negative values\n",
      "Calculating best minimal value for power law fit\n"
     ]
    },
    {
     "name": "stdout",
     "output_type": "stream",
     "text": [
      "p_value: 0.17598196122748766 item alpha: 1.4426393527967964 item xmin: 4.0\n",
      "\n",
      "stoptime: 11253575 pace: 2250715\n",
      "Start reading from ../RealDatasetValidation/data/amazon/Books_dump.txt\n",
      "1000000\n",
      "2000000\n",
      "3000000\n",
      "4000000\n",
      "5000000\n",
      "6000000\n",
      "7000000\n",
      "8000000\n",
      "9000000\n",
      "10000000\n",
      "11000000\n",
      "ytime 20130122\n"
     ]
    },
    {
     "name": "stderr",
     "output_type": "stream",
     "text": [
      "Values less than or equal to 0 in data. Throwing out 0 or negative values\n",
      "Calculating best minimal value for power law fit\n"
     ]
    },
    {
     "name": "stdout",
     "output_type": "stream",
     "text": [
      "p_value: 0.1808050316716865 item alpha: 1.447733087951129 item xmin: 4.0\n",
      "\n",
      "stoptime: 13504290 pace: 2250715\n",
      "Start reading from ../RealDatasetValidation/data/amazon/Books_dump.txt\n",
      "1000000\n",
      "2000000\n",
      "3000000\n",
      "4000000\n",
      "5000000\n",
      "6000000\n",
      "7000000\n",
      "8000000\n",
      "9000000\n",
      "10000000\n",
      "11000000\n",
      "12000000\n",
      "13000000\n",
      "ytime 20130518\n"
     ]
    },
    {
     "name": "stderr",
     "output_type": "stream",
     "text": [
      "Values less than or equal to 0 in data. Throwing out 0 or negative values\n",
      "Calculating best minimal value for power law fit\n"
     ]
    },
    {
     "name": "stdout",
     "output_type": "stream",
     "text": [
      "p_value: 0.15051017069336226 item alpha: 1.4538175918369405 item xmin: 4.0\n",
      "\n",
      "stoptime: 15755005 pace: 2250715\n",
      "Start reading from ../RealDatasetValidation/data/amazon/Books_dump.txt\n",
      "1000000\n",
      "2000000\n",
      "3000000\n",
      "4000000\n",
      "5000000\n",
      "6000000\n",
      "7000000\n",
      "8000000\n",
      "9000000\n",
      "10000000\n",
      "11000000\n",
      "12000000\n",
      "13000000\n",
      "14000000\n",
      "15000000\n",
      "ytime 20130915\n"
     ]
    },
    {
     "name": "stderr",
     "output_type": "stream",
     "text": [
      "Values less than or equal to 0 in data. Throwing out 0 or negative values\n",
      "Calculating best minimal value for power law fit\n"
     ]
    },
    {
     "name": "stdout",
     "output_type": "stream",
     "text": [
      "p_value: 0.4542766248032769 item alpha: 1.4658868682742703 item xmin: 3.0\n",
      "\n",
      "stoptime: 18005720 pace: 2250715\n",
      "Start reading from ../RealDatasetValidation/data/amazon/Books_dump.txt\n",
      "1000000\n",
      "2000000\n",
      "3000000\n",
      "4000000\n",
      "5000000\n",
      "6000000\n",
      "7000000\n",
      "8000000\n",
      "9000000\n",
      "10000000\n",
      "11000000\n",
      "12000000\n",
      "13000000\n",
      "14000000\n",
      "15000000\n",
      "16000000\n",
      "17000000\n",
      "18000000\n",
      "ytime 20140109\n"
     ]
    },
    {
     "name": "stderr",
     "output_type": "stream",
     "text": [
      "Values less than or equal to 0 in data. Throwing out 0 or negative values\n",
      "Calculating best minimal value for power law fit\n"
     ]
    },
    {
     "name": "stdout",
     "output_type": "stream",
     "text": [
      "p_value: 0.23995384825157096 item alpha: 1.4711267599898619 item xmin: 5.0\n",
      "\n",
      "stoptime: 20256435 pace: 2250715\n",
      "Start reading from ../RealDatasetValidation/data/amazon/Books_dump.txt\n",
      "1000000\n",
      "2000000\n",
      "3000000\n",
      "4000000\n",
      "5000000\n",
      "6000000\n",
      "7000000\n",
      "8000000\n",
      "9000000\n",
      "10000000\n",
      "11000000\n",
      "12000000\n",
      "13000000\n",
      "14000000\n",
      "15000000\n",
      "16000000\n",
      "17000000\n",
      "18000000\n",
      "19000000\n",
      "20000000\n",
      "ytime 20140413\n"
     ]
    },
    {
     "name": "stderr",
     "output_type": "stream",
     "text": [
      "Values less than or equal to 0 in data. Throwing out 0 or negative values\n",
      "Calculating best minimal value for power law fit\n"
     ]
    },
    {
     "name": "stdout",
     "output_type": "stream",
     "text": [
      "p_value: 0.979062179898362 item alpha: 1.483072579633828 item xmin: 3.0\n",
      "\n",
      "stoptime: 22507150 pace: 2250715\n",
      "Start reading from ../RealDatasetValidation/data/amazon/Books_dump.txt\n",
      "1000000\n",
      "2000000\n",
      "3000000\n",
      "4000000\n",
      "5000000\n",
      "6000000\n",
      "7000000\n",
      "8000000\n",
      "9000000\n",
      "10000000\n",
      "11000000\n",
      "12000000\n",
      "13000000\n",
      "14000000\n",
      "15000000\n",
      "16000000\n",
      "17000000\n",
      "18000000\n",
      "19000000\n",
      "20000000\n",
      "21000000\n",
      "22000000\n",
      "ytime 20140723\n"
     ]
    },
    {
     "name": "stderr",
     "output_type": "stream",
     "text": [
      "Values less than or equal to 0 in data. Throwing out 0 or negative values\n",
      "Calculating best minimal value for power law fit\n"
     ]
    },
    {
     "name": "stdout",
     "output_type": "stream",
     "text": [
      "p_value: 0.506849496510962 item alpha: 1.4772175167494075 item xmin: 3.0\n",
      "\n",
      "stoptime: 782448 pace: 782448\n",
      "Start reading from ../RealDatasetValidation/data/amazon/Electronics_dump.txt\n",
      "ytime 20090422\n"
     ]
    },
    {
     "name": "stderr",
     "output_type": "stream",
     "text": [
      "Values less than or equal to 0 in data. Throwing out 0 or negative values\n",
      "Calculating best minimal value for power law fit\n"
     ]
    },
    {
     "name": "stdout",
     "output_type": "stream",
     "text": [
      "p_value: 0.7202069898711214 item alpha: 1.6006465356812045 item xmin: 3.0\n",
      "\n",
      "stoptime: 1564896 pace: 782448\n",
      "Start reading from ../RealDatasetValidation/data/amazon/Electronics_dump.txt\n",
      "1000000\n",
      "ytime 20110211\n"
     ]
    },
    {
     "name": "stderr",
     "output_type": "stream",
     "text": [
      "Values less than or equal to 0 in data. Throwing out 0 or negative values\n",
      "Calculating best minimal value for power law fit\n"
     ]
    },
    {
     "name": "stdout",
     "output_type": "stream",
     "text": [
      "p_value: 0.8010181587684662 item alpha: 1.582007647314962 item xmin: 3.0\n",
      "\n",
      "stoptime: 2347344 pace: 782448\n",
      "Start reading from ../RealDatasetValidation/data/amazon/Electronics_dump.txt\n",
      "1000000\n",
      "2000000\n",
      "ytime 20120126\n"
     ]
    },
    {
     "name": "stderr",
     "output_type": "stream",
     "text": [
      "Values less than or equal to 0 in data. Throwing out 0 or negative values\n",
      "Calculating best minimal value for power law fit\n"
     ]
    },
    {
     "name": "stdout",
     "output_type": "stream",
     "text": [
      "p_value: 0.27926179410055063 item alpha: 1.5984154998688709 item xmin: 15.0\n",
      "\n",
      "stoptime: 3129792 pace: 782448\n",
      "Start reading from ../RealDatasetValidation/data/amazon/Electronics_dump.txt\n",
      "1000000\n",
      "2000000\n",
      "3000000\n",
      "ytime 20121108\n"
     ]
    },
    {
     "name": "stderr",
     "output_type": "stream",
     "text": [
      "Values less than or equal to 0 in data. Throwing out 0 or negative values\n",
      "Calculating best minimal value for power law fit\n"
     ]
    },
    {
     "name": "stdout",
     "output_type": "stream",
     "text": [
      "p_value: 0.33372036577223463 item alpha: 1.5758352822496908 item xmin: 8.0\n",
      "\n",
      "stoptime: 3912240 pace: 782448\n",
      "Start reading from ../RealDatasetValidation/data/amazon/Electronics_dump.txt\n",
      "1000000\n",
      "2000000\n",
      "3000000\n",
      "ytime 20130217\n"
     ]
    },
    {
     "name": "stderr",
     "output_type": "stream",
     "text": [
      "Values less than or equal to 0 in data. Throwing out 0 or negative values\n",
      "Calculating best minimal value for power law fit\n"
     ]
    },
    {
     "name": "stdout",
     "output_type": "stream",
     "text": [
      "p_value: 0.9984885768964384 item alpha: 1.5752844501784806 item xmin: 3.0\n",
      "\n",
      "stoptime: 4694688 pace: 782448\n",
      "Start reading from ../RealDatasetValidation/data/amazon/Electronics_dump.txt\n",
      "1000000\n",
      "2000000\n",
      "3000000\n",
      "4000000\n",
      "ytime 20130610\n"
     ]
    },
    {
     "name": "stderr",
     "output_type": "stream",
     "text": [
      "Values less than or equal to 0 in data. Throwing out 0 or negative values\n",
      "Calculating best minimal value for power law fit\n"
     ]
    },
    {
     "name": "stdout",
     "output_type": "stream",
     "text": [
      "p_value: 0.9204015727809906 item alpha: 1.5732252245042486 item xmin: 3.0\n",
      "\n",
      "stoptime: 5477136 pace: 782448\n",
      "Start reading from ../RealDatasetValidation/data/amazon/Electronics_dump.txt\n",
      "1000000\n",
      "2000000\n",
      "3000000\n",
      "4000000\n",
      "5000000\n",
      "ytime 20131006\n"
     ]
    },
    {
     "name": "stderr",
     "output_type": "stream",
     "text": [
      "Values less than or equal to 0 in data. Throwing out 0 or negative values\n",
      "Calculating best minimal value for power law fit\n"
     ]
    },
    {
     "name": "stdout",
     "output_type": "stream",
     "text": [
      "p_value: 0.30899643868129656 item alpha: 1.5802926882570547 item xmin: 9.0\n",
      "\n",
      "stoptime: 6259584 pace: 782448\n",
      "Start reading from ../RealDatasetValidation/data/amazon/Electronics_dump.txt\n",
      "1000000\n",
      "2000000\n",
      "3000000\n",
      "4000000\n",
      "5000000\n",
      "6000000\n",
      "ytime 20140112\n"
     ]
    },
    {
     "name": "stderr",
     "output_type": "stream",
     "text": [
      "Values less than or equal to 0 in data. Throwing out 0 or negative values\n",
      "Calculating best minimal value for power law fit\n"
     ]
    },
    {
     "name": "stdout",
     "output_type": "stream",
     "text": [
      "p_value: 0.8467147023461304 item alpha: 1.5817992941498669 item xmin: 4.0\n",
      "\n",
      "stoptime: 7042032 pace: 782448\n",
      "Start reading from ../RealDatasetValidation/data/amazon/Electronics_dump.txt\n",
      "1000000\n",
      "2000000\n",
      "3000000\n",
      "4000000\n",
      "5000000\n",
      "6000000\n",
      "7000000\n",
      "ytime 20140409\n"
     ]
    },
    {
     "name": "stderr",
     "output_type": "stream",
     "text": [
      "Values less than or equal to 0 in data. Throwing out 0 or negative values\n",
      "Calculating best minimal value for power law fit\n"
     ]
    },
    {
     "name": "stdout",
     "output_type": "stream",
     "text": [
      "p_value: 0.28024990596180543 item alpha: 1.5787031681181347 item xmin: 8.0\n",
      "\n",
      "stoptime: 7824480 pace: 782448\n",
      "Start reading from ../RealDatasetValidation/data/amazon/Electronics_dump.txt\n",
      "1000000\n",
      "2000000\n",
      "3000000\n",
      "4000000\n",
      "5000000\n",
      "6000000\n",
      "7000000\n",
      "ytime 20140723\n"
     ]
    },
    {
     "name": "stderr",
     "output_type": "stream",
     "text": [
      "Values less than or equal to 0 in data. Throwing out 0 or negative values\n",
      "Calculating best minimal value for power law fit\n"
     ]
    },
    {
     "name": "stdout",
     "output_type": "stream",
     "text": [
      "p_value: 0.6949286293986585 item alpha: 1.5799240279063527 item xmin: 4.0\n",
      "\n",
      "stoptime: 460704 pace: 460704\n",
      "Start reading from ../RealDatasetValidation/data/amazon/Movies_and_TV_dump.txt\n",
      "ytime 20040630\n"
     ]
    },
    {
     "name": "stderr",
     "output_type": "stream",
     "text": [
      "Values less than or equal to 0 in data. Throwing out 0 or negative values\n",
      "Calculating best minimal value for power law fit\n"
     ]
    },
    {
     "name": "stdout",
     "output_type": "stream",
     "text": [
      "p_value: 0.6739281902743901 item alpha: 1.6330562744250643 item xmin: 3.0\n",
      "\n",
      "stoptime: 921408 pace: 460704\n",
      "Start reading from ../RealDatasetValidation/data/amazon/Movies_and_TV_dump.txt\n",
      "ytime 20070119\n"
     ]
    },
    {
     "name": "stderr",
     "output_type": "stream",
     "text": [
      "Values less than or equal to 0 in data. Throwing out 0 or negative values\n",
      "Calculating best minimal value for power law fit\n"
     ]
    },
    {
     "name": "stdout",
     "output_type": "stream",
     "text": [
      "p_value: 0.3317664136328181 item alpha: 1.6951167800246185 item xmin: 24.0\n",
      "\n",
      "stoptime: 1382112 pace: 460704\n",
      "Start reading from ../RealDatasetValidation/data/amazon/Movies_and_TV_dump.txt\n",
      "1000000\n",
      "ytime 20090129\n"
     ]
    },
    {
     "name": "stderr",
     "output_type": "stream",
     "text": [
      "Values less than or equal to 0 in data. Throwing out 0 or negative values\n",
      "Calculating best minimal value for power law fit\n"
     ]
    },
    {
     "name": "stdout",
     "output_type": "stream",
     "text": [
      "p_value: 0.34879722732742435 item alpha: 1.672027878257013 item xmin: 21.0\n",
      "\n",
      "stoptime: 1842816 pace: 460704\n",
      "Start reading from ../RealDatasetValidation/data/amazon/Movies_and_TV_dump.txt\n",
      "1000000\n",
      "ytime 20110102\n"
     ]
    },
    {
     "name": "stderr",
     "output_type": "stream",
     "text": [
      "Values less than or equal to 0 in data. Throwing out 0 or negative values\n",
      "Calculating best minimal value for power law fit\n"
     ]
    },
    {
     "name": "stdout",
     "output_type": "stream",
     "text": [
      "p_value: 0.33444937270797803 item alpha: 1.6730539408569318 item xmin: 28.0\n",
      "\n",
      "stoptime: 2303520 pace: 460704\n",
      "Start reading from ../RealDatasetValidation/data/amazon/Movies_and_TV_dump.txt\n",
      "1000000\n",
      "2000000\n",
      "ytime 20120810\n"
     ]
    },
    {
     "name": "stderr",
     "output_type": "stream",
     "text": [
      "Values less than or equal to 0 in data. Throwing out 0 or negative values\n",
      "Calculating best minimal value for power law fit\n"
     ]
    },
    {
     "name": "stdout",
     "output_type": "stream",
     "text": [
      "p_value: 0.24299224348170245 item alpha: 1.612949665571386 item xmin: 8.0\n",
      "\n",
      "stoptime: 2764224 pace: 460704\n",
      "Start reading from ../RealDatasetValidation/data/amazon/Movies_and_TV_dump.txt\n",
      "1000000\n",
      "2000000\n",
      "ytime 20130225\n"
     ]
    },
    {
     "name": "stderr",
     "output_type": "stream",
     "text": [
      "Values less than or equal to 0 in data. Throwing out 0 or negative values\n",
      "Calculating best minimal value for power law fit\n"
     ]
    },
    {
     "name": "stdout",
     "output_type": "stream",
     "text": [
      "p_value: 0.2878880531875425 item alpha: 1.6192941057448644 item xmin: 8.0\n",
      "\n",
      "stoptime: 3224928 pace: 460704\n",
      "Start reading from ../RealDatasetValidation/data/amazon/Movies_and_TV_dump.txt\n",
      "1000000\n",
      "2000000\n",
      "3000000\n",
      "ytime 20130716\n"
     ]
    },
    {
     "name": "stderr",
     "output_type": "stream",
     "text": [
      "Values less than or equal to 0 in data. Throwing out 0 or negative values\n",
      "Calculating best minimal value for power law fit\n"
     ]
    },
    {
     "name": "stdout",
     "output_type": "stream",
     "text": [
      "p_value: 0.2558573322296378 item alpha: 1.6123171202380524 item xmin: 6.0\n",
      "\n",
      "stoptime: 3685632 pace: 460704\n",
      "Start reading from ../RealDatasetValidation/data/amazon/Movies_and_TV_dump.txt\n",
      "1000000\n",
      "2000000\n",
      "3000000\n",
      "ytime 20131217\n"
     ]
    },
    {
     "name": "stderr",
     "output_type": "stream",
     "text": [
      "Values less than or equal to 0 in data. Throwing out 0 or negative values\n",
      "Calculating best minimal value for power law fit\n"
     ]
    },
    {
     "name": "stdout",
     "output_type": "stream",
     "text": [
      "p_value: 0.8301154008702956 item alpha: 1.6190400995447982 item xmin: 3.0\n",
      "\n",
      "stoptime: 4146336 pace: 460704\n",
      "Start reading from ../RealDatasetValidation/data/amazon/Movies_and_TV_dump.txt\n",
      "1000000\n",
      "2000000\n",
      "3000000\n",
      "4000000\n",
      "ytime 20140320\n"
     ]
    },
    {
     "name": "stderr",
     "output_type": "stream",
     "text": [
      "Values less than or equal to 0 in data. Throwing out 0 or negative values\n",
      "Calculating best minimal value for power law fit\n"
     ]
    },
    {
     "name": "stdout",
     "output_type": "stream",
     "text": [
      "p_value: 0.31805186798841734 item alpha: 1.6233044974552335 item xmin: 6.0\n",
      "\n",
      "stoptime: 4607040 pace: 460704\n",
      "Start reading from ../RealDatasetValidation/data/amazon/Movies_and_TV_dump.txt\n",
      "1000000\n",
      "2000000\n",
      "3000000\n",
      "4000000\n",
      "ytime 20140723\n"
     ]
    },
    {
     "name": "stderr",
     "output_type": "stream",
     "text": [
      "Values less than or equal to 0 in data. Throwing out 0 or negative values\n",
      "Calculating best minimal value for power law fit\n"
     ]
    },
    {
     "name": "stdout",
     "output_type": "stream",
     "text": [
      "p_value: 0.9097421870306927 item alpha: 1.6338232237620063 item xmin: 3.0\n",
      "\n"
     ]
    }
   ],
   "source": [
    "if __name__==\"__main__\":\n",
    "    # data_processing()\n",
    "    # data_time()\n",
    "    evol()"
   ]
  },
  {
   "cell_type": "code",
   "execution_count": null,
   "metadata": {},
   "outputs": [],
   "source": []
  }
 ],
 "metadata": {
  "kernelspec": {
   "display_name": "Python 3",
   "language": "python",
   "name": "python3"
  },
  "language_info": {
   "codemirror_mode": {
    "name": "ipython",
    "version": 3
   },
   "file_extension": ".py",
   "mimetype": "text/x-python",
   "name": "python",
   "nbconvert_exporter": "python",
   "pygments_lexer": "ipython3",
   "version": "3.6.8"
  },
  "latex_envs": {
   "LaTeX_envs_menu_present": true,
   "autoclose": false,
   "autocomplete": true,
   "bibliofile": "biblio.bib",
   "cite_by": "apalike",
   "current_citInitial": 1,
   "eqLabelWithNumbers": true,
   "eqNumInitial": 1,
   "hotkeys": {
    "equation": "Ctrl-E",
    "itemize": "Ctrl-I"
   },
   "labels_anchors": false,
   "latex_user_defs": false,
   "report_style_numbering": false,
   "user_envs_cfg": false
  },
  "toc": {
   "base_numbering": 1,
   "nav_menu": {},
   "number_sections": true,
   "sideBar": true,
   "skip_h1_title": false,
   "title_cell": "Table of Contents",
   "title_sidebar": "Contents",
   "toc_cell": false,
   "toc_position": {},
   "toc_section_display": true,
   "toc_window_display": false
  }
 },
 "nbformat": 4,
 "nbformat_minor": 4
}
