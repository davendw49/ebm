{
 "cells": [
  {
   "cell_type": "code",
   "execution_count": 1,
   "metadata": {},
   "outputs": [],
   "source": [
    "# This is the simulation of our evolving RS model under the FIRST framework of our assumptions on edge weights.\n",
    "import numpy as np\n",
    "import matplotlib.pyplot as plt\n",
    "import powerlaw\n",
    "import pandas as pd\n",
    "import random\n",
    "import seaborn as sns"
   ]
  },
  {
   "cell_type": "code",
   "execution_count": 62,
   "metadata": {
    "jupyter": {
     "source_hidden": true
    }
   },
   "outputs": [],
   "source": [
    "#Initial settings of parameters in our weighted bipartite graph model B(U,I).\n",
    "beta = 0.6 # the probability to add a new vertex in U\n",
    "iterations = 3000 # the number of iterations to run the simulation\n",
    "rating_scale = 5 # the preassigned rating scale\n",
    "Cu = 10 # the least number of edges connected to vertices in U\n",
    "Ci = 20 # the least number of edges connected to vertices in I\n",
    "Unum = 20 # the number of vertices in U in the initial graph at t=0\n",
    "Inum = 10 # the number of vertices in I in the initial graph at t=1\n",
    "K = 10 # the number of basic user type in our assumption\n",
    "L = 5 # the number of basic item level in our assumption\n",
    "C = 1\n",
    "Huser = np.zeros((K,rating_scale)) # the rating pmf for the K user types\n",
    "Hitem = np.zeros((L,rating_scale)) # the rating pmf for the L item levels\n",
    "Fmean = np.zeros((K,)) # the mean of the distribution of users' weight vector (assumed to be Gaussian)\n",
    "Gmean = np.zeros((L,)) # the mean of the distribution of items' weight vector (assumed to be Gaussian)\n",
    "edges = np.zeros((iterations+50,iterations+50), dtype=int) # the matrix storing edge information"
   ]
  },
  {
   "cell_type": "code",
   "execution_count": 64,
   "metadata": {
    "jupyter": {
     "source_hidden": true
    }
   },
   "outputs": [],
   "source": [
    "# Sample edge weight(s) for new users in U from the mixture distribution\n",
    "def userweightgenerator(nb):\n",
    "    global K,L,Huser,Hitem,rating_scale,Fmean,Gmean\n",
    "    Uvec = np.random.normal(Fmean,0.1)\n",
    "    Uvec[Uvec<0]=0\n",
    "    Uvec = Uvec/np.sum(Uvec)\n",
    "    Uvec = np.array([Uvec]*rating_scale)\n",
    "    Uvec = np.transpose(Uvec)\n",
    "    Hu = Huser*Uvec\n",
    "    Hu = np.sum(Hu,axis=0)\n",
    "    R = np.random.choice(rating_scale,nb,p=Hu)+1\n",
    "    return R"
   ]
  },
  {
   "cell_type": "code",
   "execution_count": 69,
   "metadata": {
    "jupyter": {
     "source_hidden": true
    }
   },
   "outputs": [],
   "source": [
    "# Initialization for the inital simple graph at t=0\n",
    "def init():\n",
    "    print('Initalizing...')\n",
    "    global edges,Unum,Inum\n",
    "    init_weightgenerator()\n",
    "    edges = np.zeros((iterations+50,iterations+50), dtype=int)\n",
    "    # We can assume that axis=1 is user sequence and the axis=0 is the item sequence\n",
    "    for i in range(Unum):\n",
    "        edges[i,0:Inum] = userweightgenerator(Inum)\n",
    "    print('Done.')"
   ]
  },
  {
   "cell_type": "code",
   "execution_count": null,
   "metadata": {
    "jupyter": {
     "source_hidden": true
    }
   },
   "outputs": [],
   "source": [
    "# Select \"prototype\" from the existing vertex group\n",
    "def prototype(arr, nb):\n",
    "    return np.count_nonzero(arr.cumsum() < nb)\n",
    "\n",
    "# Conduct Edge-copy and assign new edge weights\n",
    "def copyedge(template, desired,p_prime):\n",
    "    ls = []\n",
    "    new2old = template.nonzero()[0]\n",
    "    tmp = template[new2old].astype(float)\n",
    "    for i in range(desired):\n",
    "        tmp /= tmp.sum()\n",
    "        sampled = np.nonzero(np.random.multinomial(1, tmp))[0][0]\n",
    "        ls.append(sampled)\n",
    "        tmp[sampled] = 0\n",
    "    ls.sort()\n",
    "    return new2old[ls]\n",
    "\n",
    "# Add new vertices to U (respectively. I)\n",
    "def addnode(nb_axis):\n",
    "    global edges,Unum,Inum\n",
    "    weightsum = np.sum(edges[:Unum,:Inum], axis=nb_axis)\n",
    "    totalsum = np.sum(weightsum)\n",
    "    randnum = np.random.randint(1, totalsum+1)\n",
    "    p_prime = prototype(weightsum, randnum)\n",
    "    weighted = np.zeros(1)\n",
    "    if nb_axis == 1:\n",
    "        template = edges[p_prime, :Inum]\n",
    "        desired = Cu\n",
    "        weighted = userweightgenerator(template.shape[0])\n",
    "    else:\n",
    "        template = edges[:Unum, p_prime]\n",
    "        desired = Ci\n",
    "        weighted = itemweightgenerator(template.shape[0])\n",
    "    idx = copyedge(template, desired,p_prime)\n",
    "    new = np.zeros(template.shape[0],dtype=int)\n",
    "    new[idx] = weighted[idx]\n",
    "    if nb_axis == 1:\n",
    "        edges[Unum,:Inum] = new\n",
    "        Unum = Unum + 1\n",
    "    else:\n",
    "        edges[:Unum,Inum] = new\n",
    "        Inum = Inum + 1\n",
    "\n",
    "# Evolution of U (or I)\n",
    "def evolution():\n",
    "    randnum = np.random.rand()\n",
    "    if randnum < beta:\n",
    "        # add user\n",
    "        addnode(1)\n",
    "    else:\n",
    "        # add item\n",
    "        addnode(0)\n",
    "    \n",
    "# Iterate \n",
    "def iterate():\n",
    "    print('Begin iteration...')\n",
    "    for i in range(iterations):\n",
    "        evolution()\n",
    "    print('Done')\n",
    "    \n",
    "# Gather statistic information\n",
    "def stat():\n",
    "    global edges\n",
    "    tmps = edges.flatten().astype(int)\n",
    "    count = np.bincount(tmps)\n",
    "    count = count[1:]\n",
    "    count = 1.0*count/count.sum()\n",
    "    return count\n",
    "\n",
    "# Calculate degree distributions\n",
    "def calcdegree():\n",
    "    global edges\n",
    "    sumdegree = edges.astype(bool).sum(axis=1)\n",
    "    return np.bincount(sumdegree)\n",
    "\n",
    "# Calculate vertex weight distributions\n",
    "def calcweight():\n",
    "    global edges\n",
    "    sumdegree = edges.sum(axis=1)\n",
    "    return np.bincount(sumdegree)\n",
    "\n",
    "# Calculate degree distributions\n",
    "def calcdegree_1():\n",
    "    global edges\n",
    "    sumdegree = edges.astype(bool).sum(axis=0)\n",
    "    return np.bincount(sumdegree)\n",
    "\n",
    "# Calculate vertex weight distributions\n",
    "def calcweight_1():\n",
    "    global edges\n",
    "    sumdegree = edges.sum(axis=0)\n",
    "    return np.bincount(sumdegree)\n",
    "\n",
    "# Run the simulation for one time\n",
    "def once():\n",
    "    global edges,Unum,Inum\n",
    "    init()\n",
    "    k = stat()\n",
    "    iterate()\n",
    "    res = stat()\n",
    "    # print(edges)\n",
    "    deg_1 = calcdegree_1()\n",
    "    weights_1 = calcweight_1()\n",
    "    deg = calcdegree()\n",
    "    weights = calcweight()\n",
    "    print('--------------------------')\n",
    "    return (res, deg, weights, deg_1, weights_1, edges)"
   ]
  },
  {
   "cell_type": "markdown",
   "metadata": {},
   "source": [
    "# Class of Assumption Method 1"
   ]
  },
  {
   "cell_type": "code",
   "execution_count": 2,
   "metadata": {},
   "outputs": [],
   "source": [
    "class assumption_1st:\n",
    "    def __init__(self, beta, iterations, rating_scale, Cu, Ci, Unum, Inum, K, L, C):\n",
    "        self.init_paramter(beta, iterations, rating_scale, Cu, Ci, Unum, Inum, K, L, C)\n",
    "        self.init_assumption()\n",
    "        k = self.stat()\n",
    "        self.iterate()\n",
    "        res = self.stat()\n",
    "        tdu = self.calcdegree_user()\n",
    "        twu = self.calcweight_user()\n",
    "        tdi = self.calcdegree_item()\n",
    "        twi = self.calcweight_item()\n",
    "        \n",
    "        k = (res, tdu, twu, tdi, twi)\n",
    "        x = np.zeros(self.rating_scale)\n",
    "        self.degseq_user = np.zeros(self.iterations + 1)\n",
    "        self.weiseq_user = np.zeros(self.iterations + 1)\n",
    "        self.degseq_item = np.zeros(self.iterations + 1)\n",
    "        self.weiseq_item = np.zeros(self.iterations + 1)\n",
    "        \n",
    "        x[:res.size] = x[:res.size] + res\n",
    "        self.degseq_user[:min(self.iterations+1,k[1].size)] = self.degseq_user[:min(self.iterations+1,k[1].size)] + k[1][:min(self.iterations+1,k[1].size)]\n",
    "        self.weiseq_user[:min(self.iterations+1,k[2].size)] = self.weiseq_user[:min(self.iterations+1,k[2].size)] + k[2][:min(self.iterations+1,k[2].size)]\n",
    "        self.degseq_item[:min(self.iterations+1,k[3].size)] = self.degseq_item[:min(self.iterations+1,k[3].size)] + k[3][:min(self.iterations+1,k[3].size)]\n",
    "        self.weiseq_item[:min(self.iterations+1,k[4].size)] = self.weiseq_item[:min(self.iterations+1,k[4].size)] + k[4][:min(self.iterations+1,k[4].size)]\n",
    "        np.set_printoptions(threshold=np.inf)\n",
    "        xind = np.zeros(self.iterations + 1)\n",
    "        for i in range(1,self.iterations + 1):\n",
    "            xind[i] = xind[i-1] + 1\n",
    "        self.xind_user = xind\n",
    "        self.xind_item = xind\n",
    "        print(\"finish all the staff\")\n",
    "        \n",
    "    \n",
    "    def init_paramter(self, beta, iterations, rating_scale, Cu, Ci, Unum, Inum, K, L, C):\n",
    "        #Initial settings of parameters in our weighted bipartite graph model B(U,I).\n",
    "        self.beta = beta # the probability to add a new vertex in U\n",
    "        self.iterations = iterations # the number of iterations to run the simulation\n",
    "        self.rating_scale = rating_scale # the preassigned rating scale\n",
    "        self.Cu = Cu # the least number of edges connected to vertices in U\n",
    "        self.Ci = Ci # the least number of edges connected to vertices in I\n",
    "        self.Unum = Unum # the number of vertices in U in the initial graph at t=0\n",
    "        self.Inum = Inum # the number of vertices in I in the initial graph at t=1\n",
    "        self.K = K # the number of basic user type in our assumption\n",
    "        self.L = L # the number of basic item level in our assumption\n",
    "        \n",
    "        self.C = C # the number of adding edge\n",
    "        \n",
    "        self.Huser = np.zeros((K,rating_scale)) # the rating pmf for the K user types\n",
    "        self.Hitem = np.zeros((L,rating_scale)) # the rating pmf for the L item levels\n",
    "        self.Fmean = np.zeros((K,)) # the mean of the distribution of users' weight vector (assumed to be Gaussian)\n",
    "        self.Gmean = np.zeros((L,)) # the mean of the distribution of items' weight vector (assumed to be Gaussian)\n",
    "        self.edges = np.zeros((iterations+50,iterations+50), dtype=int) # the matrix storing edge information\n",
    "        \n",
    "    def init_weightgenerator(self):\n",
    "        # Initalization of the sampling of edge weights from the mixture distribution\n",
    "        # include K,L,Huser,Hitem,rating_scale,Fmean,Gmean\n",
    "        self.Huser = np.random.sample((self.K, self.rating_scale))\n",
    "        Husersubsum = np.sum(self.Huser, axis=1)\n",
    "        Husersubsum = np.array([Husersubsum] * self.rating_scale)\n",
    "        Husersubsum = np.transpose(Husersubsum)\n",
    "        self.Huser = self.Huser/Husersubsum\n",
    "        \n",
    "        self.Hitem = np.random.sample((self.L, self.rating_scale))\n",
    "        Hitemsubsum = np.sum(self.Hitem, axis=1)\n",
    "        Hitemsubsum = np.array([Hitemsubsum] * self.rating_scale)\n",
    "        Hitemsubsum = np.transpose(Hitemsubsum)\n",
    "        self.Hitem = self.Hitem/Hitemsubsum\n",
    "        \n",
    "        self.Fmean = np.random.sample(self.K,)\n",
    "        self.Fmean = self.Fmean/np.sum(self.Fmean)\n",
    "        self.Gmean = np.random.sample(self.L,)\n",
    "        self.Gmean = self.Gmean/np.sum(self.Gmean)\n",
    "    \n",
    "    def init_assumption(self):\n",
    "        # Initialization for the inital simple graph at t=0\n",
    "        print(\"Initalizing...\", end=\"\")\n",
    "        # include global edges,Unum,Inum\n",
    "        self.init_weightgenerator()\n",
    "        self.edges = np.zeros((self.iterations+50, self.iterations+50), dtype=int)\n",
    "        # We can assume that axis=1 is user sequence and the axis=0 is the item sequence\n",
    "        for i in range(self.Unum):\n",
    "            self.edges[i,0:self.Inum] = self.userweightgenerator(self.Inum)\n",
    "        print(\"Done.\")\n",
    "        \n",
    "    def userweightgenerator(self, nb):\n",
    "        # Sample edge weight(s) for new users in U from the mixture distribution\n",
    "        # include K,L,Huser,Hitem,rating_scale,Fmean,Gmean\n",
    "        Uvec = np.random.normal(self.Fmean,0.1)\n",
    "        Uvec[Uvec<0]=0\n",
    "        Uvec = Uvec/np.sum(Uvec)\n",
    "        Uvec = np.array([Uvec]*self.rating_scale)\n",
    "        Uvec = np.transpose(Uvec)\n",
    "        Hu = self.Huser*Uvec\n",
    "        Hu = np.sum(Hu,axis=0)\n",
    "        R = np.random.choice(self.rating_scale,nb,p=Hu)+1\n",
    "        return R\n",
    "    \n",
    "    def itemweightgenerator(self, nb):\n",
    "        # Sample edge weight(s) for new items in I from the mixture distribution\n",
    "        # include K,L,Huser,Hitem,rating_scale,Fmean,Gmean\n",
    "        Ivec = np.random.normal(self.Gmean,0.1)\n",
    "        Ivec[Ivec<0]=0\n",
    "        Ivec = Ivec/np.sum(Ivec)\n",
    "        Ivec = np.array([Ivec]*self.rating_scale)\n",
    "        Ivec = np.transpose(Ivec)\n",
    "        Hi = self.Hitem*Ivec\n",
    "        Hi = np.sum(Hi,axis=0)\n",
    "        R = np.random.choice(self.rating_scale,nb,p=Hi)+1\n",
    "        return R\n",
    "\n",
    "    # Select \"prototype\" from the existing vertex group\n",
    "    def prototype(self, arr, nb):\n",
    "        return np.count_nonzero(arr.cumsum() < nb)\n",
    "\n",
    "    # Conduct Edge-copy and assign new edge weights\n",
    "    def copyedge(self, template, desired,p_prime):\n",
    "        ls = []\n",
    "        new2old = template.nonzero()[0]\n",
    "        tmp = template[new2old].astype(float)\n",
    "        for i in range(desired):\n",
    "            tmp /= tmp.sum()\n",
    "            sampled = np.nonzero(np.random.multinomial(1, tmp))[0][0]\n",
    "            ls.append(sampled)\n",
    "            tmp[sampled] = 0\n",
    "        ls.sort()\n",
    "        return new2old[ls]\n",
    "\n",
    "    # Add new vertices to U (respectively. I)\n",
    "    def addnode(self, nb_axis):\n",
    "        # include edges,Unum,Inum\n",
    "        weightsum = np.sum(self.edges[:self.Unum,:self.Inum], axis=nb_axis)\n",
    "        totalsum = np.sum(weightsum)\n",
    "        randnum = np.random.randint(1, totalsum+1)\n",
    "        p_prime = self.prototype(weightsum, randnum)\n",
    "        weighted = np.zeros(1)\n",
    "        if nb_axis == 1:\n",
    "            template = self.edges[p_prime, :self.Inum]\n",
    "            desired = self.Cu\n",
    "            weighted = self.userweightgenerator(template.shape[0])\n",
    "        else:\n",
    "            template = self.edges[:self.Unum, p_prime]\n",
    "            desired = self.Ci\n",
    "            weighted = self.itemweightgenerator(template.shape[0])\n",
    "        idx = self.copyedge(template, desired, p_prime)\n",
    "        new = np.zeros(template.shape[0],dtype=int)\n",
    "        new[idx] = weighted[idx]\n",
    "        if nb_axis == 1:\n",
    "            self.edges[self.Unum,:self.Inum] = new\n",
    "            self.Unum = self.Unum + 1\n",
    "        else:\n",
    "            self.edges[:self.Unum,self.Inum] = new\n",
    "            self.Inum = self.Inum + 1\n",
    "    \n",
    "    # Add new edges to Graph\n",
    "    def addedge(self):\n",
    "        # include edges,Unum,Inum\n",
    "        randnum_user = random.randint(0,self.Unum-1)\n",
    "        randnum_item = random.randint(0,self.Inum-1)\n",
    "        self.edges[randnum_user,randnum_item] = random.randint(1, self.rating_scale)\n",
    "        \n",
    "    # Evolution of U (or I)\n",
    "    def evolution(self):\n",
    "        randnum = np.random.rand()\n",
    "        if randnum < self.beta:\n",
    "            # add user\n",
    "            self.addnode(1)\n",
    "        else:\n",
    "            # add item\n",
    "            self.addnode(0)\n",
    "        for i in range(self.C):\n",
    "            self.addedge()\n",
    "            # pass\n",
    "\n",
    "    # Iterate \n",
    "    def iterate(self):\n",
    "        print(\"Begin iteration...\", end=\"\")\n",
    "        for i in range(self.iterations):\n",
    "            self.evolution()\n",
    "        print(\"Done\")\n",
    "\n",
    "    # Gather statistic information\n",
    "    def stat(self):\n",
    "        # include edges\n",
    "        tmps = self.edges.flatten().astype(int)\n",
    "        count = np.bincount(tmps)\n",
    "        count = count[1:]\n",
    "        count = 1.0*count/count.sum()\n",
    "        return count\n",
    "\n",
    "    # Calculate degree distributions\n",
    "    def calcdegree_user(self):\n",
    "        # include edges\n",
    "        sumdegree = self.edges.astype(bool).sum(axis=1)\n",
    "        return np.bincount(sumdegree)\n",
    "\n",
    "    # Calculate vertex weight distributions\n",
    "    def calcweight_user(self):\n",
    "        # include edges\n",
    "        sumdegree = self.edges.sum(axis=1)\n",
    "        return np.bincount(sumdegree)\n",
    "\n",
    "    # Calculate degree distributions\n",
    "    def calcdegree_item(self):\n",
    "        # include edges\n",
    "        sumdegree = self.edges.astype(bool).sum(axis=0)\n",
    "        return np.bincount(sumdegree)\n",
    "\n",
    "    # Calculate vertex weight distributions\n",
    "    def calcweight_item(self):\n",
    "        # include edges\n",
    "        sumdegree = self.edges.sum(axis=0)\n",
    "        return np.bincount(sumdegree)\n",
    "    \n",
    "    def get_distribution(self, target=\"user\"):\n",
    "        if target == \"item\":\n",
    "            return self.degseq_item, self.weiseq_item, self.xind_item\n",
    "        else:\n",
    "            return self.degseq_user, self.weiseq_user, self.xind_user\n",
    "        \n",
    "    def get_graph(self):\n",
    "        return self.edges, self.Inum, self.Unum"
   ]
  },
  {
   "cell_type": "code",
   "execution_count": 3,
   "metadata": {},
   "outputs": [],
   "source": [
    "def get_pvalue_alpha_xmin(seq):\n",
    "    results = powerlaw.Fit(seq)\n",
    "    alpha = results.power_law.alpha\n",
    "    xmin = results.power_law.xmin\n",
    "    R, p_value = results.distribution_compare('power_law', 'lognormal')\n",
    "    print(\"p_value:\", p_value, \"alpha:\", alpha, \"xmin:\", xmin)\n",
    "    return p_value, alpha, xmin"
   ]
  },
  {
   "cell_type": "code",
   "execution_count": 4,
   "metadata": {},
   "outputs": [
    {
     "name": "stdout",
     "output_type": "stream",
     "text": [
      "Initalizing...Done.\n",
      "Begin iteration...Done\n",
      "finish all the staff\n"
     ]
    }
   ],
   "source": [
    "a1 = assumption_1st(beta=0.6,iterations=4000,rating_scale=5,Cu=10,Ci=20,Unum=20,Inum=10,K=10,L=5,C=1)"
   ]
  },
  {
   "cell_type": "code",
   "execution_count": null,
   "metadata": {},
   "outputs": [],
   "source": [
    "the_edges, Inum, Unum = a1.get_graph()"
   ]
  },
  {
   "cell_type": "code",
   "execution_count": 8,
   "metadata": {},
   "outputs": [
    {
     "name": "stdout",
     "output_type": "stream",
     "text": [
      "1635 2395\n"
     ]
    }
   ],
   "source": [
    "print(Inum, Unum)\n",
    "print(the_edges[:Unum,:Inum], file=open(\"graph_algo1.txt\", \"w\", encoding=\"utf8\"))"
   ]
  },
  {
   "cell_type": "markdown",
   "metadata": {},
   "source": [
    "## Cal big C"
   ]
  },
  {
   "cell_type": "code",
   "execution_count": 5,
   "metadata": {},
   "outputs": [
    {
     "name": "stdout",
     "output_type": "stream",
     "text": [
      "Initalizing...Done.\n",
      "Begin iteration...Done\n",
      "finish all the staff\n"
     ]
    }
   ],
   "source": [
    "cal_c = assumption_1st(beta=0.6,iterations=4000,rating_scale=5,Cu=10,Ci=20,Unum=20,Inum=10,K=10,L=5,C=1)"
   ]
  },
  {
   "cell_type": "code",
   "execution_count": 12,
   "metadata": {},
   "outputs": [],
   "source": [
    "def cal_big_c(simmodel):\n",
    "    the_edges, Inum, Unum = simmodel.get_graph()\n",
    "    a = the_edges[:Unum,:Inum]\n",
    "    sum = 0\n",
    "    max = 0\n",
    "    min = 9999\n",
    "    flag = 0\n",
    "    for i in range(0,len(a)):\n",
    "        for j in range(0, len(a[0])):\n",
    "            if a[i][j] != 0:\n",
    "                flag += 1\n",
    "                sum+=a[i][j]\n",
    "                if a[i][j]>max:\n",
    "                    max = a[i][j]\n",
    "                if a[i][j]<min:\n",
    "                    min = a[i][j]\n",
    "    # print(sum, max, min, flag, sum/flag)\n",
    "    er = sum/flag\n",
    "    big_c = er * (1+(simmodel.Ci*(1-simmodel.beta))/(simmodel.Cu*simmodel.beta+simmodel.C))\n",
    "    return big_c"
   ]
  },
  {
   "cell_type": "code",
   "execution_count": 13,
   "metadata": {},
   "outputs": [
    {
     "name": "stdout",
     "output_type": "stream",
     "text": [
      "166568 5 1 59957 2.7781243224310757\n"
     ]
    },
    {
     "data": {
      "text/plain": [
       "5.953123548066591"
      ]
     },
     "execution_count": 13,
     "metadata": {},
     "output_type": "execute_result"
    }
   ],
   "source": [
    "cal_big_c(cal_c)"
   ]
  },
  {
   "cell_type": "markdown",
   "metadata": {},
   "source": [
    "## Paramters\n",
    " \n",
    " - beta = 0.6 \n",
    " > the probability to add a new vertex in U\n",
    " - iterations = 4000 \n",
    " > the number of iterations to run the simulation\n",
    " - rating_scale = 5 \n",
    " > the preassigned rating scale\n",
    " - Cu = 10 \n",
    " > the least number of edges connected to vertices in U\n",
    " - Ci = 20 \n",
    " > the least number of edges connected to vertices in I\n",
    " - Unum = 20 \n",
    " > the number of vertices in U in the initial graph at t=0\n",
    " - Inum = 10 \n",
    " > the number of vertices in I in the initial graph at t=1\n",
    " - K = 10 \n",
    " > the number of basic user type in our assumption\n",
    " - L = 5\n",
    " > the number of basic item level in our assumption"
   ]
  },
  {
   "cell_type": "markdown",
   "metadata": {},
   "source": [
    "# Plot User"
   ]
  },
  {
   "cell_type": "code",
   "execution_count": 35,
   "metadata": {},
   "outputs": [
    {
     "name": "stdout",
     "output_type": "stream",
     "text": [
      "4001 4001 4001\n"
     ]
    }
   ],
   "source": [
    "degseq, weiseq, xind = a1.get_distribution()\n",
    "print(len(degseq), len(weiseq), len(xind))"
   ]
  },
  {
   "cell_type": "code",
   "execution_count": 36,
   "metadata": {
    "collapsed": true,
    "jupyter": {
     "outputs_hidden": true
    }
   },
   "outputs": [
    {
     "name": "stderr",
     "output_type": "stream",
     "text": [
      "Values less than or equal to 0 in data. Throwing out 0 or negative values\n",
      "Calculating best minimal value for power law fit\n",
      "/home/acemap/.local/lib/python3.6/site-packages/powerlaw.py:700: RuntimeWarning: invalid value encountered in true_divide\n",
      "  (Theoretical_CDF * (1 - Theoretical_CDF))\n"
     ]
    },
    {
     "name": "stdout",
     "output_type": "stream",
     "text": [
      "DEGREE: user p_value: 0.3113507024981058 user alpha: 1.7373394424208306 user xmin: 1.0\n",
      "WEIGHT: user p_value: 0.4115572771122783 user alpha: 1.8747201887623826 user xmin: 1.0\n"
     ]
    },
    {
     "name": "stderr",
     "output_type": "stream",
     "text": [
      "/home/acemap/.local/lib/python3.6/site-packages/powerlaw.py:1605: RuntimeWarning: invalid value encountered in true_divide\n",
      "  CDF = CDF/norm\n",
      "'nan' in fit cumulative distribution values.\n",
      "Likely underflow or overflow error: the optimal fit for this distribution gives values that are so extreme that we lack the numerical precision to calculate them.\n",
      "/home/acemap/.local/lib/python3.6/site-packages/ipykernel_launcher.py:6: RuntimeWarning: divide by zero encountered in log\n",
      "  \n",
      "Values less than or equal to 0 in data. Throwing out 0 or negative values\n",
      "Calculating best minimal value for power law fit\n",
      "/home/acemap/.local/lib/python3.6/site-packages/powerlaw.py:700: RuntimeWarning: invalid value encountered in true_divide\n",
      "  (Theoretical_CDF * (1 - Theoretical_CDF))\n",
      "'nan' in fit cumulative distribution values.\n",
      "Likely underflow or overflow error: the optimal fit for this distribution gives values that are so extreme that we lack the numerical precision to calculate them.\n",
      "/home/acemap/.local/lib/python3.6/site-packages/ipykernel_launcher.py:13: RuntimeWarning: divide by zero encountered in log\n",
      "  del sys.path[0]\n"
     ]
    },
    {
     "data": {
      "text/plain": [
       "[<matplotlib.lines.Line2D at 0x7f55606992b0>]"
      ]
     },
     "execution_count": 36,
     "metadata": {},
     "output_type": "execute_result"
    },
    {
     "data": {
      "image/png": "[encoded data removed]",
      "text/plain": [
       "<Figure size 432x288 with 1 Axes>"
      ]
     },
     "metadata": {
      "needs_background": "light"
     },
     "output_type": "display_data"
    }
   ],
   "source": [
    "results = powerlaw.Fit(degseq)\n",
    "alpha = results.power_law.alpha\n",
    "xmin = results.power_law.xmin\n",
    "R, p_value = results.distribution_compare('power_law', 'lognormal')\n",
    "print(\"DEGREE: user p_value:\", p_value, \"user alpha:\", alpha, \"user xmin:\", xmin)\n",
    "plt.plot(np.log(xind),np.log(degseq),'o',color = 'gray', alpha = 0.8, markersize=4, markeredgewidth=0.0)\n",
    "\n",
    "results = powerlaw.Fit(weiseq)\n",
    "alpha = results.power_law.alpha\n",
    "xmin = results.power_law.xmin\n",
    "R, p_value = results.distribution_compare('power_law', 'lognormal')\n",
    "print(\"WEIGHT: user p_value:\", p_value, \"user alpha:\", alpha, \"user xmin:\", xmin)\n",
    "plt.plot(np.log(xind),np.log(weiseq[:len(xind)]),'o',color = 'black', alpha = 0.8, markersize=4, markeredgewidth=0.0)"
   ]
  },
  {
   "cell_type": "markdown",
   "metadata": {},
   "source": [
    "# Plot Item"
   ]
  },
  {
   "cell_type": "code",
   "execution_count": 37,
   "metadata": {},
   "outputs": [],
   "source": [
    "degseq, weiseq, xind = a1.get_distribution(\"item\")"
   ]
  },
  {
   "cell_type": "code",
   "execution_count": 38,
   "metadata": {
    "collapsed": true,
    "jupyter": {
     "outputs_hidden": true
    }
   },
   "outputs": [
    {
     "name": "stdout",
     "output_type": "stream",
     "text": [
      "user p_value: 0.9003255135178452 user alpha: 1.9691533706190696 user xmin: 14.0\n",
      "user p_value: 0.4893608547744408 user alpha: 3.4157224238711605 user xmin: 19.0\n"
     ]
    },
    {
     "name": "stderr",
     "output_type": "stream",
     "text": [
      "Values less than or equal to 0 in data. Throwing out 0 or negative values\n",
      "Calculating best minimal value for power law fit\n",
      "/home/acemap/.local/lib/python3.6/site-packages/ipykernel_launcher.py:6: RuntimeWarning: divide by zero encountered in log\n",
      "  \n",
      "Values less than or equal to 0 in data. Throwing out 0 or negative values\n",
      "Calculating best minimal value for power law fit\n",
      "'nan' in fit cumulative distribution values.\n",
      "Likely underflow or overflow error: the optimal fit for this distribution gives values that are so extreme that we lack the numerical precision to calculate them.\n",
      "/home/acemap/.local/lib/python3.6/site-packages/ipykernel_launcher.py:13: RuntimeWarning: divide by zero encountered in log\n",
      "  del sys.path[0]\n"
     ]
    },
    {
     "data": {
      "text/plain": [
       "[<matplotlib.lines.Line2D at 0x7f55601c8e48>]"
      ]
     },
     "execution_count": 38,
     "metadata": {},
     "output_type": "execute_result"
    },
    {
     "data": {
      "image/png": "[encoded data removed]",
      "text/plain": [
       "<Figure size 432x288 with 1 Axes>"
      ]
     },
     "metadata": {
      "needs_background": "light"
     },
     "output_type": "display_data"
    }
   ],
   "source": [
    "results = powerlaw.Fit(degseq)\n",
    "alpha = results.power_law.alpha\n",
    "xmin = results.power_law.xmin\n",
    "R, p_value = results.distribution_compare('power_law', 'lognormal')\n",
    "print(\"user p_value:\", p_value, \"user alpha:\", alpha, \"user xmin:\", xmin)\n",
    "plt.plot(np.log(xind),np.log(degseq),'o',color = 'gray', alpha = 0.8, markersize=4, markeredgewidth=0.0)\n",
    "\n",
    "results = powerlaw.Fit(weiseq)\n",
    "alpha = results.power_law.alpha\n",
    "xmin = results.power_law.xmin\n",
    "R, p_value = results.distribution_compare('power_law', 'lognormal')\n",
    "print(\"user p_value:\", p_value, \"user alpha:\", alpha, \"user xmin:\", xmin)\n",
    "plt.plot(np.log(xind),np.log(weiseq[:len(xind)]),'o',color = 'black', alpha = 0.8, markersize=4, markeredgewidth=0.0)"
   ]
  },
  {
   "cell_type": "markdown",
   "metadata": {},
   "source": [
    "# TMC-Needed Images"
   ]
  },
  {
   "cell_type": "markdown",
   "metadata": {},
   "source": [
    "## 4 pic - User\n",
    " - $\\beta-\\alpha$\n",
    " - $R-\\alpha$\n",
    " - $c_{u}-\\alpha$\n",
    " - $c_{i}-\\alpha$"
   ]
  },
  {
   "cell_type": "code",
   "execution_count": 51,
   "metadata": {},
   "outputs": [],
   "source": [
    "beta_list = [0.1,0.2,0.4,0.6,0.8]\n",
    "rate_list = [1,2,3,4,5,6,7,8,9,10]\n",
    "cu_list = [1,5,10,20,30,50]\n",
    "ci_list = [1,5,10,20,30,50]"
   ]
  },
  {
   "cell_type": "markdown",
   "metadata": {},
   "source": [
    "### $\\beta$"
   ]
  },
  {
   "cell_type": "code",
   "execution_count": 52,
   "metadata": {},
   "outputs": [
    {
     "name": "stdout",
     "output_type": "stream",
     "text": [
      "Initalizing...Done.\n",
      "Begin iteration...Done\n"
     ]
    },
    {
     "ename": "TypeError",
     "evalue": "'numpy.int64' object is not callable",
     "output_type": "error",
     "traceback": [
      "\u001b[0;31m---------------------------------------------------------------------------\u001b[0m",
      "\u001b[0;31mTypeError\u001b[0m                                 Traceback (most recent call last)",
      "\u001b[0;32m<ipython-input-52-e562f26e296e>\u001b[0m in \u001b[0;36m<module>\u001b[0;34m\u001b[0m\n\u001b[1;32m      1\u001b[0m \u001b[0malpha_list\u001b[0m \u001b[0;34m=\u001b[0m \u001b[0;34m[\u001b[0m\u001b[0;34m]\u001b[0m\u001b[0;34m\u001b[0m\u001b[0;34m\u001b[0m\u001b[0m\n\u001b[1;32m      2\u001b[0m \u001b[0;32mfor\u001b[0m \u001b[0mitem\u001b[0m \u001b[0;32min\u001b[0m \u001b[0mbeta_list\u001b[0m\u001b[0;34m:\u001b[0m\u001b[0;34m\u001b[0m\u001b[0;34m\u001b[0m\u001b[0m\n\u001b[0;32m----> 3\u001b[0;31m     \u001b[0ma1\u001b[0m \u001b[0;34m=\u001b[0m \u001b[0massumption_1st\u001b[0m\u001b[0;34m(\u001b[0m\u001b[0mbeta\u001b[0m\u001b[0;34m=\u001b[0m\u001b[0mitem\u001b[0m\u001b[0;34m,\u001b[0m\u001b[0miterations\u001b[0m\u001b[0;34m=\u001b[0m\u001b[0;36m4000\u001b[0m\u001b[0;34m,\u001b[0m\u001b[0mrating_scale\u001b[0m\u001b[0;34m=\u001b[0m\u001b[0;36m5\u001b[0m\u001b[0;34m,\u001b[0m\u001b[0mCu\u001b[0m\u001b[0;34m=\u001b[0m\u001b[0;36m10\u001b[0m\u001b[0;34m,\u001b[0m\u001b[0mCi\u001b[0m\u001b[0;34m=\u001b[0m\u001b[0;36m20\u001b[0m\u001b[0;34m,\u001b[0m\u001b[0mUnum\u001b[0m\u001b[0;34m=\u001b[0m\u001b[0;36m20\u001b[0m\u001b[0;34m,\u001b[0m\u001b[0mInum\u001b[0m\u001b[0;34m=\u001b[0m\u001b[0;36m10\u001b[0m\u001b[0;34m,\u001b[0m\u001b[0mK\u001b[0m\u001b[0;34m=\u001b[0m\u001b[0;36m10\u001b[0m\u001b[0;34m,\u001b[0m\u001b[0mL\u001b[0m\u001b[0;34m=\u001b[0m\u001b[0;36m5\u001b[0m\u001b[0;34m,\u001b[0m\u001b[0mC\u001b[0m\u001b[0;34m=\u001b[0m\u001b[0;36m1\u001b[0m\u001b[0;34m)\u001b[0m\u001b[0;34m\u001b[0m\u001b[0;34m\u001b[0m\u001b[0m\n\u001b[0m\u001b[1;32m      4\u001b[0m     \u001b[0mdegseq\u001b[0m\u001b[0;34m,\u001b[0m \u001b[0mweiseq\u001b[0m\u001b[0;34m,\u001b[0m \u001b[0mxind\u001b[0m \u001b[0;34m=\u001b[0m \u001b[0ma1\u001b[0m\u001b[0;34m.\u001b[0m\u001b[0mget_distribution\u001b[0m\u001b[0;34m(\u001b[0m\u001b[0;34m)\u001b[0m\u001b[0;34m\u001b[0m\u001b[0;34m\u001b[0m\u001b[0m\n\u001b[1;32m      5\u001b[0m     \u001b[0mp_value\u001b[0m\u001b[0;34m,\u001b[0m \u001b[0malpha\u001b[0m\u001b[0;34m,\u001b[0m \u001b[0mxmin\u001b[0m \u001b[0;34m=\u001b[0m \u001b[0mget_pvalue_alpha_xmin\u001b[0m\u001b[0;34m(\u001b[0m\u001b[0mdegseq\u001b[0m\u001b[0;34m)\u001b[0m\u001b[0;34m\u001b[0m\u001b[0;34m\u001b[0m\u001b[0m\n",
      "\u001b[0;32m<ipython-input-47-a0ecff389060>\u001b[0m in \u001b[0;36m__init__\u001b[0;34m(self, beta, iterations, rating_scale, Cu, Ci, Unum, Inum, K, L, C)\u001b[0m\n\u001b[1;32m     19\u001b[0m \u001b[0;34m\u001b[0m\u001b[0m\n\u001b[1;32m     20\u001b[0m         \u001b[0mx\u001b[0m\u001b[0;34m[\u001b[0m\u001b[0;34m:\u001b[0m\u001b[0mres\u001b[0m\u001b[0;34m.\u001b[0m\u001b[0msize\u001b[0m\u001b[0;34m]\u001b[0m \u001b[0;34m=\u001b[0m \u001b[0mx\u001b[0m\u001b[0;34m[\u001b[0m\u001b[0;34m:\u001b[0m\u001b[0mres\u001b[0m\u001b[0;34m.\u001b[0m\u001b[0msize\u001b[0m\u001b[0;34m]\u001b[0m \u001b[0;34m+\u001b[0m \u001b[0mres\u001b[0m\u001b[0;34m\u001b[0m\u001b[0;34m\u001b[0m\u001b[0m\n\u001b[0;32m---> 21\u001b[0;31m         \u001b[0mself\u001b[0m\u001b[0;34m.\u001b[0m\u001b[0mdegseq_user\u001b[0m\u001b[0;34m[\u001b[0m\u001b[0;34m:\u001b[0m\u001b[0mmin\u001b[0m\u001b[0;34m(\u001b[0m\u001b[0mself\u001b[0m\u001b[0;34m.\u001b[0m\u001b[0miterations\u001b[0m\u001b[0;34m+\u001b[0m\u001b[0;36m1\u001b[0m\u001b[0;34m,\u001b[0m\u001b[0mk\u001b[0m\u001b[0;34m[\u001b[0m\u001b[0;36m1\u001b[0m\u001b[0;34m]\u001b[0m\u001b[0;34m.\u001b[0m\u001b[0msize\u001b[0m\u001b[0;34m)\u001b[0m\u001b[0;34m]\u001b[0m \u001b[0;34m=\u001b[0m \u001b[0mself\u001b[0m\u001b[0;34m.\u001b[0m\u001b[0mdegseq_user\u001b[0m\u001b[0;34m[\u001b[0m\u001b[0;34m:\u001b[0m\u001b[0mmin\u001b[0m\u001b[0;34m(\u001b[0m\u001b[0mself\u001b[0m\u001b[0;34m.\u001b[0m\u001b[0miterations\u001b[0m\u001b[0;34m+\u001b[0m\u001b[0;36m1\u001b[0m\u001b[0;34m,\u001b[0m\u001b[0mk\u001b[0m\u001b[0;34m[\u001b[0m\u001b[0;36m1\u001b[0m\u001b[0;34m]\u001b[0m\u001b[0;34m.\u001b[0m\u001b[0msize\u001b[0m\u001b[0;34m)\u001b[0m\u001b[0;34m]\u001b[0m \u001b[0;34m+\u001b[0m \u001b[0mk\u001b[0m\u001b[0;34m[\u001b[0m\u001b[0;36m1\u001b[0m\u001b[0;34m]\u001b[0m\u001b[0;34m[\u001b[0m\u001b[0;34m:\u001b[0m\u001b[0mmin\u001b[0m\u001b[0;34m(\u001b[0m\u001b[0mself\u001b[0m\u001b[0;34m.\u001b[0m\u001b[0miterations\u001b[0m\u001b[0;34m+\u001b[0m\u001b[0;36m1\u001b[0m\u001b[0;34m,\u001b[0m\u001b[0mk\u001b[0m\u001b[0;34m[\u001b[0m\u001b[0;36m1\u001b[0m\u001b[0;34m]\u001b[0m\u001b[0;34m.\u001b[0m\u001b[0msize\u001b[0m\u001b[0;34m)\u001b[0m\u001b[0;34m]\u001b[0m\u001b[0;34m\u001b[0m\u001b[0;34m\u001b[0m\u001b[0m\n\u001b[0m\u001b[1;32m     22\u001b[0m         \u001b[0mself\u001b[0m\u001b[0;34m.\u001b[0m\u001b[0mweiseq_user\u001b[0m\u001b[0;34m[\u001b[0m\u001b[0;34m:\u001b[0m\u001b[0mmin\u001b[0m\u001b[0;34m(\u001b[0m\u001b[0mself\u001b[0m\u001b[0;34m.\u001b[0m\u001b[0miterations\u001b[0m\u001b[0;34m+\u001b[0m\u001b[0;36m1\u001b[0m\u001b[0;34m,\u001b[0m\u001b[0mk\u001b[0m\u001b[0;34m[\u001b[0m\u001b[0;36m2\u001b[0m\u001b[0;34m]\u001b[0m\u001b[0;34m.\u001b[0m\u001b[0msize\u001b[0m\u001b[0;34m)\u001b[0m\u001b[0;34m]\u001b[0m \u001b[0;34m=\u001b[0m \u001b[0mself\u001b[0m\u001b[0;34m.\u001b[0m\u001b[0mweiseq_user\u001b[0m\u001b[0;34m[\u001b[0m\u001b[0;34m:\u001b[0m\u001b[0mmin\u001b[0m\u001b[0;34m(\u001b[0m\u001b[0mself\u001b[0m\u001b[0;34m.\u001b[0m\u001b[0miterations\u001b[0m\u001b[0;34m+\u001b[0m\u001b[0;36m1\u001b[0m\u001b[0;34m,\u001b[0m\u001b[0mk\u001b[0m\u001b[0;34m[\u001b[0m\u001b[0;36m2\u001b[0m\u001b[0;34m]\u001b[0m\u001b[0;34m.\u001b[0m\u001b[0msize\u001b[0m\u001b[0;34m)\u001b[0m\u001b[0;34m]\u001b[0m \u001b[0;34m+\u001b[0m \u001b[0mk\u001b[0m\u001b[0;34m[\u001b[0m\u001b[0;36m2\u001b[0m\u001b[0;34m]\u001b[0m\u001b[0;34m[\u001b[0m\u001b[0;34m:\u001b[0m\u001b[0mmin\u001b[0m\u001b[0;34m(\u001b[0m\u001b[0mself\u001b[0m\u001b[0;34m.\u001b[0m\u001b[0miterations\u001b[0m\u001b[0;34m+\u001b[0m\u001b[0;36m1\u001b[0m\u001b[0;34m,\u001b[0m\u001b[0mk\u001b[0m\u001b[0;34m[\u001b[0m\u001b[0;36m2\u001b[0m\u001b[0;34m]\u001b[0m\u001b[0;34m.\u001b[0m\u001b[0msize\u001b[0m\u001b[0;34m)\u001b[0m\u001b[0;34m]\u001b[0m\u001b[0;34m\u001b[0m\u001b[0;34m\u001b[0m\u001b[0m\n\u001b[1;32m     23\u001b[0m         \u001b[0mself\u001b[0m\u001b[0;34m.\u001b[0m\u001b[0mdegseq_item\u001b[0m\u001b[0;34m[\u001b[0m\u001b[0;34m:\u001b[0m\u001b[0mmin\u001b[0m\u001b[0;34m(\u001b[0m\u001b[0mself\u001b[0m\u001b[0;34m.\u001b[0m\u001b[0miterations\u001b[0m\u001b[0;34m+\u001b[0m\u001b[0;36m1\u001b[0m\u001b[0;34m,\u001b[0m\u001b[0mk\u001b[0m\u001b[0;34m[\u001b[0m\u001b[0;36m3\u001b[0m\u001b[0;34m]\u001b[0m\u001b[0;34m.\u001b[0m\u001b[0msize\u001b[0m\u001b[0;34m)\u001b[0m\u001b[0;34m]\u001b[0m \u001b[0;34m=\u001b[0m \u001b[0mself\u001b[0m\u001b[0;34m.\u001b[0m\u001b[0mdegseq_item\u001b[0m\u001b[0;34m[\u001b[0m\u001b[0;34m:\u001b[0m\u001b[0mmin\u001b[0m\u001b[0;34m(\u001b[0m\u001b[0mself\u001b[0m\u001b[0;34m.\u001b[0m\u001b[0miterations\u001b[0m\u001b[0;34m+\u001b[0m\u001b[0;36m1\u001b[0m\u001b[0;34m,\u001b[0m\u001b[0mk\u001b[0m\u001b[0;34m[\u001b[0m\u001b[0;36m3\u001b[0m\u001b[0;34m]\u001b[0m\u001b[0;34m.\u001b[0m\u001b[0msize\u001b[0m\u001b[0;34m)\u001b[0m\u001b[0;34m]\u001b[0m \u001b[0;34m+\u001b[0m \u001b[0mk\u001b[0m\u001b[0;34m[\u001b[0m\u001b[0;36m3\u001b[0m\u001b[0;34m]\u001b[0m\u001b[0;34m[\u001b[0m\u001b[0;34m:\u001b[0m\u001b[0mmin\u001b[0m\u001b[0;34m(\u001b[0m\u001b[0mself\u001b[0m\u001b[0;34m.\u001b[0m\u001b[0miterations\u001b[0m\u001b[0;34m+\u001b[0m\u001b[0;36m1\u001b[0m\u001b[0;34m,\u001b[0m\u001b[0mk\u001b[0m\u001b[0;34m[\u001b[0m\u001b[0;36m3\u001b[0m\u001b[0;34m]\u001b[0m\u001b[0;34m.\u001b[0m\u001b[0msize\u001b[0m\u001b[0;34m)\u001b[0m\u001b[0;34m]\u001b[0m\u001b[0;34m\u001b[0m\u001b[0;34m\u001b[0m\u001b[0m\n",
      "\u001b[0;31mTypeError\u001b[0m: 'numpy.int64' object is not callable"
     ]
    }
   ],
   "source": [
    "alpha_list = []\n",
    "for item in beta_list:\n",
    "    a1 = assumption_1st(beta=item,iterations=4000,rating_scale=5,Cu=10,Ci=20,Unum=20,Inum=10,K=10,L=5,C=1)\n",
    "    degseq, weiseq, xind = a1.get_distribution()\n",
    "    p_value, alpha, xmin = get_pvalue_alpha_xmin(degseq)\n",
    "    alpha_list.append(alpha)\n",
    "data=[alpha_list]\n",
    "frame_beta_user=pd.DataFrame(data, index=[r'$ \\beta $'+' effect '+r'$ \\alpha $'], columns=beta_list)\n",
    "frame_beta_user"
   ]
  },
  {
   "cell_type": "markdown",
   "metadata": {},
   "source": [
    "### $rate$"
   ]
  },
  {
   "cell_type": "code",
   "execution_count": 63,
   "metadata": {},
   "outputs": [
    {
     "name": "stdout",
     "output_type": "stream",
     "text": [
      "Initalizing...Done.\n",
      "Begin iteration...Done\n",
      "finish all the staff\n",
      "p_value: 0.9944899073263794 alpha: 1.662488784353711 xmin: 2.0\n",
      "Initalizing...Done.\n"
     ]
    },
    {
     "name": "stderr",
     "output_type": "stream",
     "text": [
      "Values less than or equal to 0 in data. Throwing out 0 or negative values\n",
      "Calculating best minimal value for power law fit\n"
     ]
    },
    {
     "name": "stdout",
     "output_type": "stream",
     "text": [
      "Begin iteration...Done\n",
      "finish all the staff\n",
      "p_value: 0.32610584860721603 alpha: 1.6953862453912016 xmin: 1.0\n",
      "Initalizing...Done.\n"
     ]
    },
    {
     "name": "stderr",
     "output_type": "stream",
     "text": [
      "Values less than or equal to 0 in data. Throwing out 0 or negative values\n",
      "Calculating best minimal value for power law fit\n",
      "'nan' in fit cumulative distribution values.\n",
      "Likely underflow or overflow error: the optimal fit for this distribution gives values that are so extreme that we lack the numerical precision to calculate them.\n"
     ]
    },
    {
     "name": "stdout",
     "output_type": "stream",
     "text": [
      "Begin iteration...Done\n",
      "finish all the staff\n",
      "p_value: 0.5474560332032514 alpha: 1.6434840382680336 xmin: 4.0\n",
      "Initalizing...Done.\n"
     ]
    },
    {
     "name": "stderr",
     "output_type": "stream",
     "text": [
      "Values less than or equal to 0 in data. Throwing out 0 or negative values\n",
      "Calculating best minimal value for power law fit\n"
     ]
    },
    {
     "name": "stdout",
     "output_type": "stream",
     "text": [
      "Begin iteration...Done\n",
      "finish all the staff\n",
      "p_value: 0.7264935141181221 alpha: 1.6290824156976331 xmin: 2.0\n",
      "Initalizing...Done.\n"
     ]
    },
    {
     "name": "stderr",
     "output_type": "stream",
     "text": [
      "Values less than or equal to 0 in data. Throwing out 0 or negative values\n",
      "Calculating best minimal value for power law fit\n"
     ]
    },
    {
     "name": "stdout",
     "output_type": "stream",
     "text": [
      "Begin iteration...Done\n",
      "finish all the staff\n",
      "p_value: 0.7320629085284669 alpha: 1.615524033948358 xmin: 2.0\n",
      "Initalizing...Done.\n"
     ]
    },
    {
     "name": "stderr",
     "output_type": "stream",
     "text": [
      "Values less than or equal to 0 in data. Throwing out 0 or negative values\n",
      "Calculating best minimal value for power law fit\n"
     ]
    },
    {
     "name": "stdout",
     "output_type": "stream",
     "text": [
      "Begin iteration...Done\n",
      "finish all the staff\n",
      "p_value: 0.27662767762565654 alpha: 2.3293662908701194 xmin: 70.0\n",
      "Initalizing...Done.\n"
     ]
    },
    {
     "name": "stderr",
     "output_type": "stream",
     "text": [
      "Values less than or equal to 0 in data. Throwing out 0 or negative values\n",
      "Calculating best minimal value for power law fit\n",
      "'nan' in fit cumulative distribution values.\n",
      "Likely underflow or overflow error: the optimal fit for this distribution gives values that are so extreme that we lack the numerical precision to calculate them.\n"
     ]
    },
    {
     "name": "stdout",
     "output_type": "stream",
     "text": [
      "Begin iteration...Done\n",
      "finish all the staff\n",
      "p_value: 0.9433286074798366 alpha: 1.7558278588701646 xmin: 1.0\n",
      "Initalizing...Done.\n"
     ]
    },
    {
     "name": "stderr",
     "output_type": "stream",
     "text": [
      "Values less than or equal to 0 in data. Throwing out 0 or negative values\n",
      "Calculating best minimal value for power law fit\n",
      "'nan' in fit cumulative distribution values.\n",
      "Likely underflow or overflow error: the optimal fit for this distribution gives values that are so extreme that we lack the numerical precision to calculate them.\n"
     ]
    },
    {
     "name": "stdout",
     "output_type": "stream",
     "text": [
      "Begin iteration...Done\n",
      "finish all the staff\n",
      "p_value: 0.26565873226218173 alpha: 1.7748542947579562 xmin: 1.0\n",
      "Initalizing...Done.\n"
     ]
    },
    {
     "name": "stderr",
     "output_type": "stream",
     "text": [
      "Values less than or equal to 0 in data. Throwing out 0 or negative values\n",
      "Calculating best minimal value for power law fit\n",
      "'nan' in fit cumulative distribution values.\n",
      "Likely underflow or overflow error: the optimal fit for this distribution gives values that are so extreme that we lack the numerical precision to calculate them.\n"
     ]
    },
    {
     "name": "stdout",
     "output_type": "stream",
     "text": [
      "Begin iteration...Done\n",
      "finish all the staff\n",
      "p_value: 0.28275403031640944 alpha: 1.754065899738261 xmin: 1.0\n",
      "Initalizing...Done.\n"
     ]
    },
    {
     "name": "stderr",
     "output_type": "stream",
     "text": [
      "Values less than or equal to 0 in data. Throwing out 0 or negative values\n",
      "Calculating best minimal value for power law fit\n",
      "'nan' in fit cumulative distribution values.\n",
      "Likely underflow or overflow error: the optimal fit for this distribution gives values that are so extreme that we lack the numerical precision to calculate them.\n"
     ]
    },
    {
     "name": "stdout",
     "output_type": "stream",
     "text": [
      "Begin iteration...Done\n",
      "finish all the staff\n",
      "p_value: 0.24728155565057097 alpha: 1.6606865981384762 xmin: 1.0\n"
     ]
    },
    {
     "name": "stderr",
     "output_type": "stream",
     "text": [
      "Values less than or equal to 0 in data. Throwing out 0 or negative values\n",
      "Calculating best minimal value for power law fit\n",
      "'nan' in fit cumulative distribution values.\n",
      "Likely underflow or overflow error: the optimal fit for this distribution gives values that are so extreme that we lack the numerical precision to calculate them.\n"
     ]
    },
    {
     "data": {
      "text/html": [
       "<div>\n",
       "<style scoped>\n",
       "    .dataframe tbody tr th:only-of-type {\n",
       "        vertical-align: middle;\n",
       "    }\n",
       "\n",
       "    .dataframe tbody tr th {\n",
       "        vertical-align: top;\n",
       "    }\n",
       "\n",
       "    .dataframe thead th {\n",
       "        text-align: right;\n",
       "    }\n",
       "</style>\n",
       "<table border=\"1\" class=\"dataframe\">\n",
       "  <thead>\n",
       "    <tr style=\"text-align: right;\">\n",
       "      <th></th>\n",
       "      <th>1</th>\n",
       "      <th>2</th>\n",
       "      <th>3</th>\n",
       "      <th>4</th>\n",
       "      <th>5</th>\n",
       "      <th>6</th>\n",
       "      <th>7</th>\n",
       "      <th>8</th>\n",
       "      <th>9</th>\n",
       "      <th>10</th>\n",
       "    </tr>\n",
       "  </thead>\n",
       "  <tbody>\n",
       "    <tr>\n",
       "      <th>rate effect $ \\alpha $</th>\n",
       "      <td>1.662489</td>\n",
       "      <td>1.695386</td>\n",
       "      <td>1.643484</td>\n",
       "      <td>1.629082</td>\n",
       "      <td>1.615524</td>\n",
       "      <td>2.329366</td>\n",
       "      <td>1.755828</td>\n",
       "      <td>1.774854</td>\n",
       "      <td>1.754066</td>\n",
       "      <td>1.660687</td>\n",
       "    </tr>\n",
       "  </tbody>\n",
       "</table>\n",
       "</div>"
      ],
      "text/plain": [
       "                              1         2         3         4         5   \\\n",
       "rate effect $ \\alpha $  1.662489  1.695386  1.643484  1.629082  1.615524   \n",
       "\n",
       "                              6         7         8         9         10  \n",
       "rate effect $ \\alpha $  2.329366  1.755828  1.774854  1.754066  1.660687  "
      ]
     },
     "execution_count": 63,
     "metadata": {},
     "output_type": "execute_result"
    }
   ],
   "source": [
    "alpha_list = []\n",
    "for item in rate_list:\n",
    "    a1 = assumption_1st(beta=0.6,iterations=4000,rating_scale=item,Cu=10,Ci=20,Unum=20,Inum=10,K=10,L=5,C=1)\n",
    "    degseq, weiseq, xind = a1.get_distribution()\n",
    "    p_value, alpha, xmin = get_pvalue_alpha_xmin(degseq)\n",
    "    alpha_list.append(alpha)\n",
    "data=[alpha_list]\n",
    "frame_rate_user=pd.DataFrame(data, index=['rate'+' effect '+r'$ \\alpha $'], columns=rate_list)\n",
    "frame_rate_user"
   ]
  },
  {
   "cell_type": "markdown",
   "metadata": {},
   "source": [
    "### $C_{u}$"
   ]
  },
  {
   "cell_type": "code",
   "execution_count": 64,
   "metadata": {},
   "outputs": [
    {
     "name": "stdout",
     "output_type": "stream",
     "text": [
      "1\n",
      "Initalizing...Done.\n",
      "Begin iteration...Done\n",
      "finish all the staff\n",
      "p_value: 0.9263303235283947 alpha: 1.5828181555490235 xmin: 2.0\n",
      "5\n",
      "Initalizing...Done.\n"
     ]
    },
    {
     "name": "stderr",
     "output_type": "stream",
     "text": [
      "Values less than or equal to 0 in data. Throwing out 0 or negative values\n",
      "Calculating best minimal value for power law fit\n"
     ]
    },
    {
     "name": "stdout",
     "output_type": "stream",
     "text": [
      "Begin iteration...Done\n",
      "finish all the staff\n",
      "p_value: 0.6959089087920705 alpha: 1.6192031841767123 xmin: 3.0\n",
      "10\n",
      "Initalizing...Done.\n"
     ]
    },
    {
     "name": "stderr",
     "output_type": "stream",
     "text": [
      "Values less than or equal to 0 in data. Throwing out 0 or negative values\n",
      "Calculating best minimal value for power law fit\n"
     ]
    },
    {
     "name": "stdout",
     "output_type": "stream",
     "text": [
      "Begin iteration...Done\n",
      "finish all the staff\n",
      "p_value: 0.6843617976242241 alpha: 1.8774768178317403 xmin: 26.0\n",
      "20\n",
      "Initalizing...Done.\n"
     ]
    },
    {
     "name": "stderr",
     "output_type": "stream",
     "text": [
      "Values less than or equal to 0 in data. Throwing out 0 or negative values\n",
      "Calculating best minimal value for power law fit\n"
     ]
    },
    {
     "name": "stdout",
     "output_type": "stream",
     "text": [
      "Begin iteration...Done\n",
      "finish all the staff\n",
      "p_value: 0.9549197748868207 alpha: 1.5943126817994715 xmin: 1.0\n",
      "30\n",
      "Initalizing...Done.\n"
     ]
    },
    {
     "name": "stderr",
     "output_type": "stream",
     "text": [
      "Values less than or equal to 0 in data. Throwing out 0 or negative values\n",
      "Calculating best minimal value for power law fit\n"
     ]
    },
    {
     "name": "stdout",
     "output_type": "stream",
     "text": [
      "Begin iteration...Done\n",
      "finish all the staff\n",
      "p_value: 0.9398286002265938 alpha: 2.26826001331427 xmin: 43.0\n",
      "50\n",
      "Initalizing...Done.\n"
     ]
    },
    {
     "name": "stderr",
     "output_type": "stream",
     "text": [
      "Values less than or equal to 0 in data. Throwing out 0 or negative values\n",
      "Calculating best minimal value for power law fit\n"
     ]
    },
    {
     "name": "stdout",
     "output_type": "stream",
     "text": [
      "Begin iteration...Done\n",
      "finish all the staff\n",
      "p_value: 0.22974396036622202 alpha: 1.4931462170190084 xmin: 1.0\n"
     ]
    },
    {
     "name": "stderr",
     "output_type": "stream",
     "text": [
      "Values less than or equal to 0 in data. Throwing out 0 or negative values\n",
      "Calculating best minimal value for power law fit\n"
     ]
    },
    {
     "data": {
      "text/html": [
       "<div>\n",
       "<style scoped>\n",
       "    .dataframe tbody tr th:only-of-type {\n",
       "        vertical-align: middle;\n",
       "    }\n",
       "\n",
       "    .dataframe tbody tr th {\n",
       "        vertical-align: top;\n",
       "    }\n",
       "\n",
       "    .dataframe thead th {\n",
       "        text-align: right;\n",
       "    }\n",
       "</style>\n",
       "<table border=\"1\" class=\"dataframe\">\n",
       "  <thead>\n",
       "    <tr style=\"text-align: right;\">\n",
       "      <th></th>\n",
       "      <th>1</th>\n",
       "      <th>5</th>\n",
       "      <th>10</th>\n",
       "      <th>20</th>\n",
       "      <th>30</th>\n",
       "      <th>50</th>\n",
       "    </tr>\n",
       "  </thead>\n",
       "  <tbody>\n",
       "    <tr>\n",
       "      <th>$ c_{u} $ effect $ \\alpha $</th>\n",
       "      <td>1.582818</td>\n",
       "      <td>1.619203</td>\n",
       "      <td>1.877477</td>\n",
       "      <td>1.594313</td>\n",
       "      <td>2.26826</td>\n",
       "      <td>1.493146</td>\n",
       "    </tr>\n",
       "  </tbody>\n",
       "</table>\n",
       "</div>"
      ],
      "text/plain": [
       "                                   1         5         10        20       30  \\\n",
       "$ c_{u} $ effect $ \\alpha $  1.582818  1.619203  1.877477  1.594313  2.26826   \n",
       "\n",
       "                                   50  \n",
       "$ c_{u} $ effect $ \\alpha $  1.493146  "
      ]
     },
     "execution_count": 64,
     "metadata": {},
     "output_type": "execute_result"
    }
   ],
   "source": [
    "alpha_list = []\n",
    "for item in cu_list:\n",
    "    print(item)\n",
    "    a1 = assumption_1st(beta=0.6,iterations=4000,rating_scale=5,Cu=item,Ci=20,Unum=20,Inum=50,K=10,L=5,C=1)\n",
    "    degseq, weiseq, xind = a1.get_distribution()\n",
    "    p_value, alpha, xmin = get_pvalue_alpha_xmin(degseq)\n",
    "    alpha_list.append(alpha)\n",
    "data=[alpha_list]\n",
    "frame_cu_user=pd.DataFrame(data, index=[r'$ c_{u} $'+' effect '+r'$ \\alpha $'], columns=cu_list)\n",
    "frame_cu_user"
   ]
  },
  {
   "cell_type": "markdown",
   "metadata": {},
   "source": [
    "### $C_{i}$"
   ]
  },
  {
   "cell_type": "code",
   "execution_count": 65,
   "metadata": {},
   "outputs": [
    {
     "name": "stdout",
     "output_type": "stream",
     "text": [
      "1\n",
      "Initalizing...Done.\n",
      "Begin iteration...Done\n",
      "finish all the staff\n",
      "p_value: 0.5433155097875373 alpha: 1.805278913840811 xmin: 93.0\n",
      "5\n",
      "Initalizing...Done.\n"
     ]
    },
    {
     "name": "stderr",
     "output_type": "stream",
     "text": [
      "Values less than or equal to 0 in data. Throwing out 0 or negative values\n",
      "Calculating best minimal value for power law fit\n"
     ]
    },
    {
     "name": "stdout",
     "output_type": "stream",
     "text": [
      "Begin iteration...Done\n",
      "finish all the staff\n",
      "p_value: 0.31816206139192615 alpha: 1.4808262742336231 xmin: 4.0\n",
      "10\n",
      "Initalizing...Done.\n"
     ]
    },
    {
     "name": "stderr",
     "output_type": "stream",
     "text": [
      "Values less than or equal to 0 in data. Throwing out 0 or negative values\n",
      "Calculating best minimal value for power law fit\n"
     ]
    },
    {
     "name": "stdout",
     "output_type": "stream",
     "text": [
      "Begin iteration...Done\n",
      "finish all the staff\n",
      "p_value: 0.47874818503208527 alpha: 1.5449619135822745 xmin: 2.0\n",
      "20\n",
      "Initalizing...Done.\n"
     ]
    },
    {
     "name": "stderr",
     "output_type": "stream",
     "text": [
      "Values less than or equal to 0 in data. Throwing out 0 or negative values\n",
      "Calculating best minimal value for power law fit\n"
     ]
    },
    {
     "name": "stdout",
     "output_type": "stream",
     "text": [
      "Begin iteration...Done\n",
      "finish all the staff\n",
      "p_value: 0.24979429954441468 alpha: 1.717625524729778 xmin: 1.0\n",
      "30\n",
      "Initalizing...Done.\n"
     ]
    },
    {
     "name": "stderr",
     "output_type": "stream",
     "text": [
      "Values less than or equal to 0 in data. Throwing out 0 or negative values\n",
      "Calculating best minimal value for power law fit\n",
      "'nan' in fit cumulative distribution values.\n",
      "Likely underflow or overflow error: the optimal fit for this distribution gives values that are so extreme that we lack the numerical precision to calculate them.\n"
     ]
    },
    {
     "name": "stdout",
     "output_type": "stream",
     "text": [
      "Begin iteration...Done\n",
      "finish all the staff\n",
      "p_value: 0.7663506258848813 alpha: 1.866240254337272 xmin: 1.0\n",
      "50\n",
      "Initalizing...Done.\n"
     ]
    },
    {
     "name": "stderr",
     "output_type": "stream",
     "text": [
      "Values less than or equal to 0 in data. Throwing out 0 or negative values\n",
      "Calculating best minimal value for power law fit\n",
      "'nan' in fit cumulative distribution values.\n",
      "Likely underflow or overflow error: the optimal fit for this distribution gives values that are so extreme that we lack the numerical precision to calculate them.\n"
     ]
    },
    {
     "name": "stdout",
     "output_type": "stream",
     "text": [
      "Begin iteration...Done\n",
      "finish all the staff\n",
      "p_value: 0.9062355542047932 alpha: 1.8887095910274714 xmin: 10.0\n"
     ]
    },
    {
     "name": "stderr",
     "output_type": "stream",
     "text": [
      "Values less than or equal to 0 in data. Throwing out 0 or negative values\n",
      "Calculating best minimal value for power law fit\n"
     ]
    },
    {
     "data": {
      "text/html": [
       "<div>\n",
       "<style scoped>\n",
       "    .dataframe tbody tr th:only-of-type {\n",
       "        vertical-align: middle;\n",
       "    }\n",
       "\n",
       "    .dataframe tbody tr th {\n",
       "        vertical-align: top;\n",
       "    }\n",
       "\n",
       "    .dataframe thead th {\n",
       "        text-align: right;\n",
       "    }\n",
       "</style>\n",
       "<table border=\"1\" class=\"dataframe\">\n",
       "  <thead>\n",
       "    <tr style=\"text-align: right;\">\n",
       "      <th></th>\n",
       "      <th>1</th>\n",
       "      <th>5</th>\n",
       "      <th>10</th>\n",
       "      <th>20</th>\n",
       "      <th>30</th>\n",
       "      <th>50</th>\n",
       "    </tr>\n",
       "  </thead>\n",
       "  <tbody>\n",
       "    <tr>\n",
       "      <th>$ c_{i} $ effect $ \\alpha $</th>\n",
       "      <td>1.805279</td>\n",
       "      <td>1.480826</td>\n",
       "      <td>1.544962</td>\n",
       "      <td>1.717626</td>\n",
       "      <td>1.86624</td>\n",
       "      <td>1.88871</td>\n",
       "    </tr>\n",
       "  </tbody>\n",
       "</table>\n",
       "</div>"
      ],
      "text/plain": [
       "                                   1         5         10        20       30  \\\n",
       "$ c_{i} $ effect $ \\alpha $  1.805279  1.480826  1.544962  1.717626  1.86624   \n",
       "\n",
       "                                  50  \n",
       "$ c_{i} $ effect $ \\alpha $  1.88871  "
      ]
     },
     "execution_count": 65,
     "metadata": {},
     "output_type": "execute_result"
    }
   ],
   "source": [
    "alpha_list = []\n",
    "for item in ci_list:\n",
    "    print(item)\n",
    "    a1 = assumption_1st(beta=0.6,iterations=4000,rating_scale=5,Cu=10,Ci=item,Unum=50,Inum=10,K=10,L=5,C=1)\n",
    "    degseq, weiseq, xind = a1.get_distribution()\n",
    "    p_value, alpha, xmin = get_pvalue_alpha_xmin(degseq)\n",
    "    alpha_list.append(alpha)\n",
    "data=[alpha_list]\n",
    "frame_ci_user=pd.DataFrame(data, index=[r'$ c_{i} $'+' effect '+r'$ \\alpha $'], columns=ci_list)\n",
    "frame_ci_user"
   ]
  },
  {
   "cell_type": "markdown",
   "metadata": {},
   "source": [
    "## 4 pic - Item\n",
    " - $\\beta-\\alpha$\n",
    " - $R-\\alpha$\n",
    " - $c_{u}-\\alpha$\n",
    " - $c_{i}-\\alpha$"
   ]
  },
  {
   "cell_type": "code",
   "execution_count": 72,
   "metadata": {},
   "outputs": [],
   "source": [
    "beta_list = [0.1,0.2,0.4,0.6,0.8]\n",
    "rate_list = [1,2,3,4,5,6,7,8,9,10]\n",
    "cu_list = [1,5,10,20,30,50]\n",
    "ci_list = [1,5,10,20,30,50]"
   ]
  },
  {
   "cell_type": "markdown",
   "metadata": {},
   "source": [
    "### $\\beta$"
   ]
  },
  {
   "cell_type": "code",
   "execution_count": 67,
   "metadata": {},
   "outputs": [
    {
     "name": "stdout",
     "output_type": "stream",
     "text": [
      "Initalizing...Done.\n",
      "Begin iteration...Done\n",
      "finish all the staff\n",
      "p_value: 0.2670760702999915 alpha: 1.3219518579847875 xmin: 2.0\n",
      "Initalizing...Done.\n"
     ]
    },
    {
     "name": "stderr",
     "output_type": "stream",
     "text": [
      "Values less than or equal to 0 in data. Throwing out 0 or negative values\n",
      "Calculating best minimal value for power law fit\n"
     ]
    },
    {
     "name": "stdout",
     "output_type": "stream",
     "text": [
      "Begin iteration...Done\n",
      "finish all the staff\n",
      "p_value: 0.40504419461639285 alpha: 1.5729206842310084 xmin: 19.0\n",
      "Initalizing...Done.\n"
     ]
    },
    {
     "name": "stderr",
     "output_type": "stream",
     "text": [
      "Values less than or equal to 0 in data. Throwing out 0 or negative values\n",
      "Calculating best minimal value for power law fit\n"
     ]
    },
    {
     "name": "stdout",
     "output_type": "stream",
     "text": [
      "Begin iteration...Done\n",
      "finish all the staff\n",
      "p_value: 0.25871690170438255 alpha: 2.550479756350425 xmin: 139.0\n",
      "Initalizing...Done.\n"
     ]
    },
    {
     "name": "stderr",
     "output_type": "stream",
     "text": [
      "Values less than or equal to 0 in data. Throwing out 0 or negative values\n",
      "Calculating best minimal value for power law fit\n",
      "'nan' in fit cumulative distribution values.\n",
      "Likely underflow or overflow error: the optimal fit for this distribution gives values that are so extreme that we lack the numerical precision to calculate them.\n"
     ]
    },
    {
     "name": "stdout",
     "output_type": "stream",
     "text": [
      "Begin iteration...Done\n",
      "finish all the staff\n",
      "p_value: 0.9770284951160536 alpha: 1.6790304567433165 xmin: 1.0\n",
      "Initalizing...Done.\n"
     ]
    },
    {
     "name": "stderr",
     "output_type": "stream",
     "text": [
      "Values less than or equal to 0 in data. Throwing out 0 or negative values\n",
      "Calculating best minimal value for power law fit\n",
      "'nan' in fit cumulative distribution values.\n",
      "Likely underflow or overflow error: the optimal fit for this distribution gives values that are so extreme that we lack the numerical precision to calculate them.\n"
     ]
    },
    {
     "name": "stdout",
     "output_type": "stream",
     "text": [
      "Begin iteration...Done\n",
      "finish all the staff\n",
      "p_value: 0.3336612736553398 alpha: 2.283006598361551 xmin: 12.0\n"
     ]
    },
    {
     "name": "stderr",
     "output_type": "stream",
     "text": [
      "Values less than or equal to 0 in data. Throwing out 0 or negative values\n",
      "Calculating best minimal value for power law fit\n",
      "'nan' in fit cumulative distribution values.\n",
      "Likely underflow or overflow error: the optimal fit for this distribution gives values that are so extreme that we lack the numerical precision to calculate them.\n"
     ]
    },
    {
     "data": {
      "text/html": [
       "<div>\n",
       "<style scoped>\n",
       "    .dataframe tbody tr th:only-of-type {\n",
       "        vertical-align: middle;\n",
       "    }\n",
       "\n",
       "    .dataframe tbody tr th {\n",
       "        vertical-align: top;\n",
       "    }\n",
       "\n",
       "    .dataframe thead th {\n",
       "        text-align: right;\n",
       "    }\n",
       "</style>\n",
       "<table border=\"1\" class=\"dataframe\">\n",
       "  <thead>\n",
       "    <tr style=\"text-align: right;\">\n",
       "      <th></th>\n",
       "      <th>0.1</th>\n",
       "      <th>0.2</th>\n",
       "      <th>0.4</th>\n",
       "      <th>0.6</th>\n",
       "      <th>0.8</th>\n",
       "    </tr>\n",
       "  </thead>\n",
       "  <tbody>\n",
       "    <tr>\n",
       "      <th>$ \\beta $ effect $ \\alpha $</th>\n",
       "      <td>1.321952</td>\n",
       "      <td>1.572921</td>\n",
       "      <td>2.55048</td>\n",
       "      <td>1.67903</td>\n",
       "      <td>2.283007</td>\n",
       "    </tr>\n",
       "  </tbody>\n",
       "</table>\n",
       "</div>"
      ],
      "text/plain": [
       "                                  0.1       0.2      0.4      0.6       0.8\n",
       "$ \\beta $ effect $ \\alpha $  1.321952  1.572921  2.55048  1.67903  2.283007"
      ]
     },
     "execution_count": 67,
     "metadata": {},
     "output_type": "execute_result"
    }
   ],
   "source": [
    "alpha_list = []\n",
    "for item in beta_list:\n",
    "    a1 = assumption_1st(beta=item,iterations=4000,rating_scale=5,Cu=10,Ci=20,Unum=20,Inum=10,K=10,L=5,C=1)\n",
    "    degseq, weiseq, xind = a1.get_distribution(\"item\")\n",
    "    p_value, alpha, xmin = get_pvalue_alpha_xmin(degseq)\n",
    "    alpha_list.append(alpha)\n",
    "data=[alpha_list]\n",
    "frame_beta_item=pd.DataFrame(data, index=[r'$ \\beta $'+' effect '+r'$ \\alpha $'], columns=beta_list)\n",
    "frame_beta_item"
   ]
  },
  {
   "cell_type": "markdown",
   "metadata": {},
   "source": [
    "### $rate$"
   ]
  },
  {
   "cell_type": "code",
   "execution_count": 68,
   "metadata": {},
   "outputs": [
    {
     "name": "stdout",
     "output_type": "stream",
     "text": [
      "Initalizing...Done.\n",
      "Begin iteration...Done\n",
      "finish all the staff\n",
      "p_value: 0.2972534287409978 alpha: 2.150829959686953 xmin: 35.0\n",
      "Initalizing...Done.\n"
     ]
    },
    {
     "name": "stderr",
     "output_type": "stream",
     "text": [
      "Values less than or equal to 0 in data. Throwing out 0 or negative values\n",
      "Calculating best minimal value for power law fit\n",
      "'nan' in fit cumulative distribution values.\n",
      "Likely underflow or overflow error: the optimal fit for this distribution gives values that are so extreme that we lack the numerical precision to calculate them.\n"
     ]
    },
    {
     "name": "stdout",
     "output_type": "stream",
     "text": [
      "Begin iteration...Done\n",
      "finish all the staff\n",
      "p_value: 0.3049297925604344 alpha: 2.2992245443748036 xmin: 43.0\n",
      "Initalizing...Done.\n"
     ]
    },
    {
     "name": "stderr",
     "output_type": "stream",
     "text": [
      "Values less than or equal to 0 in data. Throwing out 0 or negative values\n",
      "Calculating best minimal value for power law fit\n",
      "'nan' in fit cumulative distribution values.\n",
      "Likely underflow or overflow error: the optimal fit for this distribution gives values that are so extreme that we lack the numerical precision to calculate them.\n"
     ]
    },
    {
     "name": "stdout",
     "output_type": "stream",
     "text": [
      "Begin iteration...Done\n",
      "finish all the staff\n",
      "p_value: 0.9318096336239482 alpha: 1.643222315606932 xmin: 1.0\n",
      "Initalizing...Done.\n"
     ]
    },
    {
     "name": "stderr",
     "output_type": "stream",
     "text": [
      "Values less than or equal to 0 in data. Throwing out 0 or negative values\n",
      "Calculating best minimal value for power law fit\n"
     ]
    },
    {
     "name": "stdout",
     "output_type": "stream",
     "text": [
      "Begin iteration...Done\n",
      "finish all the staff\n",
      "p_value: 0.522035423877979 alpha: 2.2636397098854264 xmin: 48.0\n",
      "Initalizing...Done.\n"
     ]
    },
    {
     "name": "stderr",
     "output_type": "stream",
     "text": [
      "Values less than or equal to 0 in data. Throwing out 0 or negative values\n",
      "Calculating best minimal value for power law fit\n",
      "'nan' in fit cumulative distribution values.\n",
      "Likely underflow or overflow error: the optimal fit for this distribution gives values that are so extreme that we lack the numerical precision to calculate them.\n"
     ]
    },
    {
     "name": "stdout",
     "output_type": "stream",
     "text": [
      "Begin iteration...Done\n",
      "finish all the staff\n",
      "p_value: 0.3120378089211714 alpha: 2.220902562756679 xmin: 37.0\n",
      "Initalizing...Done.\n"
     ]
    },
    {
     "name": "stderr",
     "output_type": "stream",
     "text": [
      "Values less than or equal to 0 in data. Throwing out 0 or negative values\n",
      "Calculating best minimal value for power law fit\n",
      "'nan' in fit cumulative distribution values.\n",
      "Likely underflow or overflow error: the optimal fit for this distribution gives values that are so extreme that we lack the numerical precision to calculate them.\n"
     ]
    },
    {
     "name": "stdout",
     "output_type": "stream",
     "text": [
      "Begin iteration...Done\n",
      "finish all the staff\n",
      "p_value: 0.31854913694144193 alpha: 2.1256762191509493 xmin: 25.0\n",
      "Initalizing...Done.\n"
     ]
    },
    {
     "name": "stderr",
     "output_type": "stream",
     "text": [
      "Values less than or equal to 0 in data. Throwing out 0 or negative values\n",
      "Calculating best minimal value for power law fit\n",
      "'nan' in fit cumulative distribution values.\n",
      "Likely underflow or overflow error: the optimal fit for this distribution gives values that are so extreme that we lack the numerical precision to calculate them.\n"
     ]
    },
    {
     "name": "stdout",
     "output_type": "stream",
     "text": [
      "Begin iteration...Done\n",
      "finish all the staff\n",
      "p_value: 0.3002972585113738 alpha: 2.3695552591088287 xmin: 49.0\n",
      "Initalizing...Done.\n"
     ]
    },
    {
     "name": "stderr",
     "output_type": "stream",
     "text": [
      "Values less than or equal to 0 in data. Throwing out 0 or negative values\n",
      "Calculating best minimal value for power law fit\n",
      "'nan' in fit cumulative distribution values.\n",
      "Likely underflow or overflow error: the optimal fit for this distribution gives values that are so extreme that we lack the numerical precision to calculate them.\n"
     ]
    },
    {
     "name": "stdout",
     "output_type": "stream",
     "text": [
      "Begin iteration...Done\n",
      "finish all the staff\n",
      "p_value: 0.25837375785337957 alpha: 2.438995120994127 xmin: 54.0\n",
      "Initalizing...Done.\n"
     ]
    },
    {
     "name": "stderr",
     "output_type": "stream",
     "text": [
      "Values less than or equal to 0 in data. Throwing out 0 or negative values\n",
      "Calculating best minimal value for power law fit\n",
      "'nan' in fit cumulative distribution values.\n",
      "Likely underflow or overflow error: the optimal fit for this distribution gives values that are so extreme that we lack the numerical precision to calculate them.\n"
     ]
    },
    {
     "name": "stdout",
     "output_type": "stream",
     "text": [
      "Begin iteration...Done\n",
      "finish all the staff\n",
      "p_value: 0.9005717859207628 alpha: 1.9411473409843287 xmin: 16.0\n",
      "Initalizing...Done.\n"
     ]
    },
    {
     "name": "stderr",
     "output_type": "stream",
     "text": [
      "Values less than or equal to 0 in data. Throwing out 0 or negative values\n",
      "Calculating best minimal value for power law fit\n"
     ]
    },
    {
     "name": "stdout",
     "output_type": "stream",
     "text": [
      "Begin iteration...Done\n",
      "finish all the staff\n",
      "p_value: 0.3232449344287711 alpha: 1.6912266790324784 xmin: 1.0\n"
     ]
    },
    {
     "name": "stderr",
     "output_type": "stream",
     "text": [
      "Values less than or equal to 0 in data. Throwing out 0 or negative values\n",
      "Calculating best minimal value for power law fit\n",
      "'nan' in fit cumulative distribution values.\n",
      "Likely underflow or overflow error: the optimal fit for this distribution gives values that are so extreme that we lack the numerical precision to calculate them.\n"
     ]
    },
    {
     "data": {
      "text/html": [
       "<div>\n",
       "<style scoped>\n",
       "    .dataframe tbody tr th:only-of-type {\n",
       "        vertical-align: middle;\n",
       "    }\n",
       "\n",
       "    .dataframe tbody tr th {\n",
       "        vertical-align: top;\n",
       "    }\n",
       "\n",
       "    .dataframe thead th {\n",
       "        text-align: right;\n",
       "    }\n",
       "</style>\n",
       "<table border=\"1\" class=\"dataframe\">\n",
       "  <thead>\n",
       "    <tr style=\"text-align: right;\">\n",
       "      <th></th>\n",
       "      <th>1</th>\n",
       "      <th>2</th>\n",
       "      <th>3</th>\n",
       "      <th>4</th>\n",
       "      <th>5</th>\n",
       "      <th>6</th>\n",
       "      <th>7</th>\n",
       "      <th>8</th>\n",
       "      <th>9</th>\n",
       "      <th>10</th>\n",
       "    </tr>\n",
       "  </thead>\n",
       "  <tbody>\n",
       "    <tr>\n",
       "      <th>rate effect $ \\alpha $</th>\n",
       "      <td>2.15083</td>\n",
       "      <td>2.299225</td>\n",
       "      <td>1.643222</td>\n",
       "      <td>2.26364</td>\n",
       "      <td>2.220903</td>\n",
       "      <td>2.125676</td>\n",
       "      <td>2.369555</td>\n",
       "      <td>2.438995</td>\n",
       "      <td>1.941147</td>\n",
       "      <td>1.691227</td>\n",
       "    </tr>\n",
       "  </tbody>\n",
       "</table>\n",
       "</div>"
      ],
      "text/plain": [
       "                             1         2         3        4         5   \\\n",
       "rate effect $ \\alpha $  2.15083  2.299225  1.643222  2.26364  2.220903   \n",
       "\n",
       "                              6         7         8         9         10  \n",
       "rate effect $ \\alpha $  2.125676  2.369555  2.438995  1.941147  1.691227  "
      ]
     },
     "execution_count": 68,
     "metadata": {},
     "output_type": "execute_result"
    }
   ],
   "source": [
    "alpha_list = []\n",
    "for item in rate_list:\n",
    "    a1 = assumption_1st(beta=0.6,iterations=4000,rating_scale=item,Cu=10,Ci=20,Unum=20,Inum=10,K=10,L=5,C=1)\n",
    "    degseq, weiseq, xind = a1.get_distribution(\"item\")\n",
    "    p_value, alpha, xmin = get_pvalue_alpha_xmin(degseq)\n",
    "    alpha_list.append(alpha)\n",
    "data=[alpha_list]\n",
    "frame_rate_item=pd.DataFrame(data, index=['rate'+' effect '+r'$ \\alpha $'], columns=rate_list)\n",
    "frame_rate_item"
   ]
  },
  {
   "cell_type": "markdown",
   "metadata": {},
   "source": [
    "$C_{u}$"
   ]
  },
  {
   "cell_type": "code",
   "execution_count": 69,
   "metadata": {},
   "outputs": [
    {
     "name": "stdout",
     "output_type": "stream",
     "text": [
      "1\n",
      "Initalizing...Done.\n",
      "Begin iteration...Done\n",
      "finish all the staff\n",
      "p_value: 0.9237947540175063 alpha: 2.000066205286622 xmin: 102.0\n",
      "5\n",
      "Initalizing...Done.\n"
     ]
    },
    {
     "name": "stderr",
     "output_type": "stream",
     "text": [
      "Values less than or equal to 0 in data. Throwing out 0 or negative values\n",
      "Calculating best minimal value for power law fit\n"
     ]
    },
    {
     "name": "stdout",
     "output_type": "stream",
     "text": [
      "Begin iteration...Done\n",
      "finish all the staff\n",
      "p_value: 0.3795404152414623 alpha: 1.5797665079989107 xmin: 3.0\n",
      "10\n",
      "Initalizing...Done.\n"
     ]
    },
    {
     "name": "stderr",
     "output_type": "stream",
     "text": [
      "Values less than or equal to 0 in data. Throwing out 0 or negative values\n",
      "Calculating best minimal value for power law fit\n"
     ]
    },
    {
     "name": "stdout",
     "output_type": "stream",
     "text": [
      "Begin iteration...Done\n",
      "finish all the staff\n",
      "p_value: 0.5005927303700729 alpha: 1.683418590929144 xmin: 1.0\n",
      "20\n",
      "Initalizing...Done.\n"
     ]
    },
    {
     "name": "stderr",
     "output_type": "stream",
     "text": [
      "Values less than or equal to 0 in data. Throwing out 0 or negative values\n",
      "Calculating best minimal value for power law fit\n",
      "'nan' in fit cumulative distribution values.\n",
      "Likely underflow or overflow error: the optimal fit for this distribution gives values that are so extreme that we lack the numerical precision to calculate them.\n"
     ]
    },
    {
     "name": "stdout",
     "output_type": "stream",
     "text": [
      "Begin iteration...Done\n",
      "finish all the staff\n",
      "p_value: 0.40279627038291654 alpha: 1.9473115103866312 xmin: 1.0\n",
      "30\n",
      "Initalizing...Done.\n"
     ]
    },
    {
     "name": "stderr",
     "output_type": "stream",
     "text": [
      "Values less than or equal to 0 in data. Throwing out 0 or negative values\n",
      "Calculating best minimal value for power law fit\n",
      "'nan' in fit cumulative distribution values.\n",
      "Likely underflow or overflow error: the optimal fit for this distribution gives values that are so extreme that we lack the numerical precision to calculate them.\n"
     ]
    },
    {
     "name": "stdout",
     "output_type": "stream",
     "text": [
      "Begin iteration...Done\n",
      "finish all the staff\n",
      "p_value: 0.8591032916420315 alpha: 1.9120742631743386 xmin: 6.0\n",
      "50\n",
      "Initalizing...Done.\n"
     ]
    },
    {
     "name": "stderr",
     "output_type": "stream",
     "text": [
      "Values less than or equal to 0 in data. Throwing out 0 or negative values\n",
      "Calculating best minimal value for power law fit\n"
     ]
    },
    {
     "name": "stdout",
     "output_type": "stream",
     "text": [
      "Begin iteration...Done\n",
      "finish all the staff\n",
      "p_value: 0.9401014335210583 alpha: 1.9702045373891985 xmin: 5.0\n"
     ]
    },
    {
     "name": "stderr",
     "output_type": "stream",
     "text": [
      "Values less than or equal to 0 in data. Throwing out 0 or negative values\n",
      "Calculating best minimal value for power law fit\n"
     ]
    },
    {
     "data": {
      "text/html": [
       "<div>\n",
       "<style scoped>\n",
       "    .dataframe tbody tr th:only-of-type {\n",
       "        vertical-align: middle;\n",
       "    }\n",
       "\n",
       "    .dataframe tbody tr th {\n",
       "        vertical-align: top;\n",
       "    }\n",
       "\n",
       "    .dataframe thead th {\n",
       "        text-align: right;\n",
       "    }\n",
       "</style>\n",
       "<table border=\"1\" class=\"dataframe\">\n",
       "  <thead>\n",
       "    <tr style=\"text-align: right;\">\n",
       "      <th></th>\n",
       "      <th>1</th>\n",
       "      <th>5</th>\n",
       "      <th>10</th>\n",
       "      <th>20</th>\n",
       "      <th>30</th>\n",
       "      <th>50</th>\n",
       "    </tr>\n",
       "  </thead>\n",
       "  <tbody>\n",
       "    <tr>\n",
       "      <th>$ c_{u} $ effect $ \\alpha $</th>\n",
       "      <td>2.000066</td>\n",
       "      <td>1.579767</td>\n",
       "      <td>1.683419</td>\n",
       "      <td>1.947312</td>\n",
       "      <td>1.912074</td>\n",
       "      <td>1.970205</td>\n",
       "    </tr>\n",
       "  </tbody>\n",
       "</table>\n",
       "</div>"
      ],
      "text/plain": [
       "                                   1         5         10        20        30  \\\n",
       "$ c_{u} $ effect $ \\alpha $  2.000066  1.579767  1.683419  1.947312  1.912074   \n",
       "\n",
       "                                   50  \n",
       "$ c_{u} $ effect $ \\alpha $  1.970205  "
      ]
     },
     "execution_count": 69,
     "metadata": {},
     "output_type": "execute_result"
    }
   ],
   "source": [
    "alpha_list = []\n",
    "for item in cu_list:\n",
    "    print(item)\n",
    "    a1 = assumption_1st(beta=0.6,iterations=4000,rating_scale=5,Cu=item,Ci=20,Unum=20,Inum=50,K=10,L=5,C=1)\n",
    "    degseq, weiseq, xind = a1.get_distribution(\"item\")\n",
    "    p_value, alpha, xmin = get_pvalue_alpha_xmin(degseq)\n",
    "    alpha_list.append(alpha)\n",
    "data=[alpha_list]\n",
    "frame_cu_item=pd.DataFrame(data, index=[r'$ c_{u} $'+' effect '+r'$ \\alpha $'], columns=cu_list)\n",
    "frame_cu_item"
   ]
  },
  {
   "cell_type": "markdown",
   "metadata": {},
   "source": [
    "$C_{i}$"
   ]
  },
  {
   "cell_type": "code",
   "execution_count": 70,
   "metadata": {},
   "outputs": [
    {
     "name": "stdout",
     "output_type": "stream",
     "text": [
      "1\n",
      "Initalizing...Done.\n",
      "Begin iteration...Done\n",
      "finish all the staff\n",
      "p_value: 0.5858652718715328 alpha: 1.8094038462582436 xmin: 1.0\n",
      "5\n",
      "Initalizing...Done.\n"
     ]
    },
    {
     "name": "stderr",
     "output_type": "stream",
     "text": [
      "Values less than or equal to 0 in data. Throwing out 0 or negative values\n",
      "Calculating best minimal value for power law fit\n",
      "'nan' in fit cumulative distribution values.\n",
      "Likely underflow or overflow error: the optimal fit for this distribution gives values that are so extreme that we lack the numerical precision to calculate them.\n"
     ]
    },
    {
     "name": "stdout",
     "output_type": "stream",
     "text": [
      "Begin iteration...Done\n",
      "finish all the staff\n",
      "p_value: 0.8716208302184627 alpha: 1.663018001947002 xmin: 2.0\n",
      "10\n",
      "Initalizing...Done.\n"
     ]
    },
    {
     "name": "stderr",
     "output_type": "stream",
     "text": [
      "Values less than or equal to 0 in data. Throwing out 0 or negative values\n",
      "Calculating best minimal value for power law fit\n"
     ]
    },
    {
     "name": "stdout",
     "output_type": "stream",
     "text": [
      "Begin iteration...Done\n",
      "finish all the staff\n",
      "p_value: 0.9008464019549671 alpha: 1.8850906719112688 xmin: 16.0\n",
      "20\n",
      "Initalizing...Done.\n"
     ]
    },
    {
     "name": "stderr",
     "output_type": "stream",
     "text": [
      "Values less than or equal to 0 in data. Throwing out 0 or negative values\n",
      "Calculating best minimal value for power law fit\n"
     ]
    },
    {
     "name": "stdout",
     "output_type": "stream",
     "text": [
      "Begin iteration...Done\n",
      "finish all the staff\n",
      "p_value: 0.2945405033970372 alpha: 2.2593306847520385 xmin: 35.0\n",
      "30\n",
      "Initalizing...Done.\n"
     ]
    },
    {
     "name": "stderr",
     "output_type": "stream",
     "text": [
      "Values less than or equal to 0 in data. Throwing out 0 or negative values\n",
      "Calculating best minimal value for power law fit\n",
      "'nan' in fit cumulative distribution values.\n",
      "Likely underflow or overflow error: the optimal fit for this distribution gives values that are so extreme that we lack the numerical precision to calculate them.\n"
     ]
    },
    {
     "name": "stdout",
     "output_type": "stream",
     "text": [
      "Begin iteration...Done\n",
      "finish all the staff\n",
      "p_value: 0.31970261659037424 alpha: 1.6798864553787607 xmin: 1.0\n",
      "50\n",
      "Initalizing...Done.\n"
     ]
    },
    {
     "name": "stderr",
     "output_type": "stream",
     "text": [
      "Values less than or equal to 0 in data. Throwing out 0 or negative values\n",
      "Calculating best minimal value for power law fit\n",
      "'nan' in fit cumulative distribution values.\n",
      "Likely underflow or overflow error: the optimal fit for this distribution gives values that are so extreme that we lack the numerical precision to calculate them.\n"
     ]
    },
    {
     "name": "stdout",
     "output_type": "stream",
     "text": [
      "Begin iteration...Done\n",
      "finish all the staff\n",
      "p_value: 0.14689191154774411 alpha: 2.578826792223132 xmin: 40.0\n"
     ]
    },
    {
     "name": "stderr",
     "output_type": "stream",
     "text": [
      "Values less than or equal to 0 in data. Throwing out 0 or negative values\n",
      "Calculating best minimal value for power law fit\n",
      "'nan' in fit cumulative distribution values.\n",
      "Likely underflow or overflow error: the optimal fit for this distribution gives values that are so extreme that we lack the numerical precision to calculate them.\n"
     ]
    },
    {
     "data": {
      "text/html": [
       "<div>\n",
       "<style scoped>\n",
       "    .dataframe tbody tr th:only-of-type {\n",
       "        vertical-align: middle;\n",
       "    }\n",
       "\n",
       "    .dataframe tbody tr th {\n",
       "        vertical-align: top;\n",
       "    }\n",
       "\n",
       "    .dataframe thead th {\n",
       "        text-align: right;\n",
       "    }\n",
       "</style>\n",
       "<table border=\"1\" class=\"dataframe\">\n",
       "  <thead>\n",
       "    <tr style=\"text-align: right;\">\n",
       "      <th></th>\n",
       "      <th>1</th>\n",
       "      <th>5</th>\n",
       "      <th>10</th>\n",
       "      <th>20</th>\n",
       "      <th>30</th>\n",
       "      <th>50</th>\n",
       "    </tr>\n",
       "  </thead>\n",
       "  <tbody>\n",
       "    <tr>\n",
       "      <th>$ c_{i} $ effect $ \\alpha $</th>\n",
       "      <td>1.809404</td>\n",
       "      <td>1.663018</td>\n",
       "      <td>1.885091</td>\n",
       "      <td>2.259331</td>\n",
       "      <td>1.679886</td>\n",
       "      <td>2.578827</td>\n",
       "    </tr>\n",
       "  </tbody>\n",
       "</table>\n",
       "</div>"
      ],
      "text/plain": [
       "                                   1         5         10        20        30  \\\n",
       "$ c_{i} $ effect $ \\alpha $  1.809404  1.663018  1.885091  2.259331  1.679886   \n",
       "\n",
       "                                   50  \n",
       "$ c_{i} $ effect $ \\alpha $  2.578827  "
      ]
     },
     "execution_count": 70,
     "metadata": {},
     "output_type": "execute_result"
    }
   ],
   "source": [
    "alpha_list = []\n",
    "for item in ci_list:\n",
    "    print(item)\n",
    "    a1 = assumption_1st(beta=0.6,iterations=4000,rating_scale=5,Cu=10,Ci=item,Unum=50,Inum=10,K=10,L=5,C=1)\n",
    "    degseq, weiseq, xind = a1.get_distribution(\"item\")\n",
    "    p_value, alpha, xmin = get_pvalue_alpha_xmin(degseq)\n",
    "    alpha_list.append(alpha)\n",
    "data=[alpha_list]\n",
    "frame_ci_item=pd.DataFrame(data, index=[r'$ c_{i} $'+' effect '+r'$ \\alpha $'], columns=ci_list)\n",
    "frame_ci_item"
   ]
  }
 ],
 "metadata": {
  "kernelspec": {
   "display_name": "Python 3",
   "language": "python",
   "name": "python3"
  },
  "language_info": {
   "codemirror_mode": {
    "name": "ipython",
    "version": 3
   },
   "file_extension": ".py",
   "mimetype": "text/x-python",
   "name": "python",
   "nbconvert_exporter": "python",
   "pygments_lexer": "ipython3",
   "version": "3.6.8"
  }
 },
 "nbformat": 4,
 "nbformat_minor": 4
}
