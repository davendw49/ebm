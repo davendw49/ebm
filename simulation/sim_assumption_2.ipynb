{
 "cells": [
  {
   "cell_type": "code",
   "execution_count": 5,
   "metadata": {},
   "outputs": [],
   "source": [
    "# This is the simulation of our evolving RS model under the SECOND framework of our assumptions on edge weights.\n",
    "import numpy as np\n",
    "import random\n",
    "import matplotlib.pyplot as plt\n",
    "import powerlaw\n",
    "import pandas as pd"
   ]
  },
  {
   "cell_type": "code",
   "execution_count": 7,
   "metadata": {
    "jupyter": {
     "source_hidden": true
    }
   },
   "outputs": [],
   "source": [
    "#Initial settings of parameters in our weighted bipartite graph model B(U,I).\n",
    "beta = 0.6 # the probability to add a new vertex in U\n",
    "iterations = 3000 # the number of iterations to run the simulation\n",
    "rating_scale = 5 # the preassigned rating scale\n",
    "Cu = 10 # the least number of edges connected to vertices in U\n",
    "Ci = 20 # the least number of edges connected to vertices in I\n",
    "Unum = 20 # the number of vertices in U in the initial graph at t=0\n",
    "Inum = 10 # the number of vertices in I in the initial graph at t=1\n",
    "K = 10 # the number of basic user type in our assumption\n",
    "L = 3 # the number of basic item level in our assumption\n",
    "Hui = np.zeros((rating_scale,K,L)) # the rating pmf for the pair of K user types and L item levels\n",
    "Fmean = np.zeros((K,)) # the mean of the distribution of users' weight vector (assumed to be Gaussian)\n",
    "Gmean = np.zeros((L,)) # the mean of the distribution of items' weight vector (assumed to be Gaussian)\n",
    "edges = np.zeros((iterations+50,iterations+50), dtype=int) # the matrix storing edge information\n",
    "Uweight = np.zeros((iterations+50,K)) # the matrix storing users' weight vectors\n",
    "Iweight = np.zeros((iterations+50,L)) # the matrix storing items' weight vectors"
   ]
  },
  {
   "cell_type": "code",
   "execution_count": 8,
   "metadata": {
    "jupyter": {
     "source_hidden": true
    }
   },
   "outputs": [],
   "source": [
    "# Initalization of the sampling of edge weights from the mixture distribution\n",
    "def init_weightgenerator():\n",
    "    global K,L,Huser,Hitem,Hui,rating_scale,Fmean,Gmean\n",
    "    Hui = np.random.sample((rating_scale,K,L))\n",
    "    Huisubsum = np.sum(Hui,axis=0)\n",
    "    Huisubsum = np.array([Huisubsum]*rating_scale)\n",
    "    Hui = Hui/Huisubsum\n",
    "    Huser = np.random.sample((K,rating_scale))\n",
    "    Husersubsum = np.sum(Huser,axis=1)\n",
    "    Husersubsum = np.array([Husersubsum]*rating_scale)\n",
    "    Husersubsum = np.transpose(Husersubsum)\n",
    "    Huser = Huser/Husersubsum\n",
    "    Hitem = np.random.sample((L,rating_scale))\n",
    "    Hitemsubsum = np.sum(Hitem,axis=1)\n",
    "    Hitemsubsum = np.array([Hitemsubsum]*rating_scale)\n",
    "    Hitemsubsum = np.transpose(Hitemsubsum)\n",
    "    Hitem = Hitem/Hitemsubsum\n",
    "    Fmean = np.random.sample(K,)\n",
    "    Fmean = Fmean/np.sum(Fmean)\n",
    "    Gmean = np.random.sample(L,)\n",
    "    Gmean = Gmean/np.sum(Gmean)"
   ]
  },
  {
   "cell_type": "code",
   "execution_count": 9,
   "metadata": {
    "jupyter": {
     "source_hidden": true
    }
   },
   "outputs": [],
   "source": [
    "#Sample edge weight for the edge between vertices (Uid, Iid)\n",
    "def weightgenerator(Uid,Iid):\n",
    "    global K,L,Huser,Hitem,Hui,rating_scale,Fmean,Gmean\n",
    "    Uw = Uweight[Uid:Uid+1,:]\n",
    "    Iw = Iweight[Iid:Iid+1,:]\n",
    "    Uw = np.transpose(Uw)\n",
    "    Hr = np.dot(Uw,Iw)\n",
    "    Hr = np.array([Hr]*rating_scale)\n",
    "    Hr = Hui*Hr\n",
    "    Hr = np.sum(Hr,axis=1)\n",
    "    Hr = np.sum(Hr,axis=1)\n",
    "    R = np.random.choice(rating_scale,1,p=Hr)+1\n",
    "    return R"
   ]
  },
  {
   "cell_type": "code",
   "execution_count": 10,
   "metadata": {
    "jupyter": {
     "source_hidden": true
    }
   },
   "outputs": [],
   "source": [
    "# Initialization for the inital simple graph at t=0\n",
    "def init():\n",
    "    print('Initalizing...')\n",
    "    global edges,Unum,Inum,Uweight,Iweight,K,L,Fmean,Gmean\n",
    "    init_weightgenerator()\n",
    "    for i in range(Unum):\n",
    "        Utmp = np.random.normal(Fmean,0.1)\n",
    "        Utmp[Utmp<0]=0\n",
    "        Utmp = Utmp/np.sum(Utmp)\n",
    "        Uweight[i,:]=Utmp\n",
    "    for i in range(Inum):\n",
    "        Itmp = np.random.normal(Gmean,0.1)\n",
    "        Itmp[Itmp<0]=0\n",
    "        Itmp = Itmp/np.sum(Itmp)\n",
    "        Iweight[i,:]=Itmp\n",
    "    edges = np.zeros((iterations+50,iterations+50), dtype=int)\n",
    "    # We can assume that axis=1 is user sequence and the axis=0 is the item sequence\n",
    "    for i in range(Unum):\n",
    "        for j in range(Inum):\n",
    "            edges[i,j] = weightgenerator(i,j)\n",
    "    print('Done.')"
   ]
  },
  {
   "cell_type": "code",
   "execution_count": 11,
   "metadata": {
    "jupyter": {
     "source_hidden": true
    }
   },
   "outputs": [],
   "source": [
    "# Select \"prototype\" from the existing vertex group\n",
    "def prototype(arr, nb):\n",
    "    return np.count_nonzero(arr.cumsum() < nb)\n",
    "\n",
    "# Conduct Edge-copy and assign new edge weights\n",
    "def copyedge(template, desired,p_prime):\n",
    "    ls = []\n",
    "    new2old = template.nonzero()[0]\n",
    "    tmp = template[new2old].astype(float)\n",
    "    for i in range(desired):\n",
    "        tmp /= tmp.sum()\n",
    "        sampled = np.nonzero(np.random.multinomial(1, tmp))[0][0]\n",
    "        ls.append(sampled)\n",
    "        tmp[sampled] = 0\n",
    "    ls.sort()\n",
    "    return new2old[ls]\n",
    "\n",
    "# Add new vertices to U (respectively. I)\n",
    "def addnode(nb_axis):\n",
    "    global edges,Unum,Inum,Fmean,Gmean\n",
    "    weightsum = np.sum(edges[:Unum,:Inum], axis=nb_axis)\n",
    "    totalsum = np.sum(weightsum)\n",
    "    randnum = np.random.randint(1, totalsum+1)\n",
    "    p_prime = prototype(weightsum, randnum)\n",
    "    weighted = np.zeros(1)\n",
    "    if nb_axis == 1:\n",
    "        Utmp = np.random.normal(Fmean,0.1)\n",
    "        Utmp[Utmp<0] = 0\n",
    "        Utmp = Utmp/np.sum(Utmp)\n",
    "        Uweight[Unum,:]=Utmp\n",
    "        template = edges[p_prime, :Inum]\n",
    "        desired = Cu\n",
    "        idx = copyedge(template, desired,p_prime)\n",
    "        new = np.zeros(template.shape[0],dtype=int)\n",
    "        for i in range(idx.shape[0]):\n",
    "            new[idx[i]]= weightgenerator(Unum,idx[i])\n",
    "        edges[Unum,:Inum] = new\n",
    "        Unum = Unum + 1\n",
    "    else:\n",
    "        Itmp = np.random.normal(Gmean,0.1)\n",
    "        Itmp[Itmp<0] = 0\n",
    "        Itmp = Itmp/np.sum(Itmp)\n",
    "        Iweight[Inum,:]=Itmp\n",
    "        template = edges[:Unum, p_prime]\n",
    "        desired = Ci\n",
    "        idx = copyedge(template, desired,p_prime)\n",
    "        new = np.zeros(template.shape[0],dtype=int)\n",
    "        for i in range(idx.shape[0]):\n",
    "            new[idx[i]]= weightgenerator(idx[i],Inum)\n",
    "        edges[:Unum,Inum] = new\n",
    "        Inum = Inum + 1\n",
    "\n",
    "# Evolution of U (or I)\n",
    "def evolution():\n",
    "    randnum = np.random.rand()\n",
    "    if randnum < beta:\n",
    "        addnode(1)\n",
    "    else:\n",
    "        addnode(0)\n",
    "    \n",
    "# Iterate \n",
    "def iterate():\n",
    "    print('Begin iteration...')\n",
    "    for i in range(iterations):\n",
    "        evolution()\n",
    "    print('Done')\n",
    "    \n",
    "# Gather statistic information\n",
    "def stat():\n",
    "    global edges\n",
    "    tmps = edges.flatten().astype(int)\n",
    "    count = np.bincount(tmps)\n",
    "    count = count[1:]\n",
    "    count = 1.0*count/count.sum()\n",
    "    return count\n",
    "\n",
    "# Calculate degree distributions\n",
    "def calcdegree():\n",
    "    global edges\n",
    "    sumdegree = edges.astype(bool).sum(axis=1)\n",
    "    return np.bincount(sumdegree)\n",
    "\n",
    "# Calculate vertex weight distributions\n",
    "def calcweight():\n",
    "    global edges\n",
    "    sumdegree = edges.sum(axis=1)\n",
    "    return np.bincount(sumdegree)\n",
    "\n",
    "# Calculate degree distributions\n",
    "def calcdegree_1():\n",
    "    global edges\n",
    "    sumdegree = edges.astype(bool).sum(axis=0)\n",
    "    return np.bincount(sumdegree)\n",
    "\n",
    "# Calculate vertex weight distributions\n",
    "def calcweight_1():\n",
    "    global edges\n",
    "    sumdegree = edges.sum(axis=0)\n",
    "    return np.bincount(sumdegree)\n",
    "\n",
    "# Run the simulation for one time\n",
    "def once():\n",
    "    global edges,Unum,Inum\n",
    "    init()\n",
    "    k = stat()\n",
    "    iterate()\n",
    "    res = stat()\n",
    "    deg_1 = calcdegree_1()\n",
    "    weights_1 = calcweight_1()\n",
    "    deg = calcdegree()\n",
    "    weights = calcweight()\n",
    "    print('--------------------------')\n",
    "    return (res, deg, weights, deg_1, weights_1, edges)"
   ]
  },
  {
   "cell_type": "code",
   "execution_count": 12,
   "metadata": {
    "jupyter": {
     "source_hidden": true
    }
   },
   "outputs": [],
   "source": [
    "def main():\n",
    "    x = np.zeros(rating_scale)\n",
    "    deg = np.zeros(iterations+1)\n",
    "    wei = np.zeros(iterations+1)\n",
    "    deg_1 = np.zeros(iterations+1)\n",
    "    wei_1 = np.zeros(iterations+1)\n",
    "    for i in range(1):\n",
    "        k = once()\n",
    "        x[:k[0].size] = x[:k[0].size] + k[0]\n",
    "        deg[:min(iterations+1,k[1].size)] = deg[:min(iterations+1,k[1].size)] + k[1][:min(iterations+1,k[1].size)]\n",
    "        wei[:min(iterations+1,k[2].size)] = wei[:min(iterations+1,k[2].size)] + k[2][:min(iterations+1,k[2].size)]\n",
    "        deg_1[:min(iterations+1,k[3].size)] = deg_1[:min(iterations+1,k[3].size)] + k[3][:min(iterations+1,k[3].size)]\n",
    "        wei_1[:min(iterations+1,k[4].size)] = wei_1[:min(iterations+1,k[4].size)] + k[4][:min(iterations+1,k[4].size)]\n",
    "        \n",
    "    np.set_printoptions(threshold=np.inf)\n",
    "    \n",
    "    xind = np.zeros(iterations+1)\n",
    "    for i in range(1,iterations+1):\n",
    "        xind[i]=xind[i-1]+1\n",
    "    \n",
    "    results = powerlaw.Fit(deg)\n",
    "    alpha = results.power_law.alpha\n",
    "    xmin = results.power_law.xmin\n",
    "    R, p_value = results.distribution_compare('power_law', 'lognormal')\n",
    "    print(\"user p_value:\", p_value, \"user alpha:\", alpha, \"user xmin:\", xmin)\n",
    "    plt.plot(np.log(xind),np.log(deg),'o',color = 'gray', alpha = 0.8, markersize=4, markeredgewidth=0.0)\n",
    "    \n",
    "    results = powerlaw.Fit(wei)\n",
    "    alpha = results.power_law.alpha\n",
    "    xmin = results.power_law.xmin\n",
    "    R, p_value = results.distribution_compare('power_law', 'lognormal')\n",
    "    print(\"user p_value:\", p_value, \"user alpha:\", alpha, \"user xmin:\", xmin)\n",
    "    plt.plot(np.log(xind),np.log(wei),'o',color = 'black', alpha = 0.8, markersize=4, markeredgewidth=0.0)\n",
    "    plt.show()\n",
    "    \n",
    "    print('================================')\n",
    "    \n",
    "    xind = np.zeros(iterations+1)\n",
    "    for i in range(1,iterations+1):\n",
    "        xind[i]=xind[i-1]+1\n",
    "    \n",
    "    results = powerlaw.Fit(deg_1)\n",
    "    alpha = results.power_law.alpha\n",
    "    xmin = results.power_law.xmin\n",
    "    R, p_value = results.distribution_compare('power_law', 'lognormal')\n",
    "    print(\"user p_value:\", p_value, \"user alpha:\", alpha, \"user xmin:\", xmin)\n",
    "    plt.plot(np.log(xind),np.log(deg_1),'o',color = 'gray', alpha = 0.8, markersize=4, markeredgewidth=0.0)\n",
    "    \n",
    "    results = powerlaw.Fit(wei_1)\n",
    "    alpha = results.power_law.alpha\n",
    "    xmin = results.power_law.xmin\n",
    "    R, p_value = results.distribution_compare('power_law', 'lognormal')\n",
    "    print(\"user p_value:\", p_value, \"user alpha:\", alpha, \"user xmin:\", xmin)\n",
    "    plt.plot(np.log(xind),np.log(wei_1),'o',color = 'black', alpha = 0.8, markersize=4, markeredgewidth=0.0)\n",
    "    plt.show()"
   ]
  },
  {
   "cell_type": "code",
   "execution_count": 13,
   "metadata": {
    "collapsed": true,
    "jupyter": {
     "outputs_hidden": true,
     "source_hidden": true
    }
   },
   "outputs": [
    {
     "name": "stdout",
     "output_type": "stream",
     "text": [
      "Initalizing...\n",
      "Done.\n",
      "Begin iteration...\n",
      "Done\n",
      "--------------------------\n"
     ]
    },
    {
     "name": "stderr",
     "output_type": "stream",
     "text": [
      "Values less than or equal to 0 in data. Throwing out 0 or negative values\n",
      "Calculating best minimal value for power law fit\n",
      "/home/acemap/.local/lib/python3.6/site-packages/powerlaw.py:700: RuntimeWarning: invalid value encountered in true_divide\n",
      "  (Theoretical_CDF * (1 - Theoretical_CDF))\n",
      "/home/acemap/.local/lib/python3.6/site-packages/powerlaw.py:1605: RuntimeWarning: invalid value encountered in true_divide\n",
      "  CDF = CDF/norm\n",
      "'nan' in fit cumulative distribution values.\n",
      "Likely underflow or overflow error: the optimal fit for this distribution gives values that are so extreme that we lack the numerical precision to calculate them.\n",
      "/home/acemap/.local/lib/python3.6/site-packages/ipykernel_launcher.py:26: RuntimeWarning: divide by zero encountered in log\n",
      "Values less than or equal to 0 in data. Throwing out 0 or negative values\n",
      "Calculating best minimal value for power law fit\n",
      "/home/acemap/.local/lib/python3.6/site-packages/powerlaw.py:700: RuntimeWarning: invalid value encountered in true_divide\n",
      "  (Theoretical_CDF * (1 - Theoretical_CDF))\n",
      "'nan' in fit cumulative distribution values.\n",
      "Likely underflow or overflow error: the optimal fit for this distribution gives values that are so extreme that we lack the numerical precision to calculate them.\n",
      "/home/acemap/.local/lib/python3.6/site-packages/ipykernel_launcher.py:33: RuntimeWarning: divide by zero encountered in log\n"
     ]
    },
    {
     "name": "stdout",
     "output_type": "stream",
     "text": [
      "user p_value: 0.7184409421829707 user alpha: 1.7512193212728409 user xmin: 1.0\n",
      "user p_value: 0.36521564686901586 user alpha: 1.9060933561338524 user xmin: 1.0\n"
     ]
    },
    {
     "data": {
      "image/png": "[encoded data removed]",
      "text/plain": [
       "<Figure size 432x288 with 1 Axes>"
      ]
     },
     "metadata": {
      "needs_background": "light"
     },
     "output_type": "display_data"
    },
    {
     "name": "stdout",
     "output_type": "stream",
     "text": [
      "================================\n",
      "user p_value: 0.7354550854702597 user alpha: 1.7986730959574184 user xmin: 7.0\n",
      "user p_value: 0.9527960550268729 user alpha: 1.85721291481293 user xmin: 1.0\n"
     ]
    },
    {
     "name": "stderr",
     "output_type": "stream",
     "text": [
      "Values less than or equal to 0 in data. Throwing out 0 or negative values\n",
      "Calculating best minimal value for power law fit\n",
      "/home/acemap/.local/lib/python3.6/site-packages/ipykernel_launcher.py:47: RuntimeWarning: divide by zero encountered in log\n",
      "Values less than or equal to 0 in data. Throwing out 0 or negative values\n",
      "Calculating best minimal value for power law fit\n",
      "/home/acemap/.local/lib/python3.6/site-packages/ipykernel_launcher.py:54: RuntimeWarning: divide by zero encountered in log\n"
     ]
    },
    {
     "data": {
      "image/png": "[encoded data removed]",
      "text/plain": [
       "<Figure size 432x288 with 1 Axes>"
      ]
     },
     "metadata": {
      "needs_background": "light"
     },
     "output_type": "display_data"
    }
   ],
   "source": [
    "main()"
   ]
  },
  {
   "cell_type": "markdown",
   "metadata": {},
   "source": [
    "# Class of Assumption Method 2"
   ]
  },
  {
   "cell_type": "code",
   "execution_count": 2,
   "metadata": {},
   "outputs": [],
   "source": [
    "class assumption_2nd:\n",
    "    # initializing the whole model\n",
    "    def __init__(self, beta, iterations, rating_scale, Cu, Ci, Unum, Inum, K, L, C):\n",
    "        self.init_paramter(beta, iterations, rating_scale, Cu, Ci, Unum, Inum, K, L, C)\n",
    "        self.init_assumption()\n",
    "        k = self.stat()\n",
    "        self.iterate()\n",
    "        res = self.stat()\n",
    "        tdu = self.calcdegree_user()\n",
    "        twu = self.calcweight_user()\n",
    "        tdi = self.calcdegree_item()\n",
    "        twi = self.calcweight_item()\n",
    "        \n",
    "        k = (res, tdu, twu, tdi, twi)\n",
    "        x = np.zeros(self.rating_scale)\n",
    "        self.degseq_user = np.zeros(self.iterations + 1)\n",
    "        self.weiseq_user = np.zeros(self.iterations + 1)\n",
    "        self.degseq_item = np.zeros(self.iterations + 1)\n",
    "        self.weiseq_item = np.zeros(self.iterations + 1)\n",
    "        \n",
    "        x[:res.size] = x[:res.size] + res\n",
    "        self.degseq_user[:min(self.iterations+1,k[1].size)] = self.degseq_user[:min(self.iterations+1,k[1].size)] + k[1][:min(self.iterations+1,k[1].size)]\n",
    "        self.weiseq_user[:min(self.iterations+1,k[2].size)] = self.weiseq_user[:min(self.iterations+1,k[2].size)] + k[2][:min(self.iterations+1,k[2].size)]\n",
    "        self.degseq_item[:min(self.iterations+1,k[3].size)] = self.degseq_item[:min(self.iterations+1,k[3].size)] + k[3][:min(self.iterations+1,k[3].size)]\n",
    "        self.weiseq_item[:min(self.iterations+1,k[4].size)] = self.weiseq_item[:min(self.iterations+1,k[4].size)] + k[4][:min(self.iterations+1,k[4].size)]\n",
    "        np.set_printoptions(threshold=np.inf)\n",
    "        xind = np.zeros(self.iterations + 1)\n",
    "        for i in range(1,self.iterations + 1):\n",
    "            xind[i] = xind[i-1] + 1\n",
    "        self.xind_user = xind\n",
    "        self.xind_item = xind\n",
    "        print(\"finish all the staff\")\n",
    "        \n",
    "    #Initial settings of parameters in our weighted bipartite graph model B(U,I).\n",
    "    def init_paramter(self, beta, iterations, rating_scale, Cu, Ci, Unum, Inum, K, L, C):\n",
    "        #Initial settings of parameters in our weighted bipartite graph model B(U,I).\n",
    "        self.beta = beta # the probability to add a new vertex in U\n",
    "        self.iterations = iterations # the number of iterations to run the simulation\n",
    "        self.rating_scale = rating_scale # the preassigned rating scale\n",
    "        self.Cu = Cu # the least number of edges connected to vertices in U\n",
    "        self.Ci = Ci # the least number of edges connected to vertices in I\n",
    "        self.Unum = Unum # the number of vertices in U in the initial graph at t=0\n",
    "        self.Inum = Inum # the number of vertices in I in the initial graph at t=1\n",
    "        self.K = K # the number of basic user type in our assumption\n",
    "        self.L = L # the number of basic item level in our assumption\n",
    "        \n",
    "        self.C = C # the number of adding edge\n",
    "        \n",
    "        self.Hui = np.zeros((rating_scale,K,L)) # the rating pmf for the pair of K user types and L item levels\n",
    "        self.Fmean = np.zeros((K,)) # the mean of the distribution of users' weight vector (assumed to be Gaussian)\n",
    "        self.Gmean = np.zeros((L,)) # the mean of the distribution of items' weight vector (assumed to be Gaussian)\n",
    "        self.edges = np.zeros((iterations+50,iterations+50), dtype=int) # the matrix storing edge information\n",
    "        self.Uweight = np.zeros((iterations+50,K)) # the matrix storing users' weight vectors\n",
    "        self.Iweight = np.zeros((iterations+50,L)) # the matrix storing items' weight vectors\n",
    "    \n",
    "    # Initalization of the sampling of edge weights from the mixture distribution\n",
    "    def init_weightgenerator(self):\n",
    "        # include K,L,Huser,Hitem,Hui,rating_scale,Fmean,Gmean\n",
    "        self.Hui = np.random.sample((self.rating_scale, self.K, self.L))\n",
    "        Huisubsum = np.sum(self.Hui,axis=0)\n",
    "        Huisubsum = np.array([Huisubsum] * self.rating_scale)\n",
    "        self.Hui = self.Hui/Huisubsum\n",
    "        \n",
    "        self.Huser = np.random.sample((self.K, self.rating_scale))\n",
    "        Husersubsum = np.sum(self.Huser, axis=1)\n",
    "        Husersubsum = np.array([Husersubsum] * self.rating_scale)\n",
    "        Husersubsum = np.transpose(Husersubsum)\n",
    "        self.Huser = self.Huser/Husersubsum\n",
    "        \n",
    "        self.Hitem = np.random.sample((self.L, self.rating_scale))\n",
    "        Hitemsubsum = np.sum(self.Hitem, axis=1)\n",
    "        Hitemsubsum = np.array([Hitemsubsum] * self.rating_scale)\n",
    "        Hitemsubsum = np.transpose(Hitemsubsum)\n",
    "        self.Hitem = self.Hitem/Hitemsubsum\n",
    "        \n",
    "        self.Fmean = np.random.sample(self.K,)\n",
    "        self.Fmean = self.Fmean/np.sum(self.Fmean)\n",
    "        self.Gmean = np.random.sample(self.L,)\n",
    "        self.Gmean = self.Gmean/np.sum(self.Gmean)\n",
    "    \n",
    "    #Sample edge weight for the edge between vertices (Uid, Iid)\n",
    "    def weightgenerator(self, Uid, Iid):\n",
    "        # include K,L,Huser,Hitem,Hui,rating_scale,Fmean,Gmean\n",
    "        Uw = self.Uweight[Uid:Uid+1,:]\n",
    "        Iw = self.Iweight[Iid:Iid+1,:]\n",
    "        Uw = np.transpose(Uw)\n",
    "        Hr = np.dot(Uw,Iw)\n",
    "        Hr = np.array([Hr] * self.rating_scale)\n",
    "        Hr = self.Hui * Hr\n",
    "        Hr = np.sum(Hr,axis=1)\n",
    "        Hr = np.sum(Hr,axis=1)\n",
    "        R = np.random.choice(self.rating_scale, 1, p=Hr) + 1\n",
    "        return R\n",
    "    \n",
    "    # Initialization for the inital simple graph at t=0\n",
    "    def init_assumption(self):\n",
    "        # include edges,Unum,Inum,Uweight,Iweight,K,L,Fmean,Gmean\n",
    "        print(\"Initializing...\", end=\"\")\n",
    "        self.init_weightgenerator()\n",
    "        for i in range(self.Unum):\n",
    "            Utmp = np.random.normal(self.Fmean, 0.1)\n",
    "            Utmp[Utmp<0]=0\n",
    "            Utmp = Utmp/np.sum(Utmp)\n",
    "            self.Uweight[i,:]=Utmp\n",
    "        for i in range(self.Inum):\n",
    "            Itmp = np.random.normal(self.Gmean, 0.1)\n",
    "            Itmp[Itmp<0]=0\n",
    "            Itmp = Itmp/np.sum(Itmp)\n",
    "            self.Iweight[i,:]=Itmp\n",
    "        self.edges = np.zeros((self.iterations+50, self.iterations+50), dtype=int)\n",
    "        # We can assume that axis=1 is user sequence and the axis=0 is the item sequence\n",
    "        for i in range(self.Unum):\n",
    "            for j in range(self.Inum):\n",
    "                self.edges[i,j] = self.weightgenerator(i,j)\n",
    "        print(\"Done.\")\n",
    "        \n",
    "    # Select \"prototype\" from the existing vertex group\n",
    "    def prototype(self, arr, nb):\n",
    "        return np.count_nonzero(arr.cumsum() < nb)\n",
    "\n",
    "    # Conduct Edge-copy and assign new edge weights\n",
    "    def copyedge(self, template, desired, p_prime):\n",
    "        ls = []\n",
    "        new2old = template.nonzero()[0]\n",
    "        tmp = template[new2old].astype(float)\n",
    "        for i in range(desired):\n",
    "            tmp /= tmp.sum()\n",
    "            sampled = np.nonzero(np.random.multinomial(1, tmp))[0][0]\n",
    "            ls.append(sampled)\n",
    "            tmp[sampled] = 0\n",
    "        ls.sort()\n",
    "        return new2old[ls]\n",
    "\n",
    "    # Add new vertices to U (respectively. I)\n",
    "    def addnode(self, nb_axis):\n",
    "        # include edges,Unum,Inum,Fmean,Gmean\n",
    "        weightsum = np.sum(self.edges[:self.Unum,:self.Inum], axis=nb_axis)\n",
    "        totalsum = np.sum(weightsum)\n",
    "        randnum = np.random.randint(1, totalsum+1)\n",
    "        p_prime = self.prototype(weightsum, randnum)\n",
    "        weighted = np.zeros(1)\n",
    "        if nb_axis == 1:\n",
    "            Utmp = np.random.normal(self.Fmean, 0.1)\n",
    "            Utmp[Utmp<0] = 0\n",
    "            Utmp = Utmp/np.sum(Utmp)\n",
    "            self.Uweight[self.Unum,:]=Utmp\n",
    "            template = self.edges[p_prime,:self.Inum]\n",
    "            desired = self.Cu\n",
    "            idx = self.copyedge(template, desired, p_prime)\n",
    "            new = np.zeros(template.shape[0], dtype=int)\n",
    "            for i in range(idx.shape[0]):\n",
    "                new[idx[i]]= self.weightgenerator(self.Unum, idx[i])\n",
    "            self.edges[self.Unum,:self.Inum] = new\n",
    "            self.Unum = self.Unum + 1\n",
    "        else:\n",
    "            Itmp = np.random.normal(self.Gmean, 0.1)\n",
    "            Itmp[Itmp<0] = 0\n",
    "            Itmp = Itmp/np.sum(Itmp)\n",
    "            self.Iweight[self.Inum,:]=Itmp\n",
    "            template = self.edges[:self.Unum, p_prime]\n",
    "            desired = self.Ci\n",
    "            idx = self.copyedge(template, desired, p_prime)\n",
    "            new = np.zeros(template.shape[0], dtype=int)\n",
    "            for i in range(idx.shape[0]):\n",
    "                new[idx[i]]= self.weightgenerator(idx[i], self.Inum)\n",
    "            self.edges[:self.Unum,self.Inum] = new\n",
    "            self.Inum = self.Inum + 1\n",
    "        \n",
    "    # Add new edges to Graph\n",
    "    def addedge(self):\n",
    "        # include edges,Unum,Inum\n",
    "        randnum_user = random.randint(1,self.Unum-1)\n",
    "        randnum_item = random.randint(1,self.Inum-1)\n",
    "        self.edges[randnum_user,randnum_item] = random.randint(1, self.rating_scale)\n",
    "        \n",
    "    # Evolution of U (or I)\n",
    "    def evolution(self):\n",
    "        randnum = np.random.rand()\n",
    "        if randnum < self.beta:\n",
    "            self.addnode(1)\n",
    "        else:\n",
    "            self.addnode(0)\n",
    "        for i in range(self.C):\n",
    "            self.addedge()\n",
    "            # pass\n",
    "\n",
    "    # Iterate \n",
    "    def iterate(self):\n",
    "        print(\"Begin iteration...\", end=\"\")\n",
    "        for i in range(self.iterations):\n",
    "            self.evolution()\n",
    "        print(\"Done\")\n",
    "\n",
    "    # Gather statistic information\n",
    "    def stat(self):\n",
    "        # include edges\n",
    "        tmps = self.edges.flatten().astype(int)\n",
    "        count = np.bincount(tmps)\n",
    "        count = count[1:]\n",
    "        count = 1.0*count/count.sum()\n",
    "        return count\n",
    "\n",
    "    # Calculate user degree distributions\n",
    "    def calcdegree_user(self):\n",
    "        # include edges\n",
    "        sumdegree = self.edges.astype(bool).sum(axis=1)\n",
    "        return np.bincount(sumdegree)\n",
    "\n",
    "    # Calculate user weight distributions\n",
    "    def calcweight_user(self):\n",
    "        # include edges\n",
    "        sumdegree = self.edges.sum(axis=1)\n",
    "        return np.bincount(sumdegree)\n",
    "\n",
    "    # Calculate item degree distributions\n",
    "    def calcdegree_item(self):\n",
    "        # include edges\n",
    "        sumdegree = self.edges.astype(bool).sum(axis=0)\n",
    "        return np.bincount(sumdegree)\n",
    "\n",
    "    # Calculate item weight distributions\n",
    "    def calcweight_item(self):\n",
    "        # include edges\n",
    "        sumdegree = self.edges.sum(axis=0)\n",
    "        return np.bincount(sumdegree)\n",
    "    \n",
    "    def get_distribution(self, target=\"user\"):\n",
    "        if target == \"item\":\n",
    "            return self.degseq_item, self.weiseq_item, self.xind_item\n",
    "        else:\n",
    "            return self.degseq_user, self.weiseq_user, self.xind_user\n",
    "    \n",
    "    def get_graph(self):\n",
    "        return self.edges, self.Inum, self.Unum"
   ]
  },
  {
   "cell_type": "code",
   "execution_count": 3,
   "metadata": {},
   "outputs": [],
   "source": [
    "def get_pvalue_alpha_xmin(seq):\n",
    "    results = powerlaw.Fit(seq)\n",
    "    alpha = results.power_law.alpha\n",
    "    xmin = results.power_law.xmin\n",
    "    R, p_value = results.distribution_compare('power_law', 'lognormal')\n",
    "    print(\"p_value:\", p_value, \"alpha:\", alpha, \"xmin:\", xmin)\n",
    "    return p_value, alpha, xmin"
   ]
  },
  {
   "cell_type": "code",
   "execution_count": 6,
   "metadata": {},
   "outputs": [
    {
     "name": "stdout",
     "output_type": "stream",
     "text": [
      "Initializing...Done.\n",
      "Begin iteration...Done\n",
      "finish all the staff\n"
     ]
    }
   ],
   "source": [
    "a2 = assumption_2nd(beta=0.8, iterations=4000, rating_scale=5, Cu=10, Ci=20, Unum=20, Inum=10, K=10, L=3, C=1)"
   ]
  },
  {
   "cell_type": "code",
   "execution_count": 5,
   "metadata": {
    "jupyter": {
     "source_hidden": true
    }
   },
   "outputs": [],
   "source": [
    "the_edges, Inum, Unum = a2.get_graph()"
   ]
  },
  {
   "cell_type": "code",
   "execution_count": 6,
   "metadata": {
    "collapsed": true,
    "jupyter": {
     "outputs_hidden": true,
     "source_hidden": true
    }
   },
   "outputs": [
    {
     "name": "stdout",
     "output_type": "stream",
     "text": [
      "867 3163\n"
     ]
    }
   ],
   "source": [
    "print(Inum, Unum)\n",
    "print(the_edges[:Unum,:Inum], file=open(\"graph_algo2.txt\", \"w\", encoding=\"utf8\"))"
   ]
  },
  {
   "cell_type": "markdown",
   "metadata": {
    "jupyter": {
     "source_hidden": true
    }
   },
   "source": [
    "## Paramters\n",
    " \n",
    " - beta = 0.6 \n",
    " > the probability to add a new vertex in U\n",
    " - iterations = 3000 \n",
    " > the number of iterations to run the simulation\n",
    " - rating_scale = 5 \n",
    " > the preassigned rating scale\n",
    " - Cu = 10 \n",
    " > the least number of edges connected to vertices in U\n",
    " - Ci = 20 \n",
    " > the least number of edges connected to vertices in I\n",
    " - Unum = 20 \n",
    " > the number of vertices in U in the initial graph at t=0\n",
    " - Inum = 10 \n",
    " > the number of vertices in I in the initial graph at t=1\n",
    " - K = 10 \n",
    " > the number of basic user type in our assumption\n",
    " - L = 3 \n",
    " > the number of basic item level in our assumption"
   ]
  },
  {
   "cell_type": "markdown",
   "metadata": {
    "jupyter": {
     "source_hidden": true
    }
   },
   "source": [
    "# Plot User"
   ]
  },
  {
   "cell_type": "code",
   "execution_count": 25,
   "metadata": {
    "collapsed": true,
    "jupyter": {
     "outputs_hidden": true,
     "source_hidden": true
    }
   },
   "outputs": [
    {
     "name": "stdout",
     "output_type": "stream",
     "text": [
      "4001 4001 4001\n"
     ]
    }
   ],
   "source": [
    "degseq, weiseq, xind = a2.get_distribution()\n",
    "print(len(degseq), len(weiseq), len(xind))"
   ]
  },
  {
   "cell_type": "code",
   "execution_count": 26,
   "metadata": {
    "collapsed": true,
    "jupyter": {
     "outputs_hidden": true,
     "source_hidden": true
    }
   },
   "outputs": [
    {
     "name": "stderr",
     "output_type": "stream",
     "text": [
      "Values less than or equal to 0 in data. Throwing out 0 or negative values\n",
      "Calculating best minimal value for power law fit\n",
      "/home/acemap/.local/lib/python3.6/site-packages/powerlaw.py:700: RuntimeWarning: invalid value encountered in true_divide\n",
      "  (Theoretical_CDF * (1 - Theoretical_CDF))\n"
     ]
    },
    {
     "name": "stdout",
     "output_type": "stream",
     "text": [
      "user p_value: 0.6380721338655913 user alpha: 1.480916179890841 user xmin: 1.0\n",
      "user p_value: 0.6489233370429217 user alpha: 1.5772027733642995 user xmin: 1.0\n"
     ]
    },
    {
     "name": "stderr",
     "output_type": "stream",
     "text": [
      "/home/acemap/.local/lib/python3.6/site-packages/powerlaw.py:700: RuntimeWarning: invalid value encountered in true_divide\n",
      "  (Theoretical_CDF * (1 - Theoretical_CDF))\n",
      "/home/acemap/.local/lib/python3.6/site-packages/ipykernel_launcher.py:6: RuntimeWarning: divide by zero encountered in log\n",
      "  \n",
      "Values less than or equal to 0 in data. Throwing out 0 or negative values\n",
      "Calculating best minimal value for power law fit\n",
      "/home/acemap/.local/lib/python3.6/site-packages/ipykernel_launcher.py:13: RuntimeWarning: divide by zero encountered in log\n",
      "  del sys.path[0]\n"
     ]
    },
    {
     "data": {
      "text/plain": [
       "[<matplotlib.lines.Line2D at 0x7f8350f633c8>]"
      ]
     },
     "execution_count": 26,
     "metadata": {},
     "output_type": "execute_result"
    },
    {
     "data": {
      "image/png": "[encoded data removed]",
      "text/plain": [
       "<Figure size 432x288 with 1 Axes>"
      ]
     },
     "metadata": {
      "needs_background": "light"
     },
     "output_type": "display_data"
    }
   ],
   "source": [
    "results = powerlaw.Fit(degseq)\n",
    "alpha = results.power_law.alpha\n",
    "xmin = results.power_law.xmin\n",
    "R, p_value = results.distribution_compare('power_law', 'lognormal')\n",
    "print(\"user p_value:\", p_value, \"user alpha:\", alpha, \"user xmin:\", xmin)\n",
    "plt.plot(np.log(xind),np.log(degseq),'o',color = 'gray', alpha = 0.8, markersize=4, markeredgewidth=0.0)\n",
    "\n",
    "results = powerlaw.Fit(weiseq)\n",
    "alpha = results.power_law.alpha\n",
    "xmin = results.power_law.xmin\n",
    "R, p_value = results.distribution_compare('power_law', 'lognormal')\n",
    "print(\"user p_value:\", p_value, \"user alpha:\", alpha, \"user xmin:\", xmin)\n",
    "plt.plot(np.log(xind),np.log(weiseq[:len(xind)]),'o',color = 'black', alpha = 0.8, markersize=4, markeredgewidth=0.0)"
   ]
  },
  {
   "cell_type": "markdown",
   "metadata": {
    "jupyter": {
     "source_hidden": true
    }
   },
   "source": [
    "# Plot Item"
   ]
  },
  {
   "cell_type": "code",
   "execution_count": 27,
   "metadata": {
    "jupyter": {
     "source_hidden": true
    }
   },
   "outputs": [],
   "source": [
    "degseq, weiseq, xind = a2.get_distribution(\"item\")"
   ]
  },
  {
   "cell_type": "code",
   "execution_count": 28,
   "metadata": {
    "collapsed": true,
    "jupyter": {
     "outputs_hidden": true,
     "source_hidden": true
    }
   },
   "outputs": [
    {
     "name": "stdout",
     "output_type": "stream",
     "text": [
      "user p_value: 0.35339621362275586 user alpha: 2.401936669657386 user xmin: 12.0\n",
      "user p_value: 0.44226297128645886 user alpha: 3.273794535984399 user xmin: 6.0\n"
     ]
    },
    {
     "name": "stderr",
     "output_type": "stream",
     "text": [
      "Values less than or equal to 0 in data. Throwing out 0 or negative values\n",
      "Calculating best minimal value for power law fit\n",
      "/home/acemap/.local/lib/python3.6/site-packages/powerlaw.py:1605: RuntimeWarning: invalid value encountered in true_divide\n",
      "  CDF = CDF/norm\n",
      "'nan' in fit cumulative distribution values.\n",
      "Likely underflow or overflow error: the optimal fit for this distribution gives values that are so extreme that we lack the numerical precision to calculate them.\n",
      "/home/acemap/.local/lib/python3.6/site-packages/ipykernel_launcher.py:6: RuntimeWarning: divide by zero encountered in log\n",
      "  \n",
      "Values less than or equal to 0 in data. Throwing out 0 or negative values\n",
      "Calculating best minimal value for power law fit\n",
      "'nan' in fit cumulative distribution values.\n",
      "Likely underflow or overflow error: the optimal fit for this distribution gives values that are so extreme that we lack the numerical precision to calculate them.\n",
      "/home/acemap/.local/lib/python3.6/site-packages/ipykernel_launcher.py:13: RuntimeWarning: divide by zero encountered in log\n",
      "  del sys.path[0]\n"
     ]
    },
    {
     "data": {
      "text/plain": [
       "[<matplotlib.lines.Line2D at 0x7f8350ac23c8>]"
      ]
     },
     "execution_count": 28,
     "metadata": {},
     "output_type": "execute_result"
    },
    {
     "data": {
      "image/png": "[encoded data removed]",
      "text/plain": [
       "<Figure size 432x288 with 1 Axes>"
      ]
     },
     "metadata": {
      "needs_background": "light"
     },
     "output_type": "display_data"
    }
   ],
   "source": [
    "results = powerlaw.Fit(degseq)\n",
    "alpha = results.power_law.alpha\n",
    "xmin = results.power_law.xmin\n",
    "R, p_value = results.distribution_compare('power_law', 'lognormal')\n",
    "print(\"user p_value:\", p_value, \"user alpha:\", alpha, \"user xmin:\", xmin)\n",
    "plt.plot(np.log(xind),np.log(degseq),'o',color = 'gray', alpha = 0.8, markersize=4, markeredgewidth=0.0)\n",
    "\n",
    "results = powerlaw.Fit(weiseq)\n",
    "alpha = results.power_law.alpha\n",
    "xmin = results.power_law.xmin\n",
    "R, p_value = results.distribution_compare('power_law', 'lognormal')\n",
    "print(\"user p_value:\", p_value, \"user alpha:\", alpha, \"user xmin:\", xmin)\n",
    "plt.plot(np.log(xind),np.log(weiseq[:len(xind)]),'o',color = 'black', alpha = 0.8, markersize=4, markeredgewidth=0.0)"
   ]
  },
  {
   "cell_type": "markdown",
   "metadata": {},
   "source": [
    "# TMC-Needed Images"
   ]
  },
  {
   "cell_type": "markdown",
   "metadata": {},
   "source": [
    "## 4 pic - User\n",
    "\\beta-\\alpha + R-\\alpha + c_u-\\alpha + c_i-\\alpha"
   ]
  },
  {
   "cell_type": "code",
   "execution_count": 7,
   "metadata": {},
   "outputs": [],
   "source": [
    "beta_list = [0.1,0.2,0.4,0.6,0.8]\n",
    "rate_list = [1,2,3,4,5,6,7,8,9,10]\n",
    "cu_list = [1,5,10,20,30,50]\n",
    "ci_list = [1,5,10,20,30,50]"
   ]
  },
  {
   "cell_type": "markdown",
   "metadata": {},
   "source": [
    "### $\\beta$"
   ]
  },
  {
   "cell_type": "code",
   "execution_count": 8,
   "metadata": {},
   "outputs": [
    {
     "name": "stdout",
     "output_type": "stream",
     "text": [
      "0.1\n",
      "Initializing...Done.\n",
      "Begin iteration...Done\n",
      "finish all the staff\n",
      "p_value: 0.3509931109518448 alpha: 2.298388831159261 xmin: 4.0\n",
      "0.2\n",
      "Initializing..."
     ]
    },
    {
     "name": "stderr",
     "output_type": "stream",
     "text": [
      "Values less than or equal to 0 in data. Throwing out 0 or negative values\n",
      "Calculating best minimal value for power law fit\n",
      "/home/acemap/.local/lib/python3.6/site-packages/powerlaw.py:700: RuntimeWarning: invalid value encountered in true_divide\n",
      "  (Theoretical_CDF * (1 - Theoretical_CDF))\n",
      "/home/acemap/.local/lib/python3.6/site-packages/powerlaw.py:1605: RuntimeWarning: invalid value encountered in true_divide\n",
      "  CDF = CDF/norm\n",
      "'nan' in fit cumulative distribution values.\n",
      "Likely underflow or overflow error: the optimal fit for this distribution gives values that are so extreme that we lack the numerical precision to calculate them.\n"
     ]
    },
    {
     "name": "stdout",
     "output_type": "stream",
     "text": [
      "Done.\n",
      "Begin iteration...Done\n",
      "finish all the staff\n",
      "p_value: 0.3302512217543211 alpha: 1.9499027471147539 xmin: 2.0\n",
      "0.4\n",
      "Initializing...Done.\n"
     ]
    },
    {
     "name": "stderr",
     "output_type": "stream",
     "text": [
      "Values less than or equal to 0 in data. Throwing out 0 or negative values\n",
      "Calculating best minimal value for power law fit\n",
      "/home/acemap/.local/lib/python3.6/site-packages/powerlaw.py:700: RuntimeWarning: invalid value encountered in true_divide\n",
      "  (Theoretical_CDF * (1 - Theoretical_CDF))\n",
      "'nan' in fit cumulative distribution values.\n",
      "Likely underflow or overflow error: the optimal fit for this distribution gives values that are so extreme that we lack the numerical precision to calculate them.\n"
     ]
    },
    {
     "name": "stdout",
     "output_type": "stream",
     "text": [
      "Begin iteration...Done\n",
      "finish all the staff\n",
      "p_value: 0.3980146359971377 alpha: 1.9101891498463714 xmin: 1.0\n",
      "0.6\n",
      "Initializing...Done.\n"
     ]
    },
    {
     "name": "stderr",
     "output_type": "stream",
     "text": [
      "Values less than or equal to 0 in data. Throwing out 0 or negative values\n",
      "Calculating best minimal value for power law fit\n",
      "'nan' in fit cumulative distribution values.\n",
      "Likely underflow or overflow error: the optimal fit for this distribution gives values that are so extreme that we lack the numerical precision to calculate them.\n"
     ]
    },
    {
     "name": "stdout",
     "output_type": "stream",
     "text": [
      "Begin iteration...Done\n",
      "finish all the staff\n",
      "p_value: 0.25909500534120755 alpha: 1.6454006492529236 xmin: 1.0\n",
      "0.8\n",
      "Initializing...Done.\n"
     ]
    },
    {
     "name": "stderr",
     "output_type": "stream",
     "text": [
      "Values less than or equal to 0 in data. Throwing out 0 or negative values\n",
      "Calculating best minimal value for power law fit\n",
      "'nan' in fit cumulative distribution values.\n",
      "Likely underflow or overflow error: the optimal fit for this distribution gives values that are so extreme that we lack the numerical precision to calculate them.\n"
     ]
    },
    {
     "name": "stdout",
     "output_type": "stream",
     "text": [
      "Begin iteration...Done\n",
      "finish all the staff\n",
      "p_value: 0.7550701120435905 alpha: 1.474714299995532 xmin: 1.0\n"
     ]
    },
    {
     "name": "stderr",
     "output_type": "stream",
     "text": [
      "Values less than or equal to 0 in data. Throwing out 0 or negative values\n",
      "Calculating best minimal value for power law fit\n"
     ]
    },
    {
     "data": {
      "text/html": [
       "<div>\n",
       "<style scoped>\n",
       "    .dataframe tbody tr th:only-of-type {\n",
       "        vertical-align: middle;\n",
       "    }\n",
       "\n",
       "    .dataframe tbody tr th {\n",
       "        vertical-align: top;\n",
       "    }\n",
       "\n",
       "    .dataframe thead th {\n",
       "        text-align: right;\n",
       "    }\n",
       "</style>\n",
       "<table border=\"1\" class=\"dataframe\">\n",
       "  <thead>\n",
       "    <tr style=\"text-align: right;\">\n",
       "      <th></th>\n",
       "      <th>0.1</th>\n",
       "      <th>0.2</th>\n",
       "      <th>0.4</th>\n",
       "      <th>0.6</th>\n",
       "      <th>0.8</th>\n",
       "    </tr>\n",
       "  </thead>\n",
       "  <tbody>\n",
       "    <tr>\n",
       "      <th>$ \\beta $ effect $ \\alpha $</th>\n",
       "      <td>2.298389</td>\n",
       "      <td>1.949903</td>\n",
       "      <td>1.910189</td>\n",
       "      <td>1.645401</td>\n",
       "      <td>1.474714</td>\n",
       "    </tr>\n",
       "  </tbody>\n",
       "</table>\n",
       "</div>"
      ],
      "text/plain": [
       "                                  0.1       0.2       0.4       0.6       0.8\n",
       "$ \\beta $ effect $ \\alpha $  2.298389  1.949903  1.910189  1.645401  1.474714"
      ]
     },
     "execution_count": 8,
     "metadata": {},
     "output_type": "execute_result"
    }
   ],
   "source": [
    "alpha_list = []\n",
    "for item in beta_list:\n",
    "    print(item)\n",
    "    a1 = assumption_2nd(beta=item,iterations=4000,rating_scale=5,Cu=10,Ci=20,Unum=20,Inum=10,K=10,L=5,C=1)\n",
    "    degseq, weiseq, xind = a1.get_distribution()\n",
    "    p_value, alpha, xmin = get_pvalue_alpha_xmin(degseq)\n",
    "    alpha_list.append(alpha)\n",
    "data=[alpha_list]\n",
    "frame_beta_user=pd.DataFrame(data, index=[r'$ \\beta $'+' effect '+r'$ \\alpha $'], columns=beta_list)\n",
    "frame_beta_user"
   ]
  },
  {
   "cell_type": "markdown",
   "metadata": {},
   "source": [
    "### $rate$"
   ]
  },
  {
   "cell_type": "code",
   "execution_count": 9,
   "metadata": {},
   "outputs": [
    {
     "name": "stdout",
     "output_type": "stream",
     "text": [
      "1\n",
      "Initializing...Done.\n",
      "Begin iteration...Done\n",
      "finish all the staff\n",
      "p_value: 0.3151880019995965 alpha: 1.6795175586768827 xmin: 1.0\n",
      "2\n",
      "Initializing...Done.\n"
     ]
    },
    {
     "name": "stderr",
     "output_type": "stream",
     "text": [
      "Values less than or equal to 0 in data. Throwing out 0 or negative values\n",
      "Calculating best minimal value for power law fit\n",
      "'nan' in fit cumulative distribution values.\n",
      "Likely underflow or overflow error: the optimal fit for this distribution gives values that are so extreme that we lack the numerical precision to calculate them.\n"
     ]
    },
    {
     "name": "stdout",
     "output_type": "stream",
     "text": [
      "Begin iteration...Done\n",
      "finish all the staff\n",
      "p_value: 0.7044453946543296 alpha: 1.7717458269719226 xmin: 11.0\n",
      "3\n",
      "Initializing...Done.\n"
     ]
    },
    {
     "name": "stderr",
     "output_type": "stream",
     "text": [
      "Values less than or equal to 0 in data. Throwing out 0 or negative values\n",
      "Calculating best minimal value for power law fit\n"
     ]
    },
    {
     "name": "stdout",
     "output_type": "stream",
     "text": [
      "Begin iteration...Done\n",
      "finish all the staff\n",
      "p_value: 0.48345592521273717 alpha: 1.6166158771774035 xmin: 3.0\n",
      "4\n",
      "Initializing...Done.\n"
     ]
    },
    {
     "name": "stderr",
     "output_type": "stream",
     "text": [
      "Values less than or equal to 0 in data. Throwing out 0 or negative values\n",
      "Calculating best minimal value for power law fit\n"
     ]
    },
    {
     "name": "stdout",
     "output_type": "stream",
     "text": [
      "Begin iteration...Done\n",
      "finish all the staff\n",
      "p_value: 0.5755121894951636 alpha: 1.7507389094629817 xmin: 11.0\n",
      "5\n",
      "Initializing...Done.\n"
     ]
    },
    {
     "name": "stderr",
     "output_type": "stream",
     "text": [
      "Values less than or equal to 0 in data. Throwing out 0 or negative values\n",
      "Calculating best minimal value for power law fit\n"
     ]
    },
    {
     "name": "stdout",
     "output_type": "stream",
     "text": [
      "Begin iteration...Done\n",
      "finish all the staff\n",
      "p_value: 0.26171627251509333 alpha: 1.700497171223918 xmin: 1.0\n",
      "6\n",
      "Initializing...Done.\n"
     ]
    },
    {
     "name": "stderr",
     "output_type": "stream",
     "text": [
      "Values less than or equal to 0 in data. Throwing out 0 or negative values\n",
      "Calculating best minimal value for power law fit\n",
      "'nan' in fit cumulative distribution values.\n",
      "Likely underflow or overflow error: the optimal fit for this distribution gives values that are so extreme that we lack the numerical precision to calculate them.\n"
     ]
    },
    {
     "name": "stdout",
     "output_type": "stream",
     "text": [
      "Begin iteration...Done\n",
      "finish all the staff\n",
      "p_value: 0.28010492058077896 alpha: 2.2989389569687946 xmin: 87.0\n",
      "7\n",
      "Initializing...Done.\n"
     ]
    },
    {
     "name": "stderr",
     "output_type": "stream",
     "text": [
      "Values less than or equal to 0 in data. Throwing out 0 or negative values\n",
      "Calculating best minimal value for power law fit\n",
      "'nan' in fit cumulative distribution values.\n",
      "Likely underflow or overflow error: the optimal fit for this distribution gives values that are so extreme that we lack the numerical precision to calculate them.\n"
     ]
    },
    {
     "name": "stdout",
     "output_type": "stream",
     "text": [
      "Begin iteration...Done\n",
      "finish all the staff\n",
      "p_value: 0.7099584868666473 alpha: 1.6037273811417116 xmin: 2.0\n",
      "8\n",
      "Initializing...Done.\n"
     ]
    },
    {
     "name": "stderr",
     "output_type": "stream",
     "text": [
      "Values less than or equal to 0 in data. Throwing out 0 or negative values\n",
      "Calculating best minimal value for power law fit\n"
     ]
    },
    {
     "name": "stdout",
     "output_type": "stream",
     "text": [
      "Begin iteration...Done\n",
      "finish all the staff\n",
      "p_value: 0.47805865490638677 alpha: 1.7434255427560776 xmin: 1.0\n",
      "9\n",
      "Initializing...Done.\n"
     ]
    },
    {
     "name": "stderr",
     "output_type": "stream",
     "text": [
      "Values less than or equal to 0 in data. Throwing out 0 or negative values\n",
      "Calculating best minimal value for power law fit\n",
      "'nan' in fit cumulative distribution values.\n",
      "Likely underflow or overflow error: the optimal fit for this distribution gives values that are so extreme that we lack the numerical precision to calculate them.\n"
     ]
    },
    {
     "name": "stdout",
     "output_type": "stream",
     "text": [
      "Begin iteration...Done\n",
      "finish all the staff\n",
      "p_value: 0.28917748047310243 alpha: 1.698627130215326 xmin: 1.0\n",
      "10\n",
      "Initializing...Done.\n"
     ]
    },
    {
     "name": "stderr",
     "output_type": "stream",
     "text": [
      "Values less than or equal to 0 in data. Throwing out 0 or negative values\n",
      "Calculating best minimal value for power law fit\n",
      "'nan' in fit cumulative distribution values.\n",
      "Likely underflow or overflow error: the optimal fit for this distribution gives values that are so extreme that we lack the numerical precision to calculate them.\n"
     ]
    },
    {
     "name": "stdout",
     "output_type": "stream",
     "text": [
      "Begin iteration...Done\n",
      "finish all the staff\n",
      "p_value: 0.511548091501483 alpha: 1.624857019109002 xmin: 3.0\n"
     ]
    },
    {
     "name": "stderr",
     "output_type": "stream",
     "text": [
      "Values less than or equal to 0 in data. Throwing out 0 or negative values\n",
      "Calculating best minimal value for power law fit\n"
     ]
    },
    {
     "data": {
      "text/html": [
       "<div>\n",
       "<style scoped>\n",
       "    .dataframe tbody tr th:only-of-type {\n",
       "        vertical-align: middle;\n",
       "    }\n",
       "\n",
       "    .dataframe tbody tr th {\n",
       "        vertical-align: top;\n",
       "    }\n",
       "\n",
       "    .dataframe thead th {\n",
       "        text-align: right;\n",
       "    }\n",
       "</style>\n",
       "<table border=\"1\" class=\"dataframe\">\n",
       "  <thead>\n",
       "    <tr style=\"text-align: right;\">\n",
       "      <th></th>\n",
       "      <th>1</th>\n",
       "      <th>2</th>\n",
       "      <th>3</th>\n",
       "      <th>4</th>\n",
       "      <th>5</th>\n",
       "      <th>6</th>\n",
       "      <th>7</th>\n",
       "      <th>8</th>\n",
       "      <th>9</th>\n",
       "      <th>10</th>\n",
       "    </tr>\n",
       "  </thead>\n",
       "  <tbody>\n",
       "    <tr>\n",
       "      <th>rate effect $ \\alpha $</th>\n",
       "      <td>1.679518</td>\n",
       "      <td>1.771746</td>\n",
       "      <td>1.616616</td>\n",
       "      <td>1.750739</td>\n",
       "      <td>1.700497</td>\n",
       "      <td>2.298939</td>\n",
       "      <td>1.603727</td>\n",
       "      <td>1.743426</td>\n",
       "      <td>1.698627</td>\n",
       "      <td>1.624857</td>\n",
       "    </tr>\n",
       "  </tbody>\n",
       "</table>\n",
       "</div>"
      ],
      "text/plain": [
       "                              1         2         3         4         5   \\\n",
       "rate effect $ \\alpha $  1.679518  1.771746  1.616616  1.750739  1.700497   \n",
       "\n",
       "                              6         7         8         9         10  \n",
       "rate effect $ \\alpha $  2.298939  1.603727  1.743426  1.698627  1.624857  "
      ]
     },
     "execution_count": 9,
     "metadata": {},
     "output_type": "execute_result"
    }
   ],
   "source": [
    "alpha_list = []\n",
    "for item in rate_list:\n",
    "    print(item)\n",
    "    a1 = assumption_2nd(beta=0.6,iterations=4000,rating_scale=item,Cu=10,Ci=20,Unum=20,Inum=10,K=10,L=5,C=1)\n",
    "    degseq, weiseq, xind = a1.get_distribution()\n",
    "    p_value, alpha, xmin = get_pvalue_alpha_xmin(degseq)\n",
    "    alpha_list.append(alpha)\n",
    "data=[alpha_list]\n",
    "frame_rate_user=pd.DataFrame(data, index=['rate'+' effect '+r'$ \\alpha $'], columns=rate_list)\n",
    "frame_rate_user"
   ]
  },
  {
   "cell_type": "markdown",
   "metadata": {},
   "source": [
    "### $C_{u}$"
   ]
  },
  {
   "cell_type": "code",
   "execution_count": 10,
   "metadata": {},
   "outputs": [
    {
     "name": "stdout",
     "output_type": "stream",
     "text": [
      "1\n",
      "Initializing...Done.\n",
      "Begin iteration...Done\n",
      "finish all the staff\n",
      "p_value: 0.8109731660956835 alpha: 1.763345936786736 xmin: 1.0\n",
      "5\n",
      "Initializing...Done.\n"
     ]
    },
    {
     "name": "stderr",
     "output_type": "stream",
     "text": [
      "Values less than or equal to 0 in data. Throwing out 0 or negative values\n",
      "Calculating best minimal value for power law fit\n",
      "'nan' in fit cumulative distribution values.\n",
      "Likely underflow or overflow error: the optimal fit for this distribution gives values that are so extreme that we lack the numerical precision to calculate them.\n"
     ]
    },
    {
     "name": "stdout",
     "output_type": "stream",
     "text": [
      "Begin iteration...Done\n",
      "finish all the staff\n",
      "p_value: 0.5531587914950234 alpha: 1.6671489798683794 xmin: 8.0\n",
      "10\n",
      "Initializing...Done.\n"
     ]
    },
    {
     "name": "stderr",
     "output_type": "stream",
     "text": [
      "Values less than or equal to 0 in data. Throwing out 0 or negative values\n",
      "Calculating best minimal value for power law fit\n"
     ]
    },
    {
     "name": "stdout",
     "output_type": "stream",
     "text": [
      "Begin iteration...Done\n",
      "finish all the staff\n",
      "p_value: 0.8102539703458709 alpha: 1.6143673092082595 xmin: 1.0\n",
      "20\n",
      "Initializing...Done.\n"
     ]
    },
    {
     "name": "stderr",
     "output_type": "stream",
     "text": [
      "Values less than or equal to 0 in data. Throwing out 0 or negative values\n",
      "Calculating best minimal value for power law fit\n"
     ]
    },
    {
     "name": "stdout",
     "output_type": "stream",
     "text": [
      "Begin iteration...Done\n",
      "finish all the staff\n",
      "p_value: 0.3067651547380753 alpha: 2.7674650944818495 xmin: 101.0\n",
      "30\n",
      "Initializing...Done.\n"
     ]
    },
    {
     "name": "stderr",
     "output_type": "stream",
     "text": [
      "Values less than or equal to 0 in data. Throwing out 0 or negative values\n",
      "Calculating best minimal value for power law fit\n",
      "'nan' in fit cumulative distribution values.\n",
      "Likely underflow or overflow error: the optimal fit for this distribution gives values that are so extreme that we lack the numerical precision to calculate them.\n"
     ]
    },
    {
     "name": "stdout",
     "output_type": "stream",
     "text": [
      "Begin iteration...Done\n",
      "finish all the staff\n",
      "p_value: 0.3554592096990967 alpha: 2.8751439954417517 xmin: 96.0\n",
      "50\n",
      "Initializing...Done.\n"
     ]
    },
    {
     "name": "stderr",
     "output_type": "stream",
     "text": [
      "Values less than or equal to 0 in data. Throwing out 0 or negative values\n",
      "Calculating best minimal value for power law fit\n",
      "'nan' in fit cumulative distribution values.\n",
      "Likely underflow or overflow error: the optimal fit for this distribution gives values that are so extreme that we lack the numerical precision to calculate them.\n"
     ]
    },
    {
     "name": "stdout",
     "output_type": "stream",
     "text": [
      "Begin iteration...Done\n",
      "finish all the staff\n",
      "p_value: 0.35972427859891976 alpha: 1.57677965919386 xmin: 2.0\n"
     ]
    },
    {
     "name": "stderr",
     "output_type": "stream",
     "text": [
      "Values less than or equal to 0 in data. Throwing out 0 or negative values\n",
      "Calculating best minimal value for power law fit\n"
     ]
    },
    {
     "data": {
      "text/html": [
       "<div>\n",
       "<style scoped>\n",
       "    .dataframe tbody tr th:only-of-type {\n",
       "        vertical-align: middle;\n",
       "    }\n",
       "\n",
       "    .dataframe tbody tr th {\n",
       "        vertical-align: top;\n",
       "    }\n",
       "\n",
       "    .dataframe thead th {\n",
       "        text-align: right;\n",
       "    }\n",
       "</style>\n",
       "<table border=\"1\" class=\"dataframe\">\n",
       "  <thead>\n",
       "    <tr style=\"text-align: right;\">\n",
       "      <th></th>\n",
       "      <th>1</th>\n",
       "      <th>5</th>\n",
       "      <th>10</th>\n",
       "      <th>20</th>\n",
       "      <th>30</th>\n",
       "      <th>50</th>\n",
       "    </tr>\n",
       "  </thead>\n",
       "  <tbody>\n",
       "    <tr>\n",
       "      <th>$ c_{u} $ effect $ \\alpha $</th>\n",
       "      <td>1.763346</td>\n",
       "      <td>1.667149</td>\n",
       "      <td>1.614367</td>\n",
       "      <td>2.767465</td>\n",
       "      <td>2.875144</td>\n",
       "      <td>1.57678</td>\n",
       "    </tr>\n",
       "  </tbody>\n",
       "</table>\n",
       "</div>"
      ],
      "text/plain": [
       "                                   1         5         10        20        30  \\\n",
       "$ c_{u} $ effect $ \\alpha $  1.763346  1.667149  1.614367  2.767465  2.875144   \n",
       "\n",
       "                                  50  \n",
       "$ c_{u} $ effect $ \\alpha $  1.57678  "
      ]
     },
     "execution_count": 10,
     "metadata": {},
     "output_type": "execute_result"
    }
   ],
   "source": [
    "alpha_list = []\n",
    "for item in cu_list:\n",
    "    print(item)\n",
    "    a1 = assumption_2nd(beta=0.6,iterations=4000,rating_scale=5,Cu=item,Ci=20,Unum=20,Inum=50,K=10,L=5,C=1)\n",
    "    degseq, weiseq, xind = a1.get_distribution()\n",
    "    p_value, alpha, xmin = get_pvalue_alpha_xmin(degseq)\n",
    "    alpha_list.append(alpha)\n",
    "data=[alpha_list]\n",
    "frame_cu_user=pd.DataFrame(data, index=[r'$ c_{u} $'+' effect '+r'$ \\alpha $'], columns=cu_list)\n",
    "frame_cu_user"
   ]
  },
  {
   "cell_type": "markdown",
   "metadata": {},
   "source": [
    "### $C_{i}$"
   ]
  },
  {
   "cell_type": "code",
   "execution_count": 11,
   "metadata": {},
   "outputs": [
    {
     "name": "stdout",
     "output_type": "stream",
     "text": [
      "1\n",
      "Initializing...Done.\n",
      "Begin iteration...Done\n",
      "finish all the staff\n",
      "p_value: 0.4161322333480668 alpha: 1.6255863293909634 xmin: 45.0\n",
      "5\n",
      "Initializing...Done.\n"
     ]
    },
    {
     "name": "stderr",
     "output_type": "stream",
     "text": [
      "Values less than or equal to 0 in data. Throwing out 0 or negative values\n",
      "Calculating best minimal value for power law fit\n"
     ]
    },
    {
     "name": "stdout",
     "output_type": "stream",
     "text": [
      "Begin iteration...Done\n",
      "finish all the staff\n",
      "p_value: 0.46252879870134955 alpha: 1.708422258667185 xmin: 30.0\n",
      "10\n",
      "Initializing...Done.\n"
     ]
    },
    {
     "name": "stderr",
     "output_type": "stream",
     "text": [
      "Values less than or equal to 0 in data. Throwing out 0 or negative values\n",
      "Calculating best minimal value for power law fit\n"
     ]
    },
    {
     "name": "stdout",
     "output_type": "stream",
     "text": [
      "Begin iteration...Done\n",
      "finish all the staff\n",
      "p_value: 0.3379622749958511 alpha: 1.532307215512982 xmin: 2.0\n",
      "20\n",
      "Initializing...Done.\n"
     ]
    },
    {
     "name": "stderr",
     "output_type": "stream",
     "text": [
      "Values less than or equal to 0 in data. Throwing out 0 or negative values\n",
      "Calculating best minimal value for power law fit\n"
     ]
    },
    {
     "name": "stdout",
     "output_type": "stream",
     "text": [
      "Begin iteration...Done\n",
      "finish all the staff\n",
      "p_value: 0.41296525144149665 alpha: 1.7288633480887012 xmin: 1.0\n",
      "30\n",
      "Initializing...Done.\n"
     ]
    },
    {
     "name": "stderr",
     "output_type": "stream",
     "text": [
      "Values less than or equal to 0 in data. Throwing out 0 or negative values\n",
      "Calculating best minimal value for power law fit\n",
      "'nan' in fit cumulative distribution values.\n",
      "Likely underflow or overflow error: the optimal fit for this distribution gives values that are so extreme that we lack the numerical precision to calculate them.\n"
     ]
    },
    {
     "name": "stdout",
     "output_type": "stream",
     "text": [
      "Begin iteration...Done\n",
      "finish all the staff\n",
      "p_value: 0.9320819847027689 alpha: 1.697402190347125 xmin: 2.0\n",
      "50\n",
      "Initializing...Done.\n"
     ]
    },
    {
     "name": "stderr",
     "output_type": "stream",
     "text": [
      "Values less than or equal to 0 in data. Throwing out 0 or negative values\n",
      "Calculating best minimal value for power law fit\n"
     ]
    },
    {
     "name": "stdout",
     "output_type": "stream",
     "text": [
      "Begin iteration...Done\n",
      "finish all the staff\n",
      "p_value: 0.7360272320141518 alpha: 1.788253280863965 xmin: 6.0\n"
     ]
    },
    {
     "name": "stderr",
     "output_type": "stream",
     "text": [
      "Values less than or equal to 0 in data. Throwing out 0 or negative values\n",
      "Calculating best minimal value for power law fit\n"
     ]
    },
    {
     "data": {
      "text/html": [
       "<div>\n",
       "<style scoped>\n",
       "    .dataframe tbody tr th:only-of-type {\n",
       "        vertical-align: middle;\n",
       "    }\n",
       "\n",
       "    .dataframe tbody tr th {\n",
       "        vertical-align: top;\n",
       "    }\n",
       "\n",
       "    .dataframe thead th {\n",
       "        text-align: right;\n",
       "    }\n",
       "</style>\n",
       "<table border=\"1\" class=\"dataframe\">\n",
       "  <thead>\n",
       "    <tr style=\"text-align: right;\">\n",
       "      <th></th>\n",
       "      <th>1</th>\n",
       "      <th>5</th>\n",
       "      <th>10</th>\n",
       "      <th>20</th>\n",
       "      <th>30</th>\n",
       "      <th>50</th>\n",
       "    </tr>\n",
       "  </thead>\n",
       "  <tbody>\n",
       "    <tr>\n",
       "      <th>$ c_{i} $ effect $ \\alpha $</th>\n",
       "      <td>1.625586</td>\n",
       "      <td>1.708422</td>\n",
       "      <td>1.532307</td>\n",
       "      <td>1.728863</td>\n",
       "      <td>1.697402</td>\n",
       "      <td>1.788253</td>\n",
       "    </tr>\n",
       "  </tbody>\n",
       "</table>\n",
       "</div>"
      ],
      "text/plain": [
       "                                   1         5         10        20        30  \\\n",
       "$ c_{i} $ effect $ \\alpha $  1.625586  1.708422  1.532307  1.728863  1.697402   \n",
       "\n",
       "                                   50  \n",
       "$ c_{i} $ effect $ \\alpha $  1.788253  "
      ]
     },
     "execution_count": 11,
     "metadata": {},
     "output_type": "execute_result"
    }
   ],
   "source": [
    "alpha_list = []\n",
    "for item in ci_list:\n",
    "    print(item)\n",
    "    a1 = assumption_2nd(beta=0.6,iterations=4000,rating_scale=5,Cu=10,Ci=item,Unum=50,Inum=10,K=10,L=5,C=1)\n",
    "    degseq, weiseq, xind = a1.get_distribution()\n",
    "    p_value, alpha, xmin = get_pvalue_alpha_xmin(degseq)\n",
    "    alpha_list.append(alpha)\n",
    "data=[alpha_list]\n",
    "frame_ci_user=pd.DataFrame(data, index=[r'$ c_{i} $'+' effect '+r'$ \\alpha $'], columns=ci_list)\n",
    "frame_ci_user"
   ]
  },
  {
   "cell_type": "markdown",
   "metadata": {},
   "source": [
    "## 4 pic - Item\n",
    " - $\\beta-\\alpha$\n",
    " - $R-\\alpha$\n",
    " - $c_{u}-\\alpha$\n",
    " - $c_{i}-\\alpha$"
   ]
  },
  {
   "cell_type": "code",
   "execution_count": 12,
   "metadata": {},
   "outputs": [],
   "source": [
    "beta_list = [0.1,0.2,0.4,0.6,0.8]\n",
    "rate_list = [1,2,3,4,5,6,7,8,9,10]\n",
    "cu_list = [1,5,10,20,30,50]\n",
    "ci_list = [1,5,10,20,30,50]"
   ]
  },
  {
   "cell_type": "markdown",
   "metadata": {},
   "source": [
    "### $\\beta$"
   ]
  },
  {
   "cell_type": "code",
   "execution_count": 13,
   "metadata": {},
   "outputs": [
    {
     "name": "stdout",
     "output_type": "stream",
     "text": [
      "0.1\n",
      "Initializing...Done.\n",
      "Begin iteration...Done\n",
      "finish all the staff\n",
      "p_value: 0.3787915793389859 alpha: 1.469606093929218 xmin: 14.0\n",
      "0.2\n",
      "Initializing...Done.\n"
     ]
    },
    {
     "name": "stderr",
     "output_type": "stream",
     "text": [
      "Values less than or equal to 0 in data. Throwing out 0 or negative values\n",
      "Calculating best minimal value for power law fit\n"
     ]
    },
    {
     "name": "stdout",
     "output_type": "stream",
     "text": [
      "Begin iteration...Done\n",
      "finish all the staff\n",
      "p_value: 0.3031395820796755 alpha: 1.5612680640877077 xmin: 17.0\n",
      "0.4\n",
      "Initializing...Done.\n"
     ]
    },
    {
     "name": "stderr",
     "output_type": "stream",
     "text": [
      "Values less than or equal to 0 in data. Throwing out 0 or negative values\n",
      "Calculating best minimal value for power law fit\n"
     ]
    },
    {
     "name": "stdout",
     "output_type": "stream",
     "text": [
      "Begin iteration...Done\n",
      "finish all the staff\n",
      "p_value: 0.6436527563366021 alpha: 1.4912072461877293 xmin: 1.0\n",
      "0.6\n",
      "Initializing...Done.\n"
     ]
    },
    {
     "name": "stderr",
     "output_type": "stream",
     "text": [
      "Values less than or equal to 0 in data. Throwing out 0 or negative values\n",
      "Calculating best minimal value for power law fit\n"
     ]
    },
    {
     "name": "stdout",
     "output_type": "stream",
     "text": [
      "Begin iteration...Done\n",
      "finish all the staff\n",
      "p_value: 0.3130438482380341 alpha: 2.06718368004982 xmin: 20.0\n",
      "0.8\n",
      "Initializing...Done.\n"
     ]
    },
    {
     "name": "stderr",
     "output_type": "stream",
     "text": [
      "Values less than or equal to 0 in data. Throwing out 0 or negative values\n",
      "Calculating best minimal value for power law fit\n",
      "'nan' in fit cumulative distribution values.\n",
      "Likely underflow or overflow error: the optimal fit for this distribution gives values that are so extreme that we lack the numerical precision to calculate them.\n"
     ]
    },
    {
     "name": "stdout",
     "output_type": "stream",
     "text": [
      "Begin iteration...Done\n",
      "finish all the staff\n",
      "p_value: 0.30077047818091784 alpha: 2.0331678609745047 xmin: 4.0\n"
     ]
    },
    {
     "name": "stderr",
     "output_type": "stream",
     "text": [
      "Values less than or equal to 0 in data. Throwing out 0 or negative values\n",
      "Calculating best minimal value for power law fit\n",
      "'nan' in fit cumulative distribution values.\n",
      "Likely underflow or overflow error: the optimal fit for this distribution gives values that are so extreme that we lack the numerical precision to calculate them.\n"
     ]
    },
    {
     "data": {
      "text/html": [
       "<div>\n",
       "<style scoped>\n",
       "    .dataframe tbody tr th:only-of-type {\n",
       "        vertical-align: middle;\n",
       "    }\n",
       "\n",
       "    .dataframe tbody tr th {\n",
       "        vertical-align: top;\n",
       "    }\n",
       "\n",
       "    .dataframe thead th {\n",
       "        text-align: right;\n",
       "    }\n",
       "</style>\n",
       "<table border=\"1\" class=\"dataframe\">\n",
       "  <thead>\n",
       "    <tr style=\"text-align: right;\">\n",
       "      <th></th>\n",
       "      <th>0.1</th>\n",
       "      <th>0.2</th>\n",
       "      <th>0.4</th>\n",
       "      <th>0.6</th>\n",
       "      <th>0.8</th>\n",
       "    </tr>\n",
       "  </thead>\n",
       "  <tbody>\n",
       "    <tr>\n",
       "      <th>$ \\beta $ effect $ \\alpha $</th>\n",
       "      <td>1.469606</td>\n",
       "      <td>1.561268</td>\n",
       "      <td>1.491207</td>\n",
       "      <td>2.067184</td>\n",
       "      <td>2.033168</td>\n",
       "    </tr>\n",
       "  </tbody>\n",
       "</table>\n",
       "</div>"
      ],
      "text/plain": [
       "                                  0.1       0.2       0.4       0.6       0.8\n",
       "$ \\beta $ effect $ \\alpha $  1.469606  1.561268  1.491207  2.067184  2.033168"
      ]
     },
     "execution_count": 13,
     "metadata": {},
     "output_type": "execute_result"
    }
   ],
   "source": [
    "alpha_list = []\n",
    "for item in beta_list:\n",
    "    print(item)\n",
    "    a1 = assumption_2nd(beta=item,iterations=4000,rating_scale=5,Cu=10,Ci=20,Unum=20,Inum=10,K=10,L=5,C=1)\n",
    "    degseq, weiseq, xind = a1.get_distribution(\"item\")\n",
    "    p_value, alpha, xmin = get_pvalue_alpha_xmin(degseq)\n",
    "    alpha_list.append(alpha)\n",
    "data=[alpha_list]\n",
    "frame_beta_item=pd.DataFrame(data, index=[r'$ \\beta $'+' effect '+r'$ \\alpha $'], columns=beta_list)\n",
    "frame_beta_item"
   ]
  },
  {
   "cell_type": "markdown",
   "metadata": {},
   "source": [
    "### $rate$"
   ]
  },
  {
   "cell_type": "code",
   "execution_count": 14,
   "metadata": {},
   "outputs": [
    {
     "name": "stdout",
     "output_type": "stream",
     "text": [
      "1\n",
      "Initializing...Done.\n",
      "Begin iteration...Done\n",
      "finish all the staff\n",
      "p_value: 0.9373473667601977 alpha: 2.123813244559408 xmin: 47.0\n",
      "2\n",
      "Initializing...Done.\n"
     ]
    },
    {
     "name": "stderr",
     "output_type": "stream",
     "text": [
      "Values less than or equal to 0 in data. Throwing out 0 or negative values\n",
      "Calculating best minimal value for power law fit\n"
     ]
    },
    {
     "name": "stdout",
     "output_type": "stream",
     "text": [
      "Begin iteration...Done\n",
      "finish all the staff\n",
      "p_value: 0.2537797780713903 alpha: 1.731298756682138 xmin: 1.0\n",
      "3\n",
      "Initializing...Done.\n"
     ]
    },
    {
     "name": "stderr",
     "output_type": "stream",
     "text": [
      "Values less than or equal to 0 in data. Throwing out 0 or negative values\n",
      "Calculating best minimal value for power law fit\n",
      "'nan' in fit cumulative distribution values.\n",
      "Likely underflow or overflow error: the optimal fit for this distribution gives values that are so extreme that we lack the numerical precision to calculate them.\n"
     ]
    },
    {
     "name": "stdout",
     "output_type": "stream",
     "text": [
      "Begin iteration...Done\n",
      "finish all the staff\n",
      "p_value: 0.28699407666222676 alpha: 1.7122449519645495 xmin: 1.0\n",
      "4\n",
      "Initializing...Done.\n"
     ]
    },
    {
     "name": "stderr",
     "output_type": "stream",
     "text": [
      "Values less than or equal to 0 in data. Throwing out 0 or negative values\n",
      "Calculating best minimal value for power law fit\n",
      "'nan' in fit cumulative distribution values.\n",
      "Likely underflow or overflow error: the optimal fit for this distribution gives values that are so extreme that we lack the numerical precision to calculate them.\n"
     ]
    },
    {
     "name": "stdout",
     "output_type": "stream",
     "text": [
      "Begin iteration...Done\n",
      "finish all the staff\n",
      "p_value: 0.6324464797342599 alpha: 1.6815246736263245 xmin: 1.0\n",
      "5\n",
      "Initializing...Done.\n"
     ]
    },
    {
     "name": "stderr",
     "output_type": "stream",
     "text": [
      "Values less than or equal to 0 in data. Throwing out 0 or negative values\n",
      "Calculating best minimal value for power law fit\n",
      "'nan' in fit cumulative distribution values.\n",
      "Likely underflow or overflow error: the optimal fit for this distribution gives values that are so extreme that we lack the numerical precision to calculate them.\n"
     ]
    },
    {
     "name": "stdout",
     "output_type": "stream",
     "text": [
      "Begin iteration...Done\n",
      "finish all the staff\n",
      "p_value: 0.8534610286819488 alpha: 1.7189075451071696 xmin: 1.0\n",
      "6\n",
      "Initializing...Done.\n"
     ]
    },
    {
     "name": "stderr",
     "output_type": "stream",
     "text": [
      "Values less than or equal to 0 in data. Throwing out 0 or negative values\n",
      "Calculating best minimal value for power law fit\n",
      "'nan' in fit cumulative distribution values.\n",
      "Likely underflow or overflow error: the optimal fit for this distribution gives values that are so extreme that we lack the numerical precision to calculate them.\n"
     ]
    },
    {
     "name": "stdout",
     "output_type": "stream",
     "text": [
      "Begin iteration...Done\n",
      "finish all the staff\n",
      "p_value: 0.65869212592049 alpha: 1.6272539486117796 xmin: 2.0\n",
      "7\n",
      "Initializing...Done.\n"
     ]
    },
    {
     "name": "stderr",
     "output_type": "stream",
     "text": [
      "Values less than or equal to 0 in data. Throwing out 0 or negative values\n",
      "Calculating best minimal value for power law fit\n"
     ]
    },
    {
     "name": "stdout",
     "output_type": "stream",
     "text": [
      "Begin iteration...Done\n",
      "finish all the staff\n",
      "p_value: 0.25425955265363875 alpha: 1.7418650549207246 xmin: 1.0\n",
      "8\n",
      "Initializing...Done.\n"
     ]
    },
    {
     "name": "stderr",
     "output_type": "stream",
     "text": [
      "Values less than or equal to 0 in data. Throwing out 0 or negative values\n",
      "Calculating best minimal value for power law fit\n",
      "'nan' in fit cumulative distribution values.\n",
      "Likely underflow or overflow error: the optimal fit for this distribution gives values that are so extreme that we lack the numerical precision to calculate them.\n"
     ]
    },
    {
     "name": "stdout",
     "output_type": "stream",
     "text": [
      "Begin iteration...Done\n",
      "finish all the staff\n",
      "p_value: 0.3264590552090043 alpha: 1.7416792686872298 xmin: 1.0\n",
      "9\n",
      "Initializing...Done.\n"
     ]
    },
    {
     "name": "stderr",
     "output_type": "stream",
     "text": [
      "Values less than or equal to 0 in data. Throwing out 0 or negative values\n",
      "Calculating best minimal value for power law fit\n",
      "'nan' in fit cumulative distribution values.\n",
      "Likely underflow or overflow error: the optimal fit for this distribution gives values that are so extreme that we lack the numerical precision to calculate them.\n"
     ]
    },
    {
     "name": "stdout",
     "output_type": "stream",
     "text": [
      "Begin iteration...Done\n",
      "finish all the staff\n",
      "p_value: 0.8255824003764545 alpha: 1.6337719753523638 xmin: 2.0\n",
      "10\n",
      "Initializing...Done.\n"
     ]
    },
    {
     "name": "stderr",
     "output_type": "stream",
     "text": [
      "Values less than or equal to 0 in data. Throwing out 0 or negative values\n",
      "Calculating best minimal value for power law fit\n"
     ]
    },
    {
     "name": "stdout",
     "output_type": "stream",
     "text": [
      "Begin iteration...Done\n",
      "finish all the staff\n",
      "p_value: 0.256965428495184 alpha: 1.747196519202817 xmin: 1.0\n"
     ]
    },
    {
     "name": "stderr",
     "output_type": "stream",
     "text": [
      "Values less than or equal to 0 in data. Throwing out 0 or negative values\n",
      "Calculating best minimal value for power law fit\n",
      "'nan' in fit cumulative distribution values.\n",
      "Likely underflow or overflow error: the optimal fit for this distribution gives values that are so extreme that we lack the numerical precision to calculate them.\n"
     ]
    },
    {
     "data": {
      "text/html": [
       "<div>\n",
       "<style scoped>\n",
       "    .dataframe tbody tr th:only-of-type {\n",
       "        vertical-align: middle;\n",
       "    }\n",
       "\n",
       "    .dataframe tbody tr th {\n",
       "        vertical-align: top;\n",
       "    }\n",
       "\n",
       "    .dataframe thead th {\n",
       "        text-align: right;\n",
       "    }\n",
       "</style>\n",
       "<table border=\"1\" class=\"dataframe\">\n",
       "  <thead>\n",
       "    <tr style=\"text-align: right;\">\n",
       "      <th></th>\n",
       "      <th>1</th>\n",
       "      <th>2</th>\n",
       "      <th>3</th>\n",
       "      <th>4</th>\n",
       "      <th>5</th>\n",
       "      <th>6</th>\n",
       "      <th>7</th>\n",
       "      <th>8</th>\n",
       "      <th>9</th>\n",
       "      <th>10</th>\n",
       "    </tr>\n",
       "  </thead>\n",
       "  <tbody>\n",
       "    <tr>\n",
       "      <th>rate effect $ \\alpha $</th>\n",
       "      <td>2.123813</td>\n",
       "      <td>1.731299</td>\n",
       "      <td>1.712245</td>\n",
       "      <td>1.681525</td>\n",
       "      <td>1.718908</td>\n",
       "      <td>1.627254</td>\n",
       "      <td>1.741865</td>\n",
       "      <td>1.741679</td>\n",
       "      <td>1.633772</td>\n",
       "      <td>1.747197</td>\n",
       "    </tr>\n",
       "  </tbody>\n",
       "</table>\n",
       "</div>"
      ],
      "text/plain": [
       "                              1         2         3         4         5   \\\n",
       "rate effect $ \\alpha $  2.123813  1.731299  1.712245  1.681525  1.718908   \n",
       "\n",
       "                              6         7         8         9         10  \n",
       "rate effect $ \\alpha $  1.627254  1.741865  1.741679  1.633772  1.747197  "
      ]
     },
     "execution_count": 14,
     "metadata": {},
     "output_type": "execute_result"
    }
   ],
   "source": [
    "alpha_list = []\n",
    "for item in rate_list:\n",
    "    print(item)\n",
    "    a1 = assumption_2nd(beta=0.6,iterations=4000,rating_scale=item,Cu=10,Ci=20,Unum=20,Inum=10,K=10,L=5,C=1)\n",
    "    degseq, weiseq, xind = a1.get_distribution()\n",
    "    p_value, alpha, xmin = get_pvalue_alpha_xmin(degseq)\n",
    "    alpha_list.append(alpha)\n",
    "data=[alpha_list]\n",
    "frame_rate_item=pd.DataFrame(data, index=['rate'+' effect '+r'$ \\alpha $'], columns=rate_list)\n",
    "frame_rate_item"
   ]
  },
  {
   "cell_type": "markdown",
   "metadata": {},
   "source": [
    "### $C_{u}$"
   ]
  },
  {
   "cell_type": "code",
   "execution_count": 15,
   "metadata": {},
   "outputs": [
    {
     "name": "stdout",
     "output_type": "stream",
     "text": [
      "1\n",
      "Initializing...Done.\n",
      "Begin iteration...Done\n",
      "finish all the staff\n",
      "p_value: 0.9965669173940129 alpha: 1.5934158900741937 xmin: 2.0\n",
      "5\n",
      "Initializing...Done.\n"
     ]
    },
    {
     "name": "stderr",
     "output_type": "stream",
     "text": [
      "Values less than or equal to 0 in data. Throwing out 0 or negative values\n",
      "Calculating best minimal value for power law fit\n"
     ]
    },
    {
     "name": "stdout",
     "output_type": "stream",
     "text": [
      "Begin iteration...Done\n",
      "finish all the staff\n",
      "p_value: 0.533635753412161 alpha: 1.6574254051117778 xmin: 8.0\n",
      "10\n",
      "Initializing...Done.\n"
     ]
    },
    {
     "name": "stderr",
     "output_type": "stream",
     "text": [
      "Values less than or equal to 0 in data. Throwing out 0 or negative values\n",
      "Calculating best minimal value for power law fit\n"
     ]
    },
    {
     "name": "stdout",
     "output_type": "stream",
     "text": [
      "Begin iteration...Done\n",
      "finish all the staff\n",
      "p_value: 0.8928226174040776 alpha: 1.651191559444678 xmin: 1.0\n",
      "20\n",
      "Initializing...Done.\n"
     ]
    },
    {
     "name": "stderr",
     "output_type": "stream",
     "text": [
      "Values less than or equal to 0 in data. Throwing out 0 or negative values\n",
      "Calculating best minimal value for power law fit\n",
      "'nan' in fit cumulative distribution values.\n",
      "Likely underflow or overflow error: the optimal fit for this distribution gives values that are so extreme that we lack the numerical precision to calculate them.\n"
     ]
    },
    {
     "name": "stdout",
     "output_type": "stream",
     "text": [
      "Begin iteration...Done\n",
      "finish all the staff\n",
      "p_value: 0.9612427695525843 alpha: 2.271005647303574 xmin: 62.0\n",
      "30\n",
      "Initializing...Done.\n"
     ]
    },
    {
     "name": "stderr",
     "output_type": "stream",
     "text": [
      "Values less than or equal to 0 in data. Throwing out 0 or negative values\n",
      "Calculating best minimal value for power law fit\n"
     ]
    },
    {
     "name": "stdout",
     "output_type": "stream",
     "text": [
      "Begin iteration...Done\n",
      "finish all the staff\n",
      "p_value: 0.2979284913902507 alpha: 2.39180676945239 xmin: 54.0\n",
      "50\n",
      "Initializing...Done.\n"
     ]
    },
    {
     "name": "stderr",
     "output_type": "stream",
     "text": [
      "Values less than or equal to 0 in data. Throwing out 0 or negative values\n",
      "Calculating best minimal value for power law fit\n",
      "'nan' in fit cumulative distribution values.\n",
      "Likely underflow or overflow error: the optimal fit for this distribution gives values that are so extreme that we lack the numerical precision to calculate them.\n"
     ]
    },
    {
     "name": "stdout",
     "output_type": "stream",
     "text": [
      "Begin iteration...Done\n",
      "finish all the staff\n",
      "p_value: 0.29604646717054917 alpha: 2.4814472926294258 xmin: 57.0\n"
     ]
    },
    {
     "name": "stderr",
     "output_type": "stream",
     "text": [
      "Values less than or equal to 0 in data. Throwing out 0 or negative values\n",
      "Calculating best minimal value for power law fit\n",
      "'nan' in fit cumulative distribution values.\n",
      "Likely underflow or overflow error: the optimal fit for this distribution gives values that are so extreme that we lack the numerical precision to calculate them.\n"
     ]
    },
    {
     "data": {
      "text/html": [
       "<div>\n",
       "<style scoped>\n",
       "    .dataframe tbody tr th:only-of-type {\n",
       "        vertical-align: middle;\n",
       "    }\n",
       "\n",
       "    .dataframe tbody tr th {\n",
       "        vertical-align: top;\n",
       "    }\n",
       "\n",
       "    .dataframe thead th {\n",
       "        text-align: right;\n",
       "    }\n",
       "</style>\n",
       "<table border=\"1\" class=\"dataframe\">\n",
       "  <thead>\n",
       "    <tr style=\"text-align: right;\">\n",
       "      <th></th>\n",
       "      <th>1</th>\n",
       "      <th>5</th>\n",
       "      <th>10</th>\n",
       "      <th>20</th>\n",
       "      <th>30</th>\n",
       "      <th>50</th>\n",
       "    </tr>\n",
       "  </thead>\n",
       "  <tbody>\n",
       "    <tr>\n",
       "      <th>$ c_{u} $ effect $ \\alpha $</th>\n",
       "      <td>1.593416</td>\n",
       "      <td>1.657425</td>\n",
       "      <td>1.651192</td>\n",
       "      <td>2.271006</td>\n",
       "      <td>2.391807</td>\n",
       "      <td>2.481447</td>\n",
       "    </tr>\n",
       "  </tbody>\n",
       "</table>\n",
       "</div>"
      ],
      "text/plain": [
       "                                   1         5         10        20        30  \\\n",
       "$ c_{u} $ effect $ \\alpha $  1.593416  1.657425  1.651192  2.271006  2.391807   \n",
       "\n",
       "                                   50  \n",
       "$ c_{u} $ effect $ \\alpha $  2.481447  "
      ]
     },
     "execution_count": 15,
     "metadata": {},
     "output_type": "execute_result"
    }
   ],
   "source": [
    "alpha_list = []\n",
    "for item in cu_list:\n",
    "    print(item)\n",
    "    a1 = assumption_2nd(beta=0.6,iterations=4000,rating_scale=5,Cu=item,Ci=20,Unum=20,Inum=50,K=10,L=5,C=1)\n",
    "    degseq, weiseq, xind = a1.get_distribution()\n",
    "    p_value, alpha, xmin = get_pvalue_alpha_xmin(degseq)\n",
    "    alpha_list.append(alpha)\n",
    "data=[alpha_list]\n",
    "frame_cu_item=pd.DataFrame(data, index=[r'$ c_{u} $'+' effect '+r'$ \\alpha $'], columns=cu_list)\n",
    "frame_cu_item"
   ]
  },
  {
   "cell_type": "markdown",
   "metadata": {},
   "source": [
    "### $C_{i}$"
   ]
  },
  {
   "cell_type": "code",
   "execution_count": 16,
   "metadata": {},
   "outputs": [
    {
     "name": "stdout",
     "output_type": "stream",
     "text": [
      "1\n",
      "Initializing...Done.\n",
      "Begin iteration...Done\n",
      "finish all the staff\n",
      "p_value: 0.5209392906211648 alpha: 1.631042247023664 xmin: 38.0\n",
      "5\n",
      "Initializing...Done.\n"
     ]
    },
    {
     "name": "stderr",
     "output_type": "stream",
     "text": [
      "Values less than or equal to 0 in data. Throwing out 0 or negative values\n",
      "Calculating best minimal value for power law fit\n"
     ]
    },
    {
     "name": "stdout",
     "output_type": "stream",
     "text": [
      "Begin iteration...Done\n",
      "finish all the staff\n",
      "p_value: 0.23226902881564526 alpha: 1.5183029768407161 xmin: 7.0\n",
      "10\n",
      "Initializing...Done.\n"
     ]
    },
    {
     "name": "stderr",
     "output_type": "stream",
     "text": [
      "Values less than or equal to 0 in data. Throwing out 0 or negative values\n",
      "Calculating best minimal value for power law fit\n"
     ]
    },
    {
     "name": "stdout",
     "output_type": "stream",
     "text": [
      "Begin iteration...Done\n",
      "finish all the staff\n",
      "p_value: 0.5680147758115246 alpha: 1.621968844558615 xmin: 5.0\n",
      "20\n",
      "Initializing...Done.\n"
     ]
    },
    {
     "name": "stderr",
     "output_type": "stream",
     "text": [
      "Values less than or equal to 0 in data. Throwing out 0 or negative values\n",
      "Calculating best minimal value for power law fit\n"
     ]
    },
    {
     "name": "stdout",
     "output_type": "stream",
     "text": [
      "Begin iteration...Done\n",
      "finish all the staff\n",
      "p_value: 0.10477651430974531 alpha: 1.7309658331608797 xmin: 2.0\n",
      "30\n",
      "Initializing...Done.\n"
     ]
    },
    {
     "name": "stderr",
     "output_type": "stream",
     "text": [
      "Values less than or equal to 0 in data. Throwing out 0 or negative values\n",
      "Calculating best minimal value for power law fit\n",
      "'nan' in fit cumulative distribution values.\n",
      "Likely underflow or overflow error: the optimal fit for this distribution gives values that are so extreme that we lack the numerical precision to calculate them.\n"
     ]
    },
    {
     "name": "stdout",
     "output_type": "stream",
     "text": [
      "Begin iteration...Done\n",
      "finish all the staff\n",
      "p_value: 0.739969940754998 alpha: 1.6478969876030034 xmin: 2.0\n",
      "50\n",
      "Initializing...Done.\n"
     ]
    },
    {
     "name": "stderr",
     "output_type": "stream",
     "text": [
      "Values less than or equal to 0 in data. Throwing out 0 or negative values\n",
      "Calculating best minimal value for power law fit\n"
     ]
    },
    {
     "name": "stdout",
     "output_type": "stream",
     "text": [
      "Begin iteration...Done\n",
      "finish all the staff\n",
      "p_value: 0.2490236660026831 alpha: 2.4708428261550397 xmin: 74.0\n"
     ]
    },
    {
     "name": "stderr",
     "output_type": "stream",
     "text": [
      "Values less than or equal to 0 in data. Throwing out 0 or negative values\n",
      "Calculating best minimal value for power law fit\n",
      "'nan' in fit cumulative distribution values.\n",
      "Likely underflow or overflow error: the optimal fit for this distribution gives values that are so extreme that we lack the numerical precision to calculate them.\n"
     ]
    },
    {
     "data": {
      "text/html": [
       "<div>\n",
       "<style scoped>\n",
       "    .dataframe tbody tr th:only-of-type {\n",
       "        vertical-align: middle;\n",
       "    }\n",
       "\n",
       "    .dataframe tbody tr th {\n",
       "        vertical-align: top;\n",
       "    }\n",
       "\n",
       "    .dataframe thead th {\n",
       "        text-align: right;\n",
       "    }\n",
       "</style>\n",
       "<table border=\"1\" class=\"dataframe\">\n",
       "  <thead>\n",
       "    <tr style=\"text-align: right;\">\n",
       "      <th></th>\n",
       "      <th>1</th>\n",
       "      <th>5</th>\n",
       "      <th>10</th>\n",
       "      <th>20</th>\n",
       "      <th>30</th>\n",
       "      <th>50</th>\n",
       "    </tr>\n",
       "  </thead>\n",
       "  <tbody>\n",
       "    <tr>\n",
       "      <th>$ c_{i} $ effect $ \\alpha $</th>\n",
       "      <td>1.631042</td>\n",
       "      <td>1.518303</td>\n",
       "      <td>1.621969</td>\n",
       "      <td>1.730966</td>\n",
       "      <td>1.647897</td>\n",
       "      <td>2.470843</td>\n",
       "    </tr>\n",
       "  </tbody>\n",
       "</table>\n",
       "</div>"
      ],
      "text/plain": [
       "                                   1         5         10        20        30  \\\n",
       "$ c_{i} $ effect $ \\alpha $  1.631042  1.518303  1.621969  1.730966  1.647897   \n",
       "\n",
       "                                   50  \n",
       "$ c_{i} $ effect $ \\alpha $  2.470843  "
      ]
     },
     "execution_count": 16,
     "metadata": {},
     "output_type": "execute_result"
    }
   ],
   "source": [
    "alpha_list = []\n",
    "for item in ci_list:\n",
    "    print(item)\n",
    "    a1 = assumption_2nd(beta=0.6,iterations=4000,rating_scale=5,Cu=10,Ci=item,Unum=50,Inum=10,K=10,L=5,C=1)\n",
    "    degseq, weiseq, xind = a1.get_distribution()\n",
    "    p_value, alpha, xmin = get_pvalue_alpha_xmin(degseq)\n",
    "    alpha_list.append(alpha)\n",
    "data=[alpha_list]\n",
    "frame_ci_item=pd.DataFrame(data, index=[r'$ c_{i} $'+' effect '+r'$ \\alpha $'], columns=ci_list)\n",
    "frame_ci_item"
   ]
  },
  {
   "cell_type": "code",
   "execution_count": null,
   "metadata": {},
   "outputs": [],
   "source": []
  }
 ],
 "metadata": {
  "kernelspec": {
   "display_name": "Python 3",
   "language": "python",
   "name": "python3"
  },
  "language_info": {
   "codemirror_mode": {
    "name": "ipython",
    "version": 3
   },
   "file_extension": ".py",
   "mimetype": "text/x-python",
   "name": "python",
   "nbconvert_exporter": "python",
   "pygments_lexer": "ipython3",
   "version": "3.6.8"
  }
 },
 "nbformat": 4,
 "nbformat_minor": 4
}
